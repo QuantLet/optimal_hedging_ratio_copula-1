{
 "cells": [
  {
   "cell_type": "code",
   "execution_count": 42,
   "metadata": {},
   "outputs": [],
   "source": [
    "import numpy as np\n",
    "import pandas as pd\n",
    "from pylab import mpl, plt\n",
    "plt.style.use('seaborn')\n",
    "mpl.rcParams['font.family'] = 'serif'\n",
    "%matplotlib inline"
   ]
  },
  {
   "cell_type": "code",
   "execution_count": 59,
   "metadata": {},
   "outputs": [],
   "source": [
    "brrfile = '../data/BRR Index.xlsx'\n",
    "btcfile = '../data/BTC CME Future.xlsx'\n",
    "crixfile = '../data/crix.json'"
   ]
  },
  {
   "cell_type": "code",
   "execution_count": 44,
   "metadata": {},
   "outputs": [],
   "source": [
    "brrdata = pd.read_excel(brrfile,  # import csv-data into DataFrame\n",
    "                   index_col=0, # take first column as index\n",
    "                   parse_dates=True)  # index values are datetime\n",
    "btcdata = pd.read_excel(btcfile,  # import csv-data into DataFrame\n",
    "                   index_col=0, # take first column as index\n",
    "                   parse_dates=True)  # index values are datetime"
   ]
  },
  {
   "cell_type": "code",
   "execution_count": 105,
   "metadata": {},
   "outputs": [],
   "source": [
    "d = pd.read_json(crixfile)\n",
    "crixdata = pd.DataFrame(data=d['price'].values, index=d['date'], columns=['price_crix'])"
   ]
  },
  {
   "cell_type": "code",
   "execution_count": 106,
   "metadata": {},
   "outputs": [
    {
     "data": {
      "text/html": [
       "<div>\n",
       "<style scoped>\n",
       "    .dataframe tbody tr th:only-of-type {\n",
       "        vertical-align: middle;\n",
       "    }\n",
       "\n",
       "    .dataframe tbody tr th {\n",
       "        vertical-align: top;\n",
       "    }\n",
       "\n",
       "    .dataframe thead th {\n",
       "        text-align: right;\n",
       "    }\n",
       "</style>\n",
       "<table border=\"1\" class=\"dataframe\">\n",
       "  <thead>\n",
       "    <tr style=\"text-align: right;\">\n",
       "      <th></th>\n",
       "      <th>price_crix</th>\n",
       "    </tr>\n",
       "    <tr>\n",
       "      <th>date</th>\n",
       "      <th></th>\n",
       "    </tr>\n",
       "  </thead>\n",
       "  <tbody>\n",
       "    <tr>\n",
       "      <th>2014-07-31</th>\n",
       "      <td>1000.000000</td>\n",
       "    </tr>\n",
       "    <tr>\n",
       "      <th>2014-08-01</th>\n",
       "      <td>1018.202717</td>\n",
       "    </tr>\n",
       "    <tr>\n",
       "      <th>2014-08-02</th>\n",
       "      <td>1008.772389</td>\n",
       "    </tr>\n",
       "    <tr>\n",
       "      <th>2014-08-03</th>\n",
       "      <td>1004.416500</td>\n",
       "    </tr>\n",
       "    <tr>\n",
       "      <th>2014-08-04</th>\n",
       "      <td>1004.984138</td>\n",
       "    </tr>\n",
       "  </tbody>\n",
       "</table>\n",
       "</div>"
      ],
      "text/plain": [
       "             price_crix\n",
       "date                   \n",
       "2014-07-31  1000.000000\n",
       "2014-08-01  1018.202717\n",
       "2014-08-02  1008.772389\n",
       "2014-08-03  1004.416500\n",
       "2014-08-04  1004.984138"
      ]
     },
     "execution_count": 106,
     "metadata": {},
     "output_type": "execute_result"
    }
   ],
   "source": [
    "crixdata.head()"
   ]
  },
  {
   "cell_type": "code",
   "execution_count": 107,
   "metadata": {},
   "outputs": [
    {
     "data": {
      "text/html": [
       "<div>\n",
       "<style scoped>\n",
       "    .dataframe tbody tr th:only-of-type {\n",
       "        vertical-align: middle;\n",
       "    }\n",
       "\n",
       "    .dataframe tbody tr th {\n",
       "        vertical-align: top;\n",
       "    }\n",
       "\n",
       "    .dataframe thead th {\n",
       "        text-align: right;\n",
       "    }\n",
       "</style>\n",
       "<table border=\"1\" class=\"dataframe\">\n",
       "  <thead>\n",
       "    <tr style=\"text-align: right;\">\n",
       "      <th></th>\n",
       "      <th>Last Price</th>\n",
       "      <th>Open Price</th>\n",
       "      <th>High Price</th>\n",
       "      <th>Low Price</th>\n",
       "    </tr>\n",
       "    <tr>\n",
       "      <th>Date</th>\n",
       "      <th></th>\n",
       "      <th></th>\n",
       "      <th></th>\n",
       "      <th></th>\n",
       "    </tr>\n",
       "  </thead>\n",
       "  <tbody>\n",
       "    <tr>\n",
       "      <th>2020-09-04</th>\n",
       "      <td>10273.83</td>\n",
       "      <td>10273.83</td>\n",
       "      <td>10273.83</td>\n",
       "      <td>10273.83</td>\n",
       "    </tr>\n",
       "    <tr>\n",
       "      <th>2020-09-03</th>\n",
       "      <td>10870.49</td>\n",
       "      <td>10870.49</td>\n",
       "      <td>10870.49</td>\n",
       "      <td>10870.49</td>\n",
       "    </tr>\n",
       "    <tr>\n",
       "      <th>2020-09-02</th>\n",
       "      <td>11325.01</td>\n",
       "      <td>11325.01</td>\n",
       "      <td>11325.01</td>\n",
       "      <td>11325.01</td>\n",
       "    </tr>\n",
       "    <tr>\n",
       "      <th>2020-09-01</th>\n",
       "      <td>11862.46</td>\n",
       "      <td>11862.46</td>\n",
       "      <td>11862.46</td>\n",
       "      <td>11862.46</td>\n",
       "    </tr>\n",
       "    <tr>\n",
       "      <th>2020-08-31</th>\n",
       "      <td>11720.10</td>\n",
       "      <td>11720.10</td>\n",
       "      <td>11720.10</td>\n",
       "      <td>11720.10</td>\n",
       "    </tr>\n",
       "  </tbody>\n",
       "</table>\n",
       "</div>"
      ],
      "text/plain": [
       "            Last Price  Open Price  High Price  Low Price\n",
       "Date                                                     \n",
       "2020-09-04    10273.83    10273.83    10273.83   10273.83\n",
       "2020-09-03    10870.49    10870.49    10870.49   10870.49\n",
       "2020-09-02    11325.01    11325.01    11325.01   11325.01\n",
       "2020-09-01    11862.46    11862.46    11862.46   11862.46\n",
       "2020-08-31    11720.10    11720.10    11720.10   11720.10"
      ]
     },
     "execution_count": 107,
     "metadata": {},
     "output_type": "execute_result"
    }
   ],
   "source": [
    "brrdata.head()"
   ]
  },
  {
   "cell_type": "code",
   "execution_count": 108,
   "metadata": {},
   "outputs": [
    {
     "name": "stdout",
     "output_type": "stream",
     "text": [
      "<class 'pandas.core.frame.DataFrame'>\n",
      "DatetimeIndex: 930 entries, 2020-09-04 to 2018-02-09\n",
      "Data columns (total 4 columns):\n",
      " #   Column      Non-Null Count  Dtype  \n",
      "---  ------      --------------  -----  \n",
      " 0   Last Price  930 non-null    float64\n",
      " 1   Open Price  911 non-null    float64\n",
      " 2   High Price  911 non-null    float64\n",
      " 3   Low Price   911 non-null    float64\n",
      "dtypes: float64(4)\n",
      "memory usage: 76.3 KB\n"
     ]
    }
   ],
   "source": [
    "brrdata.info()"
   ]
  },
  {
   "cell_type": "code",
   "execution_count": 109,
   "metadata": {},
   "outputs": [
    {
     "data": {
      "text/html": [
       "<div>\n",
       "<style scoped>\n",
       "    .dataframe tbody tr th:only-of-type {\n",
       "        vertical-align: middle;\n",
       "    }\n",
       "\n",
       "    .dataframe tbody tr th {\n",
       "        vertical-align: top;\n",
       "    }\n",
       "\n",
       "    .dataframe thead th {\n",
       "        text-align: right;\n",
       "    }\n",
       "</style>\n",
       "<table border=\"1\" class=\"dataframe\">\n",
       "  <thead>\n",
       "    <tr style=\"text-align: right;\">\n",
       "      <th></th>\n",
       "      <th>Last Price</th>\n",
       "      <th>Open Price</th>\n",
       "      <th>High Price</th>\n",
       "      <th>Low Price</th>\n",
       "      <th>BTC1 Curncy - Volume</th>\n",
       "    </tr>\n",
       "    <tr>\n",
       "      <th>Date</th>\n",
       "      <th></th>\n",
       "      <th></th>\n",
       "      <th></th>\n",
       "      <th></th>\n",
       "      <th></th>\n",
       "    </tr>\n",
       "  </thead>\n",
       "  <tbody>\n",
       "    <tr>\n",
       "      <th>2020-09-04</th>\n",
       "      <td>10480</td>\n",
       "      <td>10730.0</td>\n",
       "      <td>10740.0</td>\n",
       "      <td>10355.0</td>\n",
       "      <td>13711.0</td>\n",
       "    </tr>\n",
       "    <tr>\n",
       "      <th>2020-09-03</th>\n",
       "      <td>10720</td>\n",
       "      <td>11710.0</td>\n",
       "      <td>11710.0</td>\n",
       "      <td>10840.0</td>\n",
       "      <td>15412.0</td>\n",
       "    </tr>\n",
       "    <tr>\n",
       "      <th>2020-09-02</th>\n",
       "      <td>11460</td>\n",
       "      <td>12405.0</td>\n",
       "      <td>12405.0</td>\n",
       "      <td>11530.0</td>\n",
       "      <td>17210.0</td>\n",
       "    </tr>\n",
       "    <tr>\n",
       "      <th>2020-09-01</th>\n",
       "      <td>12075</td>\n",
       "      <td>12050.0</td>\n",
       "      <td>12450.0</td>\n",
       "      <td>12050.0</td>\n",
       "      <td>8919.0</td>\n",
       "    </tr>\n",
       "    <tr>\n",
       "      <th>2020-08-31</th>\n",
       "      <td>11835</td>\n",
       "      <td>11735.0</td>\n",
       "      <td>11915.0</td>\n",
       "      <td>11705.0</td>\n",
       "      <td>4865.0</td>\n",
       "    </tr>\n",
       "  </tbody>\n",
       "</table>\n",
       "</div>"
      ],
      "text/plain": [
       "            Last Price  Open Price  High Price  Low Price  \\\n",
       "Date                                                        \n",
       "2020-09-04       10480     10730.0     10740.0    10355.0   \n",
       "2020-09-03       10720     11710.0     11710.0    10840.0   \n",
       "2020-09-02       11460     12405.0     12405.0    11530.0   \n",
       "2020-09-01       12075     12050.0     12450.0    12050.0   \n",
       "2020-08-31       11835     11735.0     11915.0    11705.0   \n",
       "\n",
       "            BTC1 Curncy - Volume  \n",
       "Date                              \n",
       "2020-09-04               13711.0  \n",
       "2020-09-03               15412.0  \n",
       "2020-09-02               17210.0  \n",
       "2020-09-01                8919.0  \n",
       "2020-08-31                4865.0  "
      ]
     },
     "execution_count": 109,
     "metadata": {},
     "output_type": "execute_result"
    }
   ],
   "source": [
    "btcdata.head()"
   ]
  },
  {
   "cell_type": "code",
   "execution_count": 110,
   "metadata": {},
   "outputs": [
    {
     "name": "stdout",
     "output_type": "stream",
     "text": [
      "<class 'pandas.core.frame.DataFrame'>\n",
      "DatetimeIndex: 686 entries, 2020-09-04 to 2017-12-15\n",
      "Data columns (total 5 columns):\n",
      " #   Column                Non-Null Count  Dtype  \n",
      "---  ------                --------------  -----  \n",
      " 0   Last Price            686 non-null    int64  \n",
      " 1   Open Price            683 non-null    float64\n",
      " 2   High Price            683 non-null    float64\n",
      " 3   Low Price             683 non-null    float64\n",
      " 4   BTC1 Curncy - Volume  683 non-null    float64\n",
      "dtypes: float64(4), int64(1)\n",
      "memory usage: 52.2 KB\n"
     ]
    }
   ],
   "source": [
    "btcdata.info()"
   ]
  },
  {
   "cell_type": "code",
   "execution_count": 111,
   "metadata": {},
   "outputs": [],
   "source": [
    "data = btcdata.join(brrdata,lsuffix='_btc', rsuffix='_brr', how='inner')\n",
    "data = data.join(crixdata, how='inner')"
   ]
  },
  {
   "cell_type": "code",
   "execution_count": 112,
   "metadata": {},
   "outputs": [
    {
     "data": {
      "text/html": [
       "<div>\n",
       "<style scoped>\n",
       "    .dataframe tbody tr th:only-of-type {\n",
       "        vertical-align: middle;\n",
       "    }\n",
       "\n",
       "    .dataframe tbody tr th {\n",
       "        vertical-align: top;\n",
       "    }\n",
       "\n",
       "    .dataframe thead th {\n",
       "        text-align: right;\n",
       "    }\n",
       "</style>\n",
       "<table border=\"1\" class=\"dataframe\">\n",
       "  <thead>\n",
       "    <tr style=\"text-align: right;\">\n",
       "      <th></th>\n",
       "      <th>Last Price_btc</th>\n",
       "      <th>Open Price_btc</th>\n",
       "      <th>High Price_btc</th>\n",
       "      <th>Low Price_btc</th>\n",
       "      <th>BTC1 Curncy - Volume</th>\n",
       "      <th>Last Price_brr</th>\n",
       "      <th>Open Price_brr</th>\n",
       "      <th>High Price_brr</th>\n",
       "      <th>Low Price_brr</th>\n",
       "      <th>price_crix</th>\n",
       "    </tr>\n",
       "  </thead>\n",
       "  <tbody>\n",
       "    <tr>\n",
       "      <th>2020-09-04</th>\n",
       "      <td>10480</td>\n",
       "      <td>10730.0</td>\n",
       "      <td>10740.0</td>\n",
       "      <td>10355.0</td>\n",
       "      <td>13711.0</td>\n",
       "      <td>10273.83</td>\n",
       "      <td>10273.83</td>\n",
       "      <td>10273.83</td>\n",
       "      <td>10273.83</td>\n",
       "      <td>29614.314902</td>\n",
       "    </tr>\n",
       "    <tr>\n",
       "      <th>2020-09-03</th>\n",
       "      <td>10720</td>\n",
       "      <td>11710.0</td>\n",
       "      <td>11710.0</td>\n",
       "      <td>10840.0</td>\n",
       "      <td>15412.0</td>\n",
       "      <td>10870.49</td>\n",
       "      <td>10870.49</td>\n",
       "      <td>10870.49</td>\n",
       "      <td>10870.49</td>\n",
       "      <td>33049.664458</td>\n",
       "    </tr>\n",
       "    <tr>\n",
       "      <th>2020-09-02</th>\n",
       "      <td>11460</td>\n",
       "      <td>12405.0</td>\n",
       "      <td>12405.0</td>\n",
       "      <td>11530.0</td>\n",
       "      <td>17210.0</td>\n",
       "      <td>11325.01</td>\n",
       "      <td>11325.01</td>\n",
       "      <td>11325.01</td>\n",
       "      <td>11325.01</td>\n",
       "      <td>34623.237089</td>\n",
       "    </tr>\n",
       "    <tr>\n",
       "      <th>2020-09-01</th>\n",
       "      <td>12075</td>\n",
       "      <td>12050.0</td>\n",
       "      <td>12450.0</td>\n",
       "      <td>12050.0</td>\n",
       "      <td>8919.0</td>\n",
       "      <td>11862.46</td>\n",
       "      <td>11862.46</td>\n",
       "      <td>11862.46</td>\n",
       "      <td>11862.46</td>\n",
       "      <td>33833.920615</td>\n",
       "    </tr>\n",
       "    <tr>\n",
       "      <th>2020-08-31</th>\n",
       "      <td>11835</td>\n",
       "      <td>11735.0</td>\n",
       "      <td>11915.0</td>\n",
       "      <td>11705.0</td>\n",
       "      <td>4865.0</td>\n",
       "      <td>11720.10</td>\n",
       "      <td>11720.10</td>\n",
       "      <td>11720.10</td>\n",
       "      <td>11720.10</td>\n",
       "      <td>33882.473739</td>\n",
       "    </tr>\n",
       "  </tbody>\n",
       "</table>\n",
       "</div>"
      ],
      "text/plain": [
       "            Last Price_btc  Open Price_btc  High Price_btc  Low Price_btc  \\\n",
       "2020-09-04           10480         10730.0         10740.0        10355.0   \n",
       "2020-09-03           10720         11710.0         11710.0        10840.0   \n",
       "2020-09-02           11460         12405.0         12405.0        11530.0   \n",
       "2020-09-01           12075         12050.0         12450.0        12050.0   \n",
       "2020-08-31           11835         11735.0         11915.0        11705.0   \n",
       "\n",
       "            BTC1 Curncy - Volume  Last Price_brr  Open Price_brr  \\\n",
       "2020-09-04               13711.0        10273.83        10273.83   \n",
       "2020-09-03               15412.0        10870.49        10870.49   \n",
       "2020-09-02               17210.0        11325.01        11325.01   \n",
       "2020-09-01                8919.0        11862.46        11862.46   \n",
       "2020-08-31                4865.0        11720.10        11720.10   \n",
       "\n",
       "            High Price_brr  Low Price_brr    price_crix  \n",
       "2020-09-04        10273.83       10273.83  29614.314902  \n",
       "2020-09-03        10870.49       10870.49  33049.664458  \n",
       "2020-09-02        11325.01       11325.01  34623.237089  \n",
       "2020-09-01        11862.46       11862.46  33833.920615  \n",
       "2020-08-31        11720.10       11720.10  33882.473739  "
      ]
     },
     "execution_count": 112,
     "metadata": {},
     "output_type": "execute_result"
    }
   ],
   "source": [
    "data.head()"
   ]
  },
  {
   "cell_type": "code",
   "execution_count": 113,
   "metadata": {},
   "outputs": [],
   "source": [
    "data['return_btc'] = np.log(data['Last Price_btc']/data['Last Price_btc'].shift(-1))\n",
    "data['return_brr'] = np.log(data['Last Price_brr']/data['Last Price_brr'].shift(-1))\n",
    "data['return_crix'] = np.log(data['price_crix']/data['price_crix'].shift(-1))"
   ]
  },
  {
   "cell_type": "code",
   "execution_count": 114,
   "metadata": {},
   "outputs": [
    {
     "data": {
      "text/html": [
       "<div>\n",
       "<style scoped>\n",
       "    .dataframe tbody tr th:only-of-type {\n",
       "        vertical-align: middle;\n",
       "    }\n",
       "\n",
       "    .dataframe tbody tr th {\n",
       "        vertical-align: top;\n",
       "    }\n",
       "\n",
       "    .dataframe thead th {\n",
       "        text-align: right;\n",
       "    }\n",
       "</style>\n",
       "<table border=\"1\" class=\"dataframe\">\n",
       "  <thead>\n",
       "    <tr style=\"text-align: right;\">\n",
       "      <th></th>\n",
       "      <th>Last Price_btc</th>\n",
       "      <th>Open Price_btc</th>\n",
       "      <th>High Price_btc</th>\n",
       "      <th>Low Price_btc</th>\n",
       "      <th>BTC1 Curncy - Volume</th>\n",
       "      <th>Last Price_brr</th>\n",
       "      <th>Open Price_brr</th>\n",
       "      <th>High Price_brr</th>\n",
       "      <th>Low Price_brr</th>\n",
       "      <th>price_crix</th>\n",
       "      <th>return_btc</th>\n",
       "      <th>return_brr</th>\n",
       "      <th>return_crix</th>\n",
       "    </tr>\n",
       "  </thead>\n",
       "  <tbody>\n",
       "    <tr>\n",
       "      <th>2020-09-04</th>\n",
       "      <td>10480</td>\n",
       "      <td>10730.0</td>\n",
       "      <td>10740.0</td>\n",
       "      <td>10355.0</td>\n",
       "      <td>13711.0</td>\n",
       "      <td>10273.83</td>\n",
       "      <td>10273.83</td>\n",
       "      <td>10273.83</td>\n",
       "      <td>10273.83</td>\n",
       "      <td>29614.314902</td>\n",
       "      <td>-0.022642</td>\n",
       "      <td>-0.056452</td>\n",
       "      <td>-0.109754</td>\n",
       "    </tr>\n",
       "    <tr>\n",
       "      <th>2020-09-03</th>\n",
       "      <td>10720</td>\n",
       "      <td>11710.0</td>\n",
       "      <td>11710.0</td>\n",
       "      <td>10840.0</td>\n",
       "      <td>15412.0</td>\n",
       "      <td>10870.49</td>\n",
       "      <td>10870.49</td>\n",
       "      <td>10870.49</td>\n",
       "      <td>10870.49</td>\n",
       "      <td>33049.664458</td>\n",
       "      <td>-0.066752</td>\n",
       "      <td>-0.040962</td>\n",
       "      <td>-0.046514</td>\n",
       "    </tr>\n",
       "    <tr>\n",
       "      <th>2020-09-02</th>\n",
       "      <td>11460</td>\n",
       "      <td>12405.0</td>\n",
       "      <td>12405.0</td>\n",
       "      <td>11530.0</td>\n",
       "      <td>17210.0</td>\n",
       "      <td>11325.01</td>\n",
       "      <td>11325.01</td>\n",
       "      <td>11325.01</td>\n",
       "      <td>11325.01</td>\n",
       "      <td>34623.237089</td>\n",
       "      <td>-0.052274</td>\n",
       "      <td>-0.046365</td>\n",
       "      <td>0.023061</td>\n",
       "    </tr>\n",
       "    <tr>\n",
       "      <th>2020-09-01</th>\n",
       "      <td>12075</td>\n",
       "      <td>12050.0</td>\n",
       "      <td>12450.0</td>\n",
       "      <td>12050.0</td>\n",
       "      <td>8919.0</td>\n",
       "      <td>11862.46</td>\n",
       "      <td>11862.46</td>\n",
       "      <td>11862.46</td>\n",
       "      <td>11862.46</td>\n",
       "      <td>33833.920615</td>\n",
       "      <td>0.020076</td>\n",
       "      <td>0.012073</td>\n",
       "      <td>-0.001434</td>\n",
       "    </tr>\n",
       "    <tr>\n",
       "      <th>2020-08-31</th>\n",
       "      <td>11835</td>\n",
       "      <td>11735.0</td>\n",
       "      <td>11915.0</td>\n",
       "      <td>11705.0</td>\n",
       "      <td>4865.0</td>\n",
       "      <td>11720.10</td>\n",
       "      <td>11720.10</td>\n",
       "      <td>11720.10</td>\n",
       "      <td>11720.10</td>\n",
       "      <td>33882.473739</td>\n",
       "      <td>0.017473</td>\n",
       "      <td>0.023398</td>\n",
       "      <td>0.033484</td>\n",
       "    </tr>\n",
       "  </tbody>\n",
       "</table>\n",
       "</div>"
      ],
      "text/plain": [
       "            Last Price_btc  Open Price_btc  High Price_btc  Low Price_btc  \\\n",
       "2020-09-04           10480         10730.0         10740.0        10355.0   \n",
       "2020-09-03           10720         11710.0         11710.0        10840.0   \n",
       "2020-09-02           11460         12405.0         12405.0        11530.0   \n",
       "2020-09-01           12075         12050.0         12450.0        12050.0   \n",
       "2020-08-31           11835         11735.0         11915.0        11705.0   \n",
       "\n",
       "            BTC1 Curncy - Volume  Last Price_brr  Open Price_brr  \\\n",
       "2020-09-04               13711.0        10273.83        10273.83   \n",
       "2020-09-03               15412.0        10870.49        10870.49   \n",
       "2020-09-02               17210.0        11325.01        11325.01   \n",
       "2020-09-01                8919.0        11862.46        11862.46   \n",
       "2020-08-31                4865.0        11720.10        11720.10   \n",
       "\n",
       "            High Price_brr  Low Price_brr    price_crix  return_btc  \\\n",
       "2020-09-04        10273.83       10273.83  29614.314902   -0.022642   \n",
       "2020-09-03        10870.49       10870.49  33049.664458   -0.066752   \n",
       "2020-09-02        11325.01       11325.01  34623.237089   -0.052274   \n",
       "2020-09-01        11862.46       11862.46  33833.920615    0.020076   \n",
       "2020-08-31        11720.10       11720.10  33882.473739    0.017473   \n",
       "\n",
       "            return_brr  return_crix  \n",
       "2020-09-04   -0.056452    -0.109754  \n",
       "2020-09-03   -0.040962    -0.046514  \n",
       "2020-09-02   -0.046365     0.023061  \n",
       "2020-09-01    0.012073    -0.001434  \n",
       "2020-08-31    0.023398     0.033484  "
      ]
     },
     "execution_count": 114,
     "metadata": {},
     "output_type": "execute_result"
    }
   ],
   "source": [
    "data.head()"
   ]
  },
  {
   "cell_type": "code",
   "execution_count": 115,
   "metadata": {},
   "outputs": [],
   "source": [
    "data.dropna(inplace=True)"
   ]
  },
  {
   "cell_type": "code",
   "execution_count": 116,
   "metadata": {},
   "outputs": [
    {
     "data": {
      "text/plain": [
       "array([[1.        , 0.78828599],\n",
       "       [0.78828599, 1.        ]])"
      ]
     },
     "execution_count": 116,
     "metadata": {},
     "output_type": "execute_result"
    }
   ],
   "source": [
    "np.corrcoef(data['return_brr'], data['return_btc'])"
   ]
  },
  {
   "cell_type": "code",
   "execution_count": 121,
   "metadata": {},
   "outputs": [
    {
     "data": {
      "text/plain": [
       "array([[1.        , 0.54782409],\n",
       "       [0.54782409, 1.        ]])"
      ]
     },
     "execution_count": 121,
     "metadata": {},
     "output_type": "execute_result"
    }
   ],
   "source": [
    "np.corrcoef(data['return_brr'], data['return_crix'])"
   ]
  },
  {
   "cell_type": "code",
   "execution_count": 122,
   "metadata": {},
   "outputs": [
    {
     "data": {
      "text/plain": [
       "array([[1.        , 0.28688812],\n",
       "       [0.28688812, 1.        ]])"
      ]
     },
     "execution_count": 122,
     "metadata": {},
     "output_type": "execute_result"
    }
   ],
   "source": [
    "np.corrcoef(data['return_btc'], data['return_crix'])"
   ]
  },
  {
   "cell_type": "code",
   "execution_count": null,
   "metadata": {},
   "outputs": [],
   "source": []
  }
 ],
 "metadata": {
  "kernelspec": {
   "display_name": "Python 3",
   "language": "python",
   "name": "python3"
  },
  "language_info": {
   "codemirror_mode": {
    "name": "ipython",
    "version": 3
   },
   "file_extension": ".py",
   "mimetype": "text/x-python",
   "name": "python",
   "nbconvert_exporter": "python",
   "pygments_lexer": "ipython3",
   "version": "3.7.6"
  }
 },
 "nbformat": 4,
 "nbformat_minor": 4
}
