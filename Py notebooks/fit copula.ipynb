{
 "cells": [
  {
   "cell_type": "markdown",
   "metadata": {},
   "source": [
    "# Fit Parametric Copula\n",
    "The purpose of this notebook is to find the best fitting Copula. The overall strategy is to maximize the likelihood. (However, there are hypothesis testing type goodness of fit testing procedures are proposed, detail please refer to )\n",
    "\n",
    "\n",
    "## Fitting Marginals\n",
    "First, we fit the data to different distributions to obtain the best fitting distributions' paramters. Then, we compute the KS statistis of each distributions and pick the best one to proceed. "
   ]
  },
  {
   "cell_type": "code",
   "execution_count": 1,
   "metadata": {},
   "outputs": [
    {
     "data": {
      "text/html": [
       "<div>\n",
       "<style scoped>\n",
       "    .dataframe tbody tr th:only-of-type {\n",
       "        vertical-align: middle;\n",
       "    }\n",
       "\n",
       "    .dataframe tbody tr th {\n",
       "        vertical-align: top;\n",
       "    }\n",
       "\n",
       "    .dataframe thead th {\n",
       "        text-align: right;\n",
       "    }\n",
       "</style>\n",
       "<table border=\"1\" class=\"dataframe\">\n",
       "  <thead>\n",
       "    <tr style=\"text-align: right;\">\n",
       "      <th></th>\n",
       "      <th>Unnamed: 0</th>\n",
       "      <th>Last Price_btc</th>\n",
       "      <th>Open Price_btc</th>\n",
       "      <th>High Price_btc</th>\n",
       "      <th>Low Price_btc</th>\n",
       "      <th>BTC1 Curncy - Volume</th>\n",
       "      <th>Last Price_brr</th>\n",
       "      <th>Open Price_brr</th>\n",
       "      <th>High Price_brr</th>\n",
       "      <th>Low Price_brr</th>\n",
       "      <th>price_crix</th>\n",
       "      <th>return_btc</th>\n",
       "      <th>return_brr</th>\n",
       "      <th>return_crix</th>\n",
       "    </tr>\n",
       "  </thead>\n",
       "  <tbody>\n",
       "    <tr>\n",
       "      <th>0</th>\n",
       "      <td>2020-09-04</td>\n",
       "      <td>10480</td>\n",
       "      <td>10730.0</td>\n",
       "      <td>10740.0</td>\n",
       "      <td>10355.0</td>\n",
       "      <td>13711.0</td>\n",
       "      <td>10273.83</td>\n",
       "      <td>10273.83</td>\n",
       "      <td>10273.83</td>\n",
       "      <td>10273.83</td>\n",
       "      <td>29614.314902</td>\n",
       "      <td>-0.022642</td>\n",
       "      <td>-0.056452</td>\n",
       "      <td>-0.109754</td>\n",
       "    </tr>\n",
       "    <tr>\n",
       "      <th>1</th>\n",
       "      <td>2020-09-03</td>\n",
       "      <td>10720</td>\n",
       "      <td>11710.0</td>\n",
       "      <td>11710.0</td>\n",
       "      <td>10840.0</td>\n",
       "      <td>15412.0</td>\n",
       "      <td>10870.49</td>\n",
       "      <td>10870.49</td>\n",
       "      <td>10870.49</td>\n",
       "      <td>10870.49</td>\n",
       "      <td>33049.664458</td>\n",
       "      <td>-0.066752</td>\n",
       "      <td>-0.040962</td>\n",
       "      <td>-0.046514</td>\n",
       "    </tr>\n",
       "    <tr>\n",
       "      <th>2</th>\n",
       "      <td>2020-09-02</td>\n",
       "      <td>11460</td>\n",
       "      <td>12405.0</td>\n",
       "      <td>12405.0</td>\n",
       "      <td>11530.0</td>\n",
       "      <td>17210.0</td>\n",
       "      <td>11325.01</td>\n",
       "      <td>11325.01</td>\n",
       "      <td>11325.01</td>\n",
       "      <td>11325.01</td>\n",
       "      <td>34623.237089</td>\n",
       "      <td>-0.052274</td>\n",
       "      <td>-0.046365</td>\n",
       "      <td>0.023061</td>\n",
       "    </tr>\n",
       "    <tr>\n",
       "      <th>3</th>\n",
       "      <td>2020-09-01</td>\n",
       "      <td>12075</td>\n",
       "      <td>12050.0</td>\n",
       "      <td>12450.0</td>\n",
       "      <td>12050.0</td>\n",
       "      <td>8919.0</td>\n",
       "      <td>11862.46</td>\n",
       "      <td>11862.46</td>\n",
       "      <td>11862.46</td>\n",
       "      <td>11862.46</td>\n",
       "      <td>33833.920615</td>\n",
       "      <td>0.020076</td>\n",
       "      <td>0.012073</td>\n",
       "      <td>-0.001434</td>\n",
       "    </tr>\n",
       "    <tr>\n",
       "      <th>4</th>\n",
       "      <td>2020-08-31</td>\n",
       "      <td>11835</td>\n",
       "      <td>11735.0</td>\n",
       "      <td>11915.0</td>\n",
       "      <td>11705.0</td>\n",
       "      <td>4865.0</td>\n",
       "      <td>11720.10</td>\n",
       "      <td>11720.10</td>\n",
       "      <td>11720.10</td>\n",
       "      <td>11720.10</td>\n",
       "      <td>33882.473739</td>\n",
       "      <td>0.017473</td>\n",
       "      <td>0.023398</td>\n",
       "      <td>0.033484</td>\n",
       "    </tr>\n",
       "  </tbody>\n",
       "</table>\n",
       "</div>"
      ],
      "text/plain": [
       "   Unnamed: 0  Last Price_btc  Open Price_btc  High Price_btc  Low Price_btc  \\\n",
       "0  2020-09-04           10480         10730.0         10740.0        10355.0   \n",
       "1  2020-09-03           10720         11710.0         11710.0        10840.0   \n",
       "2  2020-09-02           11460         12405.0         12405.0        11530.0   \n",
       "3  2020-09-01           12075         12050.0         12450.0        12050.0   \n",
       "4  2020-08-31           11835         11735.0         11915.0        11705.0   \n",
       "\n",
       "   BTC1 Curncy - Volume  Last Price_brr  Open Price_brr  High Price_brr  \\\n",
       "0               13711.0        10273.83        10273.83        10273.83   \n",
       "1               15412.0        10870.49        10870.49        10870.49   \n",
       "2               17210.0        11325.01        11325.01        11325.01   \n",
       "3                8919.0        11862.46        11862.46        11862.46   \n",
       "4                4865.0        11720.10        11720.10        11720.10   \n",
       "\n",
       "   Low Price_brr    price_crix  return_btc  return_brr  return_crix  \n",
       "0       10273.83  29614.314902   -0.022642   -0.056452    -0.109754  \n",
       "1       10870.49  33049.664458   -0.066752   -0.040962    -0.046514  \n",
       "2       11325.01  34623.237089   -0.052274   -0.046365     0.023061  \n",
       "3       11862.46  33833.920615    0.020076    0.012073    -0.001434  \n",
       "4       11720.10  33882.473739    0.017473    0.023398     0.033484  "
      ]
     },
     "execution_count": 1,
     "metadata": {},
     "output_type": "execute_result"
    }
   ],
   "source": [
    "import matplotlib.pyplot as plt\n",
    "import scipy\n",
    "import scipy.stats as st\n",
    "import pandas as pd\n",
    "import numpy as np\n",
    "import seaborn as sns\n",
    "data = pd.read_csv('../processed_data/btc_future_crix.csv')\n",
    "data.head()"
   ]
  },
  {
   "cell_type": "code",
   "execution_count": 7,
   "metadata": {},
   "outputs": [],
   "source": [
    "M = max(data.iloc[:,-1])\n",
    "m = min(data.iloc[:,-1])\n",
    "size = 3000\n",
    "x = np.linspace(m, M, size)\n",
    "dist_names = ['norm', 'lognorm', 't', 'laplace']"
   ]
  },
  {
   "cell_type": "code",
   "execution_count": 29,
   "metadata": {},
   "outputs": [],
   "source": [
    "def fit_marginals(data, dist_names = ['norm', 'lognorm', 't', 'laplace']):\n",
    "    dist_arr = []\n",
    "    KS_arr = []\n",
    "    param_arr = []\n",
    "    for dist_name in dist_names:\n",
    "        dist = getattr(scipy.stats, dist_name)\n",
    "        dist_arr.append(dist)\n",
    "        param = dist.fit(data)\n",
    "        param_arr.append(param)\n",
    "        KS = st.kstest(data, dist_name, args=param)\n",
    "        KS_arr.append(KS)\n",
    "        pdf_fitted = dist.pdf(x, *param[:-2], loc=param[-2], scale=param[-1])\n",
    "        plt.plot(x, pdf_fitted, label=dist_name)\n",
    "\n",
    "    sns.distplot(data, label='empirical')\n",
    "    plt.legend()\n",
    "    return dist_names, dist_arr, KS_arr, param_arr"
   ]
  },
  {
   "cell_type": "code",
   "execution_count": 30,
   "metadata": {},
   "outputs": [
    {
     "data": {
      "image/png": "[encoded data removed]",
      "text/plain": [
       "<Figure size 432x288 with 1 Axes>"
      ]
     },
     "metadata": {
      "needs_background": "light"
     },
     "output_type": "display_data"
    }
   ],
   "source": [
    "btc_result = fit_marginals(data.iloc[:,-3])\n",
    "brr_result = fit_marginals(data.iloc[:,-2])\n",
    "crix_result = fit_marginals(data.iloc[:,-1])"
   ]
  },
  {
   "cell_type": "code",
   "execution_count": 31,
   "metadata": {},
   "outputs": [],
   "source": [
    "btc_KS = [round(result[0], 4) for result in btc_result[-1]]\n",
    "brr_KS = [round(result[0], 4) for result in brr_result[-1]]\n",
    "crix_KS = [round(result[0], 4) for result in crix_result[-1]]\n",
    "\n",
    "btc_KS_pvalue = [round(result[1], 4) for result in btc_result[-1]]\n",
    "brr_KS_pvalue = [round(result[1], 4) for result in brr_result[-1]]\n",
    "crix_KS_pvalue = [round(result[1], 4) for result in crix_result[-1]]"
   ]
  },
  {
   "cell_type": "code",
   "execution_count": 32,
   "metadata": {},
   "outputs": [],
   "source": [
    "KSs = pd.DataFrame({'btc':btc_KS, 'brr':brr_KS, 'crix':crix_KS}, index=dist_names).T\n",
    "KS_pvalues = pd.DataFrame({'btc':btc_KS_pvalue, 'brr':brr_KS_pvalue, 'crix':crix_KS_pvalue}, index=dist_names).T"
   ]
  },
  {
   "cell_type": "code",
   "execution_count": 33,
   "metadata": {},
   "outputs": [
    {
     "data": {
      "text/html": [
       "<div>\n",
       "<style scoped>\n",
       "    .dataframe tbody tr th:only-of-type {\n",
       "        vertical-align: middle;\n",
       "    }\n",
       "\n",
       "    .dataframe tbody tr th {\n",
       "        vertical-align: top;\n",
       "    }\n",
       "\n",
       "    .dataframe thead tr th {\n",
       "        text-align: left;\n",
       "    }\n",
       "</style>\n",
       "<table border=\"1\" class=\"dataframe\">\n",
       "  <thead>\n",
       "    <tr>\n",
       "      <th></th>\n",
       "      <th colspan=\"2\" halign=\"left\">laplace</th>\n",
       "      <th colspan=\"2\" halign=\"left\">lognorm</th>\n",
       "      <th colspan=\"2\" halign=\"left\">norm</th>\n",
       "      <th colspan=\"2\" halign=\"left\">t</th>\n",
       "    </tr>\n",
       "    <tr>\n",
       "      <th></th>\n",
       "      <th>KS</th>\n",
       "      <th>P-value</th>\n",
       "      <th>KS</th>\n",
       "      <th>P-value</th>\n",
       "      <th>KS</th>\n",
       "      <th>P-value</th>\n",
       "      <th>KS</th>\n",
       "      <th>P-value</th>\n",
       "    </tr>\n",
       "  </thead>\n",
       "  <tbody>\n",
       "    <tr>\n",
       "      <th>btc</th>\n",
       "      <td>-0.0000</td>\n",
       "      <td>0.0303</td>\n",
       "      <td>0.0039</td>\n",
       "      <td>-11.8758</td>\n",
       "      <td>0.0004</td>\n",
       "      <td>0.0462</td>\n",
       "      <td>2.1322</td>\n",
       "      <td>0.0002</td>\n",
       "    </tr>\n",
       "    <tr>\n",
       "      <th>brr</th>\n",
       "      <td>0.0006</td>\n",
       "      <td>0.0280</td>\n",
       "      <td>0.0031</td>\n",
       "      <td>-13.5006</td>\n",
       "      <td>0.0003</td>\n",
       "      <td>0.0418</td>\n",
       "      <td>2.2904</td>\n",
       "      <td>0.0010</td>\n",
       "    </tr>\n",
       "    <tr>\n",
       "      <th>crix</th>\n",
       "      <td>0.0006</td>\n",
       "      <td>0.0313</td>\n",
       "      <td>0.0011</td>\n",
       "      <td>-43.8815</td>\n",
       "      <td>-0.0001</td>\n",
       "      <td>0.0471</td>\n",
       "      <td>2.7944</td>\n",
       "      <td>0.0007</td>\n",
       "    </tr>\n",
       "  </tbody>\n",
       "</table>\n",
       "</div>"
      ],
      "text/plain": [
       "     laplace         lognorm             norm               t        \n",
       "          KS P-value      KS  P-value      KS P-value      KS P-value\n",
       "btc  -0.0000  0.0303  0.0039 -11.8758  0.0004  0.0462  2.1322  0.0002\n",
       "brr   0.0006  0.0280  0.0031 -13.5006  0.0003  0.0418  2.2904  0.0010\n",
       "crix  0.0006  0.0313  0.0011 -43.8815 -0.0001  0.0471  2.7944  0.0007"
      ]
     },
     "execution_count": 33,
     "metadata": {},
     "output_type": "execute_result"
    }
   ],
   "source": [
    "KSs.columns = ['KS' for _ in range(len(dist_names))]\n",
    "KS_pvalues.columns = ['P-values' for _ in range(len(dist_names))]\n",
    "KS_and_Pvalues = [pd.concat({'KS':KSs.iloc[:,i], \"P-value\":KS_pvalues.iloc[:,i]},axis=1) for i in range(len(dist_names))]\n",
    "pd.concat(dict([(dist_names[i], KS_and_Pvalues[i]) for i in range(len(dist_names))]), axis=1)"
   ]
  },
  {
   "cell_type": "markdown",
   "metadata": {},
   "source": [
    "### Decisions\n",
    "btc future: t distribution\n",
    "\n",
    "btc reference rate: t distribution (but p-value is not satisfying)\n",
    "\n",
    "crix reference rate: laplace distribution (but p-value is not satisfying)\n",
    "\n",
    "## Fitting Copula\n",
    "\n",
    "We will use the $\\theta-\\tau$ relationship to determine the parameter, and then calculate the corresponding likelihood. \n",
    "\n",
    "We are interested in two pairs of bivariate copula:\n",
    "- brr, btc future, and\n",
    "- crix, btc future\n",
    "\n",
    "The link between $\\tau$ and $\\theta$ (Genest & Riverst, 1993)\n",
    "- Clayton\n",
    "$\\tau = \\theta/(\\theta+2)$\n",
    "\n",
    "- Frank\n",
    "$ \\tau = 1+ 4(D_1(\\theta)-1)/\\theta$, where $D_1$ is the Debye function of order 1\n",
    "\n",
    "- Gumbel\n",
    "$ \\tau = \\theta / (\\theta+1)$\n",
    "\n",
    "https://mediatum.ub.tum.de/doc/1119201/1119201.pdf"
   ]
  },
  {
   "cell_type": "code",
   "execution_count": 45,
   "metadata": {},
   "outputs": [],
   "source": [
    "tau_1 = st.kendalltau(data.return_brr, data.return_btc)[0]\n",
    "tau_2 = st.kendalltau(data.return_crix, data.return_btc)[0]"
   ]
  },
  {
   "cell_type": "code",
   "execution_count": 46,
   "metadata": {},
   "outputs": [],
   "source": [
    "def Clayton_copula_density(u, v, theta):\n",
    "    A = (1+theta)*(u*v)**(-1-theta)\n",
    "    B = (-1+u**-theta+v**-theta)**(-2-1/theta)\n",
    "    return A*B\n",
    "\n",
    "def Gumbel_copula(u,v, theta):\n",
    "    t1 = (-np.log(u))**theta\n",
    "    t2 = (-np.log(v))**theta\n",
    "    return np.exp((-(t1+t2))**(1/theta))\n",
    "\n",
    "def Gumbel_copula_density(u,v, theta):\n",
    "    t1 = (-np.log(u))**theta\n",
    "    t2 = (-np.log(v))**theta\n",
    "    A = (Gumbel_copula(u,v,theta)/(u*v))*(t1+t2)**(-2+2/theta)\n",
    "    B = (np.log(u)*np.log(v))**(theta-1)\n",
    "    C = 1+ (theta-1)*(t1+t2)**(-1/theta)\n",
    "    return A*B*C"
   ]
  },
  {
   "cell_type": "code",
   "execution_count": 47,
   "metadata": {},
   "outputs": [],
   "source": [
    "u = brr_result[1][2].cdf(data.return_brr,df=brr_result[-1][2][0])\n",
    "v = btc_result[1][2].cdf(data.return_btc,df=btc_result[-1][2][0])"
   ]
  },
  {
   "cell_type": "code",
   "execution_count": 54,
   "metadata": {},
   "outputs": [
    {
     "name": "stderr",
     "output_type": "stream",
     "text": [
      "/Users/francis/opt/anaconda3/lib/python3.7/site-packages/ipykernel_launcher.py:9: RuntimeWarning: invalid value encountered in power\n",
      "  if __name__ == '__main__':\n"
     ]
    }
   ],
   "source": [
    "# Clayton\n",
    "theta_clayton = 2*tau_1 / (1-tau_1)\n",
    "theta_gumbel = 1*tau_1 / (1-tau_1)\n",
    "\n",
    "u = brr_result[1][2].cdf(data.return_brr,df=brr_result[-1][2][0])\n",
    "v = btc_result[1][2].cdf(data.return_btc,df=btc_result[-1][2][0])\n",
    "clayton_likelihood = np.sum(np.log(Clayton_copula_density(u,v, theta)))\n",
    "\n",
    "clayton_likelihood = np.sum(np.log(Clayton_copula_density(u,v, theta_clayton)))\n",
    "gumbel_likelihood = np.sum(np.log(Gumbel_copula_density(u,v, theta_gumbel)))"
   ]
  },
  {
   "cell_type": "code",
   "execution_count": 57,
   "metadata": {},
   "outputs": [
    {
     "data": {
      "text/plain": [
       "338.47412611738685"
      ]
     },
     "execution_count": 57,
     "metadata": {},
     "output_type": "execute_result"
    }
   ],
   "source": [
    "clayton_likelihood"
   ]
  }
 ],
 "metadata": {
  "kernelspec": {
   "display_name": "Python 3",
   "language": "python",
   "name": "python3"
  },
  "language_info": {
   "codemirror_mode": {
    "name": "ipython",
    "version": 3
   },
   "file_extension": ".py",
   "mimetype": "text/x-python",
   "name": "python",
   "nbconvert_exporter": "python",
   "pygments_lexer": "ipython3",
   "version": "3.7.4"
  },
  "toc": {
   "base_numbering": 1,
   "nav_menu": {},
   "number_sections": true,
   "sideBar": true,
   "skip_h1_title": false,
   "title_cell": "Table of Contents",
   "title_sidebar": "Contents",
   "toc_cell": false,
   "toc_position": {},
   "toc_section_display": true,
   "toc_window_display": false
  }
 },
 "nbformat": 4,
 "nbformat_minor": 2
}
