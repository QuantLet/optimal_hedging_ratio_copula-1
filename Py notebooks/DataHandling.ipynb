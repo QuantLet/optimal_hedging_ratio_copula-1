{
 "cells": [
  {
   "cell_type": "code",
   "execution_count": 25,
   "metadata": {},
   "outputs": [],
   "source": [
    "import numpy as np\n",
    "import pandas as pd\n",
    "from pylab import mpl, plt\n",
    "import seaborn as sns\n",
    "from statsmodels.distributions.empirical_distribution import ECDF\n",
    "from functools import partial\n",
    "from scipy import stats\n",
    "plt.style.use('seaborn')\n",
    "mpl.rcParams['font.family'] = 'serif'\n",
    "import scipy.stats\n",
    "%matplotlib inline"
   ]
  },
  {
   "cell_type": "code",
   "execution_count": 2,
   "metadata": {},
   "outputs": [],
   "source": [
    "brrfile = '../data/BRR Index.xlsx'\n",
    "btcfile = '../data/BTC CME Future.xlsx'\n",
    "crixfile = '../data/crix.json'"
   ]
  },
  {
   "cell_type": "code",
   "execution_count": 3,
   "metadata": {},
   "outputs": [],
   "source": [
    "brrdata = pd.read_excel(brrfile,  # import csv-data into DataFrame\n",
    "                   index_col=0, # take first column as index\n",
    "                   parse_dates=True)  # index values are datetime\n",
    "btcdata = pd.read_excel(btcfile,  # import csv-data into DataFrame\n",
    "                   index_col=0, # take first column as index\n",
    "                   parse_dates=True)  # index values are datetime"
   ]
  },
  {
   "cell_type": "code",
   "execution_count": 4,
   "metadata": {},
   "outputs": [],
   "source": [
    "d = pd.read_json(crixfile)\n",
    "crixdata = pd.DataFrame(data=d['price'].values, index=d['date'], columns=['price_crix'])"
   ]
  },
  {
   "cell_type": "code",
   "execution_count": 5,
   "metadata": {},
   "outputs": [
    {
     "data": {
      "text/html": [
       "<div>\n",
       "<style scoped>\n",
       "    .dataframe tbody tr th:only-of-type {\n",
       "        vertical-align: middle;\n",
       "    }\n",
       "\n",
       "    .dataframe tbody tr th {\n",
       "        vertical-align: top;\n",
       "    }\n",
       "\n",
       "    .dataframe thead th {\n",
       "        text-align: right;\n",
       "    }\n",
       "</style>\n",
       "<table border=\"1\" class=\"dataframe\">\n",
       "  <thead>\n",
       "    <tr style=\"text-align: right;\">\n",
       "      <th></th>\n",
       "      <th>price_crix</th>\n",
       "    </tr>\n",
       "    <tr>\n",
       "      <th>date</th>\n",
       "      <th></th>\n",
       "    </tr>\n",
       "  </thead>\n",
       "  <tbody>\n",
       "    <tr>\n",
       "      <th>2014-07-31</th>\n",
       "      <td>1000.000000</td>\n",
       "    </tr>\n",
       "    <tr>\n",
       "      <th>2014-08-01</th>\n",
       "      <td>1018.202717</td>\n",
       "    </tr>\n",
       "    <tr>\n",
       "      <th>2014-08-02</th>\n",
       "      <td>1008.772389</td>\n",
       "    </tr>\n",
       "    <tr>\n",
       "      <th>2014-08-03</th>\n",
       "      <td>1004.416500</td>\n",
       "    </tr>\n",
       "    <tr>\n",
       "      <th>2014-08-04</th>\n",
       "      <td>1004.984138</td>\n",
       "    </tr>\n",
       "  </tbody>\n",
       "</table>\n",
       "</div>"
      ],
      "text/plain": [
       "             price_crix\n",
       "date                   \n",
       "2014-07-31  1000.000000\n",
       "2014-08-01  1018.202717\n",
       "2014-08-02  1008.772389\n",
       "2014-08-03  1004.416500\n",
       "2014-08-04  1004.984138"
      ]
     },
     "execution_count": 5,
     "metadata": {},
     "output_type": "execute_result"
    }
   ],
   "source": [
    "crixdata.head()"
   ]
  },
  {
   "cell_type": "code",
   "execution_count": 6,
   "metadata": {},
   "outputs": [
    {
     "data": {
      "text/html": [
       "<div>\n",
       "<style scoped>\n",
       "    .dataframe tbody tr th:only-of-type {\n",
       "        vertical-align: middle;\n",
       "    }\n",
       "\n",
       "    .dataframe tbody tr th {\n",
       "        vertical-align: top;\n",
       "    }\n",
       "\n",
       "    .dataframe thead th {\n",
       "        text-align: right;\n",
       "    }\n",
       "</style>\n",
       "<table border=\"1\" class=\"dataframe\">\n",
       "  <thead>\n",
       "    <tr style=\"text-align: right;\">\n",
       "      <th></th>\n",
       "      <th>Last Price</th>\n",
       "      <th>Open Price</th>\n",
       "      <th>High Price</th>\n",
       "      <th>Low Price</th>\n",
       "    </tr>\n",
       "    <tr>\n",
       "      <th>Date</th>\n",
       "      <th></th>\n",
       "      <th></th>\n",
       "      <th></th>\n",
       "      <th></th>\n",
       "    </tr>\n",
       "  </thead>\n",
       "  <tbody>\n",
       "    <tr>\n",
       "      <th>2020-09-04</th>\n",
       "      <td>10273.83</td>\n",
       "      <td>10273.83</td>\n",
       "      <td>10273.83</td>\n",
       "      <td>10273.83</td>\n",
       "    </tr>\n",
       "    <tr>\n",
       "      <th>2020-09-03</th>\n",
       "      <td>10870.49</td>\n",
       "      <td>10870.49</td>\n",
       "      <td>10870.49</td>\n",
       "      <td>10870.49</td>\n",
       "    </tr>\n",
       "    <tr>\n",
       "      <th>2020-09-02</th>\n",
       "      <td>11325.01</td>\n",
       "      <td>11325.01</td>\n",
       "      <td>11325.01</td>\n",
       "      <td>11325.01</td>\n",
       "    </tr>\n",
       "    <tr>\n",
       "      <th>2020-09-01</th>\n",
       "      <td>11862.46</td>\n",
       "      <td>11862.46</td>\n",
       "      <td>11862.46</td>\n",
       "      <td>11862.46</td>\n",
       "    </tr>\n",
       "    <tr>\n",
       "      <th>2020-08-31</th>\n",
       "      <td>11720.10</td>\n",
       "      <td>11720.10</td>\n",
       "      <td>11720.10</td>\n",
       "      <td>11720.10</td>\n",
       "    </tr>\n",
       "  </tbody>\n",
       "</table>\n",
       "</div>"
      ],
      "text/plain": [
       "            Last Price  Open Price  High Price  Low Price\n",
       "Date                                                     \n",
       "2020-09-04    10273.83    10273.83    10273.83   10273.83\n",
       "2020-09-03    10870.49    10870.49    10870.49   10870.49\n",
       "2020-09-02    11325.01    11325.01    11325.01   11325.01\n",
       "2020-09-01    11862.46    11862.46    11862.46   11862.46\n",
       "2020-08-31    11720.10    11720.10    11720.10   11720.10"
      ]
     },
     "execution_count": 6,
     "metadata": {},
     "output_type": "execute_result"
    }
   ],
   "source": [
    "brrdata.head()"
   ]
  },
  {
   "cell_type": "code",
   "execution_count": 7,
   "metadata": {},
   "outputs": [
    {
     "name": "stdout",
     "output_type": "stream",
     "text": [
      "<class 'pandas.core.frame.DataFrame'>\n",
      "DatetimeIndex: 930 entries, 2020-09-04 to 2018-02-09\n",
      "Data columns (total 4 columns):\n",
      "Last Price    930 non-null float64\n",
      "Open Price    911 non-null float64\n",
      "High Price    911 non-null float64\n",
      "Low Price     911 non-null float64\n",
      "dtypes: float64(4)\n",
      "memory usage: 36.3 KB\n"
     ]
    }
   ],
   "source": [
    "brrdata.info()"
   ]
  },
  {
   "cell_type": "code",
   "execution_count": 8,
   "metadata": {},
   "outputs": [
    {
     "data": {
      "text/html": [
       "<div>\n",
       "<style scoped>\n",
       "    .dataframe tbody tr th:only-of-type {\n",
       "        vertical-align: middle;\n",
       "    }\n",
       "\n",
       "    .dataframe tbody tr th {\n",
       "        vertical-align: top;\n",
       "    }\n",
       "\n",
       "    .dataframe thead th {\n",
       "        text-align: right;\n",
       "    }\n",
       "</style>\n",
       "<table border=\"1\" class=\"dataframe\">\n",
       "  <thead>\n",
       "    <tr style=\"text-align: right;\">\n",
       "      <th></th>\n",
       "      <th>Last Price</th>\n",
       "      <th>Open Price</th>\n",
       "      <th>High Price</th>\n",
       "      <th>Low Price</th>\n",
       "      <th>BTC1 Curncy - Volume</th>\n",
       "    </tr>\n",
       "    <tr>\n",
       "      <th>Date</th>\n",
       "      <th></th>\n",
       "      <th></th>\n",
       "      <th></th>\n",
       "      <th></th>\n",
       "      <th></th>\n",
       "    </tr>\n",
       "  </thead>\n",
       "  <tbody>\n",
       "    <tr>\n",
       "      <th>2020-09-04</th>\n",
       "      <td>10480</td>\n",
       "      <td>10730.0</td>\n",
       "      <td>10740.0</td>\n",
       "      <td>10355.0</td>\n",
       "      <td>13711.0</td>\n",
       "    </tr>\n",
       "    <tr>\n",
       "      <th>2020-09-03</th>\n",
       "      <td>10720</td>\n",
       "      <td>11710.0</td>\n",
       "      <td>11710.0</td>\n",
       "      <td>10840.0</td>\n",
       "      <td>15412.0</td>\n",
       "    </tr>\n",
       "    <tr>\n",
       "      <th>2020-09-02</th>\n",
       "      <td>11460</td>\n",
       "      <td>12405.0</td>\n",
       "      <td>12405.0</td>\n",
       "      <td>11530.0</td>\n",
       "      <td>17210.0</td>\n",
       "    </tr>\n",
       "    <tr>\n",
       "      <th>2020-09-01</th>\n",
       "      <td>12075</td>\n",
       "      <td>12050.0</td>\n",
       "      <td>12450.0</td>\n",
       "      <td>12050.0</td>\n",
       "      <td>8919.0</td>\n",
       "    </tr>\n",
       "    <tr>\n",
       "      <th>2020-08-31</th>\n",
       "      <td>11835</td>\n",
       "      <td>11735.0</td>\n",
       "      <td>11915.0</td>\n",
       "      <td>11705.0</td>\n",
       "      <td>4865.0</td>\n",
       "    </tr>\n",
       "  </tbody>\n",
       "</table>\n",
       "</div>"
      ],
      "text/plain": [
       "            Last Price  Open Price  High Price  Low Price  \\\n",
       "Date                                                        \n",
       "2020-09-04       10480     10730.0     10740.0    10355.0   \n",
       "2020-09-03       10720     11710.0     11710.0    10840.0   \n",
       "2020-09-02       11460     12405.0     12405.0    11530.0   \n",
       "2020-09-01       12075     12050.0     12450.0    12050.0   \n",
       "2020-08-31       11835     11735.0     11915.0    11705.0   \n",
       "\n",
       "            BTC1 Curncy - Volume  \n",
       "Date                              \n",
       "2020-09-04               13711.0  \n",
       "2020-09-03               15412.0  \n",
       "2020-09-02               17210.0  \n",
       "2020-09-01                8919.0  \n",
       "2020-08-31                4865.0  "
      ]
     },
     "execution_count": 8,
     "metadata": {},
     "output_type": "execute_result"
    }
   ],
   "source": [
    "btcdata.head()"
   ]
  },
  {
   "cell_type": "code",
   "execution_count": 9,
   "metadata": {},
   "outputs": [
    {
     "name": "stdout",
     "output_type": "stream",
     "text": [
      "<class 'pandas.core.frame.DataFrame'>\n",
      "DatetimeIndex: 686 entries, 2020-09-04 to 2017-12-15\n",
      "Data columns (total 5 columns):\n",
      "Last Price              686 non-null int64\n",
      "Open Price              683 non-null float64\n",
      "High Price              683 non-null float64\n",
      "Low Price               683 non-null float64\n",
      "BTC1 Curncy - Volume    683 non-null float64\n",
      "dtypes: float64(4), int64(1)\n",
      "memory usage: 32.2 KB\n"
     ]
    }
   ],
   "source": [
    "btcdata.info()"
   ]
  },
  {
   "cell_type": "code",
   "execution_count": 10,
   "metadata": {},
   "outputs": [],
   "source": [
    "data = btcdata.join(brrdata,lsuffix='_btc', rsuffix='_brr', how='inner')\n",
    "data = data.join(crixdata, how='inner')"
   ]
  },
  {
   "cell_type": "code",
   "execution_count": 11,
   "metadata": {},
   "outputs": [
    {
     "data": {
      "text/html": [
       "<div>\n",
       "<style scoped>\n",
       "    .dataframe tbody tr th:only-of-type {\n",
       "        vertical-align: middle;\n",
       "    }\n",
       "\n",
       "    .dataframe tbody tr th {\n",
       "        vertical-align: top;\n",
       "    }\n",
       "\n",
       "    .dataframe thead th {\n",
       "        text-align: right;\n",
       "    }\n",
       "</style>\n",
       "<table border=\"1\" class=\"dataframe\">\n",
       "  <thead>\n",
       "    <tr style=\"text-align: right;\">\n",
       "      <th></th>\n",
       "      <th>Last Price_btc</th>\n",
       "      <th>Open Price_btc</th>\n",
       "      <th>High Price_btc</th>\n",
       "      <th>Low Price_btc</th>\n",
       "      <th>BTC1 Curncy - Volume</th>\n",
       "      <th>Last Price_brr</th>\n",
       "      <th>Open Price_brr</th>\n",
       "      <th>High Price_brr</th>\n",
       "      <th>Low Price_brr</th>\n",
       "      <th>price_crix</th>\n",
       "    </tr>\n",
       "  </thead>\n",
       "  <tbody>\n",
       "    <tr>\n",
       "      <th>2020-09-04</th>\n",
       "      <td>10480</td>\n",
       "      <td>10730.0</td>\n",
       "      <td>10740.0</td>\n",
       "      <td>10355.0</td>\n",
       "      <td>13711.0</td>\n",
       "      <td>10273.83</td>\n",
       "      <td>10273.83</td>\n",
       "      <td>10273.83</td>\n",
       "      <td>10273.83</td>\n",
       "      <td>29614.314902</td>\n",
       "    </tr>\n",
       "    <tr>\n",
       "      <th>2020-09-03</th>\n",
       "      <td>10720</td>\n",
       "      <td>11710.0</td>\n",
       "      <td>11710.0</td>\n",
       "      <td>10840.0</td>\n",
       "      <td>15412.0</td>\n",
       "      <td>10870.49</td>\n",
       "      <td>10870.49</td>\n",
       "      <td>10870.49</td>\n",
       "      <td>10870.49</td>\n",
       "      <td>33049.664458</td>\n",
       "    </tr>\n",
       "    <tr>\n",
       "      <th>2020-09-02</th>\n",
       "      <td>11460</td>\n",
       "      <td>12405.0</td>\n",
       "      <td>12405.0</td>\n",
       "      <td>11530.0</td>\n",
       "      <td>17210.0</td>\n",
       "      <td>11325.01</td>\n",
       "      <td>11325.01</td>\n",
       "      <td>11325.01</td>\n",
       "      <td>11325.01</td>\n",
       "      <td>34623.237089</td>\n",
       "    </tr>\n",
       "    <tr>\n",
       "      <th>2020-09-01</th>\n",
       "      <td>12075</td>\n",
       "      <td>12050.0</td>\n",
       "      <td>12450.0</td>\n",
       "      <td>12050.0</td>\n",
       "      <td>8919.0</td>\n",
       "      <td>11862.46</td>\n",
       "      <td>11862.46</td>\n",
       "      <td>11862.46</td>\n",
       "      <td>11862.46</td>\n",
       "      <td>33833.920615</td>\n",
       "    </tr>\n",
       "    <tr>\n",
       "      <th>2020-08-31</th>\n",
       "      <td>11835</td>\n",
       "      <td>11735.0</td>\n",
       "      <td>11915.0</td>\n",
       "      <td>11705.0</td>\n",
       "      <td>4865.0</td>\n",
       "      <td>11720.10</td>\n",
       "      <td>11720.10</td>\n",
       "      <td>11720.10</td>\n",
       "      <td>11720.10</td>\n",
       "      <td>33882.473739</td>\n",
       "    </tr>\n",
       "  </tbody>\n",
       "</table>\n",
       "</div>"
      ],
      "text/plain": [
       "            Last Price_btc  Open Price_btc  High Price_btc  Low Price_btc  \\\n",
       "2020-09-04           10480         10730.0         10740.0        10355.0   \n",
       "2020-09-03           10720         11710.0         11710.0        10840.0   \n",
       "2020-09-02           11460         12405.0         12405.0        11530.0   \n",
       "2020-09-01           12075         12050.0         12450.0        12050.0   \n",
       "2020-08-31           11835         11735.0         11915.0        11705.0   \n",
       "\n",
       "            BTC1 Curncy - Volume  Last Price_brr  Open Price_brr  \\\n",
       "2020-09-04               13711.0        10273.83        10273.83   \n",
       "2020-09-03               15412.0        10870.49        10870.49   \n",
       "2020-09-02               17210.0        11325.01        11325.01   \n",
       "2020-09-01                8919.0        11862.46        11862.46   \n",
       "2020-08-31                4865.0        11720.10        11720.10   \n",
       "\n",
       "            High Price_brr  Low Price_brr    price_crix  \n",
       "2020-09-04        10273.83       10273.83  29614.314902  \n",
       "2020-09-03        10870.49       10870.49  33049.664458  \n",
       "2020-09-02        11325.01       11325.01  34623.237089  \n",
       "2020-09-01        11862.46       11862.46  33833.920615  \n",
       "2020-08-31        11720.10       11720.10  33882.473739  "
      ]
     },
     "execution_count": 11,
     "metadata": {},
     "output_type": "execute_result"
    }
   ],
   "source": [
    "data.head()"
   ]
  },
  {
   "cell_type": "code",
   "execution_count": 12,
   "metadata": {},
   "outputs": [],
   "source": [
    "data['return_btc'] = np.log(data['Last Price_btc']/data['Last Price_btc'].shift(-1))\n",
    "data['return_brr'] = np.log(data['Last Price_brr']/data['Last Price_brr'].shift(-1))\n",
    "data['return_crix'] = np.log(data['price_crix']/data['price_crix'].shift(-1))"
   ]
  },
  {
   "cell_type": "code",
   "execution_count": 13,
   "metadata": {},
   "outputs": [
    {
     "data": {
      "text/html": [
       "<div>\n",
       "<style scoped>\n",
       "    .dataframe tbody tr th:only-of-type {\n",
       "        vertical-align: middle;\n",
       "    }\n",
       "\n",
       "    .dataframe tbody tr th {\n",
       "        vertical-align: top;\n",
       "    }\n",
       "\n",
       "    .dataframe thead th {\n",
       "        text-align: right;\n",
       "    }\n",
       "</style>\n",
       "<table border=\"1\" class=\"dataframe\">\n",
       "  <thead>\n",
       "    <tr style=\"text-align: right;\">\n",
       "      <th></th>\n",
       "      <th>Last Price_btc</th>\n",
       "      <th>Open Price_btc</th>\n",
       "      <th>High Price_btc</th>\n",
       "      <th>Low Price_btc</th>\n",
       "      <th>BTC1 Curncy - Volume</th>\n",
       "      <th>Last Price_brr</th>\n",
       "      <th>Open Price_brr</th>\n",
       "      <th>High Price_brr</th>\n",
       "      <th>Low Price_brr</th>\n",
       "      <th>price_crix</th>\n",
       "      <th>return_btc</th>\n",
       "      <th>return_brr</th>\n",
       "      <th>return_crix</th>\n",
       "    </tr>\n",
       "  </thead>\n",
       "  <tbody>\n",
       "    <tr>\n",
       "      <th>2020-09-04</th>\n",
       "      <td>10480</td>\n",
       "      <td>10730.0</td>\n",
       "      <td>10740.0</td>\n",
       "      <td>10355.0</td>\n",
       "      <td>13711.0</td>\n",
       "      <td>10273.83</td>\n",
       "      <td>10273.83</td>\n",
       "      <td>10273.83</td>\n",
       "      <td>10273.83</td>\n",
       "      <td>29614.314902</td>\n",
       "      <td>-0.022642</td>\n",
       "      <td>-0.056452</td>\n",
       "      <td>-0.109754</td>\n",
       "    </tr>\n",
       "    <tr>\n",
       "      <th>2020-09-03</th>\n",
       "      <td>10720</td>\n",
       "      <td>11710.0</td>\n",
       "      <td>11710.0</td>\n",
       "      <td>10840.0</td>\n",
       "      <td>15412.0</td>\n",
       "      <td>10870.49</td>\n",
       "      <td>10870.49</td>\n",
       "      <td>10870.49</td>\n",
       "      <td>10870.49</td>\n",
       "      <td>33049.664458</td>\n",
       "      <td>-0.066752</td>\n",
       "      <td>-0.040962</td>\n",
       "      <td>-0.046514</td>\n",
       "    </tr>\n",
       "    <tr>\n",
       "      <th>2020-09-02</th>\n",
       "      <td>11460</td>\n",
       "      <td>12405.0</td>\n",
       "      <td>12405.0</td>\n",
       "      <td>11530.0</td>\n",
       "      <td>17210.0</td>\n",
       "      <td>11325.01</td>\n",
       "      <td>11325.01</td>\n",
       "      <td>11325.01</td>\n",
       "      <td>11325.01</td>\n",
       "      <td>34623.237089</td>\n",
       "      <td>-0.052274</td>\n",
       "      <td>-0.046365</td>\n",
       "      <td>0.023061</td>\n",
       "    </tr>\n",
       "    <tr>\n",
       "      <th>2020-09-01</th>\n",
       "      <td>12075</td>\n",
       "      <td>12050.0</td>\n",
       "      <td>12450.0</td>\n",
       "      <td>12050.0</td>\n",
       "      <td>8919.0</td>\n",
       "      <td>11862.46</td>\n",
       "      <td>11862.46</td>\n",
       "      <td>11862.46</td>\n",
       "      <td>11862.46</td>\n",
       "      <td>33833.920615</td>\n",
       "      <td>0.020076</td>\n",
       "      <td>0.012073</td>\n",
       "      <td>-0.001434</td>\n",
       "    </tr>\n",
       "    <tr>\n",
       "      <th>2020-08-31</th>\n",
       "      <td>11835</td>\n",
       "      <td>11735.0</td>\n",
       "      <td>11915.0</td>\n",
       "      <td>11705.0</td>\n",
       "      <td>4865.0</td>\n",
       "      <td>11720.10</td>\n",
       "      <td>11720.10</td>\n",
       "      <td>11720.10</td>\n",
       "      <td>11720.10</td>\n",
       "      <td>33882.473739</td>\n",
       "      <td>0.017473</td>\n",
       "      <td>0.023398</td>\n",
       "      <td>0.033484</td>\n",
       "    </tr>\n",
       "  </tbody>\n",
       "</table>\n",
       "</div>"
      ],
      "text/plain": [
       "            Last Price_btc  Open Price_btc  High Price_btc  Low Price_btc  \\\n",
       "2020-09-04           10480         10730.0         10740.0        10355.0   \n",
       "2020-09-03           10720         11710.0         11710.0        10840.0   \n",
       "2020-09-02           11460         12405.0         12405.0        11530.0   \n",
       "2020-09-01           12075         12050.0         12450.0        12050.0   \n",
       "2020-08-31           11835         11735.0         11915.0        11705.0   \n",
       "\n",
       "            BTC1 Curncy - Volume  Last Price_brr  Open Price_brr  \\\n",
       "2020-09-04               13711.0        10273.83        10273.83   \n",
       "2020-09-03               15412.0        10870.49        10870.49   \n",
       "2020-09-02               17210.0        11325.01        11325.01   \n",
       "2020-09-01                8919.0        11862.46        11862.46   \n",
       "2020-08-31                4865.0        11720.10        11720.10   \n",
       "\n",
       "            High Price_brr  Low Price_brr    price_crix  return_btc  \\\n",
       "2020-09-04        10273.83       10273.83  29614.314902   -0.022642   \n",
       "2020-09-03        10870.49       10870.49  33049.664458   -0.066752   \n",
       "2020-09-02        11325.01       11325.01  34623.237089   -0.052274   \n",
       "2020-09-01        11862.46       11862.46  33833.920615    0.020076   \n",
       "2020-08-31        11720.10       11720.10  33882.473739    0.017473   \n",
       "\n",
       "            return_brr  return_crix  \n",
       "2020-09-04   -0.056452    -0.109754  \n",
       "2020-09-03   -0.040962    -0.046514  \n",
       "2020-09-02   -0.046365     0.023061  \n",
       "2020-09-01    0.012073    -0.001434  \n",
       "2020-08-31    0.023398     0.033484  "
      ]
     },
     "execution_count": 13,
     "metadata": {},
     "output_type": "execute_result"
    }
   ],
   "source": [
    "data.head()"
   ]
  },
  {
   "cell_type": "code",
   "execution_count": 14,
   "metadata": {},
   "outputs": [],
   "source": [
    "data.dropna(inplace=True)"
   ]
  },
  {
   "cell_type": "code",
   "execution_count": 15,
   "metadata": {},
   "outputs": [
    {
     "data": {
      "text/plain": [
       "array([[1.        , 0.78828599],\n",
       "       [0.78828599, 1.        ]])"
      ]
     },
     "execution_count": 15,
     "metadata": {},
     "output_type": "execute_result"
    }
   ],
   "source": [
    "np.corrcoef(data['return_brr'], data['return_btc'])"
   ]
  },
  {
   "cell_type": "code",
   "execution_count": 16,
   "metadata": {},
   "outputs": [
    {
     "data": {
      "text/plain": [
       "array([[1.        , 0.54782409],\n",
       "       [0.54782409, 1.        ]])"
      ]
     },
     "execution_count": 16,
     "metadata": {},
     "output_type": "execute_result"
    }
   ],
   "source": [
    "np.corrcoef(data['return_brr'], data['return_crix'])"
   ]
  },
  {
   "cell_type": "code",
   "execution_count": 17,
   "metadata": {},
   "outputs": [
    {
     "data": {
      "text/plain": [
       "array([[1.        , 0.28688812],\n",
       "       [0.28688812, 1.        ]])"
      ]
     },
     "execution_count": 17,
     "metadata": {},
     "output_type": "execute_result"
    }
   ],
   "source": [
    "np.corrcoef(data['return_btc'], data['return_crix'])"
   ]
  },
  {
   "cell_type": "code",
   "execution_count": 18,
   "metadata": {},
   "outputs": [
    {
     "data": {
      "text/plain": [
       "<seaborn.axisgrid.JointGrid at 0x7fabc9bf71d0>"
      ]
     },
     "execution_count": 18,
     "metadata": {},
     "output_type": "execute_result"
    },
    {
     "data": {
      "image/png": "[encoded data removed]",
      "text/plain": [
       "<Figure size 432x432 with 3 Axes>"
      ]
     },
     "metadata": {
      "needs_background": "light"
     },
     "output_type": "display_data"
    }
   ],
   "source": [
    "sns.jointplot(data=data, x=\"return_btc\", y=\"return_crix\")\n"
   ]
  },
  {
   "cell_type": "code",
   "execution_count": 19,
   "metadata": {},
   "outputs": [
    {
     "data": {
      "text/plain": [
       "<seaborn.axisgrid.PairGrid at 0x7fabccb9a4d0>"
      ]
     },
     "execution_count": 19,
     "metadata": {},
     "output_type": "execute_result"
    },
    {
     "data": {
      "image/png": "[encoded data removed]",
      "text/plain": [
       "<Figure size 540x540 with 12 Axes>"
      ]
     },
     "metadata": {
      "needs_background": "light"
     },
     "output_type": "display_data"
    }
   ],
   "source": [
    "sns.pairplot(data.iloc[:,-3:])"
   ]
  },
  {
   "cell_type": "code",
   "execution_count": 24,
   "metadata": {},
   "outputs": [
    {
     "data": {
      "text/plain": [
       "<seaborn.axisgrid.PairGrid at 0x7fabcea86dd0>"
      ]
     },
     "execution_count": 24,
     "metadata": {},
     "output_type": "execute_result"
    },
    {
     "data": {
      "image/png": "[encoded data removed]",
      "text/plain": [
       "<Figure size 360x360 with 6 Axes>"
      ]
     },
     "metadata": {
      "needs_background": "light"
     },
     "output_type": "display_data"
    }
   ],
   "source": [
    "sns.pairplot(data.iloc[:,-2:])"
   ]
  },
  {
   "cell_type": "code",
   "execution_count": null,
   "metadata": {},
   "outputs": [],
   "source": [
    "hist_brr = np.histogram(data, bins=100)\n",
    "hist_dist_brr = scipy.stats.rv_histogram(hist)"
   ]
  },
  {
   "cell_type": "code",
   "execution_count": 46,
   "metadata": {},
   "outputs": [
    {
     "data": {
      "text/html": [
       "<div>\n",
       "<style scoped>\n",
       "    .dataframe tbody tr th:only-of-type {\n",
       "        vertical-align: middle;\n",
       "    }\n",
       "\n",
       "    .dataframe tbody tr th {\n",
       "        vertical-align: top;\n",
       "    }\n",
       "\n",
       "    .dataframe thead th {\n",
       "        text-align: right;\n",
       "    }\n",
       "</style>\n",
       "<table border=\"1\" class=\"dataframe\">\n",
       "  <thead>\n",
       "    <tr style=\"text-align: right;\">\n",
       "      <th></th>\n",
       "      <th>return_btc</th>\n",
       "      <th>return_brr</th>\n",
       "      <th>return_crix</th>\n",
       "    </tr>\n",
       "  </thead>\n",
       "  <tbody>\n",
       "    <tr>\n",
       "      <th>2020-09-04</th>\n",
       "      <td>-0.022642</td>\n",
       "      <td>-0.056452</td>\n",
       "      <td>-0.109754</td>\n",
       "    </tr>\n",
       "    <tr>\n",
       "      <th>2020-09-03</th>\n",
       "      <td>-0.066752</td>\n",
       "      <td>-0.040962</td>\n",
       "      <td>-0.046514</td>\n",
       "    </tr>\n",
       "    <tr>\n",
       "      <th>2020-09-02</th>\n",
       "      <td>-0.052274</td>\n",
       "      <td>-0.046365</td>\n",
       "      <td>0.023061</td>\n",
       "    </tr>\n",
       "    <tr>\n",
       "      <th>2020-09-01</th>\n",
       "      <td>0.020076</td>\n",
       "      <td>0.012073</td>\n",
       "      <td>-0.001434</td>\n",
       "    </tr>\n",
       "    <tr>\n",
       "      <th>2020-08-31</th>\n",
       "      <td>0.017473</td>\n",
       "      <td>0.023398</td>\n",
       "      <td>0.033484</td>\n",
       "    </tr>\n",
       "  </tbody>\n",
       "</table>\n",
       "</div>"
      ],
      "text/plain": [
       "            return_btc  return_brr  return_crix\n",
       "2020-09-04   -0.022642   -0.056452    -0.109754\n",
       "2020-09-03   -0.066752   -0.040962    -0.046514\n",
       "2020-09-02   -0.052274   -0.046365     0.023061\n",
       "2020-09-01    0.020076    0.012073    -0.001434\n",
       "2020-08-31    0.017473    0.023398     0.033484"
      ]
     },
     "execution_count": 46,
     "metadata": {},
     "output_type": "execute_result"
    }
   ],
   "source": [
    "data = data.iloc[:,-3:]\n",
    "data.head()"
   ]
  },
  {
   "cell_type": "code",
   "execution_count": 82,
   "metadata": {},
   "outputs": [
    {
     "name": "stderr",
     "output_type": "stream",
     "text": [
      "/Users/francis/opt/anaconda3/lib/python3.7/site-packages/pandas/plotting/_converter.py:129: FutureWarning: Using an implicitly registered datetime converter for a matplotlib plotting method. The converter was registered by pandas on import. Future versions of pandas will require you to explicitly register matplotlib converters.\n",
      "\n",
      "To register the converters:\n",
      "\t>>> from pandas.plotting import register_matplotlib_converters\n",
      "\t>>> register_matplotlib_converters()\n",
      "  warnings.warn(msg, FutureWarning)\n"
     ]
    },
    {
     "data": {
      "text/plain": [
       "[<matplotlib.lines.Line2D at 0x7ff6824d1f50>]"
      ]
     },
     "execution_count": 82,
     "metadata": {},
     "output_type": "execute_result"
    },
    {
     "data": {
      "image/png": "[encoded data removed]",
      "text/plain": [
       "<Figure size 1080x432 with 1 Axes>"
      ]
     },
     "metadata": {
      "needs_background": "light"
     },
     "output_type": "display_data"
    }
   ],
   "source": [
    "tau_arr = []\n",
    "p_arr = []\n",
    "window_size = 35\n",
    "for t in range(len(data)-window_size):\n",
    "    tau = stats.kendalltau(data.iloc[1+t:1+t+window_size,0],\n",
    "                           data.iloc[1+t:1+t+window_size,1])\n",
    "    tau_arr.append(tau[0])\n",
    "    p_arr.append(tau[1])\n",
    "\n",
    "plt.figure(figsize=(15,6)) \n",
    "plt.title('Tau in Different Time (Rolling Window Size=%s)'%window_size)\n",
    "plt.plot(data.iloc[window_size:t+window_size+1,:].index,tau_arr)"
   ]
  },
  {
   "cell_type": "code",
   "execution_count": 89,
   "metadata": {},
   "outputs": [
    {
     "data": {
      "text/plain": [
       "<matplotlib.collections.PathCollection at 0x7ff682baa6d0>"
      ]
     },
     "execution_count": 89,
     "metadata": {},
     "output_type": "execute_result"
    },
    {
     "data": {
      "image/png": "[encoded data removed]",
      "text/plain": [
       "<Figure size 432x288 with 1 Axes>"
      ]
     },
     "metadata": {
      "needs_background": "light"
     },
     "output_type": "display_data"
    }
   ],
   "source": [
    "x = data.iloc[window_size:30+window_size+1,:].index\n",
    "plt.scatter(x, np.ones(len(x)))"
   ]
  },
  {
   "cell_type": "markdown",
   "metadata": {},
   "source": [
    "BTC Future btc\n",
    "BTC Price  brr stands for bitcoin reference rate\n",
    "\n",
    "Pairs (Cryptos) \n",
    "Short Crix Long BTC future (money making part)\n",
    "Short BTC future Long Bitcoin \n",
    "\n",
    "Pairs (Traditional)\n",
    "Short S&P 500 Future Long S&P 500\n",
    "Short Germany Reference Bond Long 5Yrs CDS Germany\n",
    "\n",
    "\n",
    "What I need is:\n",
    "1. Marginals (type of distribution e.g. t-distribution, and their parameters)\n",
    "2. Copula (type e.g. Frank, and their parameters theta)\n",
    "3. Metadata (e.g. starting day - end day? What kind of return? Log return or arithmetic return? or geometric?) \n",
    "\n",
    "I suggest we stick with log return $\\text{log return} = \\log\\left(\\frac{P_{t+1}}{P_{t}}\\right)$\n",
    "\n",
    "Output from Francis:\n",
    "1. The distribution of the hedge portfolio with different $\\chi$\n"
   ]
  }
 ],
 "metadata": {
  "kernelspec": {
   "display_name": "Python 3",
   "language": "python",
   "name": "python3"
  },
  "language_info": {
   "codemirror_mode": {
    "name": "ipython",
    "version": 3
   },
   "file_extension": ".py",
   "mimetype": "text/x-python",
   "name": "python",
   "nbconvert_exporter": "python",
   "pygments_lexer": "ipython3",
   "version": "3.7.4"
  },
  "toc": {
   "base_numbering": 1,
   "nav_menu": {},
   "number_sections": true,
   "sideBar": true,
   "skip_h1_title": false,
   "title_cell": "Table of Contents",
   "title_sidebar": "Contents",
   "toc_cell": false,
   "toc_position": {},
   "toc_section_display": true,
   "toc_window_display": false
  }
 },
 "nbformat": 4,
 "nbformat_minor": 4
}
