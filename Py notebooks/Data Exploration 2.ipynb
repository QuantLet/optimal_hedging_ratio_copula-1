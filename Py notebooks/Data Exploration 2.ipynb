{
 "cells": [
  {
   "cell_type": "code",
   "execution_count": 1,
   "metadata": {},
   "outputs": [],
   "source": [
    "import pandas as pd\n",
    "import numpy as np\n",
    "from scipy import stats\n",
    "import requests\n",
    "import matplotlib.pyplot as plt\n",
    "import seaborn as sns\n",
    "from statsmodels.distributions.empirical_distribution import ECDF\n",
    "from functools import partial"
   ]
  },
  {
   "cell_type": "markdown",
   "metadata": {},
   "source": [
    "# Data Exploration\n",
    "This notebook is created for visulalising the data and try out different ways to fit copula.\n",
    "\n",
    "\n",
    "## Data\n",
    "Three datasets. \n",
    "1. Bitcoin Future from CME\n",
    "    - Downloaded from Bloomberg\n",
    "    - From 2017-12-15 to 2020-09-04\n",
    "    - Consist of BTCU0, BTCM0, BTCH0, BTCZ9, BTCU19, BTCM19, BTCH19, BTCZ18, and BTCU18. \n",
    "    - OHLC and volume data\n",
    "    - Daily data\n",
    "\n",
    "2. BRR \n",
    "    - BRR is the reference rate of Bitcoin used by the Bitcoin future\n",
    "    - Same period of time of Bitcoin future\n",
    "    - Also from Bloomberg\n",
    "    \n",
    "3. CRIX\n",
    "    - Download from CRIX http://data.thecrix.de/data/crix.json\n",
    "    - Daily data\n",
    "    - from 2014-07-31 to 2020-09-14\n",
    "    - Weights of constituents change across time; Dataset does not include this;\n",
    "\n",
    "\n",
    "## Using Scipy.stats.kendalltau\n",
    "Using scipy is the easiest way to get kendall's tau. (https://docs.scipy.org/doc/scipy-0.15.1/reference/generated/scipy.stats.kendalltau.html)\n",
    "\n",
    "According to the documentation of Scipy, the function return the 1945 \"tau-b\" version of Kendall's tau. "
   ]
  },
  {
   "cell_type": "code",
   "execution_count": 53,
   "metadata": {},
   "outputs": [
    {
     "data": {
      "text/html": [
       "<div>\n",
       "<style scoped>\n",
       "    .dataframe tbody tr th:only-of-type {\n",
       "        vertical-align: middle;\n",
       "    }\n",
       "\n",
       "    .dataframe tbody tr th {\n",
       "        vertical-align: top;\n",
       "    }\n",
       "\n",
       "    .dataframe thead th {\n",
       "        text-align: right;\n",
       "    }\n",
       "</style>\n",
       "<table border=\"1\" class=\"dataframe\">\n",
       "  <thead>\n",
       "    <tr style=\"text-align: right;\">\n",
       "      <th></th>\n",
       "      <th>Date</th>\n",
       "      <th>Last Price</th>\n",
       "      <th>Open Price</th>\n",
       "      <th>High Price</th>\n",
       "      <th>Low Price</th>\n",
       "      <th>BTC1 Curncy - Volume</th>\n",
       "    </tr>\n",
       "  </thead>\n",
       "  <tbody>\n",
       "    <tr>\n",
       "      <th>0</th>\n",
       "      <td>2020-09-04</td>\n",
       "      <td>10480</td>\n",
       "      <td>10730.0</td>\n",
       "      <td>10740.0</td>\n",
       "      <td>10355.0</td>\n",
       "      <td>13711.0</td>\n",
       "    </tr>\n",
       "    <tr>\n",
       "      <th>1</th>\n",
       "      <td>2020-09-03</td>\n",
       "      <td>10720</td>\n",
       "      <td>11710.0</td>\n",
       "      <td>11710.0</td>\n",
       "      <td>10840.0</td>\n",
       "      <td>15412.0</td>\n",
       "    </tr>\n",
       "    <tr>\n",
       "      <th>2</th>\n",
       "      <td>2020-09-02</td>\n",
       "      <td>11460</td>\n",
       "      <td>12405.0</td>\n",
       "      <td>12405.0</td>\n",
       "      <td>11530.0</td>\n",
       "      <td>17210.0</td>\n",
       "    </tr>\n",
       "    <tr>\n",
       "      <th>3</th>\n",
       "      <td>2020-09-01</td>\n",
       "      <td>12075</td>\n",
       "      <td>12050.0</td>\n",
       "      <td>12450.0</td>\n",
       "      <td>12050.0</td>\n",
       "      <td>8919.0</td>\n",
       "    </tr>\n",
       "    <tr>\n",
       "      <th>4</th>\n",
       "      <td>2020-08-31</td>\n",
       "      <td>11835</td>\n",
       "      <td>11735.0</td>\n",
       "      <td>11915.0</td>\n",
       "      <td>11705.0</td>\n",
       "      <td>4865.0</td>\n",
       "    </tr>\n",
       "  </tbody>\n",
       "</table>\n",
       "</div>"
      ],
      "text/plain": [
       "        Date  Last Price  Open Price  High Price  Low Price  \\\n",
       "0 2020-09-04       10480     10730.0     10740.0    10355.0   \n",
       "1 2020-09-03       10720     11710.0     11710.0    10840.0   \n",
       "2 2020-09-02       11460     12405.0     12405.0    11530.0   \n",
       "3 2020-09-01       12075     12050.0     12450.0    12050.0   \n",
       "4 2020-08-31       11835     11735.0     11915.0    11705.0   \n",
       "\n",
       "   BTC1 Curncy - Volume  \n",
       "0               13711.0  \n",
       "1               15412.0  \n",
       "2               17210.0  \n",
       "3                8919.0  \n",
       "4                4865.0  "
      ]
     },
     "execution_count": 53,
     "metadata": {},
     "output_type": "execute_result"
    }
   ],
   "source": [
    "future = pd.read_excel(\"../data/Crypto related/BTC CME Future.xlsx\")\n",
    "future.head()"
   ]
  },
  {
   "cell_type": "code",
   "execution_count": 87,
   "metadata": {},
   "outputs": [],
   "source": [
    "future.loc[:,'Date'] = pd.to_datetime(future.loc[:,'Date'])\n",
    "future = future.loc[:,['Date','Last Price']]\n",
    "# future.loc[:-1,'log return'] = np.log(future.loc[:,'Last Price'].values[:-1]/future.loc[:,'Last Price'].values[1:])\n",
    "future.loc[:,'log return'] = np.zeros(len(future))\n",
    "future.loc[:,'log return'] = np.log(future.loc[:,'Last Price']/future.loc[:,'Last Price'].shift(-1))\n",
    "future.loc[1:,'log return'] = np.log(future.loc[:,'Last Price'].values[1:]/future.loc[:,'Last Price'].values[:-1])\n",
    "f = future.loc[:,['Date', 'log return']]"
   ]
  },
  {
   "cell_type": "code",
   "execution_count": 84,
   "metadata": {},
   "outputs": [
    {
     "data": {
      "text/html": [
       "<div>\n",
       "<style scoped>\n",
       "    .dataframe tbody tr th:only-of-type {\n",
       "        vertical-align: middle;\n",
       "    }\n",
       "\n",
       "    .dataframe tbody tr th {\n",
       "        vertical-align: top;\n",
       "    }\n",
       "\n",
       "    .dataframe thead th {\n",
       "        text-align: right;\n",
       "    }\n",
       "</style>\n",
       "<table border=\"1\" class=\"dataframe\">\n",
       "  <thead>\n",
       "    <tr style=\"text-align: right;\">\n",
       "      <th></th>\n",
       "      <th>Date</th>\n",
       "      <th>Last Price</th>\n",
       "      <th>Open Price</th>\n",
       "      <th>High Price</th>\n",
       "      <th>Low Price</th>\n",
       "      <th>BRR Index - Volume</th>\n",
       "      <th>log return</th>\n",
       "    </tr>\n",
       "  </thead>\n",
       "  <tbody>\n",
       "    <tr>\n",
       "      <th>0</th>\n",
       "      <td>2020-09-04</td>\n",
       "      <td>10273.83</td>\n",
       "      <td>10273.83</td>\n",
       "      <td>10273.83</td>\n",
       "      <td>10273.83</td>\n",
       "      <td>NaN</td>\n",
       "      <td>-0.056452</td>\n",
       "    </tr>\n",
       "    <tr>\n",
       "      <th>1</th>\n",
       "      <td>2020-09-03</td>\n",
       "      <td>10870.49</td>\n",
       "      <td>10870.49</td>\n",
       "      <td>10870.49</td>\n",
       "      <td>10870.49</td>\n",
       "      <td>NaN</td>\n",
       "      <td>-0.040962</td>\n",
       "    </tr>\n",
       "    <tr>\n",
       "      <th>2</th>\n",
       "      <td>2020-09-02</td>\n",
       "      <td>11325.01</td>\n",
       "      <td>11325.01</td>\n",
       "      <td>11325.01</td>\n",
       "      <td>11325.01</td>\n",
       "      <td>NaN</td>\n",
       "      <td>-0.046365</td>\n",
       "    </tr>\n",
       "    <tr>\n",
       "      <th>3</th>\n",
       "      <td>2020-09-01</td>\n",
       "      <td>11862.46</td>\n",
       "      <td>11862.46</td>\n",
       "      <td>11862.46</td>\n",
       "      <td>11862.46</td>\n",
       "      <td>NaN</td>\n",
       "      <td>0.012073</td>\n",
       "    </tr>\n",
       "    <tr>\n",
       "      <th>4</th>\n",
       "      <td>2020-08-31</td>\n",
       "      <td>11720.10</td>\n",
       "      <td>11720.10</td>\n",
       "      <td>11720.10</td>\n",
       "      <td>11720.10</td>\n",
       "      <td>NaN</td>\n",
       "      <td>0.008895</td>\n",
       "    </tr>\n",
       "  </tbody>\n",
       "</table>\n",
       "</div>"
      ],
      "text/plain": [
       "        Date  Last Price  Open Price  High Price  Low Price  \\\n",
       "0 2020-09-04    10273.83    10273.83    10273.83   10273.83   \n",
       "1 2020-09-03    10870.49    10870.49    10870.49   10870.49   \n",
       "2 2020-09-02    11325.01    11325.01    11325.01   11325.01   \n",
       "3 2020-09-01    11862.46    11862.46    11862.46   11862.46   \n",
       "4 2020-08-31    11720.10    11720.10    11720.10   11720.10   \n",
       "\n",
       "   BRR Index - Volume  log return  \n",
       "0                 NaN   -0.056452  \n",
       "1                 NaN   -0.040962  \n",
       "2                 NaN   -0.046365  \n",
       "3                 NaN    0.012073  \n",
       "4                 NaN    0.008895  "
      ]
     },
     "execution_count": 84,
     "metadata": {},
     "output_type": "execute_result"
    }
   ],
   "source": [
    "brr.head()"
   ]
  },
  {
   "cell_type": "code",
   "execution_count": 89,
   "metadata": {},
   "outputs": [
    {
     "data": {
      "text/html": [
       "<div>\n",
       "<style scoped>\n",
       "    .dataframe tbody tr th:only-of-type {\n",
       "        vertical-align: middle;\n",
       "    }\n",
       "\n",
       "    .dataframe tbody tr th {\n",
       "        vertical-align: top;\n",
       "    }\n",
       "\n",
       "    .dataframe thead th {\n",
       "        text-align: right;\n",
       "    }\n",
       "</style>\n",
       "<table border=\"1\" class=\"dataframe\">\n",
       "  <thead>\n",
       "    <tr style=\"text-align: right;\">\n",
       "      <th></th>\n",
       "      <th>Date</th>\n",
       "      <th>Last Price</th>\n",
       "      <th>Open Price</th>\n",
       "      <th>High Price</th>\n",
       "      <th>Low Price</th>\n",
       "      <th>BRR Index - Volume</th>\n",
       "      <th>log return brr</th>\n",
       "      <th>log return future</th>\n",
       "    </tr>\n",
       "  </thead>\n",
       "  <tbody>\n",
       "    <tr>\n",
       "      <th>0</th>\n",
       "      <td>2020-09-04</td>\n",
       "      <td>10273.83</td>\n",
       "      <td>10273.83</td>\n",
       "      <td>10273.83</td>\n",
       "      <td>10273.83</td>\n",
       "      <td>NaN</td>\n",
       "      <td>-0.056452</td>\n",
       "      <td>-0.022642</td>\n",
       "    </tr>\n",
       "    <tr>\n",
       "      <th>1</th>\n",
       "      <td>2020-09-03</td>\n",
       "      <td>10870.49</td>\n",
       "      <td>10870.49</td>\n",
       "      <td>10870.49</td>\n",
       "      <td>10870.49</td>\n",
       "      <td>NaN</td>\n",
       "      <td>-0.040962</td>\n",
       "      <td>0.022642</td>\n",
       "    </tr>\n",
       "    <tr>\n",
       "      <th>2</th>\n",
       "      <td>2020-09-02</td>\n",
       "      <td>11325.01</td>\n",
       "      <td>11325.01</td>\n",
       "      <td>11325.01</td>\n",
       "      <td>11325.01</td>\n",
       "      <td>NaN</td>\n",
       "      <td>-0.046365</td>\n",
       "      <td>0.066752</td>\n",
       "    </tr>\n",
       "    <tr>\n",
       "      <th>3</th>\n",
       "      <td>2020-09-01</td>\n",
       "      <td>11862.46</td>\n",
       "      <td>11862.46</td>\n",
       "      <td>11862.46</td>\n",
       "      <td>11862.46</td>\n",
       "      <td>NaN</td>\n",
       "      <td>0.012073</td>\n",
       "      <td>0.052274</td>\n",
       "    </tr>\n",
       "    <tr>\n",
       "      <th>4</th>\n",
       "      <td>2020-08-31</td>\n",
       "      <td>11720.10</td>\n",
       "      <td>11720.10</td>\n",
       "      <td>11720.10</td>\n",
       "      <td>11720.10</td>\n",
       "      <td>NaN</td>\n",
       "      <td>0.008895</td>\n",
       "      <td>-0.020076</td>\n",
       "    </tr>\n",
       "  </tbody>\n",
       "</table>\n",
       "</div>"
      ],
      "text/plain": [
       "        Date  Last Price  Open Price  High Price  Low Price  \\\n",
       "0 2020-09-04    10273.83    10273.83    10273.83   10273.83   \n",
       "1 2020-09-03    10870.49    10870.49    10870.49   10870.49   \n",
       "2 2020-09-02    11325.01    11325.01    11325.01   11325.01   \n",
       "3 2020-09-01    11862.46    11862.46    11862.46   11862.46   \n",
       "4 2020-08-31    11720.10    11720.10    11720.10   11720.10   \n",
       "\n",
       "   BRR Index - Volume  log return brr  log return future  \n",
       "0                 NaN       -0.056452          -0.022642  \n",
       "1                 NaN       -0.040962           0.022642  \n",
       "2                 NaN       -0.046365           0.066752  \n",
       "3                 NaN        0.012073           0.052274  \n",
       "4                 NaN        0.008895          -0.020076  "
      ]
     },
     "execution_count": 89,
     "metadata": {},
     "output_type": "execute_result"
    }
   ],
   "source": [
    "brr = pd.read_excel(\"../data/Crypto related/BRR index.xlsx\")\n",
    "brr.loc[:,'Date'] = pd.to_datetime(brr.loc[:,'Date'])\n",
    "brr.loc[:,'log return'] = np.log(brr.loc[:,'Last Price']/brr.loc[:,'Last Price'].shift(-1))\n",
    "brr_future = pd.merge(left=brr, right=f, how='inner', left_on='Date', right_on='Date', suffixes=(' brr',' future'))\n",
    "brr_future.head()"
   ]
  },
  {
   "cell_type": "code",
   "execution_count": 91,
   "metadata": {},
   "outputs": [
    {
     "data": {
      "text/plain": [
       "<seaborn.axisgrid.JointGrid at 0x7fa0c68f0d90>"
      ]
     },
     "execution_count": 91,
     "metadata": {},
     "output_type": "execute_result"
    },
    {
     "data": {
      "image/png": "[encoded data removed]",
      "text/plain": [
       "<Figure size 432x432 with 3 Axes>"
      ]
     },
     "metadata": {
      "needs_background": "light"
     },
     "output_type": "display_data"
    },
    {
     "data": {
      "image/png": "[encoded data removed]",
      "text/plain": [
       "<Figure size 432x432 with 3 Axes>"
      ]
     },
     "metadata": {
      "needs_background": "light"
     },
     "output_type": "display_data"
    }
   ],
   "source": [
    "sns.jointplot(data=brr_future, x=\"log return brr\", y=\"log return future\", kind='kde')\n",
    "sns.jointplot(data=brr_future, x=\"log return brr\", y=\"log return future\")"
   ]
  },
  {
   "cell_type": "code",
   "execution_count": 93,
   "metadata": {},
   "outputs": [],
   "source": [
    "tau = stats.kendalltau(brr_future.iloc[1:,-1],brr_future.iloc[1:,-2])"
   ]
  },
  {
   "cell_type": "code",
   "execution_count": 22,
   "metadata": {},
   "outputs": [
    {
     "data": {
      "text/plain": [
       "Text(0.5, 1.0, 'Bitcoin Future Log Return CDFs')"
      ]
     },
     "execution_count": 22,
     "metadata": {},
     "output_type": "execute_result"
    },
    {
     "data": {
      "image/png": "[encoded data removed]",
      "text/plain": [
       "<Figure size 576x432 with 1 Axes>"
      ]
     },
     "metadata": {
      "needs_background": "light"
     },
     "output_type": "display_data"
    }
   ],
   "source": [
    "f_df, f_loc, f_scale = stats.t.fit(brr.iloc[1:,-1])\n",
    "x = np.linspace(-1,1,100)\n",
    "y = stats.t(loc=f_loc, scale=f_scale, df=f_df).cdf(x)\n",
    "ecdf_f = ECDF(brr.iloc[1:,-1])\n",
    "plt.figure(figsize=(8,6))\n",
    "plt.plot(x,y, label='best fit t')\n",
    "plt.plot(x, ecdf_f(x), label='empirical')\n",
    "plt.legend()\n",
    "plt.title(\"Bitcoin Future Log Return CDFs\")"
   ]
  },
  {
   "cell_type": "code",
   "execution_count": 21,
   "metadata": {},
   "outputs": [
    {
     "data": {
      "text/plain": [
       "Text(0.5, 1.0, 'BRR Log Return CDFs')"
      ]
     },
     "execution_count": 21,
     "metadata": {},
     "output_type": "execute_result"
    },
    {
     "data": {
      "image/png": "[encoded data removed]",
      "text/plain": [
       "<Figure size 576x432 with 1 Axes>"
      ]
     },
     "metadata": {
      "needs_background": "light"
     },
     "output_type": "display_data"
    }
   ],
   "source": [
    "b_df, b_loc, b_scale = stats.t.fit(brr_future.iloc[1:,-2])\n",
    "x = np.linspace(-1,1,100)\n",
    "y = stats.t(loc=b_loc, scale=b_scale, df=b_df).cdf(x)\n",
    "ecdf_b = ECDF(brr_future.iloc[1:,-2])\n",
    "plt.figure(figsize=(8,6))\n",
    "plt.plot(x,y, label='best fit t')\n",
    "plt.plot(x, ecdf_b(x), label='empirical')\n",
    "plt.legend()\n",
    "plt.title(\"BRR Log Return CDFs\")"
   ]
  },
  {
   "cell_type": "code",
   "execution_count": 25,
   "metadata": {},
   "outputs": [
    {
     "data": {
      "text/plain": [
       "<seaborn.axisgrid.JointGrid at 0x7fa0e2e8e990>"
      ]
     },
     "execution_count": 25,
     "metadata": {},
     "output_type": "execute_result"
    },
    {
     "data": {
      "image/png": "[encoded data removed]",
      "text/plain": [
       "<Figure size 432x432 with 3 Axes>"
      ]
     },
     "metadata": {
      "needs_background": "light"
     },
     "output_type": "display_data"
    }
   ],
   "source": [
    "future_t = stats.t(loc=f_loc, scale=f_scale, df=f_df)\n",
    "brr_t   = stats.t(loc=b_loc, scale=b_scale, df=b_df)\n",
    "x = future_t.cdf(brr_future.iloc[1:,-1])\n",
    "y = brr_t.cdf(brr_future.iloc[1:,-2])\n",
    "toplot = pd.DataFrame([x,y]).T\n",
    "toplot.columns = ['future_p', 'brr_p']\n",
    "sns.jointplot(data=toplot, x='future_p', y='brr_p')"
   ]
  },
  {
   "cell_type": "code",
   "execution_count": 26,
   "metadata": {},
   "outputs": [],
   "source": [
    "def copula_density_Clayton(u, v, theta):\n",
    "    A = (1+theta)\n",
    "    B = (u*v)**(-1-theta)\n",
    "    C = (-1+(u**-theta)+(v**-theta))**(-2-(1/theta))\n",
    "    return np.nan_to_num(A*B*C)\n",
    "\n",
    "def f_Z_2(y1, nS, nF, Law_RS, Law_RF, theta):\n",
    "    N = 100000\n",
    "    u2 = np.linspace(0,1,N)\n",
    "    a = (y1-nF*Law_RF.ppf(u2))/nS\n",
    "    A = copula_density_Clayton(Law_RS.cdf(a), u2, theta)\n",
    "    B = Law_RS.pdf(a)\n",
    "    m = A*B\n",
    "    return np.sum(((m[1:]+m[:-1])*1/N)/2)/np.abs(nS)"
   ]
  },
  {
   "cell_type": "code",
   "execution_count": 27,
   "metadata": {
    "scrolled": true
   },
   "outputs": [
    {
     "name": "stderr",
     "output_type": "stream",
     "text": [
      "/Users/francis/opt/anaconda3/lib/python3.7/site-packages/ipykernel_launcher.py:3: RuntimeWarning: divide by zero encountered in power\n",
      "  This is separate from the ipykernel package so we can avoid doing imports until\n",
      "/Users/francis/opt/anaconda3/lib/python3.7/site-packages/ipykernel_launcher.py:4: RuntimeWarning: divide by zero encountered in power\n",
      "  after removing the cwd from sys.path.\n",
      "/Users/francis/opt/anaconda3/lib/python3.7/site-packages/ipykernel_launcher.py:5: RuntimeWarning: invalid value encountered in multiply\n",
      "  \"\"\"\n"
     ]
    },
    {
     "name": "stdout",
     "output_type": "stream",
     "text": [
      "-0.9\n",
      "-0.95\n",
      "-1\n",
      "-1.05\n",
      "-1.1\n"
     ]
    }
   ],
   "source": [
    "nS = 1\n",
    "nF_arr = [-0.90,-0.95, -1, -1.05,-1.10]\n",
    "Law_RS = brr_t\n",
    "Law_RF = future_t\n",
    "ny = 100\n",
    "y1 = np.linspace(-1,1,ny)\n",
    "\n",
    "crix_future_result= []\n",
    "\n",
    "for nF in nF_arr:\n",
    "    theta  = 2*tau[0]/(1-tau[0])\n",
    "    fn = partial(f_Z_2, nS=nS, nF=nF, Law_RS= Law_RS, Law_RF=Law_RF, theta=theta)\n",
    "    v_fn = np.vectorize(fn)\n",
    "    RH_density = v_fn(y1) \n",
    "    crix_future_result.append(RH_density)\n",
    "    print(nF)"
   ]
  },
  {
   "cell_type": "code",
   "execution_count": 42,
   "metadata": {},
   "outputs": [
    {
     "data": {
      "text/plain": [
       "<matplotlib.legend.Legend at 0x7fa0c53b2050>"
      ]
     },
     "execution_count": 42,
     "metadata": {},
     "output_type": "execute_result"
    },
    {
     "data": {
      "image/png": "[encoded data removed]",
      "text/plain": [
       "<Figure size 720x432 with 1 Axes>"
      ]
     },
     "metadata": {
      "needs_background": "light"
     },
     "output_type": "display_data"
    }
   ],
   "source": [
    "plt.figure(figsize=(10,6))\n",
    "plt.title('Density of RH in Different nF')\n",
    "for i, nF in enumerate(nF_arr):\n",
    "    plt.plot(y1, crix_future_result[i], label='nF = %s'%nF)\n",
    "plt.plot(y1, Law_RS.pdf(y1), label='nF = 0')\n",
    "plt.legend()"
   ]
  },
  {
   "cell_type": "code",
   "execution_count": 44,
   "metadata": {},
   "outputs": [],
   "source": [
    "r = requests.get('http://data.thecrix.de/data/crix.json')\n",
    "crix = pd.DataFrame(r.json())\n",
    "crix.loc[:,'date'] = pd.to_datetime(crix.loc[:,'date'])\n",
    "crix.loc[1:,'log return'] = np.log(crix.price.values[1:]/crix.price.values[:-1])"
   ]
  },
  {
   "cell_type": "code",
   "execution_count": 45,
   "metadata": {},
   "outputs": [
    {
     "data": {
      "text/html": [
       "<div>\n",
       "<style scoped>\n",
       "    .dataframe tbody tr th:only-of-type {\n",
       "        vertical-align: middle;\n",
       "    }\n",
       "\n",
       "    .dataframe tbody tr th {\n",
       "        vertical-align: top;\n",
       "    }\n",
       "\n",
       "    .dataframe thead th {\n",
       "        text-align: right;\n",
       "    }\n",
       "</style>\n",
       "<table border=\"1\" class=\"dataframe\">\n",
       "  <thead>\n",
       "    <tr style=\"text-align: right;\">\n",
       "      <th></th>\n",
       "      <th>date</th>\n",
       "      <th>price</th>\n",
       "      <th>log return</th>\n",
       "    </tr>\n",
       "  </thead>\n",
       "  <tbody>\n",
       "    <tr>\n",
       "      <th>0</th>\n",
       "      <td>2014-07-31</td>\n",
       "      <td>1000.000000</td>\n",
       "      <td>NaN</td>\n",
       "    </tr>\n",
       "    <tr>\n",
       "      <th>1</th>\n",
       "      <td>2014-08-01</td>\n",
       "      <td>1018.202717</td>\n",
       "      <td>0.018039</td>\n",
       "    </tr>\n",
       "    <tr>\n",
       "      <th>2</th>\n",
       "      <td>2014-08-02</td>\n",
       "      <td>1008.772389</td>\n",
       "      <td>-0.009305</td>\n",
       "    </tr>\n",
       "    <tr>\n",
       "      <th>3</th>\n",
       "      <td>2014-08-03</td>\n",
       "      <td>1004.416500</td>\n",
       "      <td>-0.004327</td>\n",
       "    </tr>\n",
       "    <tr>\n",
       "      <th>4</th>\n",
       "      <td>2014-08-04</td>\n",
       "      <td>1004.984138</td>\n",
       "      <td>0.000565</td>\n",
       "    </tr>\n",
       "  </tbody>\n",
       "</table>\n",
       "</div>"
      ],
      "text/plain": [
       "        date        price  log return\n",
       "0 2014-07-31  1000.000000         NaN\n",
       "1 2014-08-01  1018.202717    0.018039\n",
       "2 2014-08-02  1008.772389   -0.009305\n",
       "3 2014-08-03  1004.416500   -0.004327\n",
       "4 2014-08-04  1004.984138    0.000565"
      ]
     },
     "execution_count": 45,
     "metadata": {},
     "output_type": "execute_result"
    }
   ],
   "source": [
    "crix.head()"
   ]
  },
  {
   "cell_type": "code",
   "execution_count": 51,
   "metadata": {},
   "outputs": [
    {
     "data": {
      "text/plain": [
       "<seaborn.axisgrid.JointGrid at 0x7fa0c59308d0>"
      ]
     },
     "execution_count": 51,
     "metadata": {},
     "output_type": "execute_result"
    },
    {
     "data": {
      "image/png": "[encoded data removed]",
      "text/plain": [
       "<Figure size 432x432 with 3 Axes>"
      ]
     },
     "metadata": {
      "needs_background": "light"
     },
     "output_type": "display_data"
    }
   ],
   "source": [
    "crix_brr = pd.merge(left=crix, right=brr, how='inner', left_on='date', right_on='Date', suffixes=(' crix',' brr'))"
   ]
  },
  {
   "cell_type": "code",
   "execution_count": null,
   "metadata": {},
   "outputs": [],
   "source": [
    "crix_brr.iloc"
   ]
  },
  {
   "cell_type": "code",
   "execution_count": 52,
   "metadata": {
    "collapsed": true
   },
   "outputs": [
    {
     "data": {
      "text/plain": [
       "<seaborn.axisgrid.JointGrid at 0x7fa0c56abf90>"
      ]
     },
     "execution_count": 52,
     "metadata": {},
     "output_type": "execute_result"
    },
    {
     "data": {
      "image/png": "[encoded data removed]",
      "text/plain": [
       "<Figure size 432x432 with 3 Axes>"
      ]
     },
     "metadata": {
      "needs_background": "light"
     },
     "output_type": "display_data"
    }
   ],
   "source": [
    "sns.jointplot(data=crix_brr, x=\"log return brr\", y=\"log return crix\")"
   ]
  },
  {
   "cell_type": "markdown",
   "metadata": {},
   "source": [
    "## Standard Procedure of Fitting a Copula?\n"
   ]
  }
 ],
 "metadata": {
  "kernelspec": {
   "display_name": "Python 3",
   "language": "python",
   "name": "python3"
  },
  "language_info": {
   "codemirror_mode": {
    "name": "ipython",
    "version": 3
   },
   "file_extension": ".py",
   "mimetype": "text/x-python",
   "name": "python",
   "nbconvert_exporter": "python",
   "pygments_lexer": "ipython3",
   "version": "3.7.4"
  },
  "toc": {
   "base_numbering": 1,
   "nav_menu": {},
   "number_sections": true,
   "sideBar": true,
   "skip_h1_title": false,
   "title_cell": "Table of Contents",
   "title_sidebar": "Contents",
   "toc_cell": false,
   "toc_position": {},
   "toc_section_display": true,
   "toc_window_display": false
  }
 },
 "nbformat": 4,
 "nbformat_minor": 2
}
