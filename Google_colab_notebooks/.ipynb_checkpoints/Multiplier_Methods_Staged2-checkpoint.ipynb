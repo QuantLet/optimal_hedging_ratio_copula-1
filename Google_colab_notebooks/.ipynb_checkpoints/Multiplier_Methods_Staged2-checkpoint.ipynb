{
 "cells": [
  {
   "cell_type": "code",
   "execution_count": 30,
   "metadata": {
    "colab": {
     "base_uri": "https://localhost:8080/"
    },
    "executionInfo": {
     "elapsed": 2915,
     "status": "ok",
     "timestamp": 1618466806797,
     "user": {
      "displayName": "Francis LIU",
      "photoUrl": "",
      "userId": "02616809759656825643"
     },
     "user_tz": -120
    },
    "id": "qNQQvLPdIGVv",
    "outputId": "7510469c-bef3-478a-e2e9-3c994230aaa7"
   },
   "outputs": [],
   "source": [
    "from scipy import stats\n",
    "from statsmodels.distributions.empirical_distribution import ECDF\n",
    "import matplotlib.pyplot as plt\n",
    "import numpy as np\n",
    "import pandas as pd\n",
    "import tensorflow as tf\n",
    "import seaborn as sns\n",
    "import scipy\n"
   ]
  },
  {
   "cell_type": "code",
   "execution_count": 2,
   "metadata": {
    "executionInfo": {
     "elapsed": 893,
     "status": "ok",
     "timestamp": 1618470759796,
     "user": {
      "displayName": "Francis LIU",
      "photoUrl": "",
      "userId": "02616809759656825643"
     },
     "user_tz": -120
    },
    "id": "UVd_jFMTIPov"
   },
   "outputs": [],
   "source": [
    "# parameters\n",
    "n_grids = 350 # number of grid in grid search\n",
    "R = 500 # number of Monte Carlo steps\n",
    "\n",
    "def set_parameters(r1, r2):\n",
    "  global N, M, const\n",
    "  N = len(r1) # sample size of F\n",
    "  M = len(r2) # sample size of G\n",
    "  const = ((N*M/(N+M))**0.5)\n",
    "\n",
    "def create_grids(r1, r2):\n",
    "  global income\n",
    "  _min = np.min([np.min(r1), np.min(r2)]) # find a common support for two incomes\n",
    "  _max = np.max([np.max(r1), np.max(r2)])\n",
    "  income = np.linspace(_min, _max, n_grids) # grids\n",
    "\n",
    "def draw_random_multipliers():\n",
    "  global U1_tensor, U2_tensor\n",
    "  U1 = stats.norm.rvs(size=(N, R))/100\n",
    "  U1_tensor = tf.constant(np.repeat(U1[None, ...], n_grids, 0)) # repeat for grid search dimension\n",
    "\n",
    "  U2 = stats.norm.rvs(size=(M, R))/100\n",
    "  U2_tensor = tf.constant(np.repeat(U2[None, ...], n_grids, 0)) # repeat for grid search dimension\n",
    "\n",
    "def create_tensors(r1, r2):\n",
    "  global N, M, income_N_tensor, income_M_tensor, r1_tensor, r2_tensor \n",
    "  income_N_tensor = np.repeat(income[..., None], N, 1) # repeat for sample dimension\n",
    "  income_N_tensor = np.repeat(income_N_tensor[..., None], R, 2) # repeat for MC dimension\n",
    "  # income_N_tensor[0,0,0] == income_N_tensor[0,1,0] is True \n",
    "  # income_N_tensor[0,0,0] == income_N_tensor[0,0,1] is True \n",
    "\n",
    "  income_M_tensor = np.repeat(income[..., None], M, 1)\n",
    "  income_M_tensor = np.repeat(income_M_tensor[..., None], R, 2)\n",
    "\n",
    "  r1_tensor = np.repeat(r1[None, ...], n_grids, 0) # repeat for grid search dimension\n",
    "  r1_tensor = np.repeat(r1_tensor[..., None], R, 2) # repeat for MC dimension\n",
    "  r1_tensor = tf.constant(r1_tensor)\n",
    "\n",
    "  r2_tensor = np.repeat(r2[None, ...], n_grids, 0)\n",
    "  r2_tensor = np.repeat(r2_tensor[..., None], R, 2)\n",
    "  r2_tensor = tf.constant(r2_tensor)\n"
   ]
  },
  {
   "cell_type": "code",
   "execution_count": 3,
   "metadata": {
    "executionInfo": {
     "elapsed": 1524,
     "status": "ok",
     "timestamp": 1618470761001,
     "user": {
      "displayName": "Francis LIU",
      "photoUrl": "",
      "userId": "02616809759656825643"
     },
     "user_tz": -120
    },
    "id": "vmhXGNSdIVdp"
   },
   "outputs": [],
   "source": [
    "# Simple Numpy operation for S_hat \n",
    "def empirical_I(z, x, j):\n",
    "    # x: one observation of the sample\n",
    "    return (x <= z)*(z-x)**(j-1)/np.math.factorial(j-1)\n",
    "\n",
    "def I(z, X, j):\n",
    "    # Whole sample\n",
    "    N = len(X)\n",
    "    return 1/N*np.sum((X <= z)*(z-X)**(j-1))/np.math.factorial(j-1)\n",
    "\n",
    "# Compute S_hat for given incomes r1 and r2\n",
    "def S_hat_fn(r1, r2, j):\n",
    "    global const, income\n",
    "    fn = lambda z: (I(z, r2, j) - I(z, r1, j))\n",
    "    a = np.array([fn(i) for i in income])\n",
    "    \n",
    "    S_hat1 = const*np.max(a)\n",
    "    S_hat2 = -const*np.min(a)\n",
    "    return S_hat1, S_hat2\n"
   ]
  },
  {
   "cell_type": "code",
   "execution_count": 11,
   "metadata": {
    "executionInfo": {
     "elapsed": 1143,
     "status": "ok",
     "timestamp": 1618470761002,
     "user": {
      "displayName": "Francis LIU",
      "photoUrl": "",
      "userId": "02616809759656825643"
     },
     "user_tz": -120
    },
    "id": "MATkbgwTI8qB"
   },
   "outputs": [],
   "source": [
    "# Make functions for Numpy adapt for Tensorflow Tensor\n",
    "def empirical_I_tf(z, x, j):\n",
    "    # x: one observation of the sample\n",
    "    return tf.cast((x <= z), tf.float64)*tf.math.add(z, -x)**(j-1)/np.math.factorial(j-1)\n",
    "\n",
    "def I_tf(z, X, j, N):\n",
    "    # Whole sample\n",
    "    A = tf.cast((X <= z), tf.float64)*tf.math.add(z, -X)**(j-1)\n",
    "    A = tf.math.reduce_sum(A, axis=1, keepdims=True)\n",
    "    A = tf.repeat(A, N, axis=1)\n",
    "    return ((1/N)*A/np.math.factorial(j-1)).numpy()\n",
    "\n",
    "def S_bar_fn(j):\n",
    "    global N, M, income_N_tensor, income_M_tensor, r1_tensor, r2_tensor \n",
    "    a = empirical_I_tf(income_N_tensor, r1_tensor, j)\n",
    "    b = I_tf(income_N_tensor, r1_tensor, j, N)\n",
    "\n",
    "    c = empirical_I_tf(income_M_tensor, r2_tensor, j)\n",
    "    d = I_tf(income_M_tensor, r2_tensor, j, M)\n",
    "\n",
    "    e = ((c-d)*U2_tensor) - ((a-b)*U1_tensor)\n",
    "    f = tf.math.reduce_sum(e, axis=1)\n",
    "\n",
    "    S_bar1 = const*tf.math.reduce_max(f, axis=0)\n",
    "    S_bar2 = -const*tf.math.reduce_min(f, axis=0)\n",
    "    return S_bar1, S_bar2"
   ]
  },
  {
   "cell_type": "code",
   "execution_count": 18,
   "metadata": {
    "executionInfo": {
     "elapsed": 604,
     "status": "ok",
     "timestamp": 1618470761002,
     "user": {
      "displayName": "Francis LIU",
      "photoUrl": "",
      "userId": "02616809759656825643"
     },
     "user_tz": -120
    },
    "id": "YKM-fXDlKXXt"
   },
   "outputs": [],
   "source": [
    "def make_decision(S_bar, S_hat):\n",
    "    p = np.mean(S_bar > S_hat) \n",
    "    print('P-value =', p)\n",
    "\n",
    "    if p < 0.10:\n",
    "        print(\"Reject Null; r2 is not domaining r1 (crossing) OR r1 is domaining r2\")\n",
    "        return 1\n",
    "    else:\n",
    "        print(\"Cannot reject Null; r2 is domaining r1 OR r2==r1\")\n",
    "        return 0\n",
    "\n"
   ]
  },
  {
   "cell_type": "code",
   "execution_count": 6,
   "metadata": {
    "colab": {
     "base_uri": "https://localhost:8080/"
    },
    "executionInfo": {
     "elapsed": 1257,
     "status": "ok",
     "timestamp": 1618470762794,
     "user": {
      "displayName": "Francis LIU",
      "photoUrl": "",
      "userId": "02616809759656825643"
     },
     "user_tz": -120
    },
    "id": "nVeSrS4weE78",
    "outputId": "6de204e6-958b-448f-bb2a-583438339043"
   },
   "outputs": [
    {
     "ename": "ModuleNotFoundError",
     "evalue": "No module named 'google.colab'",
     "output_type": "error",
     "traceback": [
      "\u001b[0;31m---------------------------------------------------------------------------\u001b[0m",
      "\u001b[0;31mModuleNotFoundError\u001b[0m                       Traceback (most recent call last)",
      "\u001b[0;32m<ipython-input-6-91874b305a32>\u001b[0m in \u001b[0;36m<module>\u001b[0;34m\u001b[0m\n\u001b[0;32m----> 1\u001b[0;31m \u001b[0;32mfrom\u001b[0m \u001b[0mgoogle\u001b[0m\u001b[0;34m.\u001b[0m\u001b[0mcolab\u001b[0m \u001b[0;32mimport\u001b[0m \u001b[0mdrive\u001b[0m\u001b[0;34m\u001b[0m\u001b[0;34m\u001b[0m\u001b[0m\n\u001b[0m\u001b[1;32m      2\u001b[0m \u001b[0mdrive\u001b[0m\u001b[0;34m.\u001b[0m\u001b[0mmount\u001b[0m\u001b[0;34m(\u001b[0m\u001b[0;34m'/content/drive/'\u001b[0m\u001b[0;34m)\u001b[0m\u001b[0;34m\u001b[0m\u001b[0;34m\u001b[0m\u001b[0m\n",
      "\u001b[0;31mModuleNotFoundError\u001b[0m: No module named 'google.colab'"
     ]
    }
   ],
   "source": [
    "from google.colab import drive\n",
    "drive.mount('/content/drive/')"
   ]
  },
  {
   "cell_type": "code",
   "execution_count": 13,
   "metadata": {
    "executionInfo": {
     "elapsed": 838,
     "status": "ok",
     "timestamp": 1618470763249,
     "user": {
      "displayName": "Francis LIU",
      "photoUrl": "",
      "userId": "02616809759656825643"
     },
     "user_tz": -120
    },
    "id": "9Sl1_Zcuei-5"
   },
   "outputs": [],
   "source": [
    "# import pickle\n",
    "# with open('/content/drive/My Drive/00_IRTG1792/copula/Py_notebooks/v3_OOS_income.pickle', 'rb') as handle:\n",
    "#     results = pickle.load(handle)\n",
    "\n",
    "# Local\n",
    "import pickle\n",
    "with open('../Py_notebooks/v3_OOS_income.pickle', 'rb') as handle:\n",
    "    results = pickle.load(handle)"
   ]
  },
  {
   "cell_type": "code",
   "execution_count": 24,
   "metadata": {
    "colab": {
     "base_uri": "https://localhost:8080/",
     "height": 282
    },
    "executionInfo": {
     "elapsed": 859,
     "status": "ok",
     "timestamp": 1618470980419,
     "user": {
      "displayName": "Francis LIU",
      "photoUrl": "",
      "userId": "02616809759656825643"
     },
     "user_tz": -120
    },
    "id": "51Cm0UnlLj8Y",
    "outputId": "67320efb-707e-4dbe-8a3f-14a1e13cd4e5"
   },
   "outputs": [
    {
     "name": "stdout",
     "output_type": "stream",
     "text": [
      "0.9021504401844291 1.2419641162749562\n"
     ]
    },
    {
     "data": {
      "image/png": "[encoded data removed]",
      "text/plain": [
       "<Figure size 432x288 with 1 Axes>"
      ]
     },
     "metadata": {
      "needs_background": "light"
     },
     "output_type": "display_data"
    }
   ],
   "source": [
    "# two incomes\n",
    "# r1 = (stats.t.rvs(df=10, size=350)*0.8)+3\n",
    "# r2 = (stats.t.rvs(df=10, size=350)*1.2)+3.1\n",
    "\n",
    "r1 = np.array(results[('t_Copula'), ('VaR q=0.05')])\n",
    "# r2 = np.array(results[('Frank'), ('VaR q=0.05')])\n",
    "r2 = np.array(results[('Gaussian'), ('VaR q=0.05')])\n",
    "\n",
    "\n",
    "ecdf1 = ECDF(r1)\n",
    "ecdf2 = ECDF(r2)\n",
    "\n",
    "_min = np.min([np.min(r1), np.min(r2)]) # find a common support for two incomes\n",
    "_max = np.max([np.max(r1), np.max(r2)])\n",
    "x = np.linspace(_min, _max, n_grids) # grids\n",
    "print(_min, _max)\n",
    "plt.plot(x, ecdf1(x), label='r1')\n",
    "plt.plot(x, ecdf2(x), label='r2')\n",
    "plt.legend()\n",
    "\n",
    "# test for SOSD\n",
    "j = 1"
   ]
  },
  {
   "cell_type": "code",
   "execution_count": 25,
   "metadata": {
    "colab": {
     "base_uri": "https://localhost:8080/",
     "height": 388
    },
    "executionInfo": {
     "elapsed": 11177,
     "status": "ok",
     "timestamp": 1618471004780,
     "user": {
      "displayName": "Francis LIU",
      "photoUrl": "",
      "userId": "02616809759656825643"
     },
     "user_tz": -120
    },
    "id": "OH9ZAO9YLmz5",
    "outputId": "1a4fff40-0a1a-4790-f2e9-0933e1fe9147"
   },
   "outputs": [
    {
     "name": "stdout",
     "output_type": "stream",
     "text": [
      "P-value = 0.998\n",
      "Cannot reject Null; r2 is domaining r1 OR r2==r1\n",
      "P-value = 0.574\n",
      "Cannot reject Null; r2 is domaining r1 OR r2==r1\n"
     ]
    }
   ],
   "source": [
    "try:\n",
    "    del  N, M, income_N_tensor, income_M_tensor, r1_tensor, r2_tensor \n",
    "except: \n",
    "    pass\n",
    "\n",
    "set_parameters(r1, r2)\n",
    "create_grids(r1, r2)\n",
    "S_hat1, S_hat2 = S_hat_fn(r1, r2, j)\n",
    "\n",
    "draw_random_multipliers()\n",
    "create_tensors(r1, r2)\n",
    "S_bar1, S_bar2 = S_bar_fn(j)\n",
    "\n",
    "Ha = make_decision(S_bar1, S_hat1)\n",
    "Hb = make_decision(S_bar2, S_hat2)\n",
    "\n",
    "# sns.distplot(S_bar)"
   ]
  },
  {
   "cell_type": "code",
   "execution_count": 20,
   "metadata": {
    "executionInfo": {
     "elapsed": 880,
     "status": "ok",
     "timestamp": 1618466887212,
     "user": {
      "displayName": "Francis LIU",
      "photoUrl": "",
      "userId": "02616809759656825643"
     },
     "user_tz": -120
    },
    "id": "uWAnrsrFZ3kB"
   },
   "outputs": [],
   "source": [
    "def run(r1, r2, j):\n",
    "    try:\n",
    "        del  N, M, income_N_tensor, income_M_tensor, r1_tensor, r2_tensor \n",
    "    except: \n",
    "        pass\n",
    "\n",
    "    set_parameters(r1, r2)\n",
    "    create_grids(r1, r2)\n",
    "    S_hat1, S_hat2 = S_hat_fn(r1, r2, j)\n",
    "\n",
    "    draw_random_multipliers()\n",
    "    create_tensors(r1, r2)\n",
    "    S_bar1, S_bar2 = S_bar_fn(j)\n",
    "\n",
    "    Ha = make_decision(S_bar1, S_hat1)\n",
    "    Hb = make_decision(S_bar2, S_hat2)\n",
    "    return Ha, Hb"
   ]
  },
  {
   "cell_type": "code",
   "execution_count": 21,
   "metadata": {
    "colab": {
     "base_uri": "https://localhost:8080/"
    },
    "executionInfo": {
     "elapsed": 9474,
     "status": "ok",
     "timestamp": 1618466897727,
     "user": {
      "displayName": "Francis LIU",
      "photoUrl": "",
      "userId": "02616809759656825643"
     },
     "user_tz": -120
    },
    "id": "2PyqYvTFj6Te",
    "outputId": "b59c83db-a885-4e8d-a3e0-4a1e59c82b34"
   },
   "outputs": [
    {
     "name": "stdout",
     "output_type": "stream",
     "text": [
      "P-value = 0.932\n",
      "Cannot reject Null; r2 is domaining r1 OR r2==r1\n",
      "P-value = 0.006\n",
      "Reject Null; r2 is not domaining r1 (crossing) OR r1 is domaining r2\n"
     ]
    },
    {
     "data": {
      "text/plain": [
       "(0, 1)"
      ]
     },
     "execution_count": 21,
     "metadata": {},
     "output_type": "execute_result"
    }
   ],
   "source": [
    "run(r1,r2,2)"
   ]
  },
  {
   "cell_type": "code",
   "execution_count": 27,
   "metadata": {
    "executionInfo": {
     "elapsed": 743,
     "status": "ok",
     "timestamp": 1618469063866,
     "user": {
      "displayName": "Francis LIU",
      "photoUrl": "",
      "userId": "02616809759656825643"
     },
     "user_tz": -120
    },
    "id": "jzraKMc3kFVJ"
   },
   "outputs": [],
   "source": [
    "CR_pairs = list(results.keys())"
   ]
  },
  {
   "cell_type": "code",
   "execution_count": 32,
   "metadata": {
    "colab": {
     "base_uri": "https://localhost:8080/",
     "height": 1000
    },
    "executionInfo": {
     "elapsed": 786609,
     "status": "error",
     "timestamp": 1618469965515,
     "user": {
      "displayName": "Francis LIU",
      "photoUrl": "",
      "userId": "02616809759656825643"
     },
     "user_tz": -120
    },
    "id": "Aih9s8OIkcqz",
    "outputId": "8d03acfd-4808-42a6-8d1c-8a3a6a66748e",
    "scrolled": true
   },
   "outputs": [
    {
     "name": "stdout",
     "output_type": "stream",
     "text": [
      "Total number of operation is 25\n",
      "P-value = 0.868\n",
      "Cannot reject Null; r2 is domaining r1 OR r2==r1\n",
      "P-value = 0.856\n",
      "Cannot reject Null; r2 is domaining r1 OR r2==r1\n",
      "0 0\n",
      "P-value = 0.0\n",
      "Reject Null; r2 is not domaining r1 (crossing) OR r1 is domaining r2\n",
      "P-value = 0.89\n",
      "Cannot reject Null; r2 is domaining r1 OR r2==r1\n",
      "0 1\n",
      "P-value = 0.402\n",
      "Cannot reject Null; r2 is domaining r1 OR r2==r1\n",
      "P-value = 0.854\n",
      "Cannot reject Null; r2 is domaining r1 OR r2==r1\n",
      "0 2\n",
      "P-value = 0.914\n",
      "Cannot reject Null; r2 is domaining r1 OR r2==r1\n",
      "P-value = 0.494\n",
      "Cannot reject Null; r2 is domaining r1 OR r2==r1\n",
      "0 3\n",
      "P-value = 0.904\n",
      "Cannot reject Null; r2 is domaining r1 OR r2==r1\n",
      "P-value = 0.022\n",
      "Reject Null; r2 is not domaining r1 (crossing) OR r1 is domaining r2\n",
      "0 4\n",
      "P-value = 0.848\n",
      "Cannot reject Null; r2 is domaining r1 OR r2==r1\n",
      "P-value = 0.858\n",
      "Cannot reject Null; r2 is domaining r1 OR r2==r1\n",
      "1 1\n",
      "P-value = 0.902\n",
      "Cannot reject Null; r2 is domaining r1 OR r2==r1\n",
      "P-value = 0.0\n",
      "Reject Null; r2 is not domaining r1 (crossing) OR r1 is domaining r2\n",
      "1 2\n",
      "P-value = 0.896\n",
      "Cannot reject Null; r2 is domaining r1 OR r2==r1\n",
      "P-value = 0.0\n",
      "Reject Null; r2 is not domaining r1 (crossing) OR r1 is domaining r2\n",
      "1 3\n",
      "P-value = 0.91\n",
      "Cannot reject Null; r2 is domaining r1 OR r2==r1\n",
      "P-value = 0.0\n",
      "Reject Null; r2 is not domaining r1 (crossing) OR r1 is domaining r2\n",
      "1 4\n",
      "P-value = 0.858\n",
      "Cannot reject Null; r2 is domaining r1 OR r2==r1\n",
      "P-value = 0.87\n",
      "Cannot reject Null; r2 is domaining r1 OR r2==r1\n",
      "2 2\n",
      "P-value = 0.864\n",
      "Cannot reject Null; r2 is domaining r1 OR r2==r1\n",
      "P-value = 0.296\n",
      "Cannot reject Null; r2 is domaining r1 OR r2==r1\n",
      "2 3\n",
      "P-value = 0.874\n",
      "Cannot reject Null; r2 is domaining r1 OR r2==r1\n",
      "P-value = 0.002\n",
      "Reject Null; r2 is not domaining r1 (crossing) OR r1 is domaining r2\n",
      "2 4\n",
      "P-value = 0.856\n",
      "Cannot reject Null; r2 is domaining r1 OR r2==r1\n",
      "P-value = 0.9\n",
      "Cannot reject Null; r2 is domaining r1 OR r2==r1\n",
      "3 3\n",
      "P-value = 0.886\n",
      "Cannot reject Null; r2 is domaining r1 OR r2==r1\n",
      "P-value = 0.012\n",
      "Reject Null; r2 is not domaining r1 (crossing) OR r1 is domaining r2\n",
      "3 4\n",
      "P-value = 0.868\n",
      "Cannot reject Null; r2 is domaining r1 OR r2==r1\n",
      "P-value = 0.874\n",
      "Cannot reject Null; r2 is domaining r1 OR r2==r1\n",
      "4 4\n"
     ]
    }
   ],
   "source": [
    "print(\"Total number of operation is\", len(CR_pairs)**2)\n",
    "\n",
    "SOSD = np.ones([len(CR_pairs), len(CR_pairs)])+1000\n",
    "SOSD = pd.DataFrame(SOSD, index=CR_pairs, columns=CR_pairs)\n",
    "# save_file = '/content/drive/My Drive/00_IRTG1792/copula/Py_notebooks/SOSD.pickle'\n",
    "save_file = '../Py_notebooks/SOSD.pickle'\n",
    "\n",
    "for i, pair1 in enumerate(CR_pairs):\n",
    "    for k, pair2 in enumerate(CR_pairs):\n",
    "        if (k<i) or (k==i):\n",
    "            pass \n",
    "        else:\n",
    "            r1 = np.array(results[pair1])\n",
    "            r2 = np.array(results[pair2])\n",
    "            SOSD.iloc[i,k], SOSD.iloc[k,i] = run(r1, r2, j=2)\n",
    "\n",
    "            if (k%5 == 0):\n",
    "                with open(save_file, 'wb') as handle:\n",
    "                    pickle.dump(SOSD, handle)\n",
    "            print(i,k)\n",
    "            \n",
    "with open(save_file, 'wb') as handle:\n",
    "    pickle.dump(SOSD, handle)"
   ]
  },
  {
   "cell_type": "code",
   "execution_count": 33,
   "metadata": {},
   "outputs": [],
   "source": [
    "with open(save_file, 'wb') as handle:\n",
    "    pickle.dump(SOSD, handle)"
   ]
  },
  {
   "cell_type": "code",
   "execution_count": 168,
   "metadata": {
    "colab": {
     "base_uri": "https://localhost:8080/",
     "height": 299
    },
    "collapsed": true,
    "executionInfo": {
     "elapsed": 987,
     "status": "ok",
     "timestamp": 1618440865092,
     "user": {
      "displayName": "Francis LIU",
      "photoUrl": "",
      "userId": "02616809759656825643"
     },
     "user_tz": -120
    },
    "id": "IbO7A6CFks7D",
    "outputId": "fcd5c17b-8714-461f-e77e-1f9c9b7ad1cf"
   },
   "outputs": [
    {
     "name": "stdout",
     "output_type": "stream",
     "text": [
      "0.8755050911574485 1.1242429199677781\n"
     ]
    },
    {
     "data": {
      "text/plain": [
       "<matplotlib.legend.Legend at 0x7f130f7948d0>"
      ]
     },
     "execution_count": 168,
     "metadata": {
      "tags": []
     },
     "output_type": "execute_result"
    },
    {
     "data": {
      "image/png": "[encoded data removed]",
      "text/plain": [
       "<Figure size 432x288 with 1 Axes>"
      ]
     },
     "metadata": {
      "needs_background": "light",
      "tags": []
     },
     "output_type": "display_data"
    }
   ],
   "source": [
    "r1 = results[CR_pairs[0]]\n",
    "r2 = results[CR_pairs[1]]\n",
    "ecdf1 = ECDF(r1)\n",
    "ecdf2 = ECDF(r2)\n",
    "\n",
    "_min = np.min([np.min(r1), np.min(r2)]) # find a common support for two incomes\n",
    "_max = np.max([np.max(r1), np.max(r2)])\n",
    "x = np.linspace(_min, _max, n_grids) # grids\n",
    "print(_min, _max)\n",
    "plt.plot(x, ecdf1(x), label=CR_pairs[0])\n",
    "plt.plot(x, ecdf2(x), label=CR_pairs[1])\n",
    "plt.legend()"
   ]
  }
 ],
 "metadata": {
  "colab": {
   "authorship_tag": "ABX9TyMdIYTzld0WuZdd/pnkRXX4",
   "name": "Multiplier_Methods_Staged.ipynb",
   "provenance": []
  },
  "kernelspec": {
   "display_name": "Python 3",
   "language": "python",
   "name": "python3"
  },
  "language_info": {
   "codemirror_mode": {
    "name": "ipython",
    "version": 3
   },
   "file_extension": ".py",
   "mimetype": "text/x-python",
   "name": "python",
   "nbconvert_exporter": "python",
   "pygments_lexer": "ipython3",
   "version": "3.7.4"
  },
  "toc": {
   "base_numbering": 1,
   "nav_menu": {},
   "number_sections": true,
   "sideBar": true,
   "skip_h1_title": false,
   "title_cell": "Table of Contents",
   "title_sidebar": "Contents",
   "toc_cell": false,
   "toc_position": {},
   "toc_section_display": true,
   "toc_window_display": false
  }
 },
 "nbformat": 4,
 "nbformat_minor": 1
}
