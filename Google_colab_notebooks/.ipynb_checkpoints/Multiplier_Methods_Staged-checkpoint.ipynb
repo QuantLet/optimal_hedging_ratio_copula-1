{
 "cells": [
  {
   "cell_type": "code",
   "execution_count": 1,
   "metadata": {
    "colab": {
     "base_uri": "https://localhost:8080/"
    },
    "executionInfo": {
     "elapsed": 2915,
     "status": "ok",
     "timestamp": 1618466806797,
     "user": {
      "displayName": "Francis LIU",
      "photoUrl": "",
      "userId": "02616809759656825643"
     },
     "user_tz": -120
    },
    "id": "qNQQvLPdIGVv",
    "outputId": "7510469c-bef3-478a-e2e9-3c994230aaa7"
   },
   "outputs": [
    {
     "name": "stderr",
     "output_type": "stream",
     "text": [
      "/Users/francis/opt/anaconda3/lib/python3.7/site-packages/statsmodels/tools/_testing.py:19: FutureWarning: pandas.util.testing is deprecated. Use the functions in the public API at pandas.testing instead.\n",
      "  import pandas.util.testing as tm\n"
     ]
    }
   ],
   "source": [
    "from scipy import stats\n",
    "from statsmodels.distributions.empirical_distribution import ECDF\n",
    "import matplotlib.pyplot as plt\n",
    "import numpy as np\n",
    "import tensorflow as tf\n",
    "import seaborn as sns\n",
    "import scipy\n"
   ]
  },
  {
   "cell_type": "code",
   "execution_count": 2,
   "metadata": {
    "executionInfo": {
     "elapsed": 893,
     "status": "ok",
     "timestamp": 1618470759796,
     "user": {
      "displayName": "Francis LIU",
      "photoUrl": "",
      "userId": "02616809759656825643"
     },
     "user_tz": -120
    },
    "id": "UVd_jFMTIPov"
   },
   "outputs": [],
   "source": [
    "# parameters\n",
    "n_grids = 350 # number of grid in grid search\n",
    "R = 500 # number of Monte Carlo steps\n",
    "\n",
    "def set_parameters(r1, r2):\n",
    "  global N, M, const\n",
    "  N = len(r1) # sample size of F\n",
    "  M = len(r2) # sample size of G\n",
    "  const = ((N*M/(N+M))**0.5)\n",
    "\n",
    "def create_grids(r1, r2):\n",
    "  global income\n",
    "  _min = np.min([np.min(r1), np.min(r2)]) # find a common support for two incomes\n",
    "  _max = np.max([np.max(r1), np.max(r2)])\n",
    "  income = np.linspace(_min, _max, n_grids) # grids\n",
    "\n",
    "def draw_random_multipliers():\n",
    "  global U1_tensor, U2_tensor\n",
    "  U1 = stats.norm.rvs(size=(N, R))/100\n",
    "  U1_tensor = tf.constant(np.repeat(U1[None, ...], n_grids, 0)) # repeat for grid search dimension\n",
    "\n",
    "  U2 = stats.norm.rvs(size=(M, R))/100\n",
    "  U2_tensor = tf.constant(np.repeat(U2[None, ...], n_grids, 0)) # repeat for grid search dimension\n",
    "\n",
    "def create_tensors(r1, r2):\n",
    "  global N, M, income_N_tensor, income_M_tensor, r1_tensor, r2_tensor \n",
    "  income_N_tensor = np.repeat(income[..., None], N, 1) # repeat for sample dimension\n",
    "  income_N_tensor = np.repeat(income_N_tensor[..., None], R, 2) # repeat for MC dimension\n",
    "  # income_N_tensor[0,0,0] == income_N_tensor[0,1,0] is True \n",
    "  # income_N_tensor[0,0,0] == income_N_tensor[0,0,1] is True \n",
    "\n",
    "  income_M_tensor = np.repeat(income[..., None], M, 1)\n",
    "  income_M_tensor = np.repeat(income_M_tensor[..., None], R, 2)\n",
    "\n",
    "  r1_tensor = np.repeat(r1[None, ...], n_grids, 0) # repeat for grid search dimension\n",
    "  r1_tensor = np.repeat(r1_tensor[..., None], R, 2) # repeat for MC dimension\n",
    "  r1_tensor = tf.constant(r1_tensor)\n",
    "\n",
    "  r2_tensor = np.repeat(r2[None, ...], n_grids, 0)\n",
    "  r2_tensor = np.repeat(r2_tensor[..., None], R, 2)\n",
    "  r2_tensor = tf.constant(r2_tensor)\n"
   ]
  },
  {
   "cell_type": "code",
   "execution_count": 3,
   "metadata": {
    "executionInfo": {
     "elapsed": 1524,
     "status": "ok",
     "timestamp": 1618470761001,
     "user": {
      "displayName": "Francis LIU",
      "photoUrl": "",
      "userId": "02616809759656825643"
     },
     "user_tz": -120
    },
    "id": "vmhXGNSdIVdp"
   },
   "outputs": [],
   "source": [
    "# Simple Numpy operation for S_hat \n",
    "def empirical_I(z, x, j):\n",
    "    # x: one observation of the sample\n",
    "    return (x <= z)*(z-x)**(j-1)/np.math.factorial(j-1)\n",
    "\n",
    "def I(z, X, j):\n",
    "    # Whole sample\n",
    "    N = len(X)\n",
    "    return 1/N*np.sum((X <= z)*(z-X)**(j-1))/np.math.factorial(j-1)\n",
    "\n",
    "# Compute S_hat for given incomes r1 and r2\n",
    "def S_hat_fn(r1, r2, j):\n",
    "  global const, income\n",
    "  fn = lambda z: (I(z, r2, j) - I(z, r1, j))\n",
    "  a = np.array([fn(i) for i in income])\n",
    "  S_hat = const*np.max(a)\n",
    "  return S_hat\n"
   ]
  },
  {
   "cell_type": "code",
   "execution_count": 4,
   "metadata": {
    "executionInfo": {
     "elapsed": 1143,
     "status": "ok",
     "timestamp": 1618470761002,
     "user": {
      "displayName": "Francis LIU",
      "photoUrl": "",
      "userId": "02616809759656825643"
     },
     "user_tz": -120
    },
    "id": "MATkbgwTI8qB"
   },
   "outputs": [],
   "source": [
    "# Make functions for Numpy adapt for Tensorflow Tensor\n",
    "def empirical_I_tf(z, x, j):\n",
    "    # x: one observation of the sample\n",
    "    return tf.cast((x <= z), tf.float64)*tf.math.add(z, -x)**(j-1)/np.math.factorial(j-1)\n",
    "\n",
    "def I_tf(z, X, j, N):\n",
    "    # Whole sample\n",
    "    A = tf.cast((X <= z), tf.float64)*tf.math.add(z, -X)**(j-1)\n",
    "    A = tf.math.reduce_sum(A, axis=1, keepdims=True)\n",
    "    A = tf.repeat(A, N, axis=1)\n",
    "    return ((1/N)*A/np.math.factorial(j-1)).numpy()\n",
    "\n",
    "def S_bar_fn(j):\n",
    "  global N, M, income_N_tensor, income_M_tensor, r1_tensor, r2_tensor \n",
    "  a = empirical_I_tf(income_N_tensor, r1_tensor, j)\n",
    "  b = I_tf(income_N_tensor, r1_tensor, j, N)\n",
    "\n",
    "  c = empirical_I_tf(income_M_tensor, r2_tensor, j)\n",
    "  d = I_tf(income_M_tensor, r2_tensor, j, M)\n",
    "  \n",
    "  e = ((c-d)*U2_tensor) - ((a-b)*U1_tensor)\n",
    "  f = tf.math.reduce_sum(e, axis=1)\n",
    "\n",
    "  S_bar = const*tf.math.reduce_max(f, axis=0)\n",
    "  return S_bar"
   ]
  },
  {
   "cell_type": "code",
   "execution_count": 5,
   "metadata": {
    "executionInfo": {
     "elapsed": 604,
     "status": "ok",
     "timestamp": 1618470761002,
     "user": {
      "displayName": "Francis LIU",
      "photoUrl": "",
      "userId": "02616809759656825643"
     },
     "user_tz": -120
    },
    "id": "YKM-fXDlKXXt"
   },
   "outputs": [],
   "source": [
    "def make_decision(S_bar, S_hat):\n",
    "  p = np.mean(S_bar > S_hat) \n",
    "  print('P-value =', p)\n",
    "\n",
    "  if p < 0.10:\n",
    "    print(\"Reject Null; r2 is not domaining r1 (crossing) OR r1 is domaining r2\")\n",
    "    return 1\n",
    "  else:\n",
    "    print(\"Cannot reject Null; r2 is domaining r1 OR r2==r1\")\n",
    "    return 0\n",
    "\n"
   ]
  },
  {
   "cell_type": "code",
   "execution_count": 6,
   "metadata": {
    "colab": {
     "base_uri": "https://localhost:8080/"
    },
    "executionInfo": {
     "elapsed": 1257,
     "status": "ok",
     "timestamp": 1618470762794,
     "user": {
      "displayName": "Francis LIU",
      "photoUrl": "",
      "userId": "02616809759656825643"
     },
     "user_tz": -120
    },
    "id": "nVeSrS4weE78",
    "outputId": "6de204e6-958b-448f-bb2a-583438339043"
   },
   "outputs": [
    {
     "ename": "ModuleNotFoundError",
     "evalue": "No module named 'google.colab'",
     "output_type": "error",
     "traceback": [
      "\u001b[0;31m---------------------------------------------------------------------------\u001b[0m",
      "\u001b[0;31mModuleNotFoundError\u001b[0m                       Traceback (most recent call last)",
      "\u001b[0;32m<ipython-input-6-91874b305a32>\u001b[0m in \u001b[0;36m<module>\u001b[0;34m\u001b[0m\n\u001b[0;32m----> 1\u001b[0;31m \u001b[0;32mfrom\u001b[0m \u001b[0mgoogle\u001b[0m\u001b[0;34m.\u001b[0m\u001b[0mcolab\u001b[0m \u001b[0;32mimport\u001b[0m \u001b[0mdrive\u001b[0m\u001b[0;34m\u001b[0m\u001b[0;34m\u001b[0m\u001b[0m\n\u001b[0m\u001b[1;32m      2\u001b[0m \u001b[0mdrive\u001b[0m\u001b[0;34m.\u001b[0m\u001b[0mmount\u001b[0m\u001b[0;34m(\u001b[0m\u001b[0;34m'/content/drive/'\u001b[0m\u001b[0;34m)\u001b[0m\u001b[0;34m\u001b[0m\u001b[0;34m\u001b[0m\u001b[0m\n",
      "\u001b[0;31mModuleNotFoundError\u001b[0m: No module named 'google.colab'"
     ]
    }
   ],
   "source": [
    "from google.colab import drive\n",
    "drive.mount('/content/drive/')"
   ]
  },
  {
   "cell_type": "code",
   "execution_count": 7,
   "metadata": {
    "executionInfo": {
     "elapsed": 838,
     "status": "ok",
     "timestamp": 1618470763249,
     "user": {
      "displayName": "Francis LIU",
      "photoUrl": "",
      "userId": "02616809759656825643"
     },
     "user_tz": -120
    },
    "id": "9Sl1_Zcuei-5"
   },
   "outputs": [],
   "source": [
    "# import pickle\n",
    "# with open('/content/drive/My Drive/00_IRTG1792/copula/Py_notebooks/v3_OOS_income.pickle', 'rb') as handle:\n",
    "#     results = pickle.load(handle)\n",
    "\n",
    "# Local\n",
    "import pickle\n",
    "with open('../Py_notebooks/v3_OOS_income.pickle', 'rb') as handle:\n",
    "    results = pickle.load(handle)"
   ]
  },
  {
   "cell_type": "code",
   "execution_count": 8,
   "metadata": {
    "colab": {
     "base_uri": "https://localhost:8080/",
     "height": 282
    },
    "executionInfo": {
     "elapsed": 859,
     "status": "ok",
     "timestamp": 1618470980419,
     "user": {
      "displayName": "Francis LIU",
      "photoUrl": "",
      "userId": "02616809759656825643"
     },
     "user_tz": -120
    },
    "id": "51Cm0UnlLj8Y",
    "outputId": "67320efb-707e-4dbe-8a3f-14a1e13cd4e5"
   },
   "outputs": [
    {
     "name": "stdout",
     "output_type": "stream",
     "text": [
      "0.904571900737567 1.4168554251261236\n"
     ]
    },
    {
     "data": {
      "image/png": "[encoded data removed]",
      "text/plain": [
       "<Figure size 432x288 with 1 Axes>"
      ]
     },
     "metadata": {
      "needs_background": "light"
     },
     "output_type": "display_data"
    }
   ],
   "source": [
    "# two incomes\n",
    "# r1 = (stats.t.rvs(df=10, size=350)*0.8)+3\n",
    "# r2 = (stats.t.rvs(df=10, size=350)*1.2)+3.1\n",
    "\n",
    "r1 = np.array(results[('Gaussian'), ('VaR q=0.05')])\n",
    "r2 = np.array(results[('Frank'), ('VaR q=0.05')])\n",
    "\n",
    "ecdf1 = ECDF(r1)\n",
    "ecdf2 = ECDF(r2)\n",
    "\n",
    "_min = np.min([np.min(r1), np.min(r2)]) # find a common support for two incomes\n",
    "_max = np.max([np.max(r1), np.max(r2)])\n",
    "x = np.linspace(_min, _max, n_grids) # grids\n",
    "print(_min, _max)\n",
    "plt.plot(x, ecdf1(x), label='r1')\n",
    "plt.plot(x, ecdf2(x), label='r2')\n",
    "plt.legend()\n",
    "\n",
    "# test for SOSD\n",
    "j = 2"
   ]
  },
  {
   "cell_type": "code",
   "execution_count": 9,
   "metadata": {
    "colab": {
     "base_uri": "https://localhost:8080/",
     "height": 388
    },
    "executionInfo": {
     "elapsed": 11177,
     "status": "ok",
     "timestamp": 1618471004780,
     "user": {
      "displayName": "Francis LIU",
      "photoUrl": "",
      "userId": "02616809759656825643"
     },
     "user_tz": -120
    },
    "id": "OH9ZAO9YLmz5",
    "outputId": "1a4fff40-0a1a-4790-f2e9-0933e1fe9147"
   },
   "outputs": [
    {
     "name": "stdout",
     "output_type": "stream",
     "text": [
      "0.0\n",
      "P-value = 0.898\n",
      "Cannot reject Null; r2 is domaining r1 OR r2==r1\n"
     ]
    },
    {
     "name": "stderr",
     "output_type": "stream",
     "text": [
      "/Users/francis/opt/anaconda3/lib/python3.7/site-packages/seaborn/distributions.py:2551: FutureWarning: `distplot` is a deprecated function and will be removed in a future version. Please adapt your code to use either `displot` (a figure-level function with similar flexibility) or `histplot` (an axes-level function for histograms).\n",
      "  warnings.warn(msg, FutureWarning)\n",
      "/Users/francis/opt/anaconda3/lib/python3.7/site-packages/matplotlib/cbook/__init__.py:1402: FutureWarning: Support for multi-dimensional indexing (e.g. `obj[:, None]`) is deprecated and will be removed in a future version.  Convert to a numpy array before indexing instead.\n",
      "  x[:, None]\n",
      "/Users/francis/opt/anaconda3/lib/python3.7/site-packages/matplotlib/axes/_base.py:276: FutureWarning: Support for multi-dimensional indexing (e.g. `obj[:, None]`) is deprecated and will be removed in a future version.  Convert to a numpy array before indexing instead.\n",
      "  x = x[:, np.newaxis]\n",
      "/Users/francis/opt/anaconda3/lib/python3.7/site-packages/matplotlib/axes/_base.py:278: FutureWarning: Support for multi-dimensional indexing (e.g. `obj[:, None]`) is deprecated and will be removed in a future version.  Convert to a numpy array before indexing instead.\n",
      "  y = y[:, np.newaxis]\n"
     ]
    },
    {
     "data": {
      "text/plain": [
       "<matplotlib.axes._subplots.AxesSubplot at 0x7fb818426b10>"
      ]
     },
     "execution_count": 9,
     "metadata": {},
     "output_type": "execute_result"
    },
    {
     "data": {
      "image/png": "[encoded data removed]",
      "text/plain": [
       "<Figure size 432x288 with 1 Axes>"
      ]
     },
     "metadata": {
      "needs_background": "light"
     },
     "output_type": "display_data"
    }
   ],
   "source": [
    "try:\n",
    "  del  N, M, income_N_tensor, income_M_tensor, r1_tensor, r2_tensor \n",
    "except: \n",
    "  pass\n",
    "\n",
    "set_parameters(r1, r2)\n",
    "create_grids(r1, r2)\n",
    "S_hat = S_hat_fn(r1, r2, j)\n",
    "\n",
    "draw_random_multipliers()\n",
    "create_tensors(r1, r2)\n",
    "S_bar = S_bar_fn(j)\n",
    "print(S_hat)\n",
    "H = make_decision(S_bar, S_hat)\n",
    "\n",
    "sns.distplot(S_bar)"
   ]
  },
  {
   "cell_type": "code",
   "execution_count": 10,
   "metadata": {
    "colab": {
     "base_uri": "https://localhost:8080/",
     "height": 388
    },
    "executionInfo": {
     "elapsed": 13259,
     "status": "ok",
     "timestamp": 1618471013476,
     "user": {
      "displayName": "Francis LIU",
      "photoUrl": "",
      "userId": "02616809759656825643"
     },
     "user_tz": -120
    },
    "id": "x1cKoaVnL18f",
    "outputId": "2371c86f-120c-457f-9fd0-6a703cc21db3"
   },
   "outputs": [
    {
     "name": "stdout",
     "output_type": "stream",
     "text": [
      "0.8172480709054072\n",
      "P-value = 0.004\n",
      "Reject Null; r2 is not domaining r1 (crossing) OR r1 is domaining r2\n"
     ]
    },
    {
     "name": "stderr",
     "output_type": "stream",
     "text": [
      "/Users/francis/opt/anaconda3/lib/python3.7/site-packages/seaborn/distributions.py:2551: FutureWarning: `distplot` is a deprecated function and will be removed in a future version. Please adapt your code to use either `displot` (a figure-level function with similar flexibility) or `histplot` (an axes-level function for histograms).\n",
      "  warnings.warn(msg, FutureWarning)\n",
      "/Users/francis/opt/anaconda3/lib/python3.7/site-packages/matplotlib/cbook/__init__.py:1402: FutureWarning: Support for multi-dimensional indexing (e.g. `obj[:, None]`) is deprecated and will be removed in a future version.  Convert to a numpy array before indexing instead.\n",
      "  x[:, None]\n",
      "/Users/francis/opt/anaconda3/lib/python3.7/site-packages/matplotlib/axes/_base.py:276: FutureWarning: Support for multi-dimensional indexing (e.g. `obj[:, None]`) is deprecated and will be removed in a future version.  Convert to a numpy array before indexing instead.\n",
      "  x = x[:, np.newaxis]\n",
      "/Users/francis/opt/anaconda3/lib/python3.7/site-packages/matplotlib/axes/_base.py:278: FutureWarning: Support for multi-dimensional indexing (e.g. `obj[:, None]`) is deprecated and will be removed in a future version.  Convert to a numpy array before indexing instead.\n",
      "  y = y[:, np.newaxis]\n"
     ]
    },
    {
     "data": {
      "text/plain": [
       "<matplotlib.axes._subplots.AxesSubplot at 0x7fb8184e2290>"
      ]
     },
     "execution_count": 10,
     "metadata": {},
     "output_type": "execute_result"
    },
    {
     "data": {
      "image/png": "[encoded data removed]",
      "text/plain": [
       "<Figure size 432x288 with 1 Axes>"
      ]
     },
     "metadata": {
      "needs_background": "light"
     },
     "output_type": "display_data"
    }
   ],
   "source": [
    "del  N, M, income_N_tensor, income_M_tensor, r1_tensor, r2_tensor \n",
    "\n",
    "set_parameters(r2, r1)\n",
    "create_grids(r2, r1)\n",
    "S_hat = S_hat_fn(r2, r1, j)\n",
    "\n",
    "draw_random_multipliers()\n",
    "create_tensors(r2, r1)\n",
    "S_bar = S_bar_fn(j)\n",
    "print(S_hat)\n",
    "make_decision(S_bar, S_hat)\n",
    "\n",
    "sns.distplot(S_bar)"
   ]
  },
  {
   "cell_type": "code",
   "execution_count": 13,
   "metadata": {
    "colab": {
     "base_uri": "https://localhost:8080/"
    },
    "executionInfo": {
     "elapsed": 723,
     "status": "ok",
     "timestamp": 1618466879722,
     "user": {
      "displayName": "Francis LIU",
      "photoUrl": "",
      "userId": "02616809759656825643"
     },
     "user_tz": -120
    },
    "id": "TNQ_ZNGGMYM6",
    "outputId": "497dbf46-3c26-4e33-c69a-a3b0bec392da"
   },
   "outputs": [
    {
     "data": {
      "text/plain": [
       "0.11687129897798809"
      ]
     },
     "execution_count": 13,
     "metadata": {
      "tags": []
     },
     "output_type": "execute_result"
    }
   ],
   "source": [
    "S_hat_fn(r1,r2,2)"
   ]
  },
  {
   "cell_type": "code",
   "execution_count": 14,
   "metadata": {
    "colab": {
     "base_uri": "https://localhost:8080/"
    },
    "executionInfo": {
     "elapsed": 1313,
     "status": "ok",
     "timestamp": 1618466881108,
     "user": {
      "displayName": "Francis LIU",
      "photoUrl": "",
      "userId": "02616809759656825643"
     },
     "user_tz": -120
    },
    "id": "Xg82RG7FZ1-F",
    "outputId": "ff649d3f-fa20-4daf-fcf0-95fd0ed6ccd8"
   },
   "outputs": [
    {
     "data": {
      "text/plain": [
       "0.0"
      ]
     },
     "execution_count": 14,
     "metadata": {
      "tags": []
     },
     "output_type": "execute_result"
    }
   ],
   "source": [
    "S_hat_fn(r2,r1,2)"
   ]
  },
  {
   "cell_type": "code",
   "execution_count": 15,
   "metadata": {
    "executionInfo": {
     "elapsed": 880,
     "status": "ok",
     "timestamp": 1618466887212,
     "user": {
      "displayName": "Francis LIU",
      "photoUrl": "",
      "userId": "02616809759656825643"
     },
     "user_tz": -120
    },
    "id": "uWAnrsrFZ3kB"
   },
   "outputs": [],
   "source": [
    "def run(r1, r2, j):\n",
    "  try:\n",
    "    del  N, M, income_N_tensor, income_M_tensor, r1_tensor, r2_tensor \n",
    "  except: \n",
    "    pass\n",
    "    \n",
    "  set_parameters(r1, r2)\n",
    "  create_grids(r1, r2)\n",
    "  S_hat = S_hat_fn(r1, r2, j)\n",
    "\n",
    "  draw_random_multipliers()\n",
    "  create_tensors(r1, r2)\n",
    "  S_bar = S_bar_fn(j)\n",
    "  print(S_hat)\n",
    "  H = make_decision(S_bar, S_hat)\n",
    "  return H"
   ]
  },
  {
   "cell_type": "code",
   "execution_count": 16,
   "metadata": {
    "colab": {
     "base_uri": "https://localhost:8080/"
    },
    "executionInfo": {
     "elapsed": 9474,
     "status": "ok",
     "timestamp": 1618466897727,
     "user": {
      "displayName": "Francis LIU",
      "photoUrl": "",
      "userId": "02616809759656825643"
     },
     "user_tz": -120
    },
    "id": "2PyqYvTFj6Te",
    "outputId": "b59c83db-a885-4e8d-a3e0-4a1e59c82b34"
   },
   "outputs": [
    {
     "name": "stdout",
     "output_type": "stream",
     "text": [
      "0.11687129897798809\n",
      "P-value = 0.0\n",
      "Reject Null; r2 is not domaining r1 (crossing) OR r1 is domaining r2\n"
     ]
    },
    {
     "data": {
      "text/plain": [
       "1"
      ]
     },
     "execution_count": 16,
     "metadata": {
      "tags": []
     },
     "output_type": "execute_result"
    }
   ],
   "source": [
    "run(r1,r2,2)"
   ]
  },
  {
   "cell_type": "code",
   "execution_count": 17,
   "metadata": {
    "colab": {
     "base_uri": "https://localhost:8080/"
    },
    "executionInfo": {
     "elapsed": 13335,
     "status": "ok",
     "timestamp": 1618466905041,
     "user": {
      "displayName": "Francis LIU",
      "photoUrl": "",
      "userId": "02616809759656825643"
     },
     "user_tz": -120
    },
    "id": "9PCly4NBkA9v",
    "outputId": "5b86e842-f307-4932-9439-c3695f3f4753"
   },
   "outputs": [
    {
     "name": "stdout",
     "output_type": "stream",
     "text": [
      "0.0\n",
      "P-value = 0.848\n",
      "Cannot reject Null; r2 is domaining r1 OR r2==r1\n"
     ]
    },
    {
     "data": {
      "text/plain": [
       "0"
      ]
     },
     "execution_count": 17,
     "metadata": {
      "tags": []
     },
     "output_type": "execute_result"
    }
   ],
   "source": [
    "run(r2,r1,2)"
   ]
  },
  {
   "cell_type": "code",
   "execution_count": 26,
   "metadata": {
    "executionInfo": {
     "elapsed": 743,
     "status": "ok",
     "timestamp": 1618469063866,
     "user": {
      "displayName": "Francis LIU",
      "photoUrl": "",
      "userId": "02616809759656825643"
     },
     "user_tz": -120
    },
    "id": "jzraKMc3kFVJ"
   },
   "outputs": [],
   "source": [
    "CR_pairs = list(results.keys())[:10]"
   ]
  },
  {
   "cell_type": "code",
   "execution_count": 27,
   "metadata": {
    "colab": {
     "base_uri": "https://localhost:8080/",
     "height": 1000
    },
    "executionInfo": {
     "elapsed": 786609,
     "status": "error",
     "timestamp": 1618469965515,
     "user": {
      "displayName": "Francis LIU",
      "photoUrl": "",
      "userId": "02616809759656825643"
     },
     "user_tz": -120
    },
    "id": "Aih9s8OIkcqz",
    "outputId": "8d03acfd-4808-42a6-8d1c-8a3a6a66748e"
   },
   "outputs": [
    {
     "name": "stdout",
     "output_type": "stream",
     "text": [
      "Totle number of operation is 100\n",
      "0.0\n",
      "P-value = 0.848\n",
      "Cannot reject Null; r2 is domaining r1 OR r2==r1\n",
      "0.0\n",
      "P-value = 0.866\n",
      "Cannot reject Null; r2 is domaining r1 OR r2==r1\n",
      "0 0\n",
      "0.6061981471626152\n",
      "P-value = 0.0\n",
      "Reject Null; r2 is not domaining r1 (crossing) OR r1 is domaining r2\n",
      "0.0\n",
      "P-value = 0.89\n",
      "Cannot reject Null; r2 is domaining r1 OR r2==r1\n",
      "0 1\n",
      "0.07212764126453387\n",
      "P-value = 0.0\n",
      "Reject Null; r2 is not domaining r1 (crossing) OR r1 is domaining r2\n",
      "9.361951528187605e-05\n",
      "P-value = 0.69\n",
      "Cannot reject Null; r2 is domaining r1 OR r2==r1\n",
      "0 2\n",
      "0.0\n",
      "P-value = 0.864\n",
      "Cannot reject Null; r2 is domaining r1 OR r2==r1\n",
      "0.033079540126979855\n",
      "P-value = 0.0\n",
      "Reject Null; r2 is not domaining r1 (crossing) OR r1 is domaining r2\n",
      "0 3\n",
      "0.0\n",
      "P-value = 0.894\n",
      "Cannot reject Null; r2 is domaining r1 OR r2==r1\n",
      "0.41553286091755426\n",
      "P-value = 0.0\n",
      "Reject Null; r2 is not domaining r1 (crossing) OR r1 is domaining r2\n",
      "0 4\n",
      "0.0\n",
      "P-value = 0.894\n",
      "Cannot reject Null; r2 is domaining r1 OR r2==r1\n",
      "0.10568051699672909\n",
      "P-value = 0.0\n",
      "Reject Null; r2 is not domaining r1 (crossing) OR r1 is domaining r2\n",
      "0 5\n",
      "0.08130264753675849\n",
      "P-value = 0.0\n",
      "Reject Null; r2 is not domaining r1 (crossing) OR r1 is domaining r2\n",
      "0.0\n",
      "P-value = 0.898\n",
      "Cannot reject Null; r2 is domaining r1 OR r2==r1\n",
      "0 6\n",
      "1.014957972830038\n",
      "P-value = 0.0\n",
      "Reject Null; r2 is not domaining r1 (crossing) OR r1 is domaining r2\n",
      "0.0\n",
      "P-value = 0.896\n",
      "Cannot reject Null; r2 is domaining r1 OR r2==r1\n",
      "0 7\n",
      "0.3009644203110983\n",
      "P-value = 0.0\n",
      "Reject Null; r2 is not domaining r1 (crossing) OR r1 is domaining r2\n",
      "0.0\n",
      "P-value = 0.898\n",
      "Cannot reject Null; r2 is domaining r1 OR r2==r1\n",
      "0 8\n",
      "0.7028301995871562\n",
      "P-value = 0.0\n",
      "Reject Null; r2 is not domaining r1 (crossing) OR r1 is domaining r2\n",
      "0.0\n",
      "P-value = 0.888\n",
      "Cannot reject Null; r2 is domaining r1 OR r2==r1\n",
      "0 9\n",
      "0.0\n",
      "P-value = 0.884\n",
      "Cannot reject Null; r2 is domaining r1 OR r2==r1\n",
      "0.0\n",
      "P-value = 0.864\n",
      "Cannot reject Null; r2 is domaining r1 OR r2==r1\n",
      "0.0\n",
      "P-value = 0.892\n",
      "Cannot reject Null; r2 is domaining r1 OR r2==r1\n",
      "0.5340705058980817\n",
      "P-value = 0.0\n",
      "Reject Null; r2 is not domaining r1 (crossing) OR r1 is domaining r2\n",
      "0.0\n",
      "P-value = 0.894\n",
      "Cannot reject Null; r2 is domaining r1 OR r2==r1\n",
      "0.6205330342149397\n",
      "P-value = 0.0\n",
      "Reject Null; r2 is not domaining r1 (crossing) OR r1 is domaining r2\n",
      "0.0\n",
      "P-value = 0.914\n",
      "Cannot reject Null; r2 is domaining r1 OR r2==r1\n",
      "1.0217310080801698\n",
      "P-value = 0.0\n",
      "Reject Null; r2 is not domaining r1 (crossing) OR r1 is domaining r2\n",
      "0.0\n",
      "P-value = 0.892\n",
      "Cannot reject Null; r2 is domaining r1 OR r2==r1\n",
      "0.7115755728148281\n",
      "P-value = 0.0\n",
      "Reject Null; r2 is not domaining r1 (crossing) OR r1 is domaining r2\n",
      "0.0\n",
      "P-value = 0.892\n",
      "Cannot reject Null; r2 is domaining r1 OR r2==r1\n",
      "0.5248954996258571\n",
      "P-value = 0.0\n",
      "Reject Null; r2 is not domaining r1 (crossing) OR r1 is domaining r2\n",
      "0.4087598256674231\n",
      "P-value = 0.0\n",
      "Reject Null; r2 is not domaining r1 (crossing) OR r1 is domaining r2\n",
      "0.0\n",
      "P-value = 0.896\n",
      "Cannot reject Null; r2 is domaining r1 OR r2==r1\n",
      "0.0010838242846165087\n",
      "P-value = 0.2\n",
      "Cannot reject Null; r2 is domaining r1 OR r2==r1\n",
      "0.3052337268515169\n",
      "P-value = 0.0\n",
      "Reject Null; r2 is not domaining r1 (crossing) OR r1 is domaining r2\n",
      "0.0966320524245414\n",
      "P-value = 0.0\n",
      "Reject Null; r2 is not domaining r1 (crossing) OR r1 is domaining r2\n",
      "0.0\n",
      "P-value = 0.89\n",
      "Cannot reject Null; r2 is domaining r1 OR r2==r1\n",
      "0.0\n",
      "P-value = 0.834\n",
      "Cannot reject Null; r2 is domaining r1 OR r2==r1\n",
      "0.0\n",
      "P-value = 0.872\n",
      "Cannot reject Null; r2 is domaining r1 OR r2==r1\n",
      "0.0\n",
      "P-value = 0.88\n",
      "Cannot reject Null; r2 is domaining r1 OR r2==r1\n",
      "0.08646252831685869\n",
      "P-value = 0.0\n",
      "Reject Null; r2 is not domaining r1 (crossing) OR r1 is domaining r2\n",
      "0.0\n",
      "P-value = 0.908\n",
      "Cannot reject Null; r2 is domaining r1 OR r2==r1\n",
      "0.4876605021820885\n",
      "P-value = 0.0\n",
      "Reject Null; r2 is not domaining r1 (crossing) OR r1 is domaining r2\n",
      "0.0\n",
      "P-value = 0.9\n",
      "Cannot reject Null; r2 is domaining r1 OR r2==r1\n",
      "0.17750506691674597\n",
      "P-value = 0.0\n",
      "Reject Null; r2 is not domaining r1 (crossing) OR r1 is domaining r2\n",
      "0.03884134870088163\n",
      "P-value = 0.0\n",
      "Reject Null; r2 is not domaining r1 (crossing) OR r1 is domaining r2\n",
      "0.0\n",
      "P-value = 0.858\n",
      "Cannot reject Null; r2 is domaining r1 OR r2==r1\n",
      "0.942830331565504\n",
      "P-value = 0.0\n",
      "Reject Null; r2 is not domaining r1 (crossing) OR r1 is domaining r2\n",
      "0.0\n",
      "P-value = 0.888\n",
      "Cannot reject Null; r2 is domaining r1 OR r2==r1\n",
      "0.22883677904656483\n",
      "P-value = 0.0\n",
      "Reject Null; r2 is not domaining r1 (crossing) OR r1 is domaining r2\n",
      "0.0\n",
      "P-value = 0.862\n",
      "Cannot reject Null; r2 is domaining r1 OR r2==r1\n",
      "0.630702558322622\n",
      "P-value = 0.0\n",
      "Reject Null; r2 is not domaining r1 (crossing) OR r1 is domaining r2\n",
      "0.0\n",
      "P-value = 0.87\n",
      "Cannot reject Null; r2 is domaining r1 OR r2==r1\n",
      "0.0\n",
      "P-value = 0.89\n",
      "Cannot reject Null; r2 is domaining r1 OR r2==r1\n",
      "0.0\n",
      "P-value = 0.86\n",
      "Cannot reject Null; r2 is domaining r1 OR r2==r1\n",
      "0.0\n",
      "P-value = 0.906\n",
      "Cannot reject Null; r2 is domaining r1 OR r2==r1\n",
      "0.4011979738652302\n",
      "P-value = 0.0\n",
      "Reject Null; r2 is not domaining r1 (crossing) OR r1 is domaining r2\n",
      "0.0\n",
      "P-value = 0.874\n",
      "Cannot reject Null; r2 is domaining r1 OR r2==r1\n",
      "0.09104253859988766\n",
      "P-value = 0.0\n",
      "Reject Null; r2 is not domaining r1 (crossing) OR r1 is domaining r2\n",
      "0.10737409235092556\n",
      "P-value = 0.0\n",
      "Reject Null; r2 is not domaining r1 (crossing) OR r1 is domaining r2\n",
      "0.0\n",
      "P-value = 0.886\n",
      "Cannot reject Null; r2 is domaining r1 OR r2==r1\n",
      "1.0292928598823627\n",
      "P-value = 0.0\n",
      "Reject Null; r2 is not domaining r1 (crossing) OR r1 is domaining r2\n",
      "0.0\n",
      "P-value = 0.91\n",
      "Cannot reject Null; r2 is domaining r1 OR r2==r1\n",
      "0.31529930736342315\n",
      "P-value = 0.0\n",
      "Reject Null; r2 is not domaining r1 (crossing) OR r1 is domaining r2\n",
      "0.0\n",
      "P-value = 0.864\n",
      "Cannot reject Null; r2 is domaining r1 OR r2==r1\n",
      "0.7171650866394811\n",
      "P-value = 0.0\n",
      "Reject Null; r2 is not domaining r1 (crossing) OR r1 is domaining r2\n",
      "0.0\n",
      "P-value = 0.892\n",
      "Cannot reject Null; r2 is domaining r1 OR r2==r1\n",
      "0.0\n",
      "P-value = 0.858\n",
      "Cannot reject Null; r2 is domaining r1 OR r2==r1\n",
      "0.0\n",
      "P-value = 0.882\n",
      "Cannot reject Null; r2 is domaining r1 OR r2==r1\n",
      "0.3101554352653418\n",
      "P-value = 0.0\n",
      "Reject Null; r2 is not domaining r1 (crossing) OR r1 is domaining r2\n",
      "0.0009845089357119403\n",
      "P-value = 0.37\n",
      "Cannot reject Null; r2 is domaining r1 OR r2==r1\n",
      "0.4968355084543124\n",
      "P-value = 0.0\n",
      "Reject Null; r2 is not domaining r1 (crossing) OR r1 is domaining r2\n",
      "0.0\n",
      "P-value = 0.872\n",
      "Cannot reject Null; r2 is domaining r1 OR r2==r1\n",
      "1.430490833747592\n",
      "P-value = 0.0\n",
      "Reject Null; r2 is not domaining r1 (crossing) OR r1 is domaining r2\n",
      "0.0\n",
      "P-value = 0.922\n",
      "Cannot reject Null; r2 is domaining r1 OR r2==r1\n",
      "0.7164972812286534\n",
      "P-value = 0.0\n",
      "Reject Null; r2 is not domaining r1 (crossing) OR r1 is domaining r2\n",
      "0.0\n",
      "P-value = 0.912\n",
      "Cannot reject Null; r2 is domaining r1 OR r2==r1\n",
      "1.1183630605047101\n",
      "P-value = 0.0\n",
      "Reject Null; r2 is not domaining r1 (crossing) OR r1 is domaining r2\n",
      "0.0\n",
      "P-value = 0.912\n",
      "Cannot reject Null; r2 is domaining r1 OR r2==r1\n",
      "0.0\n",
      "P-value = 0.872\n",
      "Cannot reject Null; r2 is domaining r1 OR r2==r1\n",
      "0.0\n",
      "P-value = 0.862\n",
      "Cannot reject Null; r2 is domaining r1 OR r2==r1\n",
      "0.1866800731889706\n",
      "P-value = 0.0\n",
      "Reject Null; r2 is not domaining r1 (crossing) OR r1 is domaining r2\n",
      "0.0\n",
      "P-value = 0.88\n",
      "Cannot reject Null; r2 is domaining r1 OR r2==r1\n",
      "1.1203353984822504\n",
      "P-value = 0.0\n",
      "Reject Null; r2 is not domaining r1 (crossing) OR r1 is domaining r2\n",
      "0.0\n",
      "P-value = 0.898\n",
      "Cannot reject Null; r2 is domaining r1 OR r2==r1\n",
      "0.4063418459633112\n",
      "P-value = 0.0\n",
      "Reject Null; r2 is not domaining r1 (crossing) OR r1 is domaining r2\n",
      "0.0\n",
      "P-value = 0.872\n",
      "Cannot reject Null; r2 is domaining r1 OR r2==r1\n",
      "0.8082076252393687\n",
      "P-value = 0.0\n",
      "Reject Null; r2 is not domaining r1 (crossing) OR r1 is domaining r2\n",
      "0.0\n",
      "P-value = 0.882\n",
      "Cannot reject Null; r2 is domaining r1 OR r2==r1\n",
      "0.0\n",
      "P-value = 0.862\n",
      "Cannot reject Null; r2 is domaining r1 OR r2==r1\n",
      "0.0\n",
      "P-value = 0.872\n",
      "Cannot reject Null; r2 is domaining r1 OR r2==r1\n"
     ]
    },
    {
     "ename": "KeyboardInterrupt",
     "evalue": "ignored",
     "output_type": "error",
     "traceback": [
      "\u001b[0;31m---------------------------------------------------------------------------\u001b[0m",
      "\u001b[0;31mKeyboardInterrupt\u001b[0m                         Traceback (most recent call last)",
      "\u001b[0;32m<ipython-input-27-6ebccd3ea14a>\u001b[0m in \u001b[0;36m<module>\u001b[0;34m()\u001b[0m\n\u001b[1;32m     11\u001b[0m       \u001b[0mr1\u001b[0m \u001b[0;34m=\u001b[0m \u001b[0mnp\u001b[0m\u001b[0;34m.\u001b[0m\u001b[0marray\u001b[0m\u001b[0;34m(\u001b[0m\u001b[0mresults\u001b[0m\u001b[0;34m[\u001b[0m\u001b[0mpair1\u001b[0m\u001b[0;34m]\u001b[0m\u001b[0;34m)\u001b[0m\u001b[0;34m\u001b[0m\u001b[0;34m\u001b[0m\u001b[0m\n\u001b[1;32m     12\u001b[0m       \u001b[0mr2\u001b[0m \u001b[0;34m=\u001b[0m \u001b[0mnp\u001b[0m\u001b[0;34m.\u001b[0m\u001b[0marray\u001b[0m\u001b[0;34m(\u001b[0m\u001b[0mresults\u001b[0m\u001b[0;34m[\u001b[0m\u001b[0mpair2\u001b[0m\u001b[0;34m]\u001b[0m\u001b[0;34m)\u001b[0m\u001b[0;34m\u001b[0m\u001b[0;34m\u001b[0m\u001b[0m\n\u001b[0;32m---> 13\u001b[0;31m       \u001b[0mSOSD\u001b[0m\u001b[0;34m.\u001b[0m\u001b[0miloc\u001b[0m\u001b[0;34m[\u001b[0m\u001b[0mi\u001b[0m\u001b[0;34m,\u001b[0m\u001b[0mk\u001b[0m\u001b[0;34m]\u001b[0m \u001b[0;34m=\u001b[0m \u001b[0mrun\u001b[0m\u001b[0;34m(\u001b[0m\u001b[0mr1\u001b[0m\u001b[0;34m,\u001b[0m \u001b[0mr2\u001b[0m\u001b[0;34m,\u001b[0m \u001b[0mj\u001b[0m\u001b[0;34m=\u001b[0m\u001b[0;36m2\u001b[0m\u001b[0;34m)\u001b[0m\u001b[0;34m\u001b[0m\u001b[0;34m\u001b[0m\u001b[0m\n\u001b[0m\u001b[1;32m     14\u001b[0m       \u001b[0mSOSD\u001b[0m\u001b[0;34m.\u001b[0m\u001b[0miloc\u001b[0m\u001b[0;34m[\u001b[0m\u001b[0mk\u001b[0m\u001b[0;34m,\u001b[0m\u001b[0mi\u001b[0m\u001b[0;34m]\u001b[0m \u001b[0;34m=\u001b[0m \u001b[0mrun\u001b[0m\u001b[0;34m(\u001b[0m\u001b[0mr2\u001b[0m\u001b[0;34m,\u001b[0m \u001b[0mr1\u001b[0m\u001b[0;34m,\u001b[0m \u001b[0mj\u001b[0m\u001b[0;34m=\u001b[0m\u001b[0;36m2\u001b[0m\u001b[0;34m)\u001b[0m\u001b[0;34m\u001b[0m\u001b[0;34m\u001b[0m\u001b[0m\n\u001b[1;32m     15\u001b[0m \u001b[0;34m\u001b[0m\u001b[0m\n",
      "\u001b[0;32m<ipython-input-15-d6f61bfc2119>\u001b[0m in \u001b[0;36mrun\u001b[0;34m(r1, r2, j)\u001b[0m\n\u001b[1;32m     11\u001b[0m   \u001b[0mdraw_random_multipliers\u001b[0m\u001b[0;34m(\u001b[0m\u001b[0;34m)\u001b[0m\u001b[0;34m\u001b[0m\u001b[0;34m\u001b[0m\u001b[0m\n\u001b[1;32m     12\u001b[0m   \u001b[0mcreate_tensors\u001b[0m\u001b[0;34m(\u001b[0m\u001b[0mr1\u001b[0m\u001b[0;34m,\u001b[0m \u001b[0mr2\u001b[0m\u001b[0;34m)\u001b[0m\u001b[0;34m\u001b[0m\u001b[0;34m\u001b[0m\u001b[0m\n\u001b[0;32m---> 13\u001b[0;31m   \u001b[0mS_bar\u001b[0m \u001b[0;34m=\u001b[0m \u001b[0mS_bar_fn\u001b[0m\u001b[0;34m(\u001b[0m\u001b[0mj\u001b[0m\u001b[0;34m)\u001b[0m\u001b[0;34m\u001b[0m\u001b[0;34m\u001b[0m\u001b[0m\n\u001b[0m\u001b[1;32m     14\u001b[0m   \u001b[0mprint\u001b[0m\u001b[0;34m(\u001b[0m\u001b[0mS_hat\u001b[0m\u001b[0;34m)\u001b[0m\u001b[0;34m\u001b[0m\u001b[0;34m\u001b[0m\u001b[0m\n\u001b[1;32m     15\u001b[0m   \u001b[0mH\u001b[0m \u001b[0;34m=\u001b[0m \u001b[0mmake_decision\u001b[0m\u001b[0;34m(\u001b[0m\u001b[0mS_bar\u001b[0m\u001b[0;34m,\u001b[0m \u001b[0mS_hat\u001b[0m\u001b[0;34m)\u001b[0m\u001b[0;34m\u001b[0m\u001b[0;34m\u001b[0m\u001b[0m\n",
      "\u001b[0;32m<ipython-input-5-af6d42caa7ce>\u001b[0m in \u001b[0;36mS_bar_fn\u001b[0;34m(j)\u001b[0m\n\u001b[1;32m     16\u001b[0m   \u001b[0mb\u001b[0m \u001b[0;34m=\u001b[0m \u001b[0mI_tf\u001b[0m\u001b[0;34m(\u001b[0m\u001b[0mincome_N_tensor\u001b[0m\u001b[0;34m,\u001b[0m \u001b[0mr1_tensor\u001b[0m\u001b[0;34m,\u001b[0m \u001b[0mj\u001b[0m\u001b[0;34m,\u001b[0m \u001b[0mN\u001b[0m\u001b[0;34m)\u001b[0m\u001b[0;34m\u001b[0m\u001b[0;34m\u001b[0m\u001b[0m\n\u001b[1;32m     17\u001b[0m \u001b[0;34m\u001b[0m\u001b[0m\n\u001b[0;32m---> 18\u001b[0;31m   \u001b[0mc\u001b[0m \u001b[0;34m=\u001b[0m \u001b[0mempirical_I_tf\u001b[0m\u001b[0;34m(\u001b[0m\u001b[0mincome_M_tensor\u001b[0m\u001b[0;34m,\u001b[0m \u001b[0mr2_tensor\u001b[0m\u001b[0;34m,\u001b[0m \u001b[0mj\u001b[0m\u001b[0;34m)\u001b[0m\u001b[0;34m\u001b[0m\u001b[0;34m\u001b[0m\u001b[0m\n\u001b[0m\u001b[1;32m     19\u001b[0m   \u001b[0md\u001b[0m \u001b[0;34m=\u001b[0m \u001b[0mI_tf\u001b[0m\u001b[0;34m(\u001b[0m\u001b[0mincome_M_tensor\u001b[0m\u001b[0;34m,\u001b[0m \u001b[0mr2_tensor\u001b[0m\u001b[0;34m,\u001b[0m \u001b[0mj\u001b[0m\u001b[0;34m,\u001b[0m \u001b[0mM\u001b[0m\u001b[0;34m)\u001b[0m\u001b[0;34m\u001b[0m\u001b[0;34m\u001b[0m\u001b[0m\n\u001b[1;32m     20\u001b[0m \u001b[0;34m\u001b[0m\u001b[0m\n",
      "\u001b[0;32m<ipython-input-5-af6d42caa7ce>\u001b[0m in \u001b[0;36mempirical_I_tf\u001b[0;34m(z, x, j)\u001b[0m\n\u001b[1;32m      2\u001b[0m \u001b[0;32mdef\u001b[0m \u001b[0mempirical_I_tf\u001b[0m\u001b[0;34m(\u001b[0m\u001b[0mz\u001b[0m\u001b[0;34m,\u001b[0m \u001b[0mx\u001b[0m\u001b[0;34m,\u001b[0m \u001b[0mj\u001b[0m\u001b[0;34m)\u001b[0m\u001b[0;34m:\u001b[0m\u001b[0;34m\u001b[0m\u001b[0;34m\u001b[0m\u001b[0m\n\u001b[1;32m      3\u001b[0m     \u001b[0;31m# x: one observation of the sample\u001b[0m\u001b[0;34m\u001b[0m\u001b[0;34m\u001b[0m\u001b[0;34m\u001b[0m\u001b[0m\n\u001b[0;32m----> 4\u001b[0;31m     \u001b[0;32mreturn\u001b[0m \u001b[0mtf\u001b[0m\u001b[0;34m.\u001b[0m\u001b[0mcast\u001b[0m\u001b[0;34m(\u001b[0m\u001b[0;34m(\u001b[0m\u001b[0mx\u001b[0m \u001b[0;34m<=\u001b[0m \u001b[0mz\u001b[0m\u001b[0;34m)\u001b[0m\u001b[0;34m,\u001b[0m \u001b[0mtf\u001b[0m\u001b[0;34m.\u001b[0m\u001b[0mfloat64\u001b[0m\u001b[0;34m)\u001b[0m\u001b[0;34m*\u001b[0m\u001b[0mtf\u001b[0m\u001b[0;34m.\u001b[0m\u001b[0mmath\u001b[0m\u001b[0;34m.\u001b[0m\u001b[0madd\u001b[0m\u001b[0;34m(\u001b[0m\u001b[0mz\u001b[0m\u001b[0;34m,\u001b[0m \u001b[0;34m-\u001b[0m\u001b[0mx\u001b[0m\u001b[0;34m)\u001b[0m\u001b[0;34m**\u001b[0m\u001b[0;34m(\u001b[0m\u001b[0mj\u001b[0m\u001b[0;34m-\u001b[0m\u001b[0;36m1\u001b[0m\u001b[0;34m)\u001b[0m\u001b[0;34m/\u001b[0m\u001b[0mnp\u001b[0m\u001b[0;34m.\u001b[0m\u001b[0mmath\u001b[0m\u001b[0;34m.\u001b[0m\u001b[0mfactorial\u001b[0m\u001b[0;34m(\u001b[0m\u001b[0mj\u001b[0m\u001b[0;34m-\u001b[0m\u001b[0;36m1\u001b[0m\u001b[0;34m)\u001b[0m\u001b[0;34m\u001b[0m\u001b[0;34m\u001b[0m\u001b[0m\n\u001b[0m\u001b[1;32m      5\u001b[0m \u001b[0;34m\u001b[0m\u001b[0m\n\u001b[1;32m      6\u001b[0m \u001b[0;32mdef\u001b[0m \u001b[0mI_tf\u001b[0m\u001b[0;34m(\u001b[0m\u001b[0mz\u001b[0m\u001b[0;34m,\u001b[0m \u001b[0mX\u001b[0m\u001b[0;34m,\u001b[0m \u001b[0mj\u001b[0m\u001b[0;34m,\u001b[0m \u001b[0mN\u001b[0m\u001b[0;34m)\u001b[0m\u001b[0;34m:\u001b[0m\u001b[0;34m\u001b[0m\u001b[0;34m\u001b[0m\u001b[0m\n",
      "\u001b[0;32m/usr/local/lib/python3.7/dist-packages/tensorflow/python/ops/math_ops.py\u001b[0m in \u001b[0;36mbinary_op_wrapper\u001b[0;34m(x, y)\u001b[0m\n\u001b[1;32m   1162\u001b[0m     \u001b[0;32mwith\u001b[0m \u001b[0mops\u001b[0m\u001b[0;34m.\u001b[0m\u001b[0mname_scope\u001b[0m\u001b[0;34m(\u001b[0m\u001b[0;32mNone\u001b[0m\u001b[0;34m,\u001b[0m \u001b[0mop_name\u001b[0m\u001b[0;34m,\u001b[0m \u001b[0;34m[\u001b[0m\u001b[0mx\u001b[0m\u001b[0;34m,\u001b[0m \u001b[0my\u001b[0m\u001b[0;34m]\u001b[0m\u001b[0;34m)\u001b[0m \u001b[0;32mas\u001b[0m \u001b[0mname\u001b[0m\u001b[0;34m:\u001b[0m\u001b[0;34m\u001b[0m\u001b[0;34m\u001b[0m\u001b[0m\n\u001b[1;32m   1163\u001b[0m       \u001b[0;32mtry\u001b[0m\u001b[0;34m:\u001b[0m\u001b[0;34m\u001b[0m\u001b[0;34m\u001b[0m\u001b[0m\n\u001b[0;32m-> 1164\u001b[0;31m         \u001b[0;32mreturn\u001b[0m \u001b[0mfunc\u001b[0m\u001b[0;34m(\u001b[0m\u001b[0mx\u001b[0m\u001b[0;34m,\u001b[0m \u001b[0my\u001b[0m\u001b[0;34m,\u001b[0m \u001b[0mname\u001b[0m\u001b[0;34m=\u001b[0m\u001b[0mname\u001b[0m\u001b[0;34m)\u001b[0m\u001b[0;34m\u001b[0m\u001b[0;34m\u001b[0m\u001b[0m\n\u001b[0m\u001b[1;32m   1165\u001b[0m       \u001b[0;32mexcept\u001b[0m \u001b[0;34m(\u001b[0m\u001b[0mTypeError\u001b[0m\u001b[0;34m,\u001b[0m \u001b[0mValueError\u001b[0m\u001b[0;34m)\u001b[0m \u001b[0;32mas\u001b[0m \u001b[0me\u001b[0m\u001b[0;34m:\u001b[0m\u001b[0;34m\u001b[0m\u001b[0;34m\u001b[0m\u001b[0m\n\u001b[1;32m   1166\u001b[0m         \u001b[0;31m# Even if dispatching the op failed, the RHS may be a tensor aware\u001b[0m\u001b[0;34m\u001b[0m\u001b[0;34m\u001b[0m\u001b[0;34m\u001b[0m\u001b[0m\n",
      "\u001b[0;32m/usr/local/lib/python3.7/dist-packages/tensorflow/python/util/dispatch.py\u001b[0m in \u001b[0;36mwrapper\u001b[0;34m(*args, **kwargs)\u001b[0m\n\u001b[1;32m    199\u001b[0m     \u001b[0;34m\"\"\"Call target, and fall back on dispatchers if there is a TypeError.\"\"\"\u001b[0m\u001b[0;34m\u001b[0m\u001b[0;34m\u001b[0m\u001b[0m\n\u001b[1;32m    200\u001b[0m     \u001b[0;32mtry\u001b[0m\u001b[0;34m:\u001b[0m\u001b[0;34m\u001b[0m\u001b[0;34m\u001b[0m\u001b[0m\n\u001b[0;32m--> 201\u001b[0;31m       \u001b[0;32mreturn\u001b[0m \u001b[0mtarget\u001b[0m\u001b[0;34m(\u001b[0m\u001b[0;34m*\u001b[0m\u001b[0margs\u001b[0m\u001b[0;34m,\u001b[0m \u001b[0;34m**\u001b[0m\u001b[0mkwargs\u001b[0m\u001b[0;34m)\u001b[0m\u001b[0;34m\u001b[0m\u001b[0;34m\u001b[0m\u001b[0m\n\u001b[0m\u001b[1;32m    202\u001b[0m     \u001b[0;32mexcept\u001b[0m \u001b[0;34m(\u001b[0m\u001b[0mTypeError\u001b[0m\u001b[0;34m,\u001b[0m \u001b[0mValueError\u001b[0m\u001b[0;34m)\u001b[0m\u001b[0;34m:\u001b[0m\u001b[0;34m\u001b[0m\u001b[0;34m\u001b[0m\u001b[0m\n\u001b[1;32m    203\u001b[0m       \u001b[0;31m# Note: convert_to_eager_tensor currently raises a ValueError, not a\u001b[0m\u001b[0;34m\u001b[0m\u001b[0;34m\u001b[0m\u001b[0;34m\u001b[0m\u001b[0m\n",
      "\u001b[0;32m/usr/local/lib/python3.7/dist-packages/tensorflow/python/ops/math_ops.py\u001b[0m in \u001b[0;36mpow\u001b[0;34m(x, y, name)\u001b[0m\n\u001b[1;32m    668\u001b[0m   \"\"\"\n\u001b[1;32m    669\u001b[0m   \u001b[0;32mwith\u001b[0m \u001b[0mops\u001b[0m\u001b[0;34m.\u001b[0m\u001b[0mname_scope\u001b[0m\u001b[0;34m(\u001b[0m\u001b[0mname\u001b[0m\u001b[0;34m,\u001b[0m \u001b[0;34m\"Pow\"\u001b[0m\u001b[0;34m,\u001b[0m \u001b[0;34m[\u001b[0m\u001b[0mx\u001b[0m\u001b[0;34m]\u001b[0m\u001b[0;34m)\u001b[0m \u001b[0;32mas\u001b[0m \u001b[0mname\u001b[0m\u001b[0;34m:\u001b[0m\u001b[0;34m\u001b[0m\u001b[0;34m\u001b[0m\u001b[0m\n\u001b[0;32m--> 670\u001b[0;31m     \u001b[0;32mreturn\u001b[0m \u001b[0mgen_math_ops\u001b[0m\u001b[0;34m.\u001b[0m\u001b[0m_pow\u001b[0m\u001b[0;34m(\u001b[0m\u001b[0mx\u001b[0m\u001b[0;34m,\u001b[0m \u001b[0my\u001b[0m\u001b[0;34m,\u001b[0m \u001b[0mname\u001b[0m\u001b[0;34m=\u001b[0m\u001b[0mname\u001b[0m\u001b[0;34m)\u001b[0m\u001b[0;34m\u001b[0m\u001b[0;34m\u001b[0m\u001b[0m\n\u001b[0m\u001b[1;32m    671\u001b[0m \u001b[0;34m\u001b[0m\u001b[0m\n\u001b[1;32m    672\u001b[0m \u001b[0;34m\u001b[0m\u001b[0m\n",
      "\u001b[0;32m/usr/local/lib/python3.7/dist-packages/tensorflow/python/ops/gen_math_ops.py\u001b[0m in \u001b[0;36m_pow\u001b[0;34m(x, y, name)\u001b[0m\n\u001b[1;32m   6549\u001b[0m     \u001b[0;32mtry\u001b[0m\u001b[0;34m:\u001b[0m\u001b[0;34m\u001b[0m\u001b[0;34m\u001b[0m\u001b[0m\n\u001b[1;32m   6550\u001b[0m       _result = pywrap_tfe.TFE_Py_FastPathExecute(\n\u001b[0;32m-> 6551\u001b[0;31m         _ctx, \"Pow\", name, x, y)\n\u001b[0m\u001b[1;32m   6552\u001b[0m       \u001b[0;32mreturn\u001b[0m \u001b[0m_result\u001b[0m\u001b[0;34m\u001b[0m\u001b[0;34m\u001b[0m\u001b[0m\n\u001b[1;32m   6553\u001b[0m     \u001b[0;32mexcept\u001b[0m \u001b[0m_core\u001b[0m\u001b[0;34m.\u001b[0m\u001b[0m_NotOkStatusException\u001b[0m \u001b[0;32mas\u001b[0m \u001b[0me\u001b[0m\u001b[0;34m:\u001b[0m\u001b[0;34m\u001b[0m\u001b[0;34m\u001b[0m\u001b[0m\n",
      "\u001b[0;31mKeyboardInterrupt\u001b[0m: "
     ]
    }
   ],
   "source": [
    "print(\"Totle number of operation is\", len(CR_pairs)**2)\n",
    "\n",
    "SOSD = np.ones([len(CR_pairs), len(CR_pairs)])+1000\n",
    "SOSD = pd.DataFrame(SOSD, index=CR_pairs, columns=CR_pairs)\n",
    "save_file = '/content/drive/My Drive/00_IRTG1792/copula/Py_notebooks/SOSD.pickle'\n",
    "for i, pair1 in enumerate(CR_pairs):\n",
    "  for k, pair2 in enumerate(CR_pairs):\n",
    "    if k<i:\n",
    "      pass \n",
    "    else:\n",
    "      r1 = np.array(results[pair1])\n",
    "      r2 = np.array(results[pair2])\n",
    "      SOSD.iloc[i,k] = run(r1, r2, j=2)\n",
    "      SOSD.iloc[k,i] = run(r2, r1, j=2)\n",
    "\n",
    "      if (k%10 == 0):\n",
    "        with open(save_file, 'wb') as handle:\n",
    "          pickle.dump(SOSD, handle)\n",
    "        print(i,k)\n"
   ]
  },
  {
   "cell_type": "code",
   "execution_count": 168,
   "metadata": {
    "colab": {
     "base_uri": "https://localhost:8080/",
     "height": 299
    },
    "executionInfo": {
     "elapsed": 987,
     "status": "ok",
     "timestamp": 1618440865092,
     "user": {
      "displayName": "Francis LIU",
      "photoUrl": "",
      "userId": "02616809759656825643"
     },
     "user_tz": -120
    },
    "id": "IbO7A6CFks7D",
    "outputId": "fcd5c17b-8714-461f-e77e-1f9c9b7ad1cf"
   },
   "outputs": [
    {
     "name": "stdout",
     "output_type": "stream",
     "text": [
      "0.8755050911574485 1.1242429199677781\n"
     ]
    },
    {
     "data": {
      "text/plain": [
       "<matplotlib.legend.Legend at 0x7f130f7948d0>"
      ]
     },
     "execution_count": 168,
     "metadata": {
      "tags": []
     },
     "output_type": "execute_result"
    },
    {
     "data": {
      "image/png": "[encoded data removed]",
      "text/plain": [
       "<Figure size 432x288 with 1 Axes>"
      ]
     },
     "metadata": {
      "needs_background": "light",
      "tags": []
     },
     "output_type": "display_data"
    }
   ],
   "source": [
    "r1 = results[CR_pairs[0]]\n",
    "r2 = results[CR_pairs[1]]\n",
    "ecdf1 = ECDF(r1)\n",
    "ecdf2 = ECDF(r2)\n",
    "\n",
    "_min = np.min([np.min(r1), np.min(r2)]) # find a common support for two incomes\n",
    "_max = np.max([np.max(r1), np.max(r2)])\n",
    "x = np.linspace(_min, _max, n_grids) # grids\n",
    "print(_min, _max)\n",
    "plt.plot(x, ecdf1(x), label=CR_pairs[0])\n",
    "plt.plot(x, ecdf2(x), label=CR_pairs[1])\n",
    "plt.legend()"
   ]
  },
  {
   "cell_type": "code",
   "execution_count": 20,
   "metadata": {
    "executionInfo": {
     "elapsed": 809,
     "status": "ok",
     "timestamp": 1618466996497,
     "user": {
      "displayName": "Francis LIU",
      "photoUrl": "",
      "userId": "02616809759656825643"
     },
     "user_tz": -120
    },
    "id": "-AHnjdmQlZMc"
   },
   "outputs": [],
   "source": [
    "import pandas as pd\n"
   ]
  },
  {
   "cell_type": "code",
   "execution_count": 23,
   "metadata": {
    "executionInfo": {
     "elapsed": 781,
     "status": "ok",
     "timestamp": 1618467013753,
     "user": {
      "displayName": "Francis LIU",
      "photoUrl": "",
      "userId": "02616809759656825643"
     },
     "user_tz": -120
    },
    "id": "TCWQE0iqm4dp"
   },
   "outputs": [],
   "source": []
  },
  {
   "cell_type": "code",
   "execution_count": 22,
   "metadata": {
    "colab": {
     "base_uri": "https://localhost:8080/",
     "height": 207
    },
    "executionInfo": {
     "elapsed": 758,
     "status": "ok",
     "timestamp": 1618467007528,
     "user": {
      "displayName": "Francis LIU",
      "photoUrl": "",
      "userId": "02616809759656825643"
     },
     "user_tz": -120
    },
    "id": "fP2Sh4QgnCKK",
    "outputId": "1fcc1765-054d-4757-b1bb-dd4aaa30b687"
   },
   "outputs": [
    {
     "data": {
      "text/html": [
       "<div>\n",
       "<style scoped>\n",
       "    .dataframe tbody tr th:only-of-type {\n",
       "        vertical-align: middle;\n",
       "    }\n",
       "\n",
       "    .dataframe tbody tr th {\n",
       "        vertical-align: top;\n",
       "    }\n",
       "\n",
       "    .dataframe thead th {\n",
       "        text-align: right;\n",
       "    }\n",
       "</style>\n",
       "<table border=\"1\" class=\"dataframe\">\n",
       "  <thead>\n",
       "    <tr style=\"text-align: right;\">\n",
       "      <th></th>\n",
       "      <th>(Gaussian, ERM k=10)</th>\n",
       "      <th>(Gaussian, ES q=0.01)</th>\n",
       "      <th>(Gaussian, ES q=0.05)</th>\n",
       "    </tr>\n",
       "  </thead>\n",
       "  <tbody>\n",
       "    <tr>\n",
       "      <th>(Gaussian, ERM k=10)</th>\n",
       "      <td>0.0</td>\n",
       "      <td>1.0</td>\n",
       "      <td>1.0</td>\n",
       "    </tr>\n",
       "    <tr>\n",
       "      <th>(Gaussian, ES q=0.01)</th>\n",
       "      <td>0.0</td>\n",
       "      <td>0.0</td>\n",
       "      <td>0.0</td>\n",
       "    </tr>\n",
       "    <tr>\n",
       "      <th>(Gaussian, ES q=0.05)</th>\n",
       "      <td>0.0</td>\n",
       "      <td>1.0</td>\n",
       "      <td>0.0</td>\n",
       "    </tr>\n",
       "  </tbody>\n",
       "</table>\n",
       "</div>"
      ],
      "text/plain": [
       "                       (Gaussian, ERM k=10)  ...  (Gaussian, ES q=0.05)\n",
       "(Gaussian, ERM k=10)                    0.0  ...                    1.0\n",
       "(Gaussian, ES q=0.01)                   0.0  ...                    0.0\n",
       "(Gaussian, ES q=0.05)                   0.0  ...                    0.0\n",
       "\n",
       "[3 rows x 3 columns]"
      ]
     },
     "execution_count": 22,
     "metadata": {
      "tags": []
     },
     "output_type": "execute_result"
    }
   ],
   "source": [
    "SOSD"
   ]
  },
  {
   "cell_type": "code",
   "execution_count": null,
   "metadata": {
    "id": "7cgd6oYLnYWR"
   },
   "outputs": [],
   "source": [
    "SOSD.to_pickle('/content/drive/My Drive/00_IRTG1792/copula/Py_notebooks/SOSD.pkl')"
   ]
  },
  {
   "cell_type": "code",
   "execution_count": 183,
   "metadata": {
    "colab": {
     "base_uri": "https://localhost:8080/",
     "height": 35
    },
    "executionInfo": {
     "elapsed": 520,
     "status": "ok",
     "timestamp": 1618441412512,
     "user": {
      "displayName": "Francis LIU",
      "photoUrl": "",
      "userId": "02616809759656825643"
     },
     "user_tz": -120
    },
    "id": "gA8R_wkgn4i5",
    "outputId": "2d257593-412f-418c-c3b7-3c50068a4249"
   },
   "outputs": [
    {
     "data": {
      "application/vnd.google.colaboratory.intrinsic+json": {
       "type": "string"
      },
      "text/plain": [
       "'1.1.5'"
      ]
     },
     "execution_count": 183,
     "metadata": {
      "tags": []
     },
     "output_type": "execute_result"
    }
   ],
   "source": [
    "pd.__version__"
   ]
  },
  {
   "cell_type": "code",
   "execution_count": null,
   "metadata": {
    "id": "QZA4eEiaoB1n"
   },
   "outputs": [],
   "source": []
  }
 ],
 "metadata": {
  "colab": {
   "authorship_tag": "ABX9TyMdIYTzld0WuZdd/pnkRXX4",
   "name": "Multiplier_Methods_Staged.ipynb",
   "provenance": []
  },
  "kernelspec": {
   "display_name": "Python 3",
   "language": "python",
   "name": "python3"
  },
  "language_info": {
   "codemirror_mode": {
    "name": "ipython",
    "version": 3
   },
   "file_extension": ".py",
   "mimetype": "text/x-python",
   "name": "python",
   "nbconvert_exporter": "python",
   "pygments_lexer": "ipython3",
   "version": "3.7.4"
  },
  "toc": {
   "base_numbering": 1,
   "nav_menu": {},
   "number_sections": true,
   "sideBar": true,
   "skip_h1_title": false,
   "title_cell": "Table of Contents",
   "title_sidebar": "Contents",
   "toc_cell": false,
   "toc_position": {},
   "toc_section_display": true,
   "toc_window_display": false
  }
 },
 "nbformat": 4,
 "nbformat_minor": 1
}
