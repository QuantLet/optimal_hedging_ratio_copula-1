{
 "cells": [
  {
   "cell_type": "code",
   "execution_count": 1,
   "metadata": {},
   "outputs": [],
   "source": [
    "import matplotlib.pyplot as plt\n",
    "import scipy\n",
    "from scipy import stats\n",
    "from scipy.stats import norm\n",
    "import pandas as pd\n",
    "import numpy as np\n",
    "import seaborn as sns\n",
    "from statsmodels.distributions.empirical_distribution import ECDF\n",
    "from copulae1 import *\n",
    "from KDEs import *\n",
    "from toolbox import *\n",
    "import warnings\n",
    "import itertools\n",
    "import os\n",
    "warnings.filterwarnings(\"ignore\")\n",
    "\n",
    "data = pd.read_csv('../processed_data/btc_future_crix.csv')\n",
    "brr = np.array(data.return_brr)\n",
    "btc = np.array(data.return_btc)"
   ]
  },
  {
   "cell_type": "code",
   "execution_count": 2,
   "metadata": {},
   "outputs": [],
   "source": [
    "import statsmodels.api as sm"
   ]
  },
  {
   "cell_type": "code",
   "execution_count": 36,
   "metadata": {},
   "outputs": [
    {
     "data": {
      "text/plain": [
       "(array([ 6.24352807,  8.45597587,  8.49126712,  8.49191629,  8.5546366 ,\n",
       "        10.33457538, 11.28726537, 11.854947  , 12.05304258, 16.08080687,\n",
       "        19.59287023, 19.67419169, 20.68562563, 20.75289405, 23.49325692,\n",
       "        25.51691808, 26.28357683, 26.65743642, 27.22554415, 27.73265788,\n",
       "        28.02707535, 28.03583655, 28.73469728, 29.5374234 , 30.73974366,\n",
       "        30.84769411, 30.99720306, 31.52950466, 32.1013097 , 32.86352161,\n",
       "        33.65391704, 34.96667057, 35.39905491, 38.26526729, 38.87466696,\n",
       "        38.97325044, 38.97986124, 42.46698733, 43.49752294, 43.59652247]),\n",
       " array([0.01246479, 0.0145817 , 0.03687828, 0.07513264, 0.12820206,\n",
       "        0.11125115, 0.12657023, 0.15779408, 0.21033551, 0.09734246,\n",
       "        0.05124676, 0.07350566, 0.07938383, 0.10813458, 0.07421385,\n",
       "        0.06121589, 0.0694467 , 0.08564869, 0.09950826, 0.11588051,\n",
       "        0.13938511, 0.17449659, 0.18926732, 0.20055892, 0.19778174,\n",
       "        0.23399057, 0.27125346, 0.2940768 , 0.31544402, 0.32849558,\n",
       "        0.34013569, 0.32895894, 0.35564268, 0.28189714, 0.29939933,\n",
       "        0.337484  , 0.38078059, 0.28452828, 0.28577588, 0.32106251]))"
      ]
     },
     "execution_count": 36,
     "metadata": {},
     "output_type": "execute_result"
    }
   ],
   "source": [
    "sm.stats.acorr_ljungbox(brr)"
   ]
  },
  {
   "cell_type": "code",
   "execution_count": 37,
   "metadata": {},
   "outputs": [
    {
     "data": {
      "text/plain": [
       "(array([ 0.03978664,  0.70601303,  0.7100627 ,  0.84715364,  0.94430556,\n",
       "         2.70260567,  3.49330756,  3.83793776,  4.17816338,  6.71130205,\n",
       "         6.72623087,  8.5366241 ,  8.6187011 ,  9.70319105, 11.67149359,\n",
       "        12.52989316, 12.53017405, 12.94906112, 13.30201168, 13.34097078,\n",
       "        13.71589495, 13.77340488, 13.96701409, 14.02548744, 14.13967569,\n",
       "        14.16001324, 14.47583894, 16.56019834, 16.98372802, 16.98670837,\n",
       "        18.96928075, 25.15526013, 25.15900189, 27.06312435, 27.57196876,\n",
       "        27.57701464, 28.1495539 , 28.79734004, 28.8104951 , 28.9601477 ]),\n",
       " array([0.84189833, 0.70257262, 0.87083459, 0.932017  , 0.96693168,\n",
       "        0.84513943, 0.83593383, 0.87144117, 0.8992996 , 0.75238968,\n",
       "        0.82080078, 0.74191601, 0.80109303, 0.78354574, 0.70370491,\n",
       "        0.70676912, 0.7670257 , 0.79459025, 0.8227576 , 0.86227987,\n",
       "        0.88149059, 0.9093259 , 0.92781193, 0.94607263, 0.95924281,\n",
       "        0.97083123, 0.97616011, 0.95677798, 0.96243336, 0.97273371,\n",
       "        0.95540357, 0.79969274, 0.83408041, 0.79502096, 0.81015913,\n",
       "        0.84193043, 0.8520802 , 0.85928931, 0.88408314, 0.90218276]))"
      ]
     },
     "execution_count": 37,
     "metadata": {},
     "output_type": "execute_result"
    }
   ],
   "source": [
    "sm.stats.acorr_ljungbox(btc)"
   ]
  }
 ],
 "metadata": {
  "kernelspec": {
   "display_name": "Python 3",
   "language": "python",
   "name": "python3"
  },
  "language_info": {
   "codemirror_mode": {
    "name": "ipython",
    "version": 3
   },
   "file_extension": ".py",
   "mimetype": "text/x-python",
   "name": "python",
   "nbconvert_exporter": "python",
   "pygments_lexer": "ipython3",
   "version": "3.7.4"
  },
  "toc": {
   "base_numbering": 1,
   "nav_menu": {},
   "number_sections": true,
   "sideBar": true,
   "skip_h1_title": false,
   "title_cell": "Table of Contents",
   "title_sidebar": "Contents",
   "toc_cell": false,
   "toc_position": {},
   "toc_section_display": true,
   "toc_window_display": false
  }
 },
 "nbformat": 4,
 "nbformat_minor": 2
}
