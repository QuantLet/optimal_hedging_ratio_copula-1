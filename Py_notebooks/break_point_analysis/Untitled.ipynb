{
 "cells": [
  {
   "cell_type": "code",
   "execution_count": 12,
   "metadata": {},
   "outputs": [],
   "source": [
    "import sys\n",
    "sys.path.append('..')\n",
    "\n",
    "import matplotlib.pyplot as plt\n",
    "import scipy\n",
    "from scipy import stats\n",
    "from scipy.stats import norm\n",
    "import pandas as pd\n",
    "import numpy as np\n",
    "import seaborn as sns\n",
    "from statsmodels.distributions.empirical_distribution import ECDF\n",
    "from copulae1 import *\n",
    "from KDEs import *\n",
    "from toolbox import *\n",
    "import warnings\n",
    "import itertools\n",
    "import os\n",
    "warnings.filterwarnings(\"ignore\")\n",
    "\n",
    "data = pd.read_csv('../../processed_data/btc_future_crix.csv')\n",
    "data.head()\n",
    "\n",
    "ecdf_brr = ECDF(data.return_brr)\n",
    "ecdf_btc = ECDF(data.return_btc)\n",
    "\n",
    "u = ecdf_brr(data.return_brr)\n",
    "v = ecdf_btc(data.return_btc)\n",
    "\n",
    "brr = np.array(data.return_brr)\n",
    "btc = np.array(data.return_btc)\n",
    "\n",
    "kde_brr = KDE(data.return_brr, \"Gaussian\")\n",
    "kde_btc = KDE(data.return_btc, \"Gaussian\")\n",
    "\n",
    "kde_brr = KDE(data.return_brr, \"Gaussian\", kde_brr.h_brot*3)\n",
    "kde_btc = KDE(data.return_brr, \"Gaussian\", kde_btc.h_brot*3)"
   ]
  },
  {
   "cell_type": "code",
   "execution_count": 18,
   "metadata": {},
   "outputs": [],
   "source": [
    "mu1 = 0.1\n",
    "mu2 = 0.1\n",
    "var1 = 2\n",
    "var2 = 30\n",
    "cov = 2\n",
    "MVN = stats.multivariate_normal([mu1,mu2], [[var1,cov],[cov,var2]])"
   ]
  },
  {
   "cell_type": "code",
   "execution_count": null,
   "metadata": {},
   "outputs": [],
   "source": []
  }
 ],
 "metadata": {
  "kernelspec": {
   "display_name": "Python 3",
   "language": "python",
   "name": "python3"
  },
  "language_info": {
   "codemirror_mode": {
    "name": "ipython",
    "version": 3
   },
   "file_extension": ".py",
   "mimetype": "text/x-python",
   "name": "python",
   "nbconvert_exporter": "python",
   "pygments_lexer": "ipython3",
   "version": "3.7.4"
  },
  "toc": {
   "base_numbering": 1,
   "nav_menu": {},
   "number_sections": true,
   "sideBar": true,
   "skip_h1_title": false,
   "title_cell": "Table of Contents",
   "title_sidebar": "Contents",
   "toc_cell": false,
   "toc_position": {},
   "toc_section_display": true,
   "toc_window_display": false
  }
 },
 "nbformat": 4,
 "nbformat_minor": 2
}
