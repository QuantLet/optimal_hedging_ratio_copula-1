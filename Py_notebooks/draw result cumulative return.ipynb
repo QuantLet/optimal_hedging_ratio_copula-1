{
 "cells": [
  {
   "cell_type": "code",
   "execution_count": 2,
   "metadata": {},
   "outputs": [],
   "source": [
    "import os, sys\n",
    "sys.path.append('../src/')\n",
    "\n",
    "from copulae1 import *\n",
    "\n",
    "import json\n",
    "with open('../src/configs/config_coingecko_future_v3_MM.json','r') as file:\n",
    "    config = json.load(file)\n",
    "config\n",
    "data_name = config['data_name']\n",
    "calibration_method  = config['calibration_method']\n",
    "OHR = pd.read_hdf('../results/'+data_name +'/'+calibration_method+'/best_h.h5')\n",
    "if not os.path.exists(\"../results/\" + data_name + \"/MLE/reports\"):\n",
    "\tprint(\"Create new folder for results\")\n",
    "\tos.mkdir(\"../results/\" + data_name + \"/MLE/reports\")\n",
    "\tos.mkdir(\"../results/\" + data_name + \"/MM/reports\")\n",
    "    \n",
    "if calibration_method == \"MLE\":\n",
    "    report_path = \"../results/\" + data_name + \"/MLE/reports/\"\n",
    "    result_path = \"../results/\" + data_name + \"/MLE/\"\n",
    "elif calibration_method == \"MM\":\n",
    "    report_path = \"../results/\" + data_name + \"/MM/reports/\"\n",
    "    result_path = \"../results/\" + data_name + \"/MM/\"\n",
    "    \n",
    "data_path = \"../processed_data/\"+data_name+'/test/'"
   ]
  },
  {
   "cell_type": "code",
   "execution_count": 3,
   "metadata": {},
   "outputs": [
    {
     "name": "stdout",
     "output_type": "stream",
     "text": [
      "0\n",
      "1\n",
      "2\n",
      "3\n",
      "4\n",
      "5\n"
     ]
    },
    {
     "name": "stderr",
     "output_type": "stream",
     "text": [
      "/Users/francis/opt/anaconda3/lib/python3.7/site-packages/pandas/core/frame.py:6692: FutureWarning: Sorting because non-concatenation axis is not aligned. A future version\n",
      "of pandas will change to not sort by default.\n",
      "\n",
      "To accept the future behavior, pass 'sort=False'.\n",
      "\n",
      "To retain the current behavior and silence the warning, pass 'sort=True'.\n",
      "\n",
      "  sort=sort)\n"
     ]
    },
    {
     "name": "stdout",
     "output_type": "stream",
     "text": [
      "6\n",
      "7\n",
      "8\n",
      "9\n",
      "10\n",
      "11\n",
      "12\n",
      "13\n",
      "14\n",
      "15\n",
      "16\n",
      "17\n",
      "18\n",
      "19\n",
      "20\n",
      "21\n",
      "22\n",
      "23\n",
      "24\n",
      "25\n",
      "26\n",
      "27\n",
      "28\n",
      "29\n",
      "30\n",
      "31\n",
      "32\n",
      "33\n",
      "34\n",
      "35\n",
      "36\n",
      "37\n",
      "38\n",
      "39\n",
      "40\n",
      "41\n",
      "42\n",
      "43\n",
      "44\n",
      "45\n",
      "46\n",
      "47\n",
      "48\n",
      "49\n",
      "50\n",
      "51\n",
      "52\n",
      "53\n",
      "54\n",
      "55\n",
      "56\n",
      "57\n",
      "58\n",
      "59\n",
      "60\n",
      "61\n",
      "62\n",
      "63\n",
      "64\n",
      "65\n",
      "66\n",
      "67\n",
      "68\n",
      "69\n",
      "70\n",
      "71\n",
      "72\n",
      "73\n",
      "74\n"
     ]
    }
   ],
   "source": [
    "natp_path = '../_mathematica/data/'\n",
    "natp_ls = os.listdir(natp_path)\n",
    "natp_h = [l for l in natp_ls if l.endswith('_h.csv')]\n",
    "file_names = [l.replace('_h','') for l in natp_h]\n",
    "OHR_combined = []\n",
    "for i in range(len(natp_h)):\n",
    "    print(i)\n",
    "    _natp_h = pd.DataFrame(open(natp_path+natp_h[i], 'r').readlines())\n",
    "    _natp_h = _natp_h.iloc[1:7,:]\n",
    "    file_name = natp_h[i].replace('_h','')\n",
    "    for i in range(len(_natp_h)):\n",
    "        _natp_h.iloc[i,0] = np.float32(_natp_h.iloc[i,0].replace('\\n',''))\n",
    "    _natp_h.columns = ['NIG_factor']\n",
    "    _natp_h.index = ['Variance', 'VaR q=0.01', 'VaR q=0.05', 'ES q=0.01', 'ES q=0.05', 'ERM k=10']\n",
    "    _natp_h = _natp_h.T\n",
    "    \n",
    "    OHR_combined.append(OHR.loc[:,file_name].append(_natp_h))\n",
    "OHR = pd.concat(OHR_combined, axis=1, keys=file_names).dropna(axis=1)"
   ]
  },
  {
   "cell_type": "code",
   "execution_count": 4,
   "metadata": {},
   "outputs": [
    {
     "data": {
      "text/html": [
       "<div>\n",
       "<style scoped>\n",
       "    .dataframe tbody tr th:only-of-type {\n",
       "        vertical-align: middle;\n",
       "    }\n",
       "\n",
       "    .dataframe tbody tr th {\n",
       "        vertical-align: top;\n",
       "    }\n",
       "\n",
       "    .dataframe thead tr th {\n",
       "        text-align: left;\n",
       "    }\n",
       "</style>\n",
       "<table border=\"1\" class=\"dataframe\">\n",
       "  <thead>\n",
       "    <tr>\n",
       "      <th></th>\n",
       "      <th colspan=\"6\" halign=\"left\">73.csv</th>\n",
       "      <th colspan=\"4\" halign=\"left\">36.csv</th>\n",
       "      <th>...</th>\n",
       "      <th colspan=\"4\" halign=\"left\">0.csv</th>\n",
       "      <th colspan=\"6\" halign=\"left\">42.csv</th>\n",
       "    </tr>\n",
       "    <tr>\n",
       "      <th></th>\n",
       "      <th>ERM k=10</th>\n",
       "      <th>ES q=0.01</th>\n",
       "      <th>ES q=0.05</th>\n",
       "      <th>VaR q=0.01</th>\n",
       "      <th>VaR q=0.05</th>\n",
       "      <th>Variance</th>\n",
       "      <th>ERM k=10</th>\n",
       "      <th>ES q=0.01</th>\n",
       "      <th>ES q=0.05</th>\n",
       "      <th>VaR q=0.01</th>\n",
       "      <th>...</th>\n",
       "      <th>ES q=0.05</th>\n",
       "      <th>VaR q=0.01</th>\n",
       "      <th>VaR q=0.05</th>\n",
       "      <th>Variance</th>\n",
       "      <th>ERM k=10</th>\n",
       "      <th>ES q=0.01</th>\n",
       "      <th>ES q=0.05</th>\n",
       "      <th>VaR q=0.01</th>\n",
       "      <th>VaR q=0.05</th>\n",
       "      <th>Variance</th>\n",
       "    </tr>\n",
       "  </thead>\n",
       "  <tbody>\n",
       "    <tr>\n",
       "      <th>Gaussian</th>\n",
       "      <td>0.920996</td>\n",
       "      <td>0.845898</td>\n",
       "      <td>0.914258</td>\n",
       "      <td>0.928906</td>\n",
       "      <td>0.957031</td>\n",
       "      <td>0.907715</td>\n",
       "      <td>0.872266</td>\n",
       "      <td>0.921973</td>\n",
       "      <td>0.88877</td>\n",
       "      <td>0.85791</td>\n",
       "      <td>...</td>\n",
       "      <td>0.911426</td>\n",
       "      <td>0.96875</td>\n",
       "      <td>0.810156</td>\n",
       "      <td>0.890137</td>\n",
       "      <td>0.893652</td>\n",
       "      <td>0.934473</td>\n",
       "      <td>0.902441</td>\n",
       "      <td>0.949707</td>\n",
       "      <td>0.858203</td>\n",
       "      <td>0.903809</td>\n",
       "    </tr>\n",
       "    <tr>\n",
       "      <th>t_Copula</th>\n",
       "      <td>0.903418</td>\n",
       "      <td>0.81875</td>\n",
       "      <td>0.869531</td>\n",
       "      <td>0.829883</td>\n",
       "      <td>0.933789</td>\n",
       "      <td>0.892383</td>\n",
       "      <td>0.859766</td>\n",
       "      <td>0.9</td>\n",
       "      <td>0.86709</td>\n",
       "      <td>0.919434</td>\n",
       "      <td>...</td>\n",
       "      <td>0.910449</td>\n",
       "      <td>0.957031</td>\n",
       "      <td>0.840039</td>\n",
       "      <td>0.875879</td>\n",
       "      <td>0.891113</td>\n",
       "      <td>0.923242</td>\n",
       "      <td>0.894238</td>\n",
       "      <td>0.932715</td>\n",
       "      <td>0.871875</td>\n",
       "      <td>0.892676</td>\n",
       "    </tr>\n",
       "    <tr>\n",
       "      <th>t_Copula_Capped</th>\n",
       "      <td>0.912402</td>\n",
       "      <td>0.838281</td>\n",
       "      <td>0.896094</td>\n",
       "      <td>0.850098</td>\n",
       "      <td>0.947754</td>\n",
       "      <td>0.902344</td>\n",
       "      <td>0.867285</td>\n",
       "      <td>0.916504</td>\n",
       "      <td>0.880566</td>\n",
       "      <td>0.923242</td>\n",
       "      <td>...</td>\n",
       "      <td>0.915234</td>\n",
       "      <td>0.964062</td>\n",
       "      <td>0.821973</td>\n",
       "      <td>0.886523</td>\n",
       "      <td>0.892773</td>\n",
       "      <td>0.929883</td>\n",
       "      <td>0.899805</td>\n",
       "      <td>0.94082</td>\n",
       "      <td>0.862598</td>\n",
       "      <td>0.901074</td>\n",
       "    </tr>\n",
       "    <tr>\n",
       "      <th>Clayton</th>\n",
       "      <td>0.913574</td>\n",
       "      <td>0.718262</td>\n",
       "      <td>0.871289</td>\n",
       "      <td>0.820703</td>\n",
       "      <td>0.96875</td>\n",
       "      <td>0.906445</td>\n",
       "      <td>0.850293</td>\n",
       "      <td>0.769434</td>\n",
       "      <td>0.821094</td>\n",
       "      <td>0.930859</td>\n",
       "      <td>...</td>\n",
       "      <td>0.821484</td>\n",
       "      <td>0.95752</td>\n",
       "      <td>0.817871</td>\n",
       "      <td>0.904883</td>\n",
       "      <td>0.894824</td>\n",
       "      <td>0.805273</td>\n",
       "      <td>0.873047</td>\n",
       "      <td>0.968652</td>\n",
       "      <td>0.909473</td>\n",
       "      <td>0.915723</td>\n",
       "    </tr>\n",
       "    <tr>\n",
       "      <th>Frank</th>\n",
       "      <td>0.529004</td>\n",
       "      <td>0.544824</td>\n",
       "      <td>0.50918</td>\n",
       "      <td>0.520703</td>\n",
       "      <td>1.09043</td>\n",
       "      <td>0.604297</td>\n",
       "      <td>0.524902</td>\n",
       "      <td>0.593164</td>\n",
       "      <td>0.476855</td>\n",
       "      <td>0.523437</td>\n",
       "      <td>...</td>\n",
       "      <td>0.487793</td>\n",
       "      <td>0.578125</td>\n",
       "      <td>0.450977</td>\n",
       "      <td>0.611914</td>\n",
       "      <td>0.504102</td>\n",
       "      <td>0.596777</td>\n",
       "      <td>0.464941</td>\n",
       "      <td>0.512598</td>\n",
       "      <td>1.07813</td>\n",
       "      <td>0.590332</td>\n",
       "    </tr>\n",
       "    <tr>\n",
       "      <th>Gumbel</th>\n",
       "      <td>0.971094</td>\n",
       "      <td>0.892578</td>\n",
       "      <td>0.975293</td>\n",
       "      <td>1.02617</td>\n",
       "      <td>0.998926</td>\n",
       "      <td>0.909766</td>\n",
       "      <td>0.936914</td>\n",
       "      <td>0.991211</td>\n",
       "      <td>0.97998</td>\n",
       "      <td>0.94375</td>\n",
       "      <td>...</td>\n",
       "      <td>0.980762</td>\n",
       "      <td>0.986328</td>\n",
       "      <td>0.882812</td>\n",
       "      <td>0.883691</td>\n",
       "      <td>0.950098</td>\n",
       "      <td>0.987109</td>\n",
       "      <td>0.986035</td>\n",
       "      <td>1.03467</td>\n",
       "      <td>0.921875</td>\n",
       "      <td>0.895605</td>\n",
       "    </tr>\n",
       "    <tr>\n",
       "      <th>Plackett</th>\n",
       "      <td>0.930176</td>\n",
       "      <td>0.792676</td>\n",
       "      <td>0.894727</td>\n",
       "      <td>0.814355</td>\n",
       "      <td>0.961133</td>\n",
       "      <td>0.896973</td>\n",
       "      <td>0.858887</td>\n",
       "      <td>0.882227</td>\n",
       "      <td>0.859863</td>\n",
       "      <td>0.874805</td>\n",
       "      <td>...</td>\n",
       "      <td>0.887402</td>\n",
       "      <td>0.919727</td>\n",
       "      <td>0.831836</td>\n",
       "      <td>0.858496</td>\n",
       "      <td>0.891504</td>\n",
       "      <td>0.901953</td>\n",
       "      <td>0.887109</td>\n",
       "      <td>0.906445</td>\n",
       "      <td>0.887109</td>\n",
       "      <td>0.881934</td>\n",
       "    </tr>\n",
       "    <tr>\n",
       "      <th>Gauss Mix Indep</th>\n",
       "      <td>0.920996</td>\n",
       "      <td>0.462891</td>\n",
       "      <td>0.796387</td>\n",
       "      <td>0.535937</td>\n",
       "      <td>0.924121</td>\n",
       "      <td>0.828125</td>\n",
       "      <td>0.864258</td>\n",
       "      <td>0.798437</td>\n",
       "      <td>0.868262</td>\n",
       "      <td>0.862109</td>\n",
       "      <td>...</td>\n",
       "      <td>0.908008</td>\n",
       "      <td>0.948242</td>\n",
       "      <td>0.850195</td>\n",
       "      <td>0.86123</td>\n",
       "      <td>0.893848</td>\n",
       "      <td>0.798535</td>\n",
       "      <td>0.866895</td>\n",
       "      <td>0.867187</td>\n",
       "      <td>0.912305</td>\n",
       "      <td>0.841504</td>\n",
       "    </tr>\n",
       "    <tr>\n",
       "      <th>NIG_factor</th>\n",
       "      <td>0.882039</td>\n",
       "      <td>0.54138</td>\n",
       "      <td>0.780141</td>\n",
       "      <td>0.640981</td>\n",
       "      <td>0.819281</td>\n",
       "      <td>0.82891</td>\n",
       "      <td>0.838499</td>\n",
       "      <td>0.83901</td>\n",
       "      <td>0.853</td>\n",
       "      <td>0.851042</td>\n",
       "      <td>...</td>\n",
       "      <td>0.900107</td>\n",
       "      <td>0.90724</td>\n",
       "      <td>0.858251</td>\n",
       "      <td>0.861697</td>\n",
       "      <td>0.847829</td>\n",
       "      <td>0.847845</td>\n",
       "      <td>0.829055</td>\n",
       "      <td>0.859913</td>\n",
       "      <td>0.834751</td>\n",
       "      <td>0.825828</td>\n",
       "    </tr>\n",
       "  </tbody>\n",
       "</table>\n",
       "<p>9 rows × 450 columns</p>\n",
       "</div>"
      ],
      "text/plain": [
       "                   73.csv                                                      \\\n",
       "                 ERM k=10 ES q=0.01 ES q=0.05 VaR q=0.01 VaR q=0.05  Variance   \n",
       "Gaussian         0.920996  0.845898  0.914258   0.928906   0.957031  0.907715   \n",
       "t_Copula         0.903418   0.81875  0.869531   0.829883   0.933789  0.892383   \n",
       "t_Copula_Capped  0.912402  0.838281  0.896094   0.850098   0.947754  0.902344   \n",
       "Clayton          0.913574  0.718262  0.871289   0.820703    0.96875  0.906445   \n",
       "Frank            0.529004  0.544824   0.50918   0.520703    1.09043  0.604297   \n",
       "Gumbel           0.971094  0.892578  0.975293    1.02617   0.998926  0.909766   \n",
       "Plackett         0.930176  0.792676  0.894727   0.814355   0.961133  0.896973   \n",
       "Gauss Mix Indep  0.920996  0.462891  0.796387   0.535937   0.924121  0.828125   \n",
       "NIG_factor       0.882039   0.54138  0.780141   0.640981   0.819281   0.82891   \n",
       "\n",
       "                   36.csv                                 ...     0.csv  \\\n",
       "                 ERM k=10 ES q=0.01 ES q=0.05 VaR q=0.01  ... ES q=0.05   \n",
       "Gaussian         0.872266  0.921973   0.88877    0.85791  ...  0.911426   \n",
       "t_Copula         0.859766       0.9   0.86709   0.919434  ...  0.910449   \n",
       "t_Copula_Capped  0.867285  0.916504  0.880566   0.923242  ...  0.915234   \n",
       "Clayton          0.850293  0.769434  0.821094   0.930859  ...  0.821484   \n",
       "Frank            0.524902  0.593164  0.476855   0.523437  ...  0.487793   \n",
       "Gumbel           0.936914  0.991211   0.97998    0.94375  ...  0.980762   \n",
       "Plackett         0.858887  0.882227  0.859863   0.874805  ...  0.887402   \n",
       "Gauss Mix Indep  0.864258  0.798437  0.868262   0.862109  ...  0.908008   \n",
       "NIG_factor       0.838499   0.83901     0.853   0.851042  ...  0.900107   \n",
       "\n",
       "                                                   42.csv                      \\\n",
       "                VaR q=0.01 VaR q=0.05  Variance  ERM k=10 ES q=0.01 ES q=0.05   \n",
       "Gaussian           0.96875   0.810156  0.890137  0.893652  0.934473  0.902441   \n",
       "t_Copula          0.957031   0.840039  0.875879  0.891113  0.923242  0.894238   \n",
       "t_Copula_Capped   0.964062   0.821973  0.886523  0.892773  0.929883  0.899805   \n",
       "Clayton            0.95752   0.817871  0.904883  0.894824  0.805273  0.873047   \n",
       "Frank             0.578125   0.450977  0.611914  0.504102  0.596777  0.464941   \n",
       "Gumbel            0.986328   0.882812  0.883691  0.950098  0.987109  0.986035   \n",
       "Plackett          0.919727   0.831836  0.858496  0.891504  0.901953  0.887109   \n",
       "Gauss Mix Indep   0.948242   0.850195   0.86123  0.893848  0.798535  0.866895   \n",
       "NIG_factor         0.90724   0.858251  0.861697  0.847829  0.847845  0.829055   \n",
       "\n",
       "                                                 \n",
       "                VaR q=0.01 VaR q=0.05  Variance  \n",
       "Gaussian          0.949707   0.858203  0.903809  \n",
       "t_Copula          0.932715   0.871875  0.892676  \n",
       "t_Copula_Capped    0.94082   0.862598  0.901074  \n",
       "Clayton           0.968652   0.909473  0.915723  \n",
       "Frank             0.512598    1.07813  0.590332  \n",
       "Gumbel             1.03467   0.921875  0.895605  \n",
       "Plackett          0.906445   0.887109  0.881934  \n",
       "Gauss Mix Indep   0.867187   0.912305  0.841504  \n",
       "NIG_factor        0.859913   0.834751  0.825828  \n",
       "\n",
       "[9 rows x 450 columns]"
      ]
     },
     "execution_count": 4,
     "metadata": {},
     "output_type": "execute_result"
    }
   ],
   "source": [
    "OHR"
   ]
  },
  {
   "cell_type": "code",
   "execution_count": 5,
   "metadata": {},
   "outputs": [],
   "source": [
    "Copula_names = ['Gaussian', 't_Copula', 'Clayton', 'Frank', 'Gumbel', 'Plackett', 'Gauss Mix Indep', 'NIG_factor']\n",
    "# Copula_names = ['Gaussian', 't_Copula', 'Clayton', 'Frank', 'Gumbel', 'Plackett', 'Gauss Mix Indep']\n",
    "\n",
    "OHR = OHR.loc[Copula_names,:]"
   ]
  },
  {
   "cell_type": "code",
   "execution_count": 6,
   "metadata": {},
   "outputs": [],
   "source": [
    "temp = []\n",
    "for C in Copula_names:\n",
    "    hs_by_Copula = OHR.loc[C:C,:].melt()\n",
    "    hs_by_Copula.columns = ['file_name', 'risk_measure', 'OHR']\n",
    "    hs_by_Copula.loc[:, 'copula'] = C\n",
    "    temp.append(hs_by_Copula)\n",
    "\n",
    "OHR_to_math = pd.concat(temp, axis=0)"
   ]
  },
  {
   "cell_type": "code",
   "execution_count": 7,
   "metadata": {
    "scrolled": true
   },
   "outputs": [],
   "source": [
    "files = np.unique(OHR_to_math.file_name)\n",
    "risk_measures = np.unique(OHR_to_math.risk_measure)"
   ]
  },
  {
   "cell_type": "code",
   "execution_count": 8,
   "metadata": {
    "scrolled": true
   },
   "outputs": [],
   "source": [
    "# C = Copula_names[0]\n",
    "results = {}\n",
    "\n",
    "for C in Copula_names:\n",
    "    for rm in risk_measures:\n",
    "        id_C = OHR_to_math.copula == C\n",
    "        id_rm = OHR_to_math.risk_measure == rm\n",
    "\n",
    "\n",
    "        df = OHR_to_math.loc[id_C&id_rm, :]\n",
    "        df.reset_index(inplace=True, drop=True)\n",
    "\n",
    "        rh_arr = []\n",
    "        rs_arr = []\n",
    "        rf_arr = []\n",
    "\n",
    "        Date_arr = []\n",
    "\n",
    "        for i in range(len(df)):\n",
    "            h = df.iloc[i,:].OHR\n",
    "            test = pd.read_csv(data_path+df.iloc[i,:].file_name)\n",
    "            Date = test.Date\n",
    "            rs = test.loc[:, 'log return bitcoin']\n",
    "            rf = test.loc[:, 'log return future']\n",
    "            rh = rs - h*rf\n",
    "            rh_arr.append(rh)\n",
    "            Date_arr.append(Date)\n",
    "\n",
    "            rs_arr.append(rs)\n",
    "            rf_arr.append(rf)\n",
    "            \n",
    "        rh_df = pd.DataFrame({'Date':np.array(Date_arr).reshape((-1)), 'rh':np.array(rh_arr).reshape((-1))})\n",
    "        rs_df = pd.DataFrame({'Date':np.array(Date_arr).reshape((-1)), 'rs':np.array(rs_arr).reshape((-1))})\n",
    "        rf_df = pd.DataFrame({'Date':np.array(Date_arr).reshape((-1)), 'rf':np.array(rf_arr).reshape((-1))})\n",
    "        \n",
    "        rh_df.Date = pd.to_datetime(rh_df.Date)\n",
    "        rs_df.Date = pd.to_datetime(rs_df.Date)\n",
    "        rf_df.Date = pd.to_datetime(rf_df.Date)\n",
    "        \n",
    "        # sort Date to make sure the cumulative sum is correct (sort from old data to new data)\n",
    "        rh_df = rh_df.sort_values('Date', ascending=True).reset_index( drop=True)\n",
    "        rs_df = rs_df.sort_values('Date', ascending=True).reset_index( drop=True)\n",
    "        rf_df = rf_df.sort_values('Date', ascending=True).reset_index( drop=True)\n",
    "      \n",
    "        rh_df.loc[:,'cumsum'] = np.cumsum(rh_df.rh)\n",
    "        rs_df.loc[:,'cumsum'] = np.cumsum(rs_df.rs)\n",
    "        rf_df.loc[:,'cumsum'] = np.cumsum(rf_df.rf)\n",
    "        \n",
    "        investment = 1\n",
    "        income_rh = investment*np.exp(rh_df.loc[:,'cumsum'])\n",
    "        income_rs = investment*np.exp(rs_df.loc[:,'cumsum'])\n",
    "        income_rf = investment*np.exp(rf_df.loc[:,'cumsum'])\n",
    "    \n",
    "        results[(C, rm)] = income_rh"
   ]
  },
  {
   "cell_type": "code",
   "execution_count": 9,
   "metadata": {},
   "outputs": [
    {
     "name": "stderr",
     "output_type": "stream",
     "text": [
      "/Users/francis/opt/anaconda3/lib/python3.7/site-packages/pandas/plotting/_converter.py:129: FutureWarning: Using an implicitly registered datetime converter for a matplotlib plotting method. The converter was registered by pandas on import. Future versions of pandas will require you to explicitly register matplotlib converters.\n",
      "\n",
      "To register the converters:\n",
      "\t>>> from pandas.plotting import register_matplotlib_converters\n",
      "\t>>> register_matplotlib_converters()\n",
      "  warnings.warn(msg, FutureWarning)\n"
     ]
    },
    {
     "data": {
      "text/plain": [
       "<matplotlib.legend.Legend at 0x7f876b7b5890>"
      ]
     },
     "execution_count": 9,
     "metadata": {},
     "output_type": "execute_result"
    },
    {
     "data": {
      "image/png": "[encoded data removed]",
      "text/plain": [
       "<Figure size 864x576 with 1 Axes>"
      ]
     },
     "metadata": {
      "needs_background": "light"
     },
     "output_type": "display_data"
    }
   ],
   "source": [
    "# rm = risk_measures[0]\n",
    "# rm = 'Variance'\n",
    "rm = 'ES q=0.01'\n",
    "\n",
    "plt.figure(figsize=(12,8))\n",
    "plt.title(\"PnL of Different Strategies\")\n",
    "\n",
    "for C in Copula_names:\n",
    "    income_rh = results[(C, rm)]\n",
    "    plt.plot(rh_df.Date, income_rh, label=C+' '+rm)\n",
    "\n",
    "plt.plot(rh_df.Date, income_rs, label='Long Bitcoin')\n",
    "plt.plot(rh_df.Date, income_rf, label='Long Future')\n",
    "plt.legend()"
   ]
  },
  {
   "cell_type": "code",
   "execution_count": 10,
   "metadata": {},
   "outputs": [
    {
     "data": {
      "text/plain": [
       "<matplotlib.legend.Legend at 0x7f876bc694d0>"
      ]
     },
     "execution_count": 10,
     "metadata": {},
     "output_type": "execute_result"
    },
    {
     "data": {
      "image/png": "[encoded data removed]",
      "text/plain": [
       "<Figure size 720x576 with 1 Axes>"
      ]
     },
     "metadata": {
      "needs_background": "light"
     },
     "output_type": "display_data"
    }
   ],
   "source": [
    "# rm = risk_measures[0]\n",
    "\n",
    "income = np.linspace(0,4,1000)\n",
    "\n",
    "ecdf_rs = ECDF(income_rs)\n",
    "ecdf_rf = ECDF(income_rf)\n",
    "\n",
    "plt.figure(figsize=(10,8))\n",
    "plt.title(\"ECDF of PnL\")\n",
    "\n",
    "for C in Copula_names:\n",
    "    income_rh = results[(C, rm)]\n",
    "    ecdf_rh = ECDF(income_rh)\n",
    "\n",
    "    plt.plot(income-1, ecdf_rh(income), label=C+' '+rm)\n",
    "plt.plot(income-1, ecdf_rs(income), label='Long Bitcoin')\n",
    "plt.plot(income-1, ecdf_rf(income), label='Long Future')\n",
    "plt.legend()"
   ]
  },
  {
   "cell_type": "code",
   "execution_count": 11,
   "metadata": {},
   "outputs": [
    {
     "name": "stdout",
     "output_type": "stream",
     "text": [
      "['Gaussian', 't_Copula', 'Clayton', 'Frank', 'Gumbel', 'Plackett', 'Gauss Mix Indep', 'NIG_factor'] \n",
      " ['ERM k=10' 'ES q=0.01' 'ES q=0.05' 'VaR q=0.01' 'VaR q=0.05' 'Variance']\n"
     ]
    }
   ],
   "source": [
    "print(Copula_names,'\\n', risk_measures)"
   ]
  },
  {
   "cell_type": "code",
   "execution_count": 112,
   "metadata": {},
   "outputs": [],
   "source": [
    "j=2\n",
    "\n",
    "r1 = np.array(results[('Gaussian'), ('Variance')])\n",
    "r2 = np.array(results[('Gumbel'), ('ES q=0.01')])\n",
    "\n",
    "# r2 = np.array(results[('Gaussian'), ('Variance')])\n",
    "# r1 = np.array(results[('Gumbel'), ('ES q=0.05')])\n",
    "\n",
    "N = len(r1)\n",
    "M = len(r2)"
   ]
  },
  {
   "cell_type": "code",
   "execution_count": 124,
   "metadata": {},
   "outputs": [],
   "source": [
    "import pickle\n",
    "with open('SOSD.pickle', 'rb') as handle:\n",
    "    SOSD = pickle.load(handle)"
   ]
  },
  {
   "cell_type": "code",
   "execution_count": 130,
   "metadata": {},
   "outputs": [
    {
     "data": {
      "text/plain": [
       "'0.24.2'"
      ]
     },
     "execution_count": 130,
     "metadata": {},
     "output_type": "execute_result"
    }
   ],
   "source": []
  },
  {
   "cell_type": "code",
   "execution_count": 129,
   "metadata": {},
   "outputs": [
    {
     "ename": "AttributeError",
     "evalue": "'DataFrame' object has no attribute '_data'",
     "output_type": "error",
     "traceback": [
      "\u001b[0;31m---------------------------------------------------------------------------\u001b[0m",
      "\u001b[0;31mAttributeError\u001b[0m                            Traceback (most recent call last)",
      "\u001b[0;32m~/opt/anaconda3/lib/python3.7/site-packages/IPython/core/formatters.py\u001b[0m in \u001b[0;36m__call__\u001b[0;34m(self, obj)\u001b[0m\n\u001b[1;32m    700\u001b[0m                 \u001b[0mtype_pprinters\u001b[0m\u001b[0;34m=\u001b[0m\u001b[0mself\u001b[0m\u001b[0;34m.\u001b[0m\u001b[0mtype_printers\u001b[0m\u001b[0;34m,\u001b[0m\u001b[0;34m\u001b[0m\u001b[0;34m\u001b[0m\u001b[0m\n\u001b[1;32m    701\u001b[0m                 deferred_pprinters=self.deferred_printers)\n\u001b[0;32m--> 702\u001b[0;31m             \u001b[0mprinter\u001b[0m\u001b[0;34m.\u001b[0m\u001b[0mpretty\u001b[0m\u001b[0;34m(\u001b[0m\u001b[0mobj\u001b[0m\u001b[0;34m)\u001b[0m\u001b[0;34m\u001b[0m\u001b[0;34m\u001b[0m\u001b[0m\n\u001b[0m\u001b[1;32m    703\u001b[0m             \u001b[0mprinter\u001b[0m\u001b[0;34m.\u001b[0m\u001b[0mflush\u001b[0m\u001b[0;34m(\u001b[0m\u001b[0;34m)\u001b[0m\u001b[0;34m\u001b[0m\u001b[0;34m\u001b[0m\u001b[0m\n\u001b[1;32m    704\u001b[0m             \u001b[0;32mreturn\u001b[0m \u001b[0mstream\u001b[0m\u001b[0;34m.\u001b[0m\u001b[0mgetvalue\u001b[0m\u001b[0;34m(\u001b[0m\u001b[0;34m)\u001b[0m\u001b[0;34m\u001b[0m\u001b[0;34m\u001b[0m\u001b[0m\n",
      "\u001b[0;32m~/opt/anaconda3/lib/python3.7/site-packages/IPython/lib/pretty.py\u001b[0m in \u001b[0;36mpretty\u001b[0;34m(self, obj)\u001b[0m\n\u001b[1;32m    400\u001b[0m                         \u001b[0;32mif\u001b[0m \u001b[0mcls\u001b[0m \u001b[0;32mis\u001b[0m \u001b[0;32mnot\u001b[0m \u001b[0mobject\u001b[0m\u001b[0;31m \u001b[0m\u001b[0;31m\\\u001b[0m\u001b[0;34m\u001b[0m\u001b[0;34m\u001b[0m\u001b[0m\n\u001b[1;32m    401\u001b[0m                                 \u001b[0;32mand\u001b[0m \u001b[0mcallable\u001b[0m\u001b[0;34m(\u001b[0m\u001b[0mcls\u001b[0m\u001b[0;34m.\u001b[0m\u001b[0m__dict__\u001b[0m\u001b[0;34m.\u001b[0m\u001b[0mget\u001b[0m\u001b[0;34m(\u001b[0m\u001b[0;34m'__repr__'\u001b[0m\u001b[0;34m)\u001b[0m\u001b[0;34m)\u001b[0m\u001b[0;34m:\u001b[0m\u001b[0;34m\u001b[0m\u001b[0;34m\u001b[0m\u001b[0m\n\u001b[0;32m--> 402\u001b[0;31m                             \u001b[0;32mreturn\u001b[0m \u001b[0m_repr_pprint\u001b[0m\u001b[0;34m(\u001b[0m\u001b[0mobj\u001b[0m\u001b[0;34m,\u001b[0m \u001b[0mself\u001b[0m\u001b[0;34m,\u001b[0m \u001b[0mcycle\u001b[0m\u001b[0;34m)\u001b[0m\u001b[0;34m\u001b[0m\u001b[0;34m\u001b[0m\u001b[0m\n\u001b[0m\u001b[1;32m    403\u001b[0m \u001b[0;34m\u001b[0m\u001b[0m\n\u001b[1;32m    404\u001b[0m             \u001b[0;32mreturn\u001b[0m \u001b[0m_default_pprint\u001b[0m\u001b[0;34m(\u001b[0m\u001b[0mobj\u001b[0m\u001b[0;34m,\u001b[0m \u001b[0mself\u001b[0m\u001b[0;34m,\u001b[0m \u001b[0mcycle\u001b[0m\u001b[0;34m)\u001b[0m\u001b[0;34m\u001b[0m\u001b[0;34m\u001b[0m\u001b[0m\n",
      "\u001b[0;32m~/opt/anaconda3/lib/python3.7/site-packages/IPython/lib/pretty.py\u001b[0m in \u001b[0;36m_repr_pprint\u001b[0;34m(obj, p, cycle)\u001b[0m\n\u001b[1;32m    695\u001b[0m     \u001b[0;34m\"\"\"A pprint that just redirects to the normal repr function.\"\"\"\u001b[0m\u001b[0;34m\u001b[0m\u001b[0;34m\u001b[0m\u001b[0m\n\u001b[1;32m    696\u001b[0m     \u001b[0;31m# Find newlines and replace them with p.break_()\u001b[0m\u001b[0;34m\u001b[0m\u001b[0;34m\u001b[0m\u001b[0;34m\u001b[0m\u001b[0m\n\u001b[0;32m--> 697\u001b[0;31m     \u001b[0moutput\u001b[0m \u001b[0;34m=\u001b[0m \u001b[0mrepr\u001b[0m\u001b[0;34m(\u001b[0m\u001b[0mobj\u001b[0m\u001b[0;34m)\u001b[0m\u001b[0;34m\u001b[0m\u001b[0;34m\u001b[0m\u001b[0m\n\u001b[0m\u001b[1;32m    698\u001b[0m     \u001b[0;32mfor\u001b[0m \u001b[0midx\u001b[0m\u001b[0;34m,\u001b[0m\u001b[0moutput_line\u001b[0m \u001b[0;32min\u001b[0m \u001b[0menumerate\u001b[0m\u001b[0;34m(\u001b[0m\u001b[0moutput\u001b[0m\u001b[0;34m.\u001b[0m\u001b[0msplitlines\u001b[0m\u001b[0;34m(\u001b[0m\u001b[0;34m)\u001b[0m\u001b[0;34m)\u001b[0m\u001b[0;34m:\u001b[0m\u001b[0;34m\u001b[0m\u001b[0;34m\u001b[0m\u001b[0m\n\u001b[1;32m    699\u001b[0m         \u001b[0;32mif\u001b[0m \u001b[0midx\u001b[0m\u001b[0;34m:\u001b[0m\u001b[0;34m\u001b[0m\u001b[0;34m\u001b[0m\u001b[0m\n",
      "\u001b[0;32m~/opt/anaconda3/lib/python3.7/site-packages/pandas/core/base.py\u001b[0m in \u001b[0;36m__repr__\u001b[0;34m(self)\u001b[0m\n\u001b[1;32m     76\u001b[0m         \u001b[0mYields\u001b[0m \u001b[0mBytestring\u001b[0m \u001b[0;32min\u001b[0m \u001b[0mPy2\u001b[0m\u001b[0;34m,\u001b[0m \u001b[0mUnicode\u001b[0m \u001b[0mString\u001b[0m \u001b[0;32min\u001b[0m \u001b[0mpy3\u001b[0m\u001b[0;34m.\u001b[0m\u001b[0;34m\u001b[0m\u001b[0;34m\u001b[0m\u001b[0m\n\u001b[1;32m     77\u001b[0m         \"\"\"\n\u001b[0;32m---> 78\u001b[0;31m         \u001b[0;32mreturn\u001b[0m \u001b[0mstr\u001b[0m\u001b[0;34m(\u001b[0m\u001b[0mself\u001b[0m\u001b[0;34m)\u001b[0m\u001b[0;34m\u001b[0m\u001b[0;34m\u001b[0m\u001b[0m\n\u001b[0m\u001b[1;32m     79\u001b[0m \u001b[0;34m\u001b[0m\u001b[0m\n\u001b[1;32m     80\u001b[0m \u001b[0;34m\u001b[0m\u001b[0m\n",
      "\u001b[0;32m~/opt/anaconda3/lib/python3.7/site-packages/pandas/core/base.py\u001b[0m in \u001b[0;36m__str__\u001b[0;34m(self)\u001b[0m\n\u001b[1;32m     55\u001b[0m \u001b[0;34m\u001b[0m\u001b[0m\n\u001b[1;32m     56\u001b[0m         \u001b[0;32mif\u001b[0m \u001b[0mcompat\u001b[0m\u001b[0;34m.\u001b[0m\u001b[0mPY3\u001b[0m\u001b[0;34m:\u001b[0m\u001b[0;34m\u001b[0m\u001b[0;34m\u001b[0m\u001b[0m\n\u001b[0;32m---> 57\u001b[0;31m             \u001b[0;32mreturn\u001b[0m \u001b[0mself\u001b[0m\u001b[0;34m.\u001b[0m\u001b[0m__unicode__\u001b[0m\u001b[0;34m(\u001b[0m\u001b[0;34m)\u001b[0m\u001b[0;34m\u001b[0m\u001b[0;34m\u001b[0m\u001b[0m\n\u001b[0m\u001b[1;32m     58\u001b[0m         \u001b[0;32mreturn\u001b[0m \u001b[0mself\u001b[0m\u001b[0;34m.\u001b[0m\u001b[0m__bytes__\u001b[0m\u001b[0;34m(\u001b[0m\u001b[0;34m)\u001b[0m\u001b[0;34m\u001b[0m\u001b[0;34m\u001b[0m\u001b[0m\n\u001b[1;32m     59\u001b[0m \u001b[0;34m\u001b[0m\u001b[0m\n",
      "\u001b[0;32m~/opt/anaconda3/lib/python3.7/site-packages/pandas/core/frame.py\u001b[0m in \u001b[0;36m__unicode__\u001b[0;34m(self)\u001b[0m\n\u001b[1;32m    632\u001b[0m             \u001b[0mwidth\u001b[0m \u001b[0;34m=\u001b[0m \u001b[0;32mNone\u001b[0m\u001b[0;34m\u001b[0m\u001b[0;34m\u001b[0m\u001b[0m\n\u001b[1;32m    633\u001b[0m         self.to_string(buf=buf, max_rows=max_rows, max_cols=max_cols,\n\u001b[0;32m--> 634\u001b[0;31m                        line_width=width, show_dimensions=show_dimensions)\n\u001b[0m\u001b[1;32m    635\u001b[0m \u001b[0;34m\u001b[0m\u001b[0m\n\u001b[1;32m    636\u001b[0m         \u001b[0;32mreturn\u001b[0m \u001b[0mbuf\u001b[0m\u001b[0;34m.\u001b[0m\u001b[0mgetvalue\u001b[0m\u001b[0;34m(\u001b[0m\u001b[0;34m)\u001b[0m\u001b[0;34m\u001b[0m\u001b[0;34m\u001b[0m\u001b[0m\n",
      "\u001b[0;32m~/opt/anaconda3/lib/python3.7/site-packages/pandas/core/frame.py\u001b[0m in \u001b[0;36mto_string\u001b[0;34m(self, buf, columns, col_space, header, index, na_rep, formatters, float_format, sparsify, index_names, justify, max_rows, max_cols, show_dimensions, decimal, line_width)\u001b[0m\n\u001b[1;32m    718\u001b[0m                                            \u001b[0mshow_dimensions\u001b[0m\u001b[0;34m=\u001b[0m\u001b[0mshow_dimensions\u001b[0m\u001b[0;34m,\u001b[0m\u001b[0;34m\u001b[0m\u001b[0;34m\u001b[0m\u001b[0m\n\u001b[1;32m    719\u001b[0m                                            \u001b[0mdecimal\u001b[0m\u001b[0;34m=\u001b[0m\u001b[0mdecimal\u001b[0m\u001b[0;34m,\u001b[0m\u001b[0;34m\u001b[0m\u001b[0;34m\u001b[0m\u001b[0m\n\u001b[0;32m--> 720\u001b[0;31m                                            line_width=line_width)\n\u001b[0m\u001b[1;32m    721\u001b[0m         \u001b[0mformatter\u001b[0m\u001b[0;34m.\u001b[0m\u001b[0mto_string\u001b[0m\u001b[0;34m(\u001b[0m\u001b[0;34m)\u001b[0m\u001b[0;34m\u001b[0m\u001b[0;34m\u001b[0m\u001b[0m\n\u001b[1;32m    722\u001b[0m \u001b[0;34m\u001b[0m\u001b[0m\n",
      "\u001b[0;32m~/opt/anaconda3/lib/python3.7/site-packages/pandas/io/formats/format.py\u001b[0m in \u001b[0;36m__init__\u001b[0;34m(self, frame, buf, columns, col_space, header, index, na_rep, formatters, justify, float_format, sparsify, index_names, line_width, max_rows, max_cols, show_dimensions, decimal, table_id, render_links, **kwds)\u001b[0m\n\u001b[1;32m    408\u001b[0m         \u001b[0mself\u001b[0m\u001b[0;34m.\u001b[0m\u001b[0mmax_cols\u001b[0m \u001b[0;34m=\u001b[0m \u001b[0mmax_cols\u001b[0m\u001b[0;34m\u001b[0m\u001b[0;34m\u001b[0m\u001b[0m\n\u001b[1;32m    409\u001b[0m         self.max_rows_displayed = min(max_rows or len(self.frame),\n\u001b[0;32m--> 410\u001b[0;31m                                       len(self.frame))\n\u001b[0m\u001b[1;32m    411\u001b[0m         \u001b[0mself\u001b[0m\u001b[0;34m.\u001b[0m\u001b[0mshow_dimensions\u001b[0m \u001b[0;34m=\u001b[0m \u001b[0mshow_dimensions\u001b[0m\u001b[0;34m\u001b[0m\u001b[0;34m\u001b[0m\u001b[0m\n\u001b[1;32m    412\u001b[0m         \u001b[0mself\u001b[0m\u001b[0;34m.\u001b[0m\u001b[0mtable_id\u001b[0m \u001b[0;34m=\u001b[0m \u001b[0mtable_id\u001b[0m\u001b[0;34m\u001b[0m\u001b[0;34m\u001b[0m\u001b[0m\n",
      "\u001b[0;32m~/opt/anaconda3/lib/python3.7/site-packages/pandas/core/frame.py\u001b[0m in \u001b[0;36m__len__\u001b[0;34m(self)\u001b[0m\n\u001b[1;32m    939\u001b[0m         \u001b[0mReturns\u001b[0m \u001b[0mlength\u001b[0m \u001b[0mof\u001b[0m \u001b[0minfo\u001b[0m \u001b[0maxis\u001b[0m\u001b[0;34m,\u001b[0m \u001b[0mbut\u001b[0m \u001b[0mhere\u001b[0m \u001b[0mwe\u001b[0m \u001b[0muse\u001b[0m \u001b[0mthe\u001b[0m \u001b[0mindex\u001b[0m\u001b[0;34m.\u001b[0m\u001b[0;34m\u001b[0m\u001b[0;34m\u001b[0m\u001b[0m\n\u001b[1;32m    940\u001b[0m         \"\"\"\n\u001b[0;32m--> 941\u001b[0;31m         \u001b[0;32mreturn\u001b[0m \u001b[0mlen\u001b[0m\u001b[0;34m(\u001b[0m\u001b[0mself\u001b[0m\u001b[0;34m.\u001b[0m\u001b[0mindex\u001b[0m\u001b[0;34m)\u001b[0m\u001b[0;34m\u001b[0m\u001b[0;34m\u001b[0m\u001b[0m\n\u001b[0m\u001b[1;32m    942\u001b[0m \u001b[0;34m\u001b[0m\u001b[0m\n\u001b[1;32m    943\u001b[0m     \u001b[0;32mdef\u001b[0m \u001b[0mdot\u001b[0m\u001b[0;34m(\u001b[0m\u001b[0mself\u001b[0m\u001b[0;34m,\u001b[0m \u001b[0mother\u001b[0m\u001b[0;34m)\u001b[0m\u001b[0;34m:\u001b[0m\u001b[0;34m\u001b[0m\u001b[0;34m\u001b[0m\u001b[0m\n",
      "\u001b[0;32m~/opt/anaconda3/lib/python3.7/site-packages/pandas/core/generic.py\u001b[0m in \u001b[0;36m__getattr__\u001b[0;34m(self, name)\u001b[0m\n\u001b[1;32m   5061\u001b[0m         if (name in self._internal_names_set or name in self._metadata or\n\u001b[1;32m   5062\u001b[0m                 name in self._accessors):\n\u001b[0;32m-> 5063\u001b[0;31m             \u001b[0;32mreturn\u001b[0m \u001b[0mobject\u001b[0m\u001b[0;34m.\u001b[0m\u001b[0m__getattribute__\u001b[0m\u001b[0;34m(\u001b[0m\u001b[0mself\u001b[0m\u001b[0;34m,\u001b[0m \u001b[0mname\u001b[0m\u001b[0;34m)\u001b[0m\u001b[0;34m\u001b[0m\u001b[0;34m\u001b[0m\u001b[0m\n\u001b[0m\u001b[1;32m   5064\u001b[0m         \u001b[0;32melse\u001b[0m\u001b[0;34m:\u001b[0m\u001b[0;34m\u001b[0m\u001b[0;34m\u001b[0m\u001b[0m\n\u001b[1;32m   5065\u001b[0m             \u001b[0;32mif\u001b[0m \u001b[0mself\u001b[0m\u001b[0;34m.\u001b[0m\u001b[0m_info_axis\u001b[0m\u001b[0;34m.\u001b[0m\u001b[0m_can_hold_identifiers_and_holds_name\u001b[0m\u001b[0;34m(\u001b[0m\u001b[0mname\u001b[0m\u001b[0;34m)\u001b[0m\u001b[0;34m:\u001b[0m\u001b[0;34m\u001b[0m\u001b[0;34m\u001b[0m\u001b[0m\n",
      "\u001b[0;32mpandas/_libs/properties.pyx\u001b[0m in \u001b[0;36mpandas._libs.properties.AxisProperty.__get__\u001b[0;34m()\u001b[0m\n",
      "\u001b[0;32m~/opt/anaconda3/lib/python3.7/site-packages/pandas/core/generic.py\u001b[0m in \u001b[0;36m__getattr__\u001b[0;34m(self, name)\u001b[0m\n\u001b[1;32m   5061\u001b[0m         if (name in self._internal_names_set or name in self._metadata or\n\u001b[1;32m   5062\u001b[0m                 name in self._accessors):\n\u001b[0;32m-> 5063\u001b[0;31m             \u001b[0;32mreturn\u001b[0m \u001b[0mobject\u001b[0m\u001b[0;34m.\u001b[0m\u001b[0m__getattribute__\u001b[0m\u001b[0;34m(\u001b[0m\u001b[0mself\u001b[0m\u001b[0;34m,\u001b[0m \u001b[0mname\u001b[0m\u001b[0;34m)\u001b[0m\u001b[0;34m\u001b[0m\u001b[0;34m\u001b[0m\u001b[0m\n\u001b[0m\u001b[1;32m   5064\u001b[0m         \u001b[0;32melse\u001b[0m\u001b[0;34m:\u001b[0m\u001b[0;34m\u001b[0m\u001b[0;34m\u001b[0m\u001b[0m\n\u001b[1;32m   5065\u001b[0m             \u001b[0;32mif\u001b[0m \u001b[0mself\u001b[0m\u001b[0;34m.\u001b[0m\u001b[0m_info_axis\u001b[0m\u001b[0;34m.\u001b[0m\u001b[0m_can_hold_identifiers_and_holds_name\u001b[0m\u001b[0;34m(\u001b[0m\u001b[0mname\u001b[0m\u001b[0;34m)\u001b[0m\u001b[0;34m:\u001b[0m\u001b[0;34m\u001b[0m\u001b[0;34m\u001b[0m\u001b[0m\n",
      "\u001b[0;31mAttributeError\u001b[0m: 'DataFrame' object has no attribute '_data'"
     ]
    }
   ],
   "source": [
    "pd.read_pickle('SOSD.pkl')"
   ]
  },
  {
   "cell_type": "code",
   "execution_count": null,
   "metadata": {},
   "outputs": [],
   "source": [
    "with open('v3_OOS_income.pickle', 'rb') as handle:\n",
    "    pickle.dump(results, handle)"
   ]
  },
  {
   "cell_type": "code",
   "execution_count": 113,
   "metadata": {},
   "outputs": [],
   "source": [
    "_min = np.min([np.min(r1), np.min(r2)])\n",
    "_max = np.max([np.max(r1), np.max(r2)])\n",
    "income = np.linspace(_min, _max, 1000)"
   ]
  },
  {
   "cell_type": "code",
   "execution_count": 114,
   "metadata": {},
   "outputs": [
    {
     "data": {
      "text/plain": [
       "[<matplotlib.lines.Line2D at 0x7f79006bed50>]"
      ]
     },
     "execution_count": 114,
     "metadata": {},
     "output_type": "execute_result"
    },
    {
     "data": {
      "image/png": "[encoded data removed]",
      "text/plain": [
       "<Figure size 432x288 with 1 Axes>"
      ]
     },
     "metadata": {
      "needs_background": "light"
     },
     "output_type": "display_data"
    }
   ],
   "source": [
    "plt.plot(income, ECDF(r1)(income))\n",
    "plt.plot(income, ECDF(r2)(income))\n",
    "\n",
    "plt.plot(income, ecdf_rs(income))"
   ]
  },
  {
   "cell_type": "code",
   "execution_count": 115,
   "metadata": {},
   "outputs": [
    {
     "name": "stdout",
     "output_type": "stream",
     "text": [
      "[0.99520268 0.98098121 0.98445557 0.98914664 1.00399954 0.98033714\n",
      " 0.98890751 0.99580223 0.98264451 0.97905993 0.99135621 0.97043248\n",
      " 0.98917649 1.0016242  0.98254858 0.98538366 0.98577853 0.98080159\n",
      " 0.99154709 0.9930261  0.98655988 0.99704354 0.99735371 0.99692668\n",
      " 0.99809046 1.00857875 0.98642836 0.99226054 1.00198227 0.98913436\n",
      " 0.98557182 1.09739456 1.00242687 0.96135802 0.98896042 0.95225815\n",
      " 0.96802282 0.95803804 0.95972562 0.95477125 0.95316154 0.95500617\n",
      " 0.95097296 0.95655087 0.95544662 0.95318734 0.95501085 0.95832767\n",
      " 0.95630911 0.95347898 0.9592582  0.94852334 0.94478389 0.94673987\n",
      " 0.95438663 0.97333989 0.98685769 0.96693331 0.96373924 0.97704235\n",
      " 0.96420624 0.97016932 0.97338523 0.97664019 0.97671068 0.97220905\n",
      " 0.96540458 0.96947591 0.96856711 0.9657276  0.96725655 0.96525257\n",
      " 0.96301819 0.95939868 0.95431057 0.95366728 0.95117431 0.94586746\n",
      " 0.95052327 0.95277202 0.95303734 0.95043275 0.94994732 0.95674202\n",
      " 0.95992699 0.95438989 0.95429392 0.94724304 0.950903   0.95216185\n",
      " 0.94649097 0.94869901 0.95100482 0.94845857 0.94759597 0.95569582\n",
      " 0.94515564 0.95558112 0.94189268 0.94065756 0.94158317 0.93560944\n",
      " 0.94396604 0.93201823 0.94525742 0.94494275 0.94724816 0.94834663\n",
      " 0.95761092 0.95820271 0.95524957 0.96369214 0.96535812 0.96044548\n",
      " 0.96684851 0.96428707 0.96009069 0.96368413 0.96276056 0.9673654\n",
      " 0.97323405 0.96466443 0.96630502 0.96877049 0.97016897 0.97353624\n",
      " 0.97527796 0.96649153 0.96856599 0.97468073 0.97236973 0.96771951\n",
      " 0.92424807 0.97981609 0.97196542 0.97929165 0.98381048 0.96990511\n",
      " 0.96289859 0.97556778 0.97884522 0.97661591 0.97581966 0.97721035\n",
      " 0.98011712 0.96470371 0.96324232 0.96371024 0.90907859 0.94419915\n",
      " 0.92469131 0.91967371 0.92089847 0.92525366 0.92473114 0.94440895\n",
      " 0.93383912 0.93487839 0.94513797 0.94108782 0.9433601  0.92390482\n",
      " 0.95334848 0.92421193 0.92106993 0.9304361  0.91770601 0.93551916\n",
      " 0.9400683  0.9401352  0.92721348 0.9358463  0.92792256 0.93391344\n",
      " 0.94735799 0.93915649 0.93439773 0.94356574 0.94217017 0.94921508\n",
      " 0.95031707 0.97176534 0.95468965 0.97000302 0.96994444 0.96802435\n",
      " 0.96636987 0.96691982 0.97680512 0.94184593 0.95619303 0.97738266\n",
      " 0.97700899 0.97569057 0.96956446 0.97352288 0.97313583 0.96790352\n",
      " 0.96971283 0.96988943 0.95684133 0.96581874 0.96982195 0.97958404\n",
      " 0.97495117 0.97315006 0.97063651 0.96895692 0.9759539  0.98124242\n",
      " 0.97469502 0.98260938 0.97686259 0.97786935 0.9775607  0.98851863\n",
      " 0.97476381 0.98016735 0.99151592 0.97977467 0.97633131 0.97748932\n",
      " 0.98748848 0.9687246  0.9648295  0.96037456 0.97318258 0.96192373\n",
      " 0.96208106 0.96306009 0.96577665 0.9608047  0.96420775 0.95907866\n",
      " 0.96980872 0.96448782 0.96253322 0.96356381 0.96553471 0.9632565\n",
      " 0.96529807 0.96643933 0.99294804 0.97138914 0.98182505 0.96999603\n",
      " 0.97593962 0.96213671 0.98043753 0.99115001 0.97593753 0.99552192\n",
      " 0.9834678  0.97875868 0.98132871 1.00151984 0.98382338 0.98673367\n",
      " 0.99745808 0.99205866 0.9875864  0.97647053 0.99011506 0.98814262\n",
      " 0.98735476 0.99328916 0.99069756 0.98681912 1.00177318 0.99225274\n",
      " 0.99333539 0.98663592 0.9865954  0.98075773 0.99060424 0.98863521\n",
      " 0.99438553 0.99548301 0.99476355 0.99482484 0.99796517 0.9911037\n",
      " 0.99431693 0.98607259 0.9887861  1.00345332 0.97588254 0.97608789\n",
      " 0.97579435 0.97400124 0.97092649 0.97511996 0.97407613 0.97453031\n",
      " 0.97457261 0.97730956 0.99000742 0.98412801 0.9820652  0.97708351\n",
      " 0.98099902 0.987524   0.98644828 1.01357336 0.99629218 0.99167154\n",
      " 0.99572033 1.00018411 0.99666873 0.99059632 0.99951443 0.99825481\n",
      " 1.00501525 1.0045684  1.02064127 1.01537382 1.01650877 1.02414807\n",
      " 1.02594954 1.02253245 1.03144708 1.02261828 1.0269942  1.04441287\n",
      " 1.02942551 1.03533551 1.03704288 1.03023273 1.03858863 1.04626925\n",
      " 1.03767928 1.04680722 1.04757801 1.05163283 1.04320208 1.05213834\n",
      " 1.05235205 1.05432712 1.04686302 1.0582672  1.05032125 1.04833605\n",
      " 1.08097338 1.06949799 1.07267674 1.08447252 1.07569298 1.05645534\n",
      " 1.08530353 1.05212858 1.06320511 1.06370352 1.06496191 1.06695322\n",
      " 1.06366743 1.06925866 1.10071165 1.11553093 1.10410046 1.09267587\n",
      " 1.12409207 1.07742217 1.10456687 1.08431768 1.08429127 1.05745884\n",
      " 1.08276176 1.04978787 1.08235805 1.06837831 1.10627168 1.10362028\n",
      " 1.08386291 1.08664662 1.10332884]\n"
     ]
    }
   ],
   "source": [
    "print(r1)"
   ]
  },
  {
   "cell_type": "code",
   "execution_count": 70,
   "metadata": {},
   "outputs": [],
   "source": [
    "def empirical_I(z, x, j):\n",
    "    # x: one observation of the sample\n",
    "    return (x <= z)*(z-x)**(j-1)/np.math.factorial(j-1)"
   ]
  },
  {
   "cell_type": "code",
   "execution_count": 71,
   "metadata": {},
   "outputs": [],
   "source": [
    "def I(z, X, j):\n",
    "    # Whole sample\n",
    "    N = len(X)\n",
    "    return 1/N*np.sum((X <= z)*(z-X)**(j-1))/np.math.factorial(j-1)"
   ]
  },
  {
   "cell_type": "code",
   "execution_count": 72,
   "metadata": {},
   "outputs": [],
   "source": [
    "fn = lambda z: (I(z, r1, j) - I(z, r2, j))"
   ]
  },
  {
   "cell_type": "code",
   "execution_count": 73,
   "metadata": {},
   "outputs": [],
   "source": [
    "a = [fn(i) for i in income]"
   ]
  },
  {
   "cell_type": "code",
   "execution_count": 74,
   "metadata": {},
   "outputs": [
    {
     "data": {
      "text/plain": [
       "[<matplotlib.lines.Line2D at 0x7f7ebfa94890>]"
      ]
     },
     "execution_count": 74,
     "metadata": {},
     "output_type": "execute_result"
    },
    {
     "data": {
      "image/png": "[encoded data removed]",
      "text/plain": [
       "<Figure size 432x288 with 1 Axes>"
      ]
     },
     "metadata": {
      "needs_background": "light"
     },
     "output_type": "display_data"
    }
   ],
   "source": [
    "plt.plot(income, a)"
   ]
  },
  {
   "cell_type": "code",
   "execution_count": 75,
   "metadata": {},
   "outputs": [
    {
     "data": {
      "text/plain": [
       "0.0"
      ]
     },
     "execution_count": 75,
     "metadata": {},
     "output_type": "execute_result"
    }
   ],
   "source": [
    "S_hat = (N*M/(N+M))**0.5*np.max(a)\n",
    "S_hat"
   ]
  },
  {
   "cell_type": "code",
   "execution_count": 76,
   "metadata": {},
   "outputs": [],
   "source": [
    "from scipy.stats import norm"
   ]
  },
  {
   "cell_type": "code",
   "execution_count": 86,
   "metadata": {},
   "outputs": [],
   "source": [
    "def max_tk(z, r1, r2, j):\n",
    "    U1 = norm.rvs(size=len(r1))\n",
    "    U2 = norm.rvs(size=len(r2))\n",
    "    part1 = (empirical_I(z, r1, j) - I(z, r1, j))*U1\n",
    "    part2 = (empirical_I(z, r2, j) - I(z, r2, j))*U2\n",
    "    return np.sum(part1 - part2)"
   ]
  },
  {
   "cell_type": "code",
   "execution_count": 78,
   "metadata": {},
   "outputs": [],
   "source": [
    "R = 2000\n",
    "\n",
    "z = np.expand_dims(income, 0) # first dimension is for grid search\n",
    "r1 = np.expand_dims(r1, 1) # second dimension for samples\n",
    "r2 = np.expand_dims(r2, 1) # second dimension for samples\n",
    "\n",
    "# U1 = norm.rvs(size=(len(income), len(r1), R))\n",
    "# U2 = norm.rvs(size=(len(z), len(r2), R))\n",
    "\n",
    "part1 = (empirical_I(z, r1, j) - I(z, r1, j)) # shape: (len(z), len(r1))\n",
    "part2 = (empirical_I(z, r2, j) - I(z, r2, j))\n"
   ]
  },
  {
   "cell_type": "code",
   "execution_count": 79,
   "metadata": {},
   "outputs": [],
   "source": [
    "part1 = np.repeat(part1[None,...], R, axis=0) # repeat the array for R times, shape: (R, len(z), len(r1))\n",
    "part2 = np.repeat(part2[None,...], R, axis=0)\n",
    "# repeat on firt array part1[0,0,0] == part1[1,0,0] is True"
   ]
  },
  {
   "cell_type": "code",
   "execution_count": 80,
   "metadata": {},
   "outputs": [],
   "source": [
    "U1 = norm.rvs(size=(R, len(r1))) # shape: (R, len(r1))\n",
    "U1 = np.repeat(U1[..., None], len(income), axis=2) # repeat the array for len(income) times, shape: (R, len(r1), len(z))\n",
    "# U1[0,0,0] == U1[0,0,1] is True\n",
    "\n",
    "U2 = norm.rvs(size=(R, len(r1))) # shape: (R, len(r1))\n",
    "U2 = np.repeat(U2[..., None], len(income), axis=2) # repeat the array for len(income) times, shape: (R, len(r1), len(z))\n",
    "# U2[0,0,0] == U2[0,0,1] is True"
   ]
  },
  {
   "cell_type": "code",
   "execution_count": 81,
   "metadata": {},
   "outputs": [],
   "source": [
    "a = np.sum(part1*U1 - part2*U2, axis=1)"
   ]
  },
  {
   "cell_type": "code",
   "execution_count": 82,
   "metadata": {},
   "outputs": [
    {
     "data": {
      "text/plain": [
       "0.5135"
      ]
     },
     "execution_count": 82,
     "metadata": {},
     "output_type": "execute_result"
    }
   ],
   "source": [
    "np.mean(np.max(a, axis=1)*((N*M/(N+M))**0.5) > S_hat)"
   ]
  },
  {
   "cell_type": "code",
   "execution_count": 83,
   "metadata": {},
   "outputs": [
    {
     "name": "stderr",
     "output_type": "stream",
     "text": [
      "/Users/francis/opt/anaconda3/lib/python3.7/site-packages/seaborn/distributions.py:2551: FutureWarning: `distplot` is a deprecated function and will be removed in a future version. Please adapt your code to use either `displot` (a figure-level function with similar flexibility) or `histplot` (an axes-level function for histograms).\n",
      "  warnings.warn(msg, FutureWarning)\n"
     ]
    },
    {
     "data": {
      "text/plain": [
       "<matplotlib.axes._subplots.AxesSubplot at 0x7f802a273290>"
      ]
     },
     "execution_count": 83,
     "metadata": {},
     "output_type": "execute_result"
    },
    {
     "data": {
      "image/png": "[encoded data removed]",
      "text/plain": [
       "<Figure size 432x288 with 1 Axes>"
      ]
     },
     "metadata": {
      "needs_background": "light"
     },
     "output_type": "display_data"
    }
   ],
   "source": [
    "sns.distplot(np.max(a, axis=1))"
   ]
  },
  {
   "cell_type": "code",
   "execution_count": 84,
   "metadata": {},
   "outputs": [
    {
     "data": {
      "text/plain": [
       "0.0"
      ]
     },
     "execution_count": 84,
     "metadata": {},
     "output_type": "execute_result"
    }
   ],
   "source": [
    "S_hat"
   ]
  },
  {
   "cell_type": "code",
   "execution_count": 108,
   "metadata": {},
   "outputs": [],
   "source": [
    "part1 = np.array([part1 for _ in range(R)])\n",
    "part2 = np.array([part2 for _ in range(R)])"
   ]
  },
  {
   "cell_type": "code",
   "execution_count": 109,
   "metadata": {},
   "outputs": [
    {
     "data": {
      "text/plain": [
       "(2000, 1000, 375)"
      ]
     },
     "execution_count": 109,
     "metadata": {},
     "output_type": "execute_result"
    }
   ],
   "source": [
    "part1.shape"
   ]
  },
  {
   "cell_type": "code",
   "execution_count": 99,
   "metadata": {},
   "outputs": [],
   "source": [
    "U1 = norm.rvs(size=np.product(part1.shape))"
   ]
  },
  {
   "cell_type": "code",
   "execution_count": null,
   "metadata": {},
   "outputs": [],
   "source": [
    "U2 = norm.rvs(size=part2.shape)"
   ]
  },
  {
   "cell_type": "code",
   "execution_count": 47,
   "metadata": {},
   "outputs": [
    {
     "name": "stderr",
     "output_type": "stream",
     "text": [
      "/Users/francis/opt/anaconda3/lib/python3.7/site-packages/seaborn/distributions.py:2551: FutureWarning: `distplot` is a deprecated function and will be removed in a future version. Please adapt your code to use either `displot` (a figure-level function with similar flexibility) or `histplot` (an axes-level function for histograms).\n",
      "  warnings.warn(msg, FutureWarning)\n"
     ]
    },
    {
     "data": {
      "text/plain": [
       "<matplotlib.axes._subplots.AxesSubplot at 0x7f953edb37d0>"
      ]
     },
     "execution_count": 47,
     "metadata": {},
     "output_type": "execute_result"
    },
    {
     "data": {
      "image/png": "[encoded data removed]",
      "text/plain": [
       "<Figure size 432x288 with 1 Axes>"
      ]
     },
     "metadata": {
      "needs_background": "light"
     },
     "output_type": "display_data"
    }
   ],
   "source": [
    "sns.distplot(np.array(S_bar)*(N*M/(N+M))**0.5)"
   ]
  },
  {
   "cell_type": "code",
   "execution_count": 101,
   "metadata": {
    "scrolled": true
   },
   "outputs": [
    {
     "name": "stdout",
     "output_type": "stream",
     "text": [
      "0\n",
      "100\n",
      "200\n",
      "300\n",
      "400\n",
      "500\n",
      "600\n",
      "700\n",
      "800\n",
      "900\n"
     ]
    }
   ],
   "source": [
    "\n",
    "S_bar = []\n",
    "fn_S_bar = lambda z: max_tk(z, r1, r2, j)\n",
    "\n",
    "\n",
    "for _i in range(1000):\n",
    "    if _i%100 == 0:\n",
    "        print(_i)\n",
    "        \n",
    "    b = [fn_S_bar(i) for i in income]\n",
    "    # plt.plot(income, b)\n",
    "    # plt.plot(income, b)\n",
    "    S_bar.append(np.max(b))\n",
    "    "
   ]
  },
  {
   "cell_type": "code",
   "execution_count": 102,
   "metadata": {},
   "outputs": [],
   "source": [
    "S_bar = np.array(S_bar)*((N*M/(N+M))**0.5)"
   ]
  },
  {
   "cell_type": "code",
   "execution_count": 103,
   "metadata": {},
   "outputs": [
    {
     "data": {
      "text/plain": [
       "1.0"
      ]
     },
     "execution_count": 103,
     "metadata": {},
     "output_type": "execute_result"
    }
   ],
   "source": [
    "np.mean(S_bar > S_hat)"
   ]
  },
  {
   "cell_type": "code",
   "execution_count": 52,
   "metadata": {},
   "outputs": [
    {
     "data": {
      "text/plain": [
       "15.286923189396594"
      ]
     },
     "execution_count": 52,
     "metadata": {},
     "output_type": "execute_result"
    }
   ],
   "source": [
    "S_hat"
   ]
  },
  {
   "cell_type": "code",
   "execution_count": 53,
   "metadata": {},
   "outputs": [
    {
     "data": {
      "text/plain": [
       "2"
      ]
     },
     "execution_count": 53,
     "metadata": {},
     "output_type": "execute_result"
    }
   ],
   "source": [
    "j"
   ]
  },
  {
   "cell_type": "code",
   "execution_count": null,
   "metadata": {},
   "outputs": [],
   "source": []
  }
 ],
 "metadata": {
  "kernelspec": {
   "display_name": "Python 3",
   "language": "python",
   "name": "python3"
  },
  "language_info": {
   "codemirror_mode": {
    "name": "ipython",
    "version": 3
   },
   "file_extension": ".py",
   "mimetype": "text/x-python",
   "name": "python",
   "nbconvert_exporter": "python",
   "pygments_lexer": "ipython3",
   "version": "3.7.4"
  },
  "toc": {
   "base_numbering": 1,
   "nav_menu": {},
   "number_sections": true,
   "sideBar": true,
   "skip_h1_title": false,
   "title_cell": "Table of Contents",
   "title_sidebar": "Contents",
   "toc_cell": false,
   "toc_position": {},
   "toc_section_display": true,
   "toc_window_display": false
  }
 },
 "nbformat": 4,
 "nbformat_minor": 2
}
