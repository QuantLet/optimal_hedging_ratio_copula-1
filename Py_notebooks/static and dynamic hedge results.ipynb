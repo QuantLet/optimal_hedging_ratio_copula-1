{
 "cells": [
  {
   "cell_type": "code",
   "execution_count": 27,
   "metadata": {},
   "outputs": [],
   "source": [
    "import numpy as np\n",
    "import pandas as pd\n",
    "import matplotlib.pyplot as plt\n",
    "import os, sys"
   ]
  },
  {
   "cell_type": "code",
   "execution_count": 42,
   "metadata": {},
   "outputs": [
    {
     "data": {
      "text/plain": [
       "495"
      ]
     },
     "execution_count": 42,
     "metadata": {},
     "output_type": "execute_result"
    }
   ],
   "source": [
    "static_PnL_path = '../_mathematica/data_PL/'\n",
    "static_PnL_files = [static_PnL_path + f for f in os.listdir(static_PnL_path) if f.endswith('r_outsample.csv')]\n",
    "\n",
    "len(static_PnL_files)"
   ]
  },
  {
   "cell_type": "code",
   "execution_count": 43,
   "metadata": {},
   "outputs": [
    {
     "name": "stdout",
     "output_type": "stream",
     "text": [
      "../_mathematica/data_PL/41_Gaussian_PLr_outsample.csv ../_mathematica/data_PL/22_Clayton_PLr_outsample.csv\n"
     ]
    }
   ],
   "source": [
    "print(static_PnL_files[0], static_PnL_files[1])"
   ]
  },
  {
   "cell_type": "code",
   "execution_count": 67,
   "metadata": {},
   "outputs": [],
   "source": [
    "Copula_names = ['Gaussian', 't_Copula_P', 't_Copula_Capped', 'Clayton', 'Frank', 'Gumbel', 'Plackett', 'Gauss Mix Indep', 'NIG_factor']"
   ]
  },
  {
   "cell_type": "code",
   "execution_count": 52,
   "metadata": {},
   "outputs": [],
   "source": [
    "PnL_arr = []\n",
    "Date_arr = []\n",
    "\n",
    "for i in range(len(static_PnL_files)):\n",
    "    \n",
    "    if static_PnL_files[i].find(\"Gaussian\") <0:\n",
    "        continue\n",
    "    \n",
    "    PnL = pd.read_csv(static_PnL_files[i])\n",
    "    Date = PnL.iloc[0,0]\n",
    "    \n",
    "    PnL = np.exp(PnL.iloc[:,1:].sum(axis=0))\n",
    "    PnL_arr.append(PnL)\n",
    "    Date_arr.append(Date)\n",
    "    "
   ]
  },
  {
   "cell_type": "code",
   "execution_count": 53,
   "metadata": {},
   "outputs": [],
   "source": [
    "df = pd.DataFrame(PnL_arr, index=Date_arr)\n",
    "df.index = pd.to_datetime(df.index)\n",
    "df.sort_index(inplace=True)"
   ]
  },
  {
   "cell_type": "code",
   "execution_count": 61,
   "metadata": {},
   "outputs": [
    {
     "data": {
      "text/plain": [
       "Index(['unhedged', 'future', 'Variance', 'VaR 99%', 'VaR 95%', 'ES 99%',\n",
       "       'ES 95%', 'Spectral 10'],\n",
       "      dtype='object')"
      ]
     },
     "execution_count": 61,
     "metadata": {},
     "output_type": "execute_result"
    }
   ],
   "source": [
    "df.columns"
   ]
  },
  {
   "cell_type": "code",
   "execution_count": 62,
   "metadata": {
    "scrolled": true
   },
   "outputs": [
    {
     "data": {
      "text/plain": [
       "{'whiskers': [<matplotlib.lines.Line2D at 0x7fe82e008290>,\n",
       "  <matplotlib.lines.Line2D at 0x7fe82e0087d0>,\n",
       "  <matplotlib.lines.Line2D at 0x7fe82e0196d0>,\n",
       "  <matplotlib.lines.Line2D at 0x7fe82e011e90>,\n",
       "  <matplotlib.lines.Line2D at 0x7fe82e02ca10>,\n",
       "  <matplotlib.lines.Line2D at 0x7fe82e02cf10>,\n",
       "  <matplotlib.lines.Line2D at 0x7fe82e112dd0>,\n",
       "  <matplotlib.lines.Line2D at 0x7fe82e11c350>,\n",
       "  <matplotlib.lines.Line2D at 0x7fe82e12f490>,\n",
       "  <matplotlib.lines.Line2D at 0x7fe82e019dd0>,\n",
       "  <matplotlib.lines.Line2D at 0x7fe82e13f590>,\n",
       "  <matplotlib.lines.Line2D at 0x7fe82e13fad0>,\n",
       "  <matplotlib.lines.Line2D at 0x7fe82e152950>,\n",
       "  <matplotlib.lines.Line2D at 0x7fe82e152e50>,\n",
       "  <matplotlib.lines.Line2D at 0x7fe82e164c90>,\n",
       "  <matplotlib.lines.Line2D at 0x7fe82e137d50>],\n",
       " 'caps': [<matplotlib.lines.Line2D at 0x7fe82e008cd0>,\n",
       "  <matplotlib.lines.Line2D at 0x7fe82dffe850>,\n",
       "  <matplotlib.lines.Line2D at 0x7fe82e011910>,\n",
       "  <matplotlib.lines.Line2D at 0x7fe82e0225d0>,\n",
       "  <matplotlib.lines.Line2D at 0x7fe82e033490>,\n",
       "  <matplotlib.lines.Line2D at 0x7fe82e033990>,\n",
       "  <matplotlib.lines.Line2D at 0x7fe82e11c850>,\n",
       "  <matplotlib.lines.Line2D at 0x7fe82e11cd50>,\n",
       "  <matplotlib.lines.Line2D at 0x7fe82e12fc10>,\n",
       "  <matplotlib.lines.Line2D at 0x7fe82e02cc50>,\n",
       "  <matplotlib.lines.Line2D at 0x7fe82e13ffd0>,\n",
       "  <matplotlib.lines.Line2D at 0x7fe82e148510>,\n",
       "  <matplotlib.lines.Line2D at 0x7fe82e15b390>,\n",
       "  <matplotlib.lines.Line2D at 0x7fe82e15b890>,\n",
       "  <matplotlib.lines.Line2D at 0x7fe82e16c710>,\n",
       "  <matplotlib.lines.Line2D at 0x7fe82e16cc10>],\n",
       " 'boxes': [<matplotlib.lines.Line2D at 0x7fe82dffe810>,\n",
       "  <matplotlib.lines.Line2D at 0x7fe82e008f10>,\n",
       "  <matplotlib.lines.Line2D at 0x7fe82e02c510>,\n",
       "  <matplotlib.lines.Line2D at 0x7fe82e112910>,\n",
       "  <matplotlib.lines.Line2D at 0x7fe82e125c90>,\n",
       "  <matplotlib.lines.Line2D at 0x7fe82e13f2d0>,\n",
       "  <matplotlib.lines.Line2D at 0x7fe82e152450>,\n",
       "  <matplotlib.lines.Line2D at 0x7fe82e1647d0>],\n",
       " 'medians': [<matplotlib.lines.Line2D at 0x7fe82e011710>,\n",
       "  <matplotlib.lines.Line2D at 0x7fe82e022ad0>,\n",
       "  <matplotlib.lines.Line2D at 0x7fe82e033c10>,\n",
       "  <matplotlib.lines.Line2D at 0x7fe82e033ed0>,\n",
       "  <matplotlib.lines.Line2D at 0x7fe82e137610>,\n",
       "  <matplotlib.lines.Line2D at 0x7fe82e148a10>,\n",
       "  <matplotlib.lines.Line2D at 0x7fe82e15bd90>,\n",
       "  <matplotlib.lines.Line2D at 0x7fe82e164f10>],\n",
       " 'fliers': [<matplotlib.lines.Line2D at 0x7fe82e011c50>,\n",
       "  <matplotlib.lines.Line2D at 0x7fe82e022fd0>,\n",
       "  <matplotlib.lines.Line2D at 0x7fe82e112410>,\n",
       "  <matplotlib.lines.Line2D at 0x7fe82e125790>,\n",
       "  <matplotlib.lines.Line2D at 0x7fe82e137b10>,\n",
       "  <matplotlib.lines.Line2D at 0x7fe82e148f10>,\n",
       "  <matplotlib.lines.Line2D at 0x7fe82e1642d0>,\n",
       "  <matplotlib.lines.Line2D at 0x7fe82e174650>],\n",
       " 'means': []}"
      ]
     },
     "execution_count": 62,
     "metadata": {},
     "output_type": "execute_result"
    },
    {
     "data": {
      "image/png": "[encoded data removed]",
      "text/plain": [
       "<Figure size 432x288 with 1 Axes>"
      ]
     },
     "metadata": {
      "needs_background": "light"
     },
     "output_type": "display_data"
    }
   ],
   "source": [
    "plt.boxplot([df.iloc[:,i] for i in range(len(df.columns))])"
   ]
  }
 ],
 "metadata": {
  "kernelspec": {
   "display_name": "Python 3",
   "language": "python",
   "name": "python3"
  },
  "language_info": {
   "codemirror_mode": {
    "name": "ipython",
    "version": 3
   },
   "file_extension": ".py",
   "mimetype": "text/x-python",
   "name": "python",
   "nbconvert_exporter": "python",
   "pygments_lexer": "ipython3",
   "version": "3.7.4"
  },
  "toc": {
   "base_numbering": 1,
   "nav_menu": {},
   "number_sections": true,
   "sideBar": true,
   "skip_h1_title": false,
   "title_cell": "Table of Contents",
   "title_sidebar": "Contents",
   "toc_cell": false,
   "toc_position": {},
   "toc_section_display": true,
   "toc_window_display": false
  }
 },
 "nbformat": 4,
 "nbformat_minor": 2
}
