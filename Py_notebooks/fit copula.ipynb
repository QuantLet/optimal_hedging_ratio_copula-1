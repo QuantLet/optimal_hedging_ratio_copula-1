{
 "cells": [
  {
   "cell_type": "markdown",
   "metadata": {},
   "source": [
    "# Fit Parametric Copula\n",
    "The purpose of this notebook is to find the best fitting Copula. The overall strategy is to maximize the likelihood. (However, there are hypothesis testing type goodness of fit testing procedures are proposed, detail please refer to )\n",
    "\n",
    "\n",
    "## Fitting Marginals\n",
    "First, we fit the data to different distributions to obtain the best fitting distributions' paramters. Then, we compute the KS statistis of each distributions and pick the best one to proceed. "
   ]
  },
  {
   "cell_type": "code",
   "execution_count": 2,
   "metadata": {},
   "outputs": [
    {
     "data": {
      "text/html": [
       "<div>\n",
       "<style scoped>\n",
       "    .dataframe tbody tr th:only-of-type {\n",
       "        vertical-align: middle;\n",
       "    }\n",
       "\n",
       "    .dataframe tbody tr th {\n",
       "        vertical-align: top;\n",
       "    }\n",
       "\n",
       "    .dataframe thead th {\n",
       "        text-align: right;\n",
       "    }\n",
       "</style>\n",
       "<table border=\"1\" class=\"dataframe\">\n",
       "  <thead>\n",
       "    <tr style=\"text-align: right;\">\n",
       "      <th></th>\n",
       "      <th>Unnamed: 0</th>\n",
       "      <th>Last Price_btc</th>\n",
       "      <th>Open Price_btc</th>\n",
       "      <th>High Price_btc</th>\n",
       "      <th>Low Price_btc</th>\n",
       "      <th>BTC1 Curncy - Volume</th>\n",
       "      <th>Last Price_brr</th>\n",
       "      <th>Open Price_brr</th>\n",
       "      <th>High Price_brr</th>\n",
       "      <th>Low Price_brr</th>\n",
       "      <th>price_crix</th>\n",
       "      <th>return_btc</th>\n",
       "      <th>return_brr</th>\n",
       "      <th>return_crix</th>\n",
       "    </tr>\n",
       "  </thead>\n",
       "  <tbody>\n",
       "    <tr>\n",
       "      <th>0</th>\n",
       "      <td>2020-09-04</td>\n",
       "      <td>10480</td>\n",
       "      <td>10730.0</td>\n",
       "      <td>10740.0</td>\n",
       "      <td>10355.0</td>\n",
       "      <td>13711.0</td>\n",
       "      <td>10273.83</td>\n",
       "      <td>10273.83</td>\n",
       "      <td>10273.83</td>\n",
       "      <td>10273.83</td>\n",
       "      <td>29614.314902</td>\n",
       "      <td>-0.022642</td>\n",
       "      <td>-0.056452</td>\n",
       "      <td>-0.109754</td>\n",
       "    </tr>\n",
       "    <tr>\n",
       "      <th>1</th>\n",
       "      <td>2020-09-03</td>\n",
       "      <td>10720</td>\n",
       "      <td>11710.0</td>\n",
       "      <td>11710.0</td>\n",
       "      <td>10840.0</td>\n",
       "      <td>15412.0</td>\n",
       "      <td>10870.49</td>\n",
       "      <td>10870.49</td>\n",
       "      <td>10870.49</td>\n",
       "      <td>10870.49</td>\n",
       "      <td>33049.664458</td>\n",
       "      <td>-0.066752</td>\n",
       "      <td>-0.040962</td>\n",
       "      <td>-0.046514</td>\n",
       "    </tr>\n",
       "    <tr>\n",
       "      <th>2</th>\n",
       "      <td>2020-09-02</td>\n",
       "      <td>11460</td>\n",
       "      <td>12405.0</td>\n",
       "      <td>12405.0</td>\n",
       "      <td>11530.0</td>\n",
       "      <td>17210.0</td>\n",
       "      <td>11325.01</td>\n",
       "      <td>11325.01</td>\n",
       "      <td>11325.01</td>\n",
       "      <td>11325.01</td>\n",
       "      <td>34623.237089</td>\n",
       "      <td>-0.052274</td>\n",
       "      <td>-0.046365</td>\n",
       "      <td>0.023061</td>\n",
       "    </tr>\n",
       "    <tr>\n",
       "      <th>3</th>\n",
       "      <td>2020-09-01</td>\n",
       "      <td>12075</td>\n",
       "      <td>12050.0</td>\n",
       "      <td>12450.0</td>\n",
       "      <td>12050.0</td>\n",
       "      <td>8919.0</td>\n",
       "      <td>11862.46</td>\n",
       "      <td>11862.46</td>\n",
       "      <td>11862.46</td>\n",
       "      <td>11862.46</td>\n",
       "      <td>33833.920615</td>\n",
       "      <td>0.020076</td>\n",
       "      <td>0.012073</td>\n",
       "      <td>-0.001434</td>\n",
       "    </tr>\n",
       "    <tr>\n",
       "      <th>4</th>\n",
       "      <td>2020-08-31</td>\n",
       "      <td>11835</td>\n",
       "      <td>11735.0</td>\n",
       "      <td>11915.0</td>\n",
       "      <td>11705.0</td>\n",
       "      <td>4865.0</td>\n",
       "      <td>11720.10</td>\n",
       "      <td>11720.10</td>\n",
       "      <td>11720.10</td>\n",
       "      <td>11720.10</td>\n",
       "      <td>33882.473739</td>\n",
       "      <td>0.017473</td>\n",
       "      <td>0.023398</td>\n",
       "      <td>0.033484</td>\n",
       "    </tr>\n",
       "  </tbody>\n",
       "</table>\n",
       "</div>"
      ],
      "text/plain": [
       "   Unnamed: 0  Last Price_btc  Open Price_btc  High Price_btc  Low Price_btc  \\\n",
       "0  2020-09-04           10480         10730.0         10740.0        10355.0   \n",
       "1  2020-09-03           10720         11710.0         11710.0        10840.0   \n",
       "2  2020-09-02           11460         12405.0         12405.0        11530.0   \n",
       "3  2020-09-01           12075         12050.0         12450.0        12050.0   \n",
       "4  2020-08-31           11835         11735.0         11915.0        11705.0   \n",
       "\n",
       "   BTC1 Curncy - Volume  Last Price_brr  Open Price_brr  High Price_brr  \\\n",
       "0               13711.0        10273.83        10273.83        10273.83   \n",
       "1               15412.0        10870.49        10870.49        10870.49   \n",
       "2               17210.0        11325.01        11325.01        11325.01   \n",
       "3                8919.0        11862.46        11862.46        11862.46   \n",
       "4                4865.0        11720.10        11720.10        11720.10   \n",
       "\n",
       "   Low Price_brr    price_crix  return_btc  return_brr  return_crix  \n",
       "0       10273.83  29614.314902   -0.022642   -0.056452    -0.109754  \n",
       "1       10870.49  33049.664458   -0.066752   -0.040962    -0.046514  \n",
       "2       11325.01  34623.237089   -0.052274   -0.046365     0.023061  \n",
       "3       11862.46  33833.920615    0.020076    0.012073    -0.001434  \n",
       "4       11720.10  33882.473739    0.017473    0.023398     0.033484  "
      ]
     },
     "execution_count": 2,
     "metadata": {},
     "output_type": "execute_result"
    }
   ],
   "source": [
    "import matplotlib.pyplot as plt\n",
    "import scipy\n",
    "from scipy import stats\n",
    "from scipy.stats import norm\n",
    "import pandas as pd\n",
    "import numpy as np\n",
    "import seaborn as sns\n",
    "data = pd.read_csv('../processed_data/btc_future_crix.csv')\n",
    "data.head()"
   ]
  },
  {
   "cell_type": "code",
   "execution_count": 2,
   "metadata": {},
   "outputs": [],
   "source": [
    "M = max(data.iloc[:,-1])\n",
    "m = min(data.iloc[:,-1])\n",
    "size = 3000\n",
    "x = np.linspace(m, M, size)\n",
    "dist_names = ['norm', 'lognorm', 't', 'laplace']"
   ]
  },
  {
   "cell_type": "code",
   "execution_count": 3,
   "metadata": {},
   "outputs": [],
   "source": [
    "def fit_marginals(data, dist_names = ['norm', 'lognorm', 't', 'laplace']):\n",
    "    dist_arr = []\n",
    "    KS_arr = []\n",
    "    param_arr = []\n",
    "    for dist_name in dist_names:\n",
    "        dist = getattr(scipy.stats, dist_name)\n",
    "        dist_arr.append(dist)\n",
    "        param = dist.fit(data)\n",
    "        param_arr.append(param)\n",
    "        KS = st.kstest(data, dist_name, args=param)\n",
    "        KS_arr.append(KS)\n",
    "        pdf_fitted = dist.pdf(x, *param[:-2], loc=param[-2], scale=param[-1])\n",
    "        plt.plot(x, pdf_fitted, label=dist_name)\n",
    "\n",
    "    sns.distplot(data, label='empirical', kde=False)\n",
    "    plt.yscale('log')\n",
    "    plt.legend()\n",
    "    return dist_names, dist_arr, KS_arr, param_arr"
   ]
  },
  {
   "cell_type": "code",
   "execution_count": 4,
   "metadata": {},
   "outputs": [
    {
     "ename": "NameError",
     "evalue": "name 'st' is not defined",
     "output_type": "error",
     "traceback": [
      "\u001b[0;31m---------------------------------------------------------------------------\u001b[0m",
      "\u001b[0;31mNameError\u001b[0m                                 Traceback (most recent call last)",
      "\u001b[0;32m<ipython-input-4-77115e272b7a>\u001b[0m in \u001b[0;36m<module>\u001b[0;34m\u001b[0m\n\u001b[0;32m----> 1\u001b[0;31m \u001b[0mbtc_result\u001b[0m \u001b[0;34m=\u001b[0m \u001b[0mfit_marginals\u001b[0m\u001b[0;34m(\u001b[0m\u001b[0mdata\u001b[0m\u001b[0;34m.\u001b[0m\u001b[0miloc\u001b[0m\u001b[0;34m[\u001b[0m\u001b[0;34m:\u001b[0m\u001b[0;34m,\u001b[0m\u001b[0;34m-\u001b[0m\u001b[0;36m3\u001b[0m\u001b[0;34m]\u001b[0m\u001b[0;34m)\u001b[0m\u001b[0;34m\u001b[0m\u001b[0;34m\u001b[0m\u001b[0m\n\u001b[0m\u001b[1;32m      2\u001b[0m \u001b[0mbrr_result\u001b[0m \u001b[0;34m=\u001b[0m \u001b[0mfit_marginals\u001b[0m\u001b[0;34m(\u001b[0m\u001b[0mdata\u001b[0m\u001b[0;34m.\u001b[0m\u001b[0miloc\u001b[0m\u001b[0;34m[\u001b[0m\u001b[0;34m:\u001b[0m\u001b[0;34m,\u001b[0m\u001b[0;34m-\u001b[0m\u001b[0;36m2\u001b[0m\u001b[0;34m]\u001b[0m\u001b[0;34m)\u001b[0m\u001b[0;34m\u001b[0m\u001b[0;34m\u001b[0m\u001b[0m\n\u001b[1;32m      3\u001b[0m \u001b[0mcrix_result\u001b[0m \u001b[0;34m=\u001b[0m \u001b[0mfit_marginals\u001b[0m\u001b[0;34m(\u001b[0m\u001b[0mdata\u001b[0m\u001b[0;34m.\u001b[0m\u001b[0miloc\u001b[0m\u001b[0;34m[\u001b[0m\u001b[0;34m:\u001b[0m\u001b[0;34m,\u001b[0m\u001b[0;34m-\u001b[0m\u001b[0;36m1\u001b[0m\u001b[0;34m]\u001b[0m\u001b[0;34m)\u001b[0m\u001b[0;34m\u001b[0m\u001b[0;34m\u001b[0m\u001b[0m\n",
      "\u001b[0;32m<ipython-input-3-3a5169f8e54d>\u001b[0m in \u001b[0;36mfit_marginals\u001b[0;34m(data, dist_names)\u001b[0m\n\u001b[1;32m      8\u001b[0m         \u001b[0mparam\u001b[0m \u001b[0;34m=\u001b[0m \u001b[0mdist\u001b[0m\u001b[0;34m.\u001b[0m\u001b[0mfit\u001b[0m\u001b[0;34m(\u001b[0m\u001b[0mdata\u001b[0m\u001b[0;34m)\u001b[0m\u001b[0;34m\u001b[0m\u001b[0;34m\u001b[0m\u001b[0m\n\u001b[1;32m      9\u001b[0m         \u001b[0mparam_arr\u001b[0m\u001b[0;34m.\u001b[0m\u001b[0mappend\u001b[0m\u001b[0;34m(\u001b[0m\u001b[0mparam\u001b[0m\u001b[0;34m)\u001b[0m\u001b[0;34m\u001b[0m\u001b[0;34m\u001b[0m\u001b[0m\n\u001b[0;32m---> 10\u001b[0;31m         \u001b[0mKS\u001b[0m \u001b[0;34m=\u001b[0m \u001b[0mst\u001b[0m\u001b[0;34m.\u001b[0m\u001b[0mkstest\u001b[0m\u001b[0;34m(\u001b[0m\u001b[0mdata\u001b[0m\u001b[0;34m,\u001b[0m \u001b[0mdist_name\u001b[0m\u001b[0;34m,\u001b[0m \u001b[0margs\u001b[0m\u001b[0;34m=\u001b[0m\u001b[0mparam\u001b[0m\u001b[0;34m)\u001b[0m\u001b[0;34m\u001b[0m\u001b[0;34m\u001b[0m\u001b[0m\n\u001b[0m\u001b[1;32m     11\u001b[0m         \u001b[0mKS_arr\u001b[0m\u001b[0;34m.\u001b[0m\u001b[0mappend\u001b[0m\u001b[0;34m(\u001b[0m\u001b[0mKS\u001b[0m\u001b[0;34m)\u001b[0m\u001b[0;34m\u001b[0m\u001b[0;34m\u001b[0m\u001b[0m\n\u001b[1;32m     12\u001b[0m         \u001b[0mpdf_fitted\u001b[0m \u001b[0;34m=\u001b[0m \u001b[0mdist\u001b[0m\u001b[0;34m.\u001b[0m\u001b[0mpdf\u001b[0m\u001b[0;34m(\u001b[0m\u001b[0mx\u001b[0m\u001b[0;34m,\u001b[0m \u001b[0;34m*\u001b[0m\u001b[0mparam\u001b[0m\u001b[0;34m[\u001b[0m\u001b[0;34m:\u001b[0m\u001b[0;34m-\u001b[0m\u001b[0;36m2\u001b[0m\u001b[0;34m]\u001b[0m\u001b[0;34m,\u001b[0m \u001b[0mloc\u001b[0m\u001b[0;34m=\u001b[0m\u001b[0mparam\u001b[0m\u001b[0;34m[\u001b[0m\u001b[0;34m-\u001b[0m\u001b[0;36m2\u001b[0m\u001b[0;34m]\u001b[0m\u001b[0;34m,\u001b[0m \u001b[0mscale\u001b[0m\u001b[0;34m=\u001b[0m\u001b[0mparam\u001b[0m\u001b[0;34m[\u001b[0m\u001b[0;34m-\u001b[0m\u001b[0;36m1\u001b[0m\u001b[0;34m]\u001b[0m\u001b[0;34m)\u001b[0m\u001b[0;34m\u001b[0m\u001b[0;34m\u001b[0m\u001b[0m\n",
      "\u001b[0;31mNameError\u001b[0m: name 'st' is not defined"
     ]
    }
   ],
   "source": [
    "btc_result = fit_marginals(data.iloc[:,-3])\n",
    "brr_result = fit_marginals(data.iloc[:,-2])\n",
    "crix_result = fit_marginals(data.iloc[:,-1])"
   ]
  },
  {
   "cell_type": "code",
   "execution_count": 7,
   "metadata": {},
   "outputs": [
    {
     "ename": "NameError",
     "evalue": "name 'st' is not defined",
     "output_type": "error",
     "traceback": [
      "\u001b[0;31m---------------------------------------------------------------------------\u001b[0m",
      "\u001b[0;31mNameError\u001b[0m                                 Traceback (most recent call last)",
      "\u001b[0;32m<ipython-input-7-b974ee3f2a49>\u001b[0m in \u001b[0;36m<module>\u001b[0;34m\u001b[0m\n\u001b[0;32m----> 1\u001b[0;31m \u001b[0mbtc_result\u001b[0m \u001b[0;34m=\u001b[0m \u001b[0mfit_marginals\u001b[0m\u001b[0;34m(\u001b[0m\u001b[0mdata\u001b[0m\u001b[0;34m.\u001b[0m\u001b[0miloc\u001b[0m\u001b[0;34m[\u001b[0m\u001b[0;34m:\u001b[0m\u001b[0;34m,\u001b[0m\u001b[0;34m-\u001b[0m\u001b[0;36m3\u001b[0m\u001b[0;34m]\u001b[0m\u001b[0;34m)\u001b[0m\u001b[0;34m\u001b[0m\u001b[0;34m\u001b[0m\u001b[0m\n\u001b[0m",
      "\u001b[0;32m<ipython-input-5-3a5169f8e54d>\u001b[0m in \u001b[0;36mfit_marginals\u001b[0;34m(data, dist_names)\u001b[0m\n\u001b[1;32m      8\u001b[0m         \u001b[0mparam\u001b[0m \u001b[0;34m=\u001b[0m \u001b[0mdist\u001b[0m\u001b[0;34m.\u001b[0m\u001b[0mfit\u001b[0m\u001b[0;34m(\u001b[0m\u001b[0mdata\u001b[0m\u001b[0;34m)\u001b[0m\u001b[0;34m\u001b[0m\u001b[0;34m\u001b[0m\u001b[0m\n\u001b[1;32m      9\u001b[0m         \u001b[0mparam_arr\u001b[0m\u001b[0;34m.\u001b[0m\u001b[0mappend\u001b[0m\u001b[0;34m(\u001b[0m\u001b[0mparam\u001b[0m\u001b[0;34m)\u001b[0m\u001b[0;34m\u001b[0m\u001b[0;34m\u001b[0m\u001b[0m\n\u001b[0;32m---> 10\u001b[0;31m         \u001b[0mKS\u001b[0m \u001b[0;34m=\u001b[0m \u001b[0mst\u001b[0m\u001b[0;34m.\u001b[0m\u001b[0mkstest\u001b[0m\u001b[0;34m(\u001b[0m\u001b[0mdata\u001b[0m\u001b[0;34m,\u001b[0m \u001b[0mdist_name\u001b[0m\u001b[0;34m,\u001b[0m \u001b[0margs\u001b[0m\u001b[0;34m=\u001b[0m\u001b[0mparam\u001b[0m\u001b[0;34m)\u001b[0m\u001b[0;34m\u001b[0m\u001b[0;34m\u001b[0m\u001b[0m\n\u001b[0m\u001b[1;32m     11\u001b[0m         \u001b[0mKS_arr\u001b[0m\u001b[0;34m.\u001b[0m\u001b[0mappend\u001b[0m\u001b[0;34m(\u001b[0m\u001b[0mKS\u001b[0m\u001b[0;34m)\u001b[0m\u001b[0;34m\u001b[0m\u001b[0;34m\u001b[0m\u001b[0m\n\u001b[1;32m     12\u001b[0m         \u001b[0mpdf_fitted\u001b[0m \u001b[0;34m=\u001b[0m \u001b[0mdist\u001b[0m\u001b[0;34m.\u001b[0m\u001b[0mpdf\u001b[0m\u001b[0;34m(\u001b[0m\u001b[0mx\u001b[0m\u001b[0;34m,\u001b[0m \u001b[0;34m*\u001b[0m\u001b[0mparam\u001b[0m\u001b[0;34m[\u001b[0m\u001b[0;34m:\u001b[0m\u001b[0;34m-\u001b[0m\u001b[0;36m2\u001b[0m\u001b[0;34m]\u001b[0m\u001b[0;34m,\u001b[0m \u001b[0mloc\u001b[0m\u001b[0;34m=\u001b[0m\u001b[0mparam\u001b[0m\u001b[0;34m[\u001b[0m\u001b[0;34m-\u001b[0m\u001b[0;36m2\u001b[0m\u001b[0;34m]\u001b[0m\u001b[0;34m,\u001b[0m \u001b[0mscale\u001b[0m\u001b[0;34m=\u001b[0m\u001b[0mparam\u001b[0m\u001b[0;34m[\u001b[0m\u001b[0;34m-\u001b[0m\u001b[0;36m1\u001b[0m\u001b[0;34m]\u001b[0m\u001b[0;34m)\u001b[0m\u001b[0;34m\u001b[0m\u001b[0;34m\u001b[0m\u001b[0m\n",
      "\u001b[0;31mNameError\u001b[0m: name 'st' is not defined"
     ]
    }
   ],
   "source": [
    "btc_result = fit_marginals(data.iloc[:,-3])"
   ]
  },
  {
   "cell_type": "code",
   "execution_count": 8,
   "metadata": {},
   "outputs": [
    {
     "ename": "NameError",
     "evalue": "name 'st' is not defined",
     "output_type": "error",
     "traceback": [
      "\u001b[0;31m---------------------------------------------------------------------------\u001b[0m",
      "\u001b[0;31mNameError\u001b[0m                                 Traceback (most recent call last)",
      "\u001b[0;32m<ipython-input-8-d6740350df26>\u001b[0m in \u001b[0;36m<module>\u001b[0;34m\u001b[0m\n\u001b[0;32m----> 1\u001b[0;31m \u001b[0mbrr_result\u001b[0m \u001b[0;34m=\u001b[0m \u001b[0mfit_marginals\u001b[0m\u001b[0;34m(\u001b[0m\u001b[0mdata\u001b[0m\u001b[0;34m.\u001b[0m\u001b[0miloc\u001b[0m\u001b[0;34m[\u001b[0m\u001b[0;34m:\u001b[0m\u001b[0;34m,\u001b[0m\u001b[0;34m-\u001b[0m\u001b[0;36m2\u001b[0m\u001b[0;34m]\u001b[0m\u001b[0;34m)\u001b[0m\u001b[0;34m\u001b[0m\u001b[0;34m\u001b[0m\u001b[0m\n\u001b[0m",
      "\u001b[0;32m<ipython-input-5-3a5169f8e54d>\u001b[0m in \u001b[0;36mfit_marginals\u001b[0;34m(data, dist_names)\u001b[0m\n\u001b[1;32m      8\u001b[0m         \u001b[0mparam\u001b[0m \u001b[0;34m=\u001b[0m \u001b[0mdist\u001b[0m\u001b[0;34m.\u001b[0m\u001b[0mfit\u001b[0m\u001b[0;34m(\u001b[0m\u001b[0mdata\u001b[0m\u001b[0;34m)\u001b[0m\u001b[0;34m\u001b[0m\u001b[0;34m\u001b[0m\u001b[0m\n\u001b[1;32m      9\u001b[0m         \u001b[0mparam_arr\u001b[0m\u001b[0;34m.\u001b[0m\u001b[0mappend\u001b[0m\u001b[0;34m(\u001b[0m\u001b[0mparam\u001b[0m\u001b[0;34m)\u001b[0m\u001b[0;34m\u001b[0m\u001b[0;34m\u001b[0m\u001b[0m\n\u001b[0;32m---> 10\u001b[0;31m         \u001b[0mKS\u001b[0m \u001b[0;34m=\u001b[0m \u001b[0mst\u001b[0m\u001b[0;34m.\u001b[0m\u001b[0mkstest\u001b[0m\u001b[0;34m(\u001b[0m\u001b[0mdata\u001b[0m\u001b[0;34m,\u001b[0m \u001b[0mdist_name\u001b[0m\u001b[0;34m,\u001b[0m \u001b[0margs\u001b[0m\u001b[0;34m=\u001b[0m\u001b[0mparam\u001b[0m\u001b[0;34m)\u001b[0m\u001b[0;34m\u001b[0m\u001b[0;34m\u001b[0m\u001b[0m\n\u001b[0m\u001b[1;32m     11\u001b[0m         \u001b[0mKS_arr\u001b[0m\u001b[0;34m.\u001b[0m\u001b[0mappend\u001b[0m\u001b[0;34m(\u001b[0m\u001b[0mKS\u001b[0m\u001b[0;34m)\u001b[0m\u001b[0;34m\u001b[0m\u001b[0;34m\u001b[0m\u001b[0m\n\u001b[1;32m     12\u001b[0m         \u001b[0mpdf_fitted\u001b[0m \u001b[0;34m=\u001b[0m \u001b[0mdist\u001b[0m\u001b[0;34m.\u001b[0m\u001b[0mpdf\u001b[0m\u001b[0;34m(\u001b[0m\u001b[0mx\u001b[0m\u001b[0;34m,\u001b[0m \u001b[0;34m*\u001b[0m\u001b[0mparam\u001b[0m\u001b[0;34m[\u001b[0m\u001b[0;34m:\u001b[0m\u001b[0;34m-\u001b[0m\u001b[0;36m2\u001b[0m\u001b[0;34m]\u001b[0m\u001b[0;34m,\u001b[0m \u001b[0mloc\u001b[0m\u001b[0;34m=\u001b[0m\u001b[0mparam\u001b[0m\u001b[0;34m[\u001b[0m\u001b[0;34m-\u001b[0m\u001b[0;36m2\u001b[0m\u001b[0;34m]\u001b[0m\u001b[0;34m,\u001b[0m \u001b[0mscale\u001b[0m\u001b[0;34m=\u001b[0m\u001b[0mparam\u001b[0m\u001b[0;34m[\u001b[0m\u001b[0;34m-\u001b[0m\u001b[0;36m1\u001b[0m\u001b[0;34m]\u001b[0m\u001b[0;34m)\u001b[0m\u001b[0;34m\u001b[0m\u001b[0;34m\u001b[0m\u001b[0m\n",
      "\u001b[0;31mNameError\u001b[0m: name 'st' is not defined"
     ]
    }
   ],
   "source": [
    "brr_result = fit_marginals(data.iloc[:,-2])"
   ]
  },
  {
   "cell_type": "code",
   "execution_count": 132,
   "metadata": {},
   "outputs": [
    {
     "data": {
      "image/png": "[encoded data removed]",
      "text/plain": [
       "<Figure size 432x288 with 1 Axes>"
      ]
     },
     "metadata": {
      "needs_background": "light"
     },
     "output_type": "display_data"
    }
   ],
   "source": [
    "crix_result = fit_marginals(data.iloc[:,-1])"
   ]
  },
  {
   "cell_type": "code",
   "execution_count": 133,
   "metadata": {},
   "outputs": [],
   "source": [
    "btc_KS = [round(result[0], 4) for result in btc_result[-2]]\n",
    "brr_KS = [round(result[0], 4) for result in brr_result[-2]]\n",
    "crix_KS = [round(result[0], 4) for result in crix_result[-2]]\n",
    "\n",
    "btc_KS_pvalue = [round(result[1], 4) for result in btc_result[-2]]\n",
    "brr_KS_pvalue = [round(result[1], 4) for result in brr_result[-2]]\n",
    "crix_KS_pvalue = [round(result[1], 4) for result in crix_result[-2]]"
   ]
  },
  {
   "cell_type": "code",
   "execution_count": 134,
   "metadata": {},
   "outputs": [],
   "source": [
    "KSs = pd.DataFrame({'btc':btc_KS, 'brr':brr_KS, 'crix':crix_KS}, index=dist_names).T\n",
    "KS_pvalues = pd.DataFrame({'btc':btc_KS_pvalue, 'brr':brr_KS_pvalue, 'crix':crix_KS_pvalue}, index=dist_names).T"
   ]
  },
  {
   "cell_type": "code",
   "execution_count": 135,
   "metadata": {},
   "outputs": [
    {
     "data": {
      "text/html": [
       "<div>\n",
       "<style scoped>\n",
       "    .dataframe tbody tr th:only-of-type {\n",
       "        vertical-align: middle;\n",
       "    }\n",
       "\n",
       "    .dataframe tbody tr th {\n",
       "        vertical-align: top;\n",
       "    }\n",
       "\n",
       "    .dataframe thead tr th {\n",
       "        text-align: left;\n",
       "    }\n",
       "</style>\n",
       "<table border=\"1\" class=\"dataframe\">\n",
       "  <thead>\n",
       "    <tr>\n",
       "      <th></th>\n",
       "      <th colspan=\"2\" halign=\"left\">laplace</th>\n",
       "      <th colspan=\"2\" halign=\"left\">lognorm</th>\n",
       "      <th colspan=\"2\" halign=\"left\">norm</th>\n",
       "      <th colspan=\"2\" halign=\"left\">t</th>\n",
       "    </tr>\n",
       "    <tr>\n",
       "      <th></th>\n",
       "      <th>KS</th>\n",
       "      <th>P-value</th>\n",
       "      <th>KS</th>\n",
       "      <th>P-value</th>\n",
       "      <th>KS</th>\n",
       "      <th>P-value</th>\n",
       "      <th>KS</th>\n",
       "      <th>P-value</th>\n",
       "    </tr>\n",
       "  </thead>\n",
       "  <tbody>\n",
       "    <tr>\n",
       "      <th>btc</th>\n",
       "      <td>0.0314</td>\n",
       "      <td>0.5511</td>\n",
       "      <td>0.1046</td>\n",
       "      <td>0.0</td>\n",
       "      <td>0.1038</td>\n",
       "      <td>0.0</td>\n",
       "      <td>0.0207</td>\n",
       "      <td>0.9451</td>\n",
       "    </tr>\n",
       "    <tr>\n",
       "      <th>brr</th>\n",
       "      <td>0.0336</td>\n",
       "      <td>0.4565</td>\n",
       "      <td>0.1059</td>\n",
       "      <td>0.0</td>\n",
       "      <td>0.1058</td>\n",
       "      <td>0.0</td>\n",
       "      <td>0.0308</td>\n",
       "      <td>0.5785</td>\n",
       "    </tr>\n",
       "    <tr>\n",
       "      <th>crix</th>\n",
       "      <td>0.0224</td>\n",
       "      <td>0.9026</td>\n",
       "      <td>0.0911</td>\n",
       "      <td>0.0</td>\n",
       "      <td>0.0903</td>\n",
       "      <td>0.0</td>\n",
       "      <td>0.0342</td>\n",
       "      <td>0.4326</td>\n",
       "    </tr>\n",
       "  </tbody>\n",
       "</table>\n",
       "</div>"
      ],
      "text/plain": [
       "     laplace         lognorm            norm               t        \n",
       "          KS P-value      KS P-value      KS P-value      KS P-value\n",
       "btc   0.0314  0.5511  0.1046     0.0  0.1038     0.0  0.0207  0.9451\n",
       "brr   0.0336  0.4565  0.1059     0.0  0.1058     0.0  0.0308  0.5785\n",
       "crix  0.0224  0.9026  0.0911     0.0  0.0903     0.0  0.0342  0.4326"
      ]
     },
     "execution_count": 135,
     "metadata": {},
     "output_type": "execute_result"
    }
   ],
   "source": [
    "KSs.columns = ['KS' for _ in range(len(dist_names))]\n",
    "KS_pvalues.columns = ['P-values' for _ in range(len(dist_names))]\n",
    "KS_and_Pvalues = [pd.concat({'KS':KSs.iloc[:,i], \"P-value\":KS_pvalues.iloc[:,i]},axis=1) for i in range(len(dist_names))]\n",
    "pd.concat(dict([(dist_names[i], KS_and_Pvalues[i]) for i in range(len(dist_names))]), axis=1)"
   ]
  },
  {
   "cell_type": "code",
   "execution_count": 136,
   "metadata": {},
   "outputs": [
    {
     "data": {
      "text/plain": [
       "(['norm', 'lognorm', 't', 'laplace'],\n",
       " [<scipy.stats._continuous_distns.norm_gen at 0x7fa898e14e50>,\n",
       "  <scipy.stats._continuous_distns.lognorm_gen at 0x7fa898ea1410>,\n",
       "  <scipy.stats._continuous_distns.t_gen at 0x7fa898eb8210>,\n",
       "  <scipy.stats._continuous_distns.laplace_gen at 0x7fa898e852d0>],\n",
       " [KstestResult(statistic=0.10382871164902485, pvalue=1.6550125774364151e-06),\n",
       "  KstestResult(statistic=0.10464926221740034, pvalue=1.3252244813972684e-06),\n",
       "  KstestResult(statistic=0.020700240866094677, pvalue=0.9450768497178044),\n",
       "  KstestResult(statistic=0.031356025722434844, pvalue=0.5510510759799622)],\n",
       " [(0.0003546211503368138, 0.04624166652589297),\n",
       "  (0.0038988936949579025, -11.87580211198474, 11.876052589731195),\n",
       "  (2.1322139303995824, 0.00024124137271071326, 0.024076557745693047),\n",
       "  (-2.2948301267284272e-08, 0.03031928838257561)])"
      ]
     },
     "execution_count": 136,
     "metadata": {},
     "output_type": "execute_result"
    },
    {
     "data": {
      "image/png": "[encoded data removed]",
      "text/plain": [
       "<Figure size 432x288 with 1 Axes>"
      ]
     },
     "metadata": {
      "needs_background": "light"
     },
     "output_type": "display_data"
    }
   ],
   "source": [
    "fit_marginals(data.iloc[:,-3])"
   ]
  },
  {
   "cell_type": "markdown",
   "metadata": {},
   "source": [
    "Packham: Try Empirical Distribution as well, try double t and normal inverse gaussian\n"
   ]
  },
  {
   "cell_type": "code",
   "execution_count": 137,
   "metadata": {},
   "outputs": [
    {
     "data": {
      "text/plain": [
       "[<matplotlib.lines.Line2D at 0x7fa89d5c4a50>]"
      ]
     },
     "execution_count": 137,
     "metadata": {},
     "output_type": "execute_result"
    },
    {
     "data": {
      "image/png": "[encoded data removed]",
      "text/plain": [
       "<Figure size 432x288 with 1 Axes>"
      ]
     },
     "metadata": {
      "needs_background": "light"
     },
     "output_type": "display_data"
    }
   ],
   "source": [
    "sns.distplot(data.iloc[:,-2], kde=False)\n",
    "\n",
    "plt.plot(x, )"
   ]
  },
  {
   "cell_type": "markdown",
   "metadata": {},
   "source": [
    "### Decisions\n",
    "btc future: t distribution\n",
    "\n",
    "btc reference rate: t distribution (but p-value is not satisfying)\n",
    "\n",
    "crix reference rate: laplace distribution (but p-value is not satisfying)\n",
    "\n",
    "## Fitting Copula\n",
    "\n",
    "We will use the $\\theta-\\tau$ relationship to determine the parameter, and then calculate the corresponding likelihood. \n",
    "\n",
    "We are interested in two pairs of bivariate copula:\n",
    "- brr, btc future, and\n",
    "- crix, btc future\n",
    "\n",
    "The link between $\\tau$ and $\\theta$ (Genest & Riverst, 1993)\n",
    "- Clayton\n",
    "$\\tau = \\theta/(\\theta+2)$\n",
    "\n",
    "- Frank\n",
    "$ \\tau = 1+ 4(D_1(\\theta)-1)/\\theta$, where $D_1$ is the Debye function of order 1\n",
    "\n",
    "- Gumbel\n",
    "$ \\tau = \\theta / (\\theta+1)$\n",
    "\n",
    "https://mediatum.ub.tum.de/doc/1119201/1119201.pdf"
   ]
  },
  {
   "cell_type": "code",
   "execution_count": 9,
   "metadata": {},
   "outputs": [
    {
     "data": {
      "text/plain": [
       "0.5645552447104593"
      ]
     },
     "execution_count": 9,
     "metadata": {},
     "output_type": "execute_result"
    }
   ],
   "source": [
    "tau_1 = stats.kendalltau(data.return_brr, data.return_btc)[0]\n",
    "tau_2 = stats.kendalltau(data.return_crix, data.return_btc)[0]\n",
    "\n",
    "tau_1"
   ]
  },
  {
   "cell_type": "code",
   "execution_count": 6,
   "metadata": {},
   "outputs": [
    {
     "data": {
      "text/plain": [
       "(-0.3, 0.3)"
      ]
     },
     "execution_count": 6,
     "metadata": {},
     "output_type": "execute_result"
    },
    {
     "data": {
      "image/png": "[encoded data removed]",
      "text/plain": [
       "<Figure size 360x360 with 1 Axes>"
      ]
     },
     "metadata": {
      "needs_background": "light"
     },
     "output_type": "display_data"
    }
   ],
   "source": [
    "plt.figure(figsize=(5,5))\n",
    "plt.scatter(data.return_brr, data.return_btc)\n",
    "plt.xlim((-0.3,0.3))\n",
    "plt.ylim((-0.3,0.3))"
   ]
  },
  {
   "cell_type": "code",
   "execution_count": 7,
   "metadata": {},
   "outputs": [],
   "source": [
    "def Clayton_copula_density(u, v, theta):\n",
    "    A = (1+theta)*((u*v)**(-1-theta))\n",
    "    B = (-1+(u**-theta)+(v**-theta))**(-2-(1/theta))\n",
    "    return A*B\n",
    "\n",
    "def Gumbel_copula(u,v, theta):\n",
    "    t1 = (-np.log(u))**theta\n",
    "    t2 = (-np.log(v))**theta\n",
    "    return np.exp((-(t1+t2))**(1/theta))\n",
    "\n",
    "def Gumbel_copula_density(u,v, theta):\n",
    "    t1 = (-np.log(u))**theta\n",
    "    t2 = (-np.log(v))**theta\n",
    "    A = (Gumbel_copula(u,v,theta)/(u*v))*(t1+t2)**(-2+2/theta)\n",
    "    B = (np.log(u)*np.log(v))**(theta-1)\n",
    "    C = 1+ (theta-1)*(t1+t2)**(-1/theta)\n",
    "    return A*B*C"
   ]
  },
  {
   "cell_type": "code",
   "execution_count": 3,
   "metadata": {},
   "outputs": [],
   "source": [
    "from statsmodels.distributions.empirical_distribution import ECDF\n",
    "\n",
    "ecdf_brr = ECDF(data.return_brr)\n",
    "ecdf_btc = ECDF(data.return_btc)\n",
    "\n",
    "u = ecdf_brr(data.return_brr)\n",
    "v = ecdf_btc(data.return_btc)"
   ]
  },
  {
   "cell_type": "code",
   "execution_count": 4,
   "metadata": {},
   "outputs": [
    {
     "ename": "NameError",
     "evalue": "name 'tau_1' is not defined",
     "output_type": "error",
     "traceback": [
      "\u001b[0;31m---------------------------------------------------------------------------\u001b[0m",
      "\u001b[0;31mNameError\u001b[0m                                 Traceback (most recent call last)",
      "\u001b[0;32m<ipython-input-4-a32d4e3b1768>\u001b[0m in \u001b[0;36m<module>\u001b[0;34m\u001b[0m\n\u001b[1;32m      1\u001b[0m \u001b[0;31m# Clayton\u001b[0m\u001b[0;34m\u001b[0m\u001b[0;34m\u001b[0m\u001b[0;34m\u001b[0m\u001b[0m\n\u001b[0;32m----> 2\u001b[0;31m \u001b[0mtheta_clayton\u001b[0m \u001b[0;34m=\u001b[0m \u001b[0;36m2\u001b[0m\u001b[0;34m*\u001b[0m\u001b[0mtau_1\u001b[0m \u001b[0;34m/\u001b[0m \u001b[0;34m(\u001b[0m\u001b[0;36m1\u001b[0m\u001b[0;34m-\u001b[0m\u001b[0mtau_1\u001b[0m\u001b[0;34m)\u001b[0m\u001b[0;34m\u001b[0m\u001b[0;34m\u001b[0m\u001b[0m\n\u001b[0m\u001b[1;32m      3\u001b[0m \u001b[0mtheta_gumbel\u001b[0m  \u001b[0;34m=\u001b[0m \u001b[0;36m1\u001b[0m\u001b[0;34m*\u001b[0m\u001b[0mtau_1\u001b[0m \u001b[0;34m/\u001b[0m \u001b[0;34m(\u001b[0m\u001b[0;36m1\u001b[0m\u001b[0;34m-\u001b[0m\u001b[0mtau_1\u001b[0m\u001b[0;34m)\u001b[0m\u001b[0;34m\u001b[0m\u001b[0;34m\u001b[0m\u001b[0m\n\u001b[1;32m      4\u001b[0m \u001b[0;34m\u001b[0m\u001b[0m\n\u001b[1;32m      5\u001b[0m \u001b[0;31m# u = brr_result[1][2].cdf(data.return_brr,df=brr_result[-1][2][0])\u001b[0m\u001b[0;34m\u001b[0m\u001b[0;34m\u001b[0m\u001b[0;34m\u001b[0m\u001b[0m\n",
      "\u001b[0;31mNameError\u001b[0m: name 'tau_1' is not defined"
     ]
    }
   ],
   "source": [
    "# Clayton\n",
    "theta_clayton = 2*tau_1 / (1-tau_1)\n",
    "theta_gumbel  = 1*tau_1 / (1-tau_1)\n",
    "\n",
    "# u = brr_result[1][2].cdf(data.return_brr,df=brr_result[-1][2][0])\n",
    "# v = btc_result[1][2].cdf(data.return_btc,df=btc_result[-1][2][0])\n",
    "\n",
    "clayton_likelihood = np.sum(np.log(Clayton_copula_density(u,v, theta_clayton)))\n",
    "gumbel_likelihood  = np.sum(np.log(Gumbel_copula_density(u,v, theta_gumbel)))"
   ]
  },
  {
   "cell_type": "code",
   "execution_count": 5,
   "metadata": {},
   "outputs": [],
   "source": [
    "# f1 = brr_result[1][2].pdf(data.return_brr,df=brr_result[-1][2][0])\n",
    "# f2 = btc_result[1][2].pdf(data.return_btc,df=btc_result[-1][2][0])\n",
    "\n",
    "clayton_likelihood_fn = lambda theta_clayton: np.sum(np.log(Clayton_copula_density(u,v, theta_clayton)))\n",
    "gumbel_likelihood_fn  = lambda theta_gumbel:  np.sum(np.log(Gumbel_copula_density(u,v, theta_gumbel)))\n"
   ]
  },
  {
   "cell_type": "code",
   "execution_count": 300,
   "metadata": {},
   "outputs": [
    {
     "name": "stderr",
     "output_type": "stream",
     "text": [
      "/Users/francis/opt/anaconda3/lib/python3.7/site-packages/ipykernel_launcher.py:3: RuntimeWarning: invalid value encountered in power\n",
      "  This is separate from the ipykernel package so we can avoid doing imports until\n"
     ]
    }
   ],
   "source": [
    "t_arr = np.linspace(-.99,3,200)\n",
    "\n",
    "CL = []\n",
    "GL = []\n",
    "for t in t_arr:\n",
    "    CL.append(clayton_likelihood_fn(t))\n",
    "#     GL.append(gumbel_likelihood_fn(t))\n",
    "CL = np.array(CL)\n",
    "i = np.isfinite(CL)\n",
    "CL = CL[i]\n",
    "t_arr = t_arr[i]"
   ]
  },
  {
   "cell_type": "code",
   "execution_count": 301,
   "metadata": {},
   "outputs": [
    {
     "data": {
      "text/plain": [
       "Text(0, 0.5, 'Likelihood')"
      ]
     },
     "execution_count": 301,
     "metadata": {},
     "output_type": "execute_result"
    },
    {
     "data": {
      "image/png": "[encoded data removed]",
      "text/plain": [
       "<Figure size 864x576 with 1 Axes>"
      ]
     },
     "metadata": {
      "needs_background": "light"
     },
     "output_type": "display_data"
    }
   ],
   "source": [
    "plt.figure(figsize=(12,8))\n",
    "plt.plot(t_arr,CL)\n",
    "# plt.plot(t_arr,GL)\n",
    "\n",
    "plt.title(\"Clayton Log Likelihood\")\n",
    "plt.xlabel(r\"%\\theta%\")\n",
    "plt.ylabel(\"Likelihood\")"
   ]
  },
  {
   "cell_type": "code",
   "execution_count": 302,
   "metadata": {},
   "outputs": [
    {
     "data": {
      "text/plain": [
       "1.9373366834170855"
      ]
     },
     "execution_count": 302,
     "metadata": {},
     "output_type": "execute_result"
    }
   ],
   "source": [
    "max_i = np.argmax(CL)\n",
    "t_arr[max_i]"
   ]
  },
  {
   "cell_type": "code",
   "execution_count": 303,
   "metadata": {},
   "outputs": [
    {
     "data": {
      "text/plain": [
       "0.492042423391574"
      ]
     },
     "execution_count": 303,
     "metadata": {},
     "output_type": "execute_result"
    }
   ],
   "source": [
    "t_arr[max_i]/(2+t_arr[max_i])"
   ]
  },
  {
   "cell_type": "code",
   "execution_count": 306,
   "metadata": {},
   "outputs": [
    {
     "data": {
      "text/plain": [
       "0.5645552447104593"
      ]
     },
     "execution_count": 306,
     "metadata": {},
     "output_type": "execute_result"
    }
   ],
   "source": [
    "tau_1"
   ]
  },
  {
   "cell_type": "code",
   "execution_count": 304,
   "metadata": {},
   "outputs": [
    {
     "data": {
      "text/plain": [
       "2.5930051417662336"
      ]
     },
     "execution_count": 304,
     "metadata": {},
     "output_type": "execute_result"
    }
   ],
   "source": [
    "2*tau_1/(1-tau_1)"
   ]
  },
  {
   "cell_type": "code",
   "execution_count": 444,
   "metadata": {},
   "outputs": [],
   "source": [
    "class Clayton:\n",
    "    def __init__(self, theta, Law_RS, Law_RF):\n",
    "        self.theta = theta     # Dependence Parameter\n",
    "        self.Law_RS = Law_RS   # Marginal Distribution of Spot\n",
    "        self.Law_RF = Law_RF   # Marginal Distribution of Future\n",
    "        \n",
    "    def phi(self, t):\n",
    "        A = 1/self.theta\n",
    "        B = t**(-self.theta)-1\n",
    "        return A*B\n",
    "    \n",
    "    def phi_inverse(self, t):\n",
    "        A = (1+self.theta*t)\n",
    "        B = -1/self.theta\n",
    "        return A**B\n",
    "    \n",
    "    def d_phi(self, t):\n",
    "        return -1/(t**(self.theta+1))\n",
    "    \n",
    "    def d_phi_inverse(self, t):\n",
    "        A = 1+ self.theta*t\n",
    "        B = (-1/self.theta) - 1\n",
    "        return self.theta * A**B\n",
    "    \n",
    "    def H(self, w, h, r_h): # a helper function to compute the input to F_RF\n",
    "        A = self.Law_RS.ppf(w) - r_h\n",
    "        if h!=0:\n",
    "            B = h\n",
    "        else:\n",
    "            B = 0.00001\n",
    "        return A/B\n",
    "    \n",
    "    def g(self, w, h, r_h):\n",
    "        return self.Law_RF.cdf(self.H(w=w, h=h, r_h=r_h))\n",
    "    \n",
    "    def D1C(self, w, h, r_h):\n",
    "        a = self.phi(w) + self.phi(self.g(w,h,r_h))\n",
    "        A = self.d_phi_inverse(a)\n",
    "        B = self.d_phi(w)\n",
    "        return A*B\n",
    "        \n",
    "    def F_RH(self, h, r_h):\n",
    "        func = partial(self.D1C, h=h, r_h=r_h)\n",
    "        I = integrate.quad(func, 0.0001, 0.999)\n",
    "        return 1 - I[0]\n",
    "    \n",
    "    def c_for_calibration(self, u, v, theta):\n",
    "        A = (1+theta)*((u*v)**(-1-theta))\n",
    "        B = (-1+(u**-theta)+(v**-theta))**(-2-(1/theta))\n",
    "        return A*B\n",
    "    \n",
    "    def canonical_calibrate(self, u, v):\n",
    "        fn_toopt = lambda theta: -np.sum(np.log(self.c_for_calibration(u, v, theta)))\n",
    "        result = scipy.optimize.minimize(fn_toopt, x0=0.1, tol=1e-10)\n",
    "        self.theta = result.x\n",
    "        return result"
   ]
  },
  {
   "cell_type": "code",
   "execution_count": 447,
   "metadata": {},
   "outputs": [
    {
     "data": {
      "text/plain": [
       "array([0.49207902])"
      ]
     },
     "execution_count": 447,
     "metadata": {},
     "output_type": "execute_result"
    }
   ],
   "source": [
    "C = Clayton(theta=0.1, Law_RS=stats.norm, Law_RF=stats.norm)\n",
    "C.canonical_calibrate(u,v)"
   ]
  },
  {
   "cell_type": "code",
   "execution_count": 427,
   "metadata": {},
   "outputs": [],
   "source": [
    "class Gaussian:\n",
    "    def __init__(self, rho, Law_RS, Law_RF):\n",
    "        self.rho = rho         # Dependence Parameter\n",
    "        self.Law_RS = Law_RS   # Marginal Distribution of Spot\n",
    "        self.Law_RF = Law_RF   # Marginal Distribution of Future\n",
    "        self.meta_Gaussian = stats.multivariate_normal([0,0], # Mean\n",
    "                                                       [[1,rho], # COV\n",
    "                                                        [rho,1]])\n",
    "\n",
    "    def H(self, w, h, r_h): # a helper function to compute the input to F_RF\n",
    "        A = self.Law_RS.ppf(w) - r_h\n",
    "        if h!=0:\n",
    "            B = h\n",
    "        else:\n",
    "            B = 0.00001\n",
    "        return A/B\n",
    "    \n",
    "    def g(self, w, h, r_h):\n",
    "        return self.Law_RF.cdf(self.H(w=w, h=h, r_h=r_h))\n",
    "    \n",
    "    def D1C(self, w, h, r_h):\n",
    "        integrand = lambda u: self.meta_Gaussian.pdf([norm.ppf(w), u]) \n",
    "        part2 = 1/norm.pdf(norm.ppf(w))\n",
    "        return integrate.quad(integrand, -np.infty, norm.ppf(self.g(w, h, r_h)))[0] * part2\n",
    "    \n",
    "    def F_RH(self, h, r_h):\n",
    "        func = partial(self.D1C, h=h, r_h=r_h)\n",
    "        I = integrate.quad(func, 0.0001, 0.999)\n",
    "        return 1 - I[0]\n",
    "    \n",
    "    def c(self, u, v): # copula density\n",
    "        part1 = self.meta_Gaussian.pdf([norm.ppf(u), norm.ppf(v)])\n",
    "        part2 = norm.pdf(norm.ppf(u))* norm.pdf(norm.ppf(v))\n",
    "        return part1/part2\n",
    "    \n",
    "    def f_RH(self, h, r_h):\n",
    "        part1 = lambda u: self.c(u, self.g(w=u, h=h, r_h=r_h))\n",
    "        part2 = lambda u: self.Law_RF.pdf(self.H(w=u, h=h, r_h=r_h))\n",
    "        integrand = lambda u: part1(u)*part2(u)\n",
    "        return integrate.quad(integrand, 0.0001, 0.999)[0]/np.abs(h)\n",
    "        \n",
    "    def sample(self, n):\n",
    "        copula_samples = self.meta_Gaussian.rvs(n)\n",
    "        samples = np.zeros((n,2))\n",
    "        samples[:,0]=self.Law_RS.ppf(norm.cdf(copula_samples[:,0]))\n",
    "        samples[:,1]=self.Law_RF.ppf(norm.cdf(copula_samples[:,1]))\n",
    "        return samples\n",
    "    \n",
    "    # likelihood function\n",
    "    def l_fn(self, rho, u, v):\n",
    "        _meta_Gaussian = stats.multivariate_normal([0,0], \n",
    "                                                  [[1,rho], \n",
    "                                                   [rho,1]])\n",
    "        \n",
    "        z1 = norm.ppf(u)\n",
    "        z2 = norm.ppf(v)\n",
    "        \n",
    "        part1 = []\n",
    "        for i in range(len(z1)):\n",
    "            part1.append(_meta_Gaussian.pdf([z1[i], z2[i]]))\n",
    "        \n",
    "        part1 = np.array(part1)\n",
    "        part2 = norm.pdf(norm.ppf(u))*norm.pdf(norm.ppf(v))\n",
    "        return np.nanmean(np.log(part1/part2))\n",
    "\n",
    "    def canonical_calibrate(self, u, v):\n",
    "        fn_toopt = lambda rho: -self.l_fn(rho, u, v)\n",
    "        result = scipy.optimize.minimize(fn_toopt, x0=0, tol=1e-10)\n",
    "        self.rho = result.x\n",
    "        return result"
   ]
  },
  {
   "cell_type": "code",
   "execution_count": 421,
   "metadata": {},
   "outputs": [],
   "source": [
    "C = Gaussian(rho=0.1, Law_RS=stats.norm, Law_RF=stats.norm)"
   ]
  },
  {
   "cell_type": "code",
   "execution_count": 423,
   "metadata": {
    "scrolled": true
   },
   "outputs": [
    {
     "name": "stderr",
     "output_type": "stream",
     "text": [
      "/Users/francis/opt/anaconda3/lib/python3.7/site-packages/ipykernel_launcher.py:64: RuntimeWarning: invalid value encountered in true_divide\n",
      "/Users/francis/opt/anaconda3/lib/python3.7/site-packages/ipykernel_launcher.py:64: RuntimeWarning: divide by zero encountered in log\n",
      "/Users/francis/opt/anaconda3/lib/python3.7/site-packages/ipykernel_launcher.py:64: RuntimeWarning: invalid value encountered in true_divide\n",
      "/Users/francis/opt/anaconda3/lib/python3.7/site-packages/ipykernel_launcher.py:64: RuntimeWarning: invalid value encountered in true_divide\n"
     ]
    },
    {
     "data": {
      "text/plain": [
       "<matplotlib.collections.PathCollection at 0x7fa88040ef10>"
      ]
     },
     "execution_count": 423,
     "metadata": {},
     "output_type": "execute_result"
    },
    {
     "data": {
      "image/png": "[encoded data removed]",
      "text/plain": [
       "<Figure size 432x288 with 1 Axes>"
      ]
     },
     "metadata": {
      "needs_background": "light"
     },
     "output_type": "display_data"
    }
   ],
   "source": [
    "rho_arr = np.linspace(-.99,.99,100)\n",
    "GausL = []\n",
    "\n",
    "for rho in rho_arr:\n",
    "    GausL.append(C.l_fn(rho, u,v))\n",
    "plt.plot(rho_arr, GausL)\n",
    "\n",
    "C.calibrate(u,v)\n",
    "plt.scatter(C.rho, C.l_fn(C.rho, u,v))"
   ]
  },
  {
   "cell_type": "code",
   "execution_count": 424,
   "metadata": {},
   "outputs": [
    {
     "name": "stderr",
     "output_type": "stream",
     "text": [
      "/Users/francis/opt/anaconda3/lib/python3.7/site-packages/ipykernel_launcher.py:64: RuntimeWarning: invalid value encountered in true_divide\n",
      "/Users/francis/opt/anaconda3/lib/python3.7/site-packages/ipykernel_launcher.py:64: RuntimeWarning: invalid value encountered in true_divide\n"
     ]
    },
    {
     "data": {
      "text/plain": [
       "      fun: -0.43660580748397637\n",
       " hess_inv: array([[0.10368294]])\n",
       "      jac: array([1.11758709e-08])\n",
       "  message: 'Desired error not necessarily achieved due to precision loss.'\n",
       "     nfev: 186\n",
       "      nit: 6\n",
       "     njev: 58\n",
       "   status: 2\n",
       "  success: False\n",
       "        x: array([0.76821375])"
      ]
     },
     "execution_count": 424,
     "metadata": {},
     "output_type": "execute_result"
    }
   ],
   "source": [
    "C.calibrate(u,v)"
   ]
  },
  {
   "cell_type": "code",
   "execution_count": 408,
   "metadata": {},
   "outputs": [
    {
     "data": {
      "text/plain": [
       "0.77"
      ]
     },
     "execution_count": 408,
     "metadata": {},
     "output_type": "execute_result"
    }
   ],
   "source": [
    "max_i = np.argmax(GausL)\n",
    "rho_arr[max_i]"
   ]
  },
  {
   "cell_type": "code",
   "execution_count": 418,
   "metadata": {},
   "outputs": [
    {
     "data": {
      "text/plain": [
       "0.5577083891338181"
      ]
     },
     "execution_count": 418,
     "metadata": {},
     "output_type": "execute_result"
    }
   ],
   "source": [
    "2*np.arcsin(0.76821375)/np.pi"
   ]
  },
  {
   "cell_type": "code",
   "execution_count": 10,
   "metadata": {},
   "outputs": [
    {
     "data": {
      "text/plain": [
       "0.5645552447104593"
      ]
     },
     "execution_count": 10,
     "metadata": {},
     "output_type": "execute_result"
    }
   ],
   "source": [
    "tau_1"
   ]
  },
  {
   "cell_type": "code",
   "execution_count": 415,
   "metadata": {},
   "outputs": [
    {
     "name": "stderr",
     "output_type": "stream",
     "text": [
      "/Users/francis/opt/anaconda3/lib/python3.7/site-packages/ipykernel_launcher.py:15: RuntimeWarning: invalid value encountered in true_divide\n",
      "  from ipykernel import kernelapp as app\n",
      "/Users/francis/opt/anaconda3/lib/python3.7/site-packages/ipykernel_launcher.py:15: RuntimeWarning: invalid value encountered in true_divide\n",
      "  from ipykernel import kernelapp as app\n"
     ]
    },
    {
     "data": {
      "text/plain": [
       "      fun: -0.43660580748397637\n",
       " hess_inv: array([[0.10368294]])\n",
       "      jac: array([1.11758709e-08])\n",
       "  message: 'Desired error not necessarily achieved due to precision loss.'\n",
       "     nfev: 186\n",
       "      nit: 6\n",
       "     njev: 58\n",
       "   status: 2\n",
       "  success: False\n",
       "        x: array([0.76821375])"
      ]
     },
     "execution_count": 415,
     "metadata": {},
     "output_type": "execute_result"
    }
   ],
   "source": [
    "def l_fn(rho, u, v):\n",
    "    _meta_Gaussian = stats.multivariate_normal([0,0], \n",
    "                                              [[1,rho], \n",
    "                                               [rho,1]])\n",
    "\n",
    "    z1 = norm.ppf(u)\n",
    "    z2 = norm.ppf(v)\n",
    "\n",
    "    part1 = []\n",
    "    for i in range(len(z1)):\n",
    "        part1.append(_meta_Gaussian.pdf([z1[i], z2[i]]))\n",
    "\n",
    "    part1 = np.array(part1)\n",
    "    part2 = norm.pdf(norm.ppf(u))*norm.pdf(norm.ppf(v))\n",
    "    return np.nanmean(np.log(part1/part2))\n",
    "\n",
    "\n",
    "fn_toopt = lambda rho: -l_fn(rho, u, v)\n",
    "scipy.optimize.minimize(fn_toopt, x0=0, tol=1e-10)"
   ]
  },
  {
   "cell_type": "code",
   "execution_count": 426,
   "metadata": {},
   "outputs": [
    {
     "data": {
      "text/plain": [
       "<matplotlib.collections.PathCollection at 0x7fa88118f710>"
      ]
     },
     "execution_count": 426,
     "metadata": {},
     "output_type": "execute_result"
    },
    {
     "data": {
      "image/png": "[encoded data removed]",
      "text/plain": [
       "<Figure size 360x360 with 1 Axes>"
      ]
     },
     "metadata": {
      "needs_background": "light"
     },
     "output_type": "display_data"
    }
   ],
   "source": [
    "plt.figure(figsize=(5,5))\n",
    "plt.scatter(u,v)"
   ]
  },
  {
   "cell_type": "code",
   "execution_count": 2,
   "metadata": {},
   "outputs": [],
   "source": [
    "class t_Copula:\n",
    "    def __init__(self, rho, nu_meta, nu_inner_1, nu_inner_2, Law_RS, Law_RF):\n",
    "        self.rho        = rho         # Dependence Parameter\n",
    "        self.nu_inner_1 = nu_inner_1\n",
    "        self.nu_inner_2 = nu_inner_2\n",
    "        self.Law_RS     = Law_RS   # Marginal Distribution of Spot\n",
    "        self.Law_RF     = Law_RF   # Marginal Distribution of Future\n",
    "        self.meta_t     = multivariate_t(nu   =nu_meta,  # DF\n",
    "                                         Sigma=np.array([[1,rho], # COV\n",
    "                                            [rho,1]]))\n",
    "        self.t1 = stats.t(df=nu_inner_1) # inner\n",
    "        self.t2 = stats.t(df=nu_inner_2) # inner\n",
    "        \n",
    "    def H(self, w, h, r_h): # a helper function to compute the input to F_RF\n",
    "        A = self.Law_RS.ppf(w) - r_h\n",
    "        if h!=0:\n",
    "            B = h\n",
    "        else:\n",
    "            B = 0.00001\n",
    "        return A/B\n",
    "    \n",
    "    def g(self, w, h, r_h):\n",
    "        return self.Law_RF.cdf(self.H(w=w, h=h, r_h=r_h))\n",
    "    \n",
    "    def D1C(self, w, h, r_h):\n",
    "        integrand = lambda u: self.meta_t.pdf(self.t.ppf(w), u) \n",
    "        part2 = 1/self.t.pdf(self.t1.ppf(w))\n",
    "        return integrate.quad(integrand, -np.infty, self.t2.ppf(self.g(w, h, r_h)))[0] * part2\n",
    "    \n",
    "    def F_RH(self, h, r_h):\n",
    "        func = partial(self.D1C, h=h, r_h=r_h)\n",
    "        I = integrate.quad(func, 0.0001, 0.999)\n",
    "        return 1 - I[0]\n",
    "    \n",
    "    def c(self, u, v): # copula density\n",
    "        part1 = self.meta_t.pdf(self.t1.ppf(u), self.t2.ppf(v))\n",
    "        part2 = self.t1.pdf(self.t1.ppf(u))* self.t2.pdf(self.t2.ppf(v))\n",
    "        return part1/part2\n",
    "    \n",
    "    def f_RH(self, h, r_h):\n",
    "        part1 = lambda u: self.c(u, self.g(w=u, h=h, r_h=r_h))\n",
    "        part2 = lambda u: self.Law_RF.pdf(self.H(w=u, h=h, r_h=r_h))\n",
    "        integrand = lambda u: part1(u)*part2(u)\n",
    "        return integrate.quad(integrand, 0.0001, 0.999)[0]/np.abs(h)\n",
    "        \n",
    "    def sample(self, n):\n",
    "        copula_samples = self.meta_t.rvs(n)\n",
    "        samples = np.zeros((n,2))\n",
    "        samples[:,0]=self.Law_RS.ppf(self.t1.cdf(copula_samples[:,0]))\n",
    "        samples[:,1]=self.Law_RF.ppf(self.t2.cdf(copula_samples[:,1]))\n",
    "        return samples\n",
    "    \n",
    "        # likelihood function\n",
    "    def l_fn(self, nu_meta, rho, u, v):\n",
    "        _meta_t = multivariate_t(nu =nu_meta,  # DF\n",
    "                                     Sigma=np.array([[1,rho], # COV\n",
    "                                            [rho,1]]))\n",
    "        \n",
    "        z1 = stats.t(df=self.nu_inner_1).ppf(u) # inner\n",
    "        z2 = stats.t(df=self.nu_inner_2).ppf(v)\n",
    "        \n",
    "        part1 = []\n",
    "        for i in range(len(z1)):\n",
    "            part1.append(_meta_t.pdf([z1[i], z2[i]]))\n",
    "        \n",
    "        part1 = np.array(part1)\n",
    "        part2 = self.t1.pdf(self.t1.ppf(u))*self.t2.pdf(self.t2.ppf(v))\n",
    "        return np.nanmean(np.log(part1/part2))\n",
    "\n",
    "    def canonical_calibrate(self, u, v):\n",
    "        fn_toopt = lambda rho: -self.l_fn(rho, u, v)\n",
    "        result = scipy.optimize.minimize(fn_toopt, x0=0, tol=1e-10)\n",
    "        self.rho = result.x\n",
    "        return result"
   ]
  },
  {
   "cell_type": "code",
   "execution_count": 3,
   "metadata": {},
   "outputs": [],
   "source": [
    "from toolbox import *\n",
    "C = t_Copula(rho=0.1, nu_meta= 4, nu_inner_1=6, nu_inner_2 =8, Law_RS=stats.norm, Law_RF=stats.norm)"
   ]
  },
  {
   "cell_type": "code",
   "execution_count": 4,
   "metadata": {},
   "outputs": [
    {
     "ename": "NameError",
     "evalue": "name 'u' is not defined",
     "output_type": "error",
     "traceback": [
      "\u001b[0;31m---------------------------------------------------------------------------\u001b[0m",
      "\u001b[0;31mNameError\u001b[0m                                 Traceback (most recent call last)",
      "\u001b[0;32m<ipython-input-4-c06245c77978>\u001b[0m in \u001b[0;36m<module>\u001b[0;34m\u001b[0m\n\u001b[0;32m----> 1\u001b[0;31m \u001b[0mC\u001b[0m\u001b[0;34m.\u001b[0m\u001b[0ml_fn\u001b[0m\u001b[0;34m(\u001b[0m\u001b[0mnu_meta\u001b[0m\u001b[0;34m=\u001b[0m\u001b[0;36m4\u001b[0m\u001b[0;34m,\u001b[0m\u001b[0mrho\u001b[0m\u001b[0;34m=\u001b[0m\u001b[0;36m0.6\u001b[0m\u001b[0;34m,\u001b[0m\u001b[0mu\u001b[0m\u001b[0;34m=\u001b[0m\u001b[0mu\u001b[0m\u001b[0;34m,\u001b[0m\u001b[0mv\u001b[0m\u001b[0;34m=\u001b[0m\u001b[0mv\u001b[0m\u001b[0;34m)\u001b[0m\u001b[0;34m\u001b[0m\u001b[0;34m\u001b[0m\u001b[0m\n\u001b[0m",
      "\u001b[0;31mNameError\u001b[0m: name 'u' is not defined"
     ]
    }
   ],
   "source": [
    "C.l_fn(nu_meta=4,rho=0.6,u=u,v=v)"
   ]
  },
  {
   "cell_type": "code",
   "execution_count": 8,
   "metadata": {},
   "outputs": [
    {
     "name": "stderr",
     "output_type": "stream",
     "text": [
      "/Users/francis/opt/anaconda3/lib/python3.7/site-packages/ipykernel_launcher.py:38: RuntimeWarning: invalid value encountered in double_scalars\n",
      "/Users/francis/opt/anaconda3/lib/python3.7/site-packages/ipykernel_launcher.py:44: IntegrationWarning: The occurrence of roundoff error is detected, which prevents \n",
      "  the requested tolerance from being achieved.  The error may be \n",
      "  underestimated.\n",
      "/Users/francis/opt/anaconda3/lib/python3.7/site-packages/ipykernel_launcher.py:44: IntegrationWarning: The maximum number of subdivisions (50) has been achieved.\n",
      "  If increasing the limit yields no improvement it is advised to analyze \n",
      "  the integrand in order to determine the difficulties.  If the position of a \n",
      "  local difficulty can be determined (singularity, discontinuity) one will \n",
      "  probably gain from splitting up the interval and calling the integrator \n",
      "  on the subranges.  Perhaps a special-purpose integrator should be used.\n",
      "/Users/francis/opt/anaconda3/lib/python3.7/site-packages/ipykernel_launcher.py:44: IntegrationWarning: The integral is probably divergent, or slowly convergent.\n"
     ]
    },
    {
     "name": "stdout",
     "output_type": "stream",
     "text": [
      "CPU times: user 1min 36s, sys: 1.2 s, total: 1min 37s\n",
      "Wall time: 1min 38s\n"
     ]
    }
   ],
   "source": [
    "%%time\n",
    "RH = np.linspace(-10,10,100)\n",
    "density = np.zeros(100)\n",
    "for i in range(len(RH)):\n",
    "    density[i] = C.f_RH(1,RH[i])"
   ]
  },
  {
   "cell_type": "code",
   "execution_count": 9,
   "metadata": {},
   "outputs": [
    {
     "data": {
      "text/plain": [
       "[<matplotlib.lines.Line2D at 0x7feda01b7950>]"
      ]
     },
     "execution_count": 9,
     "metadata": {},
     "output_type": "execute_result"
    },
    {
     "data": {
      "image/png": "[encoded data removed]",
      "text/plain": [
       "<Figure size 432x288 with 1 Axes>"
      ]
     },
     "metadata": {
      "needs_background": "light"
     },
     "output_type": "display_data"
    }
   ],
   "source": [
    "plt.plot(RH, density)"
   ]
  },
  {
   "cell_type": "code",
   "execution_count": 16,
   "metadata": {},
   "outputs": [
    {
     "name": "stdout",
     "output_type": "stream",
     "text": [
      "CPU times: user 706 µs, sys: 153 µs, total: 859 µs\n",
      "Wall time: 739 µs\n"
     ]
    },
    {
     "data": {
      "text/plain": [
       "array([ 1.29002711e-14, -3.91456294e-11, -3.60907138e-12, -6.02844163e-13,\n",
       "       -1.44211032e-13, -4.49640325e-14, -1.73541737e-14, -7.96585020e-15,\n",
       "       -4.30211422e-15, -2.55351296e-15, -1.69309011e-15, -1.17961196e-15,\n",
       "       -9.02056208e-16, -6.93889390e-16, -5.27355937e-16, -4.71844785e-16,\n",
       "       -3.05311332e-16, -3.05311332e-16, -2.49800181e-16, -1.66533454e-16,\n",
       "       -1.11022302e-16, -1.66533454e-16,  0.00000000e+00, -5.55111512e-17,\n",
       "       -1.11022302e-16, -1.11022302e-16,  0.00000000e+00, -5.55111512e-17,\n",
       "       -5.55111512e-17, -5.55111512e-17, -5.55111512e-17,  0.00000000e+00,\n",
       "       -5.55111512e-17,  0.00000000e+00,  0.00000000e+00, -5.55111512e-17,\n",
       "        0.00000000e+00,  0.00000000e+00,  0.00000000e+00,  0.00000000e+00,\n",
       "       -5.86188875e-11, -1.07206632e-10, -1.40767009e-10, -1.59689539e-10,\n",
       "        1.06820219e-10,  6.59085564e-11,  3.62360142e-11,  1.64807612e-11,\n",
       "        5.11268805e-12,  4.22550883e-13, -6.63358257e-13, -5.98865402e-12,\n",
       "       -1.81845650e-11, -3.89425159e-11, -6.97710778e-11, -1.11968435e-10,\n",
       "        1.58330016e-10,  1.37851730e-10,  1.02679087e-10,  5.24548183e-11,\n",
       "        0.00000000e+00,  1.11022302e-16,  0.00000000e+00,  0.00000000e+00,\n",
       "        0.00000000e+00,  0.00000000e+00,  0.00000000e+00,  1.11022302e-16,\n",
       "        0.00000000e+00,  0.00000000e+00,  1.11022302e-16,  1.11022302e-16,\n",
       "        0.00000000e+00,  0.00000000e+00,  1.11022302e-16,  1.11022302e-16,\n",
       "        0.00000000e+00,  1.11022302e-16,  2.22044605e-16,  2.22044605e-16,\n",
       "        2.22044605e-16,  2.22044605e-16,  2.22044605e-16,  3.33066907e-16,\n",
       "        3.33066907e-16,  6.66133815e-16,  6.66133815e-16,  8.88178420e-16,\n",
       "        1.22124533e-15,  1.77635684e-15,  2.66453526e-15,  4.55191440e-15,\n",
       "        8.65973959e-15,  1.90958360e-14,  5.04041253e-14,  1.65978342e-13,\n",
       "        7.17315096e-13,  4.50806059e-12, -4.32610614e-11])"
      ]
     },
     "execution_count": 16,
     "metadata": {},
     "output_type": "execute_result"
    }
   ],
   "source": [
    "%%time\n",
    "q_arr = np.linspace(0.001,.99, 99)\n",
    "stats.t.cdf(stats.t.ppf(q_arr, df=2.), df=2.)  - q_arr"
   ]
  },
  {
   "cell_type": "code",
   "execution_count": null,
   "metadata": {},
   "outputs": [],
   "source": []
  }
 ],
 "metadata": {
  "kernelspec": {
   "display_name": "Python 3",
   "language": "python",
   "name": "python3"
  },
  "language_info": {
   "codemirror_mode": {
    "name": "ipython",
    "version": 3
   },
   "file_extension": ".py",
   "mimetype": "text/x-python",
   "name": "python",
   "nbconvert_exporter": "python",
   "pygments_lexer": "ipython3",
   "version": "3.7.4"
  },
  "toc": {
   "base_numbering": 1,
   "nav_menu": {},
   "number_sections": true,
   "sideBar": true,
   "skip_h1_title": false,
   "title_cell": "Table of Contents",
   "title_sidebar": "Contents",
   "toc_cell": false,
   "toc_position": {},
   "toc_section_display": true,
   "toc_window_display": false
  }
 },
 "nbformat": 4,
 "nbformat_minor": 2
}
