{
 "cells": [
  {
   "cell_type": "code",
   "execution_count": 169,
   "metadata": {},
   "outputs": [],
   "source": [
    "import numpy as np\n",
    "import scipy.integrate as integrate\n",
    "from scipy import stats\n"
   ]
  },
  {
   "cell_type": "code",
   "execution_count": 220,
   "metadata": {},
   "outputs": [],
   "source": [
    "rho = 0.7\n",
    "u=np.linspace(0,1,100)\n",
    "v=np.linspace(0,1,100)\n",
    "\n",
    "def dc(u,v,rho):\n",
    "    part1 = np.exp(rho*(-2*u*v+u**2*rho+v**2*rho)/(2*(-1+rho**2)))\n",
    "    part2 = u**2*rho-u*v*(1+rho**2)+rho*(-1+v**2+rho**2)\n",
    "    part3 = (1-rho**2)**(5/2)\n",
    "    return -part1*part2/part3\n",
    "\n",
    "def c(u,v,rho):\n",
    "    part1 = 1/np.sqrt(1 - rho**2)\n",
    "    part2 = np.exp( (2*rho*u*v - rho**2*(u**2 + v**2))/(2*(1 - rho**2)))\n",
    "    return part1*part2\n"
   ]
  },
  {
   "cell_type": "code",
   "execution_count": 226,
   "metadata": {},
   "outputs": [],
   "source": [
    "rho=0.5\n",
    "fn = lambda u,v: (dc(u,v,rho)**2)/c(u,v,rho)"
   ]
  },
  {
   "cell_type": "code",
   "execution_count": 227,
   "metadata": {},
   "outputs": [
    {
     "data": {
      "text/plain": [
       "0.13179430313768847"
      ]
     },
     "execution_count": 227,
     "metadata": {},
     "output_type": "execute_result"
    }
   ],
   "source": [
    "1/np.sqrt(integrate.nquad(fn, ((0,1),(0,1)))[0])/np.sqrt(100)"
   ]
  },
  {
   "cell_type": "code",
   "execution_count": 228,
   "metadata": {},
   "outputs": [
    {
     "data": {
      "text/plain": [
       "0.8774789078361598"
      ]
     },
     "execution_count": 228,
     "metadata": {},
     "output_type": "execute_result"
    }
   ],
   "source": [
    "integrate.nquad(fn, ((0,1),(0,1)))[0]/.9**4"
   ]
  },
  {
   "cell_type": "code",
   "execution_count": 229,
   "metadata": {},
   "outputs": [
    {
     "data": {
      "text/plain": [
       "0.0670820393249937"
      ]
     },
     "execution_count": 229,
     "metadata": {},
     "output_type": "execute_result"
    }
   ],
   "source": [
    "1/np.sqrt((1+rho**2)/(1-rho**2)**2)/np.sqrt(100)"
   ]
  },
  {
   "cell_type": "code",
   "execution_count": 230,
   "metadata": {},
   "outputs": [
    {
     "data": {
      "text/plain": [
       "2.2222222222222223"
      ]
     },
     "execution_count": 230,
     "metadata": {},
     "output_type": "execute_result"
    }
   ],
   "source": [
    "(1+rho**2)/((1-rho**2)**2)"
   ]
  },
  {
   "cell_type": "code",
   "execution_count": 190,
   "metadata": {},
   "outputs": [],
   "source": [
    "def delta(w):\n",
    "    if w==0:\n",
    "        return 1\n",
    "    else:\n",
    "        return 0\n",
    "\n",
    "def dc(u,v, theta):\n",
    "    part1 = -v**(-theta)*(1+(1-theta)*np.log(v))*np.heaviside(v-u, 0)\n",
    "    part2 = -u**(-theta)*(1+(1-theta)*np.log(u))*np.heaviside(u-v, 0)\n",
    "    part3 = (v**(1-theta)*np.log(v)-u**(-theta)*v*(1+(1-theta)*np.log(u)))*delta(u-v)\n",
    "    return part1+part2+part3\n",
    "\n",
    "def c(u,v,theta):\n",
    "    part1 = (1-theta)*v**(-theta)*np.heaviside(v-u,0)\n",
    "    part2 = (1-theta)*u**(-theta)*np.heaviside(u-v,0)\n",
    "    part3 = (v**(1-theta)-(1-theta)*u**(-theta)*v)*delta(u-v)\n",
    "    return part1+part2+part3\n",
    "    "
   ]
  },
  {
   "cell_type": "code",
   "execution_count": 200,
   "metadata": {},
   "outputs": [],
   "source": [
    "theta = 0.8\n",
    "fn = lambda u,v: (dc(u,v,theta)**2)/c(u,v,theta)"
   ]
  },
  {
   "cell_type": "code",
   "execution_count": 201,
   "metadata": {},
   "outputs": [
    {
     "data": {
      "text/plain": [
       "6.018518516901271"
      ]
     },
     "execution_count": 201,
     "metadata": {},
     "output_type": "execute_result"
    }
   ],
   "source": [
    "a =integrate.nquad(fn, ((0,1),(0,1)))[0]\n",
    "a"
   ]
  },
  {
   "cell_type": "code",
   "execution_count": 208,
   "metadata": {},
   "outputs": [
    {
     "data": {
      "text/plain": [
       "0.04076197323468206"
      ]
     },
     "execution_count": 208,
     "metadata": {},
     "output_type": "execute_result"
    }
   ],
   "source": [
    "1/np.sqrt(a)/np.sqrt(100)"
   ]
  },
  {
   "cell_type": "code",
   "execution_count": 202,
   "metadata": {},
   "outputs": [
    {
     "data": {
      "text/plain": [
       "9.375000000000005"
      ]
     },
     "execution_count": 202,
     "metadata": {},
     "output_type": "execute_result"
    }
   ],
   "source": [
    "(1+theta)/((theta-theta**2)*(2-theta))"
   ]
  },
  {
   "cell_type": "code",
   "execution_count": 203,
   "metadata": {},
   "outputs": [
    {
     "data": {
      "text/plain": [
       "6.365740740740742"
      ]
     },
     "execution_count": 203,
     "metadata": {},
     "output_type": "execute_result"
    }
   ],
   "source": [
    "T1 = (theta**2-2*theta+2)/(1-theta)/(2-theta)**3\n",
    "T2 = (4+theta**2)/(theta*(2-theta)**3)\n",
    "T1+T2"
   ]
  },
  {
   "cell_type": "code",
   "execution_count": 204,
   "metadata": {},
   "outputs": [
    {
     "data": {
      "text/plain": [
       "9.375000000000002"
      ]
     },
     "execution_count": 204,
     "metadata": {},
     "output_type": "execute_result"
    }
   ],
   "source": [
    "b=(1+theta)/theta/(1-theta)/(2-theta)\n",
    "b"
   ]
  },
  {
   "cell_type": "code",
   "execution_count": 207,
   "metadata": {},
   "outputs": [
    {
     "data": {
      "text/plain": [
       "6.018518518518521"
      ]
     },
     "execution_count": 207,
     "metadata": {},
     "output_type": "execute_result"
    }
   ],
   "source": [
    "T1*2"
   ]
  },
  {
   "cell_type": "code",
   "execution_count": 206,
   "metadata": {},
   "outputs": [
    {
     "data": {
      "text/plain": [
       "3.3564814814814823"
      ]
     },
     "execution_count": 206,
     "metadata": {},
     "output_type": "execute_result"
    }
   ],
   "source": [
    "T2"
   ]
  },
  {
   "cell_type": "code",
   "execution_count": 269,
   "metadata": {},
   "outputs": [],
   "source": [
    "def integrand(u,v,rho):\n",
    "    part1 = np.exp(rho*(-2*u*v+rho*(u**2+v**2))/(2*(-1+rho**2)))\n",
    "    part2 = (rho**3 - u*v - rho**2*u*v + rho*(-1+u**2+v**2))**2\n",
    "    part3 = (1-rho**2)**(9/2)\n",
    "    return part1*part2/part3"
   ]
  },
  {
   "cell_type": "code",
   "execution_count": 335,
   "metadata": {},
   "outputs": [],
   "source": [
    "rho=0.8\n",
    "fn = lambda u,v: integrand(u,v,rho)"
   ]
  },
  {
   "cell_type": "code",
   "execution_count": 336,
   "metadata": {},
   "outputs": [],
   "source": [
    "a =integrate.nquad(fn, ((0,1),(0,1)))"
   ]
  },
  {
   "cell_type": "code",
   "execution_count": 337,
   "metadata": {},
   "outputs": [
    {
     "data": {
      "text/plain": [
       "(5.556832065137582, 7.187178685294483e-14)"
      ]
     },
     "execution_count": 337,
     "metadata": {},
     "output_type": "execute_result"
    }
   ],
   "source": [
    "a"
   ]
  },
  {
   "cell_type": "code",
   "execution_count": 338,
   "metadata": {},
   "outputs": [
    {
     "data": {
      "text/plain": [
       "12.65432098765433"
      ]
     },
     "execution_count": 338,
     "metadata": {},
     "output_type": "execute_result"
    }
   ],
   "source": [
    "b = (1+rho**2)/((1-rho**2)**2)\n",
    "b"
   ]
  },
  {
   "cell_type": "code",
   "execution_count": 339,
   "metadata": {},
   "outputs": [],
   "source": [
    "def dc(u,v,rho):\n",
    "    part1 = np.exp(rho*(-2*u*v+rho*(u**2+v**2))/(2*(-1+rho**2)))\n",
    "    part2 = (-rho**3 + u*v + rho**2*u*v - rho*(-1+u**2+v**2))\n",
    "    part3 = (1-rho**2)**(5/2)\n",
    "    return part1*part2/part3\n",
    "\n",
    "def c(u,v,rho):\n",
    "    part1 = 1/np.sqrt(1-rho**2)\n",
    "    part2 = np.exp((2*rho*u*v-rho**2*(u**2+v**2))/(2*(1-rho**2)))\n",
    "    return part1*part2"
   ]
  },
  {
   "cell_type": "code",
   "execution_count": 346,
   "metadata": {},
   "outputs": [],
   "source": [
    "fn = lambda u,v: dc(u,v,rho)**2/c(u,v,rho)"
   ]
  },
  {
   "cell_type": "code",
   "execution_count": 349,
   "metadata": {},
   "outputs": [
    {
     "data": {
      "text/plain": [
       "(0.6398729711660824, 9.269420103200322e-15)"
      ]
     },
     "execution_count": 349,
     "metadata": {},
     "output_type": "execute_result"
    }
   ],
   "source": [
    "a =integrate.nquad(fn, ((0,1),(0,1)))\n",
    "a"
   ]
  },
  {
   "cell_type": "code",
   "execution_count": 348,
   "metadata": {},
   "outputs": [
    {
     "data": {
      "text/plain": [
       "1.2501240700652356"
      ]
     },
     "execution_count": 348,
     "metadata": {},
     "output_type": "execute_result"
    }
   ],
   "source": [
    "1/np.sqrt(a)[0]"
   ]
  },
  {
   "cell_type": "code",
   "execution_count": 345,
   "metadata": {},
   "outputs": [
    {
     "data": {
      "text/plain": [
       "0.2811127713994908"
      ]
     },
     "execution_count": 345,
     "metadata": {},
     "output_type": "execute_result"
    }
   ],
   "source": [
    "1/np.sqrt(b)"
   ]
  },
  {
   "cell_type": "code",
   "execution_count": null,
   "metadata": {},
   "outputs": [],
   "source": []
  }
 ],
 "metadata": {
  "kernelspec": {
   "display_name": "Python 3",
   "language": "python",
   "name": "python3"
  },
  "language_info": {
   "codemirror_mode": {
    "name": "ipython",
    "version": 3
   },
   "file_extension": ".py",
   "mimetype": "text/x-python",
   "name": "python",
   "nbconvert_exporter": "python",
   "pygments_lexer": "ipython3",
   "version": "3.7.4"
  },
  "toc": {
   "base_numbering": 1,
   "nav_menu": {},
   "number_sections": true,
   "sideBar": true,
   "skip_h1_title": false,
   "title_cell": "Table of Contents",
   "title_sidebar": "Contents",
   "toc_cell": false,
   "toc_position": {},
   "toc_section_display": true,
   "toc_window_display": false
  }
 },
 "nbformat": 4,
 "nbformat_minor": 2
}
