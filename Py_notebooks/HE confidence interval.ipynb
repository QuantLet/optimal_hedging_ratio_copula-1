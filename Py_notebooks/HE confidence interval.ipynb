{
 "cells": [
  {
   "cell_type": "code",
   "execution_count": 302,
   "metadata": {},
   "outputs": [],
   "source": [
    "from copulae1 import *\n",
    "import os\n",
    "import plotly.express as px\n",
    "import plotly.figure_factory as ff\n",
    "import plotly.graph_objects as go\n",
    "np.random.seed(0)\n"
   ]
  },
  {
   "cell_type": "code",
   "execution_count": 303,
   "metadata": {},
   "outputs": [],
   "source": [
    "data = pd.read_csv('../data/btc future and reference rate/coingecko_future.csv')\n",
    "brr = data.iloc[:,4]\n",
    "btc = data.iloc[:,5]\n",
    "\n",
    "u = ECDF(brr)(brr)\n",
    "v = ECDF(btc)(btc)"
   ]
  },
  {
   "cell_type": "code",
   "execution_count": 304,
   "metadata": {},
   "outputs": [],
   "source": [
    "import json\n",
    "with open('../src/configs/config_coingecko_future_v3_MM.json','r') as file:\n",
    "    config = json.load(file)\n",
    "config\n",
    "data_name = config['data_name']\n",
    "calibration_method  = config['calibration_method']\n",
    "OHR = pd.read_hdf('../results/'+data_name +'/'+calibration_method+'/best_h.h5')\n",
    "if not os.path.exists(\"../results/\" + data_name + \"/MLE/reports\"):\n",
    "\tprint(\"Create new folder for results\")\n",
    "\tos.mkdir(\"../results/\" + data_name + \"/MLE/reports\")\n",
    "\tos.mkdir(\"../results/\" + data_name + \"/MM/reports\")\n",
    "    \n",
    "if calibration_method == \"MLE\":\n",
    "    report_path = \"../results/\" + data_name + \"/MLE/reports/\"\n",
    "    result_path = \"../results/\" + data_name + \"/MLE/\"\n",
    "elif calibration_method == \"MM\":\n",
    "    report_path = \"../results/\" + data_name + \"/MM/reports/\"\n",
    "    result_path = \"../results/\" + data_name + \"/MM/\""
   ]
  },
  {
   "cell_type": "code",
   "execution_count": 305,
   "metadata": {},
   "outputs": [
    {
     "name": "stderr",
     "output_type": "stream",
     "text": [
      "/Users/francis/opt/anaconda3/lib/python3.7/site-packages/pandas/core/frame.py:6692: FutureWarning:\n",
      "\n",
      "Sorting because non-concatenation axis is not aligned. A future version\n",
      "of pandas will change to not sort by default.\n",
      "\n",
      "To accept the future behavior, pass 'sort=False'.\n",
      "\n",
      "To retain the current behavior and silence the warning, pass 'sort=True'.\n",
      "\n",
      "\n"
     ]
    }
   ],
   "source": [
    "natp_path = '../_mathematica/data/'\n",
    "natp_ls = os.listdir(natp_path)\n",
    "natp_h = [l for l in natp_ls if l.endswith('_h.csv')]\n",
    "file_names = [l.replace('_h','') for l in natp_h]\n",
    "OHR_combined = []\n",
    "for i in range(len(natp_h)):\n",
    "    _natp_h = pd.DataFrame(open(natp_path+natp_h[i], 'r').readlines())\n",
    "    _natp_h = _natp_h.iloc[1:7,:]\n",
    "    file_name = natp_h[i].replace('_h','')\n",
    "    for i in range(len(_natp_h)):\n",
    "        _natp_h.iloc[i,0] = np.float32(_natp_h.iloc[i,0].replace('\\n',''))\n",
    "    _natp_h.columns = ['NIG_factor']\n",
    "    _natp_h.index = ['Variance', 'VaR q=0.01', 'VaR q=0.05', 'ES q=0.01', 'ES q=0.05', 'ERM k=10']\n",
    "    _natp_h = _natp_h.T\n",
    "    \n",
    "    OHR_combined.append(OHR.loc[:,file_name].append(_natp_h))\n",
    "OHR = pd.concat(OHR_combined, axis=1, keys=file_names).dropna(axis=1)"
   ]
  },
  {
   "cell_type": "code",
   "execution_count": 306,
   "metadata": {},
   "outputs": [],
   "source": [
    "Copula_names = list(OHR.index)\n",
    "risk_measures = OHR.loc[:,'0.csv'].columns\n",
    "data_path = '../processed_data/'+config['data_name']\n",
    "ls = os.listdir(data_path +'/train/')\n",
    "# OHR.loc[:,'0.csv'].loc[:,risk_measures[0]]"
   ]
  },
  {
   "cell_type": "code",
   "execution_count": 307,
   "metadata": {},
   "outputs": [],
   "source": [
    "block_size = 100\n",
    "_ids = [(i, i+block_size) for i in range(0, len(rs)-block_size)]"
   ]
  },
  {
   "cell_type": "code",
   "execution_count": 320,
   "metadata": {},
   "outputs": [
    {
     "data": {
      "image/png": "[encoded data removed]",
      "text/plain": [
       "<Figure size 864x288 with 1 Axes>"
      ]
     },
     "metadata": {
      "needs_background": "light"
     },
     "output_type": "display_data"
    }
   ],
   "source": [
    "rm = 'ERM k=10'\n",
    "rh_arr = []\n",
    "rs_arr = []\n",
    "rf_arr = []\n",
    "for file in ls:\n",
    "    test = pd.read_csv(data_path +'/test/'+file)\n",
    "    test.Date = pd.to_datetime(test.Date)\n",
    "    rs = np.array(test.loc[:, config['spot_name']])\n",
    "    rf = np.array(test.loc[:, config['future_name']])\n",
    "    h_arr = OHR.loc[:,file].loc[:,rm]\n",
    "    rh = rs - np.array(h_arr).reshape((len(h_arr),-1))*rf\n",
    "    rh = pd.DataFrame(rh, index=Copula_names, columns=test.Date)\n",
    "    rh_arr.append(rh)\n",
    "    \n",
    "    rs = pd.Series(rs, index=test.Date)\n",
    "    rf = pd.Series(rf, index=test.Date)\n",
    "    rs_arr.append(rs)\n",
    "    rf_arr.append(rf)\n",
    "    \n",
    "rh = pd.concat(rh_arr, axis=1)\n",
    "rh = rh.sort_index(axis=1)\n",
    "rs = pd.concat(rs_arr)\n",
    "rs = rs.sort_index()\n",
    "\n",
    "rf = pd.concat(rf_arr)\n",
    "rf = rf.sort_index()\n",
    "\n",
    "rh = rh.apply(pd.to_numeric)\n",
    "\n",
    "rs = pd.concat(rs_arr).sort_index()\n",
    "rf = pd.concat(rf_arr).sort_index()\n",
    "rh = pd.concat(rh_arr, axis=1)\n",
    "rh = rh.T.sort_index().T\n",
    "rs_blocks = [rs[_id[0]:_id[1]] for _id in _ids]\n",
    "rh_blocks = [rh.iloc[:, _id[0]:_id[1]] for _id in _ids]\n",
    "results = []\n",
    "for C in Copula_names:\n",
    "    _results = []\n",
    "    for _ in range(1000):\n",
    "        i = np.random.choice(range(len(rs_blocks)), 1)[0]\n",
    "        rho_h = ERM_estimate_trapezoidal(10, rh_blocks[i].loc[C,:])\n",
    "        rho_s = ERM_estimate_trapezoidal(10, rs_blocks[i])\n",
    "        _results.append(1-rho_h/rho_s)\n",
    "    results.append(_results)\n",
    "\n",
    "plt.figure(figsize=(12,4))\n",
    "plt.boxplot(results)\n",
    "plt.xticks(range(1,len(Copula_names)+1),Copula_names)\n",
    "plt.title(\"ERM k=10 Hedging Effectiveness\")\n",
    "plt.savefig('../results/coingecko_future_v3/HE_ERM10_BS.pdf')"
   ]
  },
  {
   "cell_type": "code",
   "execution_count": 319,
   "metadata": {},
   "outputs": [
    {
     "data": {
      "image/png": "[encoded data removed]",
      "text/plain": [
       "<Figure size 864x288 with 1 Axes>"
      ]
     },
     "metadata": {
      "needs_background": "light"
     },
     "output_type": "display_data"
    }
   ],
   "source": [
    "rm = 'Variance'\n",
    "\n",
    "rh_arr = []\n",
    "rs_arr = []\n",
    "rf_arr = []\n",
    "for file in ls:\n",
    "    test = pd.read_csv(data_path +'/test/'+file)\n",
    "    test.Date = pd.to_datetime(test.Date)\n",
    "    rs = np.array(test.loc[:, config['spot_name']])\n",
    "    rf = np.array(test.loc[:, config['future_name']])\n",
    "    h_arr = OHR.loc[:,file].loc[:,rm]\n",
    "    rh = rs - np.array(h_arr).reshape((len(h_arr),-1))*rf\n",
    "    rh = pd.DataFrame(rh, index=Copula_names, columns=test.Date)\n",
    "    rh_arr.append(rh)\n",
    "    \n",
    "    rs = pd.Series(rs, index=test.Date)\n",
    "    rf = pd.Series(rf, index=test.Date)\n",
    "    rs_arr.append(rs)\n",
    "    rf_arr.append(rf)\n",
    "    \n",
    "rh = pd.concat(rh_arr, axis=1)\n",
    "rh = rh.sort_index(axis=1)\n",
    "rs = pd.concat(rs_arr)\n",
    "rs = rs.sort_index()\n",
    "\n",
    "rf = pd.concat(rf_arr)\n",
    "rf = rf.sort_index()\n",
    "\n",
    "rh = rh.apply(pd.to_numeric)\n",
    "\n",
    "rs = pd.concat(rs_arr).sort_index()\n",
    "rf = pd.concat(rf_arr).sort_index()\n",
    "rh = pd.concat(rh_arr, axis=1)\n",
    "rh = rh.T.sort_index().T\n",
    "rs_blocks = [rs[_id[0]:_id[1]] for _id in _ids]\n",
    "rh_blocks = [rh.iloc[:, _id[0]:_id[1]] for _id in _ids]\n",
    "results = []\n",
    "for C in Copula_names:\n",
    "    _results = []\n",
    "    for _ in range(1000):\n",
    "        i = np.random.choice(range(len(rs_blocks)), 1)[0]\n",
    "        rho_h = Variance(rh_blocks[i].loc[C,:])\n",
    "        rho_s = Variance(rs_blocks[i])\n",
    "        _results.append(1-rho_h/rho_s)\n",
    "    results.append(_results)\n",
    "    \n",
    "plt.figure(figsize=(12,4))\n",
    "plt.boxplot(results)\n",
    "plt.xticks(range(1,len(Copula_names)+1),Copula_names)\n",
    "plt.title(\"Variance Hedging Effectiveness\")\n",
    "plt.savefig('../results/coingecko_future_v3/HE_Variance_BS.pdf')"
   ]
  },
  {
   "cell_type": "code",
   "execution_count": 318,
   "metadata": {},
   "outputs": [
    {
     "data": {
      "image/png": "[encoded data removed]",
      "text/plain": [
       "<Figure size 864x288 with 1 Axes>"
      ]
     },
     "metadata": {
      "needs_background": "light"
     },
     "output_type": "display_data"
    }
   ],
   "source": [
    "rm = 'VaR q=0.01'\n",
    "\n",
    "rh_arr = []\n",
    "rs_arr = []\n",
    "rf_arr = []\n",
    "for file in ls:\n",
    "    test = pd.read_csv(data_path +'/test/'+file)\n",
    "    test.Date = pd.to_datetime(test.Date)\n",
    "    rs = np.array(test.loc[:, config['spot_name']])\n",
    "    rf = np.array(test.loc[:, config['future_name']])\n",
    "    h_arr = OHR.loc[:,file].loc[:,rm]\n",
    "    rh = rs - np.array(h_arr).reshape((len(h_arr),-1))*rf\n",
    "    rh = pd.DataFrame(rh, index=Copula_names, columns=test.Date)\n",
    "    rh_arr.append(rh)\n",
    "    \n",
    "    rs = pd.Series(rs, index=test.Date)\n",
    "    rf = pd.Series(rf, index=test.Date)\n",
    "    rs_arr.append(rs)\n",
    "    rf_arr.append(rf)\n",
    "    \n",
    "rh = pd.concat(rh_arr, axis=1)\n",
    "rh = rh.sort_index(axis=1)\n",
    "rs = pd.concat(rs_arr)\n",
    "rs = rs.sort_index()\n",
    "\n",
    "rf = pd.concat(rf_arr)\n",
    "rf = rf.sort_index()\n",
    "\n",
    "rh = rh.apply(pd.to_numeric)\n",
    "\n",
    "rs = pd.concat(rs_arr).sort_index()\n",
    "rf = pd.concat(rf_arr).sort_index()\n",
    "rh = pd.concat(rh_arr, axis=1)\n",
    "rh = rh.T.sort_index().T\n",
    "rs_blocks = [rs[_id[0]:_id[1]] for _id in _ids]\n",
    "rh_blocks = [rh.iloc[:, _id[0]:_id[1]] for _id in _ids]\n",
    "\n",
    "results = []\n",
    "for C in Copula_names:\n",
    "    _results = []\n",
    "    for _ in range(1000):\n",
    "        i = np.random.choice(range(len(rs_blocks)), 1)[0]\n",
    "        rho_h = VaR(0.01, rh_blocks[i].loc[C,:])\n",
    "        rho_s = VaR(0.01, rs_blocks[i])\n",
    "        _results.append(1-rho_h/rho_s)\n",
    "    results.append(_results)\n",
    "    \n",
    "plt.figure(figsize=(12,4))\n",
    "plt.boxplot(results)\n",
    "plt.xticks(range(1,len(Copula_names)+1),Copula_names)\n",
    "plt.title(\"VaR 99% Hedging Effectiveness\")\n",
    "plt.savefig('../results/coingecko_future_v3/HE_VaR99_BS.pdf')"
   ]
  },
  {
   "cell_type": "code",
   "execution_count": 317,
   "metadata": {},
   "outputs": [
    {
     "data": {
      "image/png": "[encoded data removed]",
      "text/plain": [
       "<Figure size 864x288 with 1 Axes>"
      ]
     },
     "metadata": {
      "needs_background": "light"
     },
     "output_type": "display_data"
    }
   ],
   "source": [
    "rm = 'VaR q=0.05'\n",
    "\n",
    "rh_arr = []\n",
    "rs_arr = []\n",
    "rf_arr = []\n",
    "for file in ls:\n",
    "    test = pd.read_csv(data_path +'/test/'+file)\n",
    "    test.Date = pd.to_datetime(test.Date)\n",
    "    rs = np.array(test.loc[:, config['spot_name']])\n",
    "    rf = np.array(test.loc[:, config['future_name']])\n",
    "    h_arr = OHR.loc[:,file].loc[:,rm]\n",
    "    rh = rs - np.array(h_arr).reshape((len(h_arr),-1))*rf\n",
    "    rh = pd.DataFrame(rh, index=Copula_names, columns=test.Date)\n",
    "    rh_arr.append(rh)\n",
    "    \n",
    "    rs = pd.Series(rs, index=test.Date)\n",
    "    rf = pd.Series(rf, index=test.Date)\n",
    "    rs_arr.append(rs)\n",
    "    rf_arr.append(rf)\n",
    "    \n",
    "rh = pd.concat(rh_arr, axis=1)\n",
    "rh = rh.sort_index(axis=1)\n",
    "rs = pd.concat(rs_arr)\n",
    "rs = rs.sort_index()\n",
    "\n",
    "rf = pd.concat(rf_arr)\n",
    "rf = rf.sort_index()\n",
    "\n",
    "rh = rh.apply(pd.to_numeric)\n",
    "\n",
    "rs = pd.concat(rs_arr).sort_index()\n",
    "rf = pd.concat(rf_arr).sort_index()\n",
    "rh = pd.concat(rh_arr, axis=1)\n",
    "rh = rh.T.sort_index().T\n",
    "rs_blocks = [rs[_id[0]:_id[1]] for _id in _ids]\n",
    "rh_blocks = [rh.iloc[:, _id[0]:_id[1]] for _id in _ids]\n",
    "\n",
    "results = []\n",
    "for C in Copula_names:\n",
    "    _results = []\n",
    "    for _ in range(1000):\n",
    "        i = np.random.choice(range(len(rs_blocks)), 1)[0]\n",
    "        rho_h = VaR(0.05, rh_blocks[i].loc[C,:])\n",
    "        rho_s = VaR(0.05, rs_blocks[i])\n",
    "        _results.append(1-rho_h/rho_s)\n",
    "    results.append(_results)\n",
    "    \n",
    "plt.figure(figsize=(12,4))\n",
    "plt.boxplot(results)\n",
    "plt.xticks(range(1,len(Copula_names)+1),Copula_names)\n",
    "plt.title(\"VaR 95% Hedging Effectiveness\")\n",
    "plt.savefig('../results/coingecko_future_v3/HE_VaR95_BS.pdf')"
   ]
  },
  {
   "cell_type": "code",
   "execution_count": 316,
   "metadata": {},
   "outputs": [
    {
     "data": {
      "image/png": "[encoded data removed]",
      "text/plain": [
       "<Figure size 864x288 with 1 Axes>"
      ]
     },
     "metadata": {
      "needs_background": "light"
     },
     "output_type": "display_data"
    }
   ],
   "source": [
    "rm = 'ES q=0.05'\n",
    "\n",
    "rh_arr = []\n",
    "rs_arr = []\n",
    "rf_arr = []\n",
    "for file in ls:\n",
    "    test = pd.read_csv(data_path +'/test/'+file)\n",
    "    test.Date = pd.to_datetime(test.Date)\n",
    "    rs = np.array(test.loc[:, config['spot_name']])\n",
    "    rf = np.array(test.loc[:, config['future_name']])\n",
    "    h_arr = OHR.loc[:,file].loc[:,rm]\n",
    "    rh = rs - np.array(h_arr).reshape((len(h_arr),-1))*rf\n",
    "    rh = pd.DataFrame(rh, index=Copula_names, columns=test.Date)\n",
    "    rh_arr.append(rh)\n",
    "    \n",
    "    rs = pd.Series(rs, index=test.Date)\n",
    "    rf = pd.Series(rf, index=test.Date)\n",
    "    rs_arr.append(rs)\n",
    "    rf_arr.append(rf)\n",
    "    \n",
    "rh = pd.concat(rh_arr, axis=1)\n",
    "rh = rh.sort_index(axis=1)\n",
    "rs = pd.concat(rs_arr)\n",
    "rs = rs.sort_index()\n",
    "\n",
    "rf = pd.concat(rf_arr)\n",
    "rf = rf.sort_index()\n",
    "\n",
    "rh = rh.apply(pd.to_numeric)\n",
    "\n",
    "rs = pd.concat(rs_arr).sort_index()\n",
    "rf = pd.concat(rf_arr).sort_index()\n",
    "rh = pd.concat(rh_arr, axis=1)\n",
    "rh = rh.T.sort_index().T\n",
    "rs_blocks = [rs[_id[0]:_id[1]] for _id in _ids]\n",
    "rh_blocks = [rh.iloc[:, _id[0]:_id[1]] for _id in _ids]\n",
    "\n",
    "results = []\n",
    "for C in Copula_names:\n",
    "    _results = []\n",
    "    for _ in range(1000):\n",
    "        i = np.random.choice(range(len(rs_blocks)), 1)[0]\n",
    "        rho_h = ES(0.05, rh_blocks[i].loc[C,:])\n",
    "        rho_s = ES(0.05, rs_blocks[i])\n",
    "        _results.append(1-rho_h/rho_s)\n",
    "    results.append(_results)\n",
    "    \n",
    "plt.figure(figsize=(12,4))\n",
    "plt.boxplot(results)\n",
    "plt.xticks(range(1,len(Copula_names)+1),Copula_names)\n",
    "plt.title(\"ES 95% Hedging Effectiveness\")\n",
    "plt.plot()\n",
    "plt.savefig('../results/coingecko_future_v3/HE_ES95_BS.pdf')"
   ]
  },
  {
   "cell_type": "code",
   "execution_count": 315,
   "metadata": {},
   "outputs": [
    {
     "data": {
      "image/png": "[encoded data removed]",
      "text/plain": [
       "<Figure size 864x288 with 1 Axes>"
      ]
     },
     "metadata": {
      "needs_background": "light"
     },
     "output_type": "display_data"
    }
   ],
   "source": [
    "rm = 'ES q=0.01'\n",
    "\n",
    "rh_arr = []\n",
    "rs_arr = []\n",
    "rf_arr = []\n",
    "for file in ls:\n",
    "    test = pd.read_csv(data_path +'/test/'+file)\n",
    "    test.Date = pd.to_datetime(test.Date)\n",
    "    rs = np.array(test.loc[:, config['spot_name']])\n",
    "    rf = np.array(test.loc[:, config['future_name']])\n",
    "    h_arr = OHR.loc[:,file].loc[:,rm]\n",
    "    rh = rs - np.array(h_arr).reshape((len(h_arr),-1))*rf\n",
    "    rh = pd.DataFrame(rh, index=Copula_names, columns=test.Date)\n",
    "    rh_arr.append(rh)\n",
    "    \n",
    "    rs = pd.Series(rs, index=test.Date)\n",
    "    rf = pd.Series(rf, index=test.Date)\n",
    "    rs_arr.append(rs)\n",
    "    rf_arr.append(rf)\n",
    "    \n",
    "rh = pd.concat(rh_arr, axis=1)\n",
    "rh = rh.sort_index(axis=1)\n",
    "rs = pd.concat(rs_arr)\n",
    "rs = rs.sort_index()\n",
    "\n",
    "rf = pd.concat(rf_arr)\n",
    "rf = rf.sort_index()\n",
    "\n",
    "rh = rh.apply(pd.to_numeric)\n",
    "\n",
    "rs = pd.concat(rs_arr).sort_index()\n",
    "rf = pd.concat(rf_arr).sort_index()\n",
    "rh = pd.concat(rh_arr, axis=1)\n",
    "rh = rh.T.sort_index().T\n",
    "rs_blocks = [rs[_id[0]:_id[1]] for _id in _ids]\n",
    "rh_blocks = [rh.iloc[:, _id[0]:_id[1]] for _id in _ids]\n",
    "\n",
    "results = []\n",
    "for C in Copula_names:\n",
    "    _results = []\n",
    "    for _ in range(1000):\n",
    "        i = np.random.choice(range(len(rs_blocks)), 1)[0]\n",
    "        rho_h = ES(0.01, rh_blocks[i].loc[C,:])\n",
    "        rho_s = ES(0.01, rs_blocks[i])\n",
    "        _results.append(1-rho_h/rho_s)\n",
    "    results.append(_results)\n",
    "    \n",
    "plt.figure(figsize=(12,4))\n",
    "plt.boxplot(results)\n",
    "plt.xticks(range(1,len(Copula_names)+1),Copula_names)\n",
    "plt.title(\"ES 99% Hedging Effectiveness\")\n",
    "plt.savefig('../results/coingecko_future_v3/HE_ES99_BS.pdf')"
   ]
  }
 ],
 "metadata": {
  "kernelspec": {
   "display_name": "Python 3",
   "language": "python",
   "name": "python3"
  },
  "language_info": {
   "codemirror_mode": {
    "name": "ipython",
    "version": 3
   },
   "file_extension": ".py",
   "mimetype": "text/x-python",
   "name": "python",
   "nbconvert_exporter": "python",
   "pygments_lexer": "ipython3",
   "version": "3.7.4"
  },
  "toc": {
   "base_numbering": 1,
   "nav_menu": {},
   "number_sections": true,
   "sideBar": true,
   "skip_h1_title": false,
   "title_cell": "Table of Contents",
   "title_sidebar": "Contents",
   "toc_cell": false,
   "toc_position": {},
   "toc_section_display": true,
   "toc_window_display": false
  }
 },
 "nbformat": 4,
 "nbformat_minor": 2
}
