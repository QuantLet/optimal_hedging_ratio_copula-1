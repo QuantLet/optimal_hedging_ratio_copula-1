{
 "cells": [
  {
   "cell_type": "code",
   "execution_count": 1,
   "metadata": {},
   "outputs": [],
   "source": [
    "import matplotlib.pyplot as plt\n",
    "import scipy\n",
    "from scipy import stats\n",
    "from scipy.stats import norm\n",
    "import pandas as pd\n",
    "import numpy as np\n",
    "import seaborn as sns\n",
    "from statsmodels.distributions.empirical_distribution import ECDF\n",
    "from copulae1 import *\n",
    "from KDEs import *\n",
    "from toolbox import *\n",
    "import warnings\n",
    "import itertools\n",
    "\n",
    "warnings.filterwarnings(\"ignore\")\n",
    "\n",
    "data = pd.read_csv('../processed_data/btc_future_crix.csv')\n",
    "data.head()\n",
    "\n",
    "ecdf_brr = ECDF(data.return_brr)\n",
    "ecdf_btc = ECDF(data.return_btc)\n",
    "\n",
    "u = ecdf_brr(data.return_brr)\n",
    "v = ecdf_btc(data.return_btc)\n",
    "\n",
    "brr = np.array(data.return_brr)\n",
    "btc = np.array(data.return_btc)\n",
    "\n",
    "kde_brr = KDE(data.return_brr, \"Gaussian\")\n",
    "kde_btc = KDE(data.return_btc, \"Gaussian\")\n",
    "\n",
    "kde_brr = KDE(data.return_brr, \"Gaussian\", kde_brr.h_brot*3)\n",
    "kde_btc = KDE(data.return_brr, \"Gaussian\", kde_btc.h_brot*3)"
   ]
  },
  {
   "cell_type": "code",
   "execution_count": 2,
   "metadata": {},
   "outputs": [],
   "source": [
    "# Gaussian, t_Copula, Clayton, Frank, Gumbel, Plackett, Gaussian mix Indep\n",
    "C1  = Gaussian(dict(rho=0.9),       Law_RS=kde_brr, Law_RF=kde_btc) # fix the maringals!\n",
    "C2  = t_Copula(dict(rho=0.1, nu=4), Law_RS=kde_brr, Law_RF=kde_btc, nu_lowerbound=2) \n",
    "C2c = t_Copula(dict(rho=0.1, nu=4), Law_RS=kde_brr, Law_RF=kde_btc, nu_lowerbound=4) \n",
    "C3  = Clayton(dict(theta=0.1),      Law_RS=kde_brr, Law_RF=kde_btc)\n",
    "C4  = Frank(dict(theta=0.1),        Law_RS=kde_brr, Law_RF=kde_btc)\n",
    "C5  = Gumbel(dict(theta=3),         Law_RS=kde_brr, Law_RF=kde_btc)\n",
    "C6  = Plackett(dict(theta=10),      Law_RS=kde_brr, Law_RF=kde_btc)\n",
    "C7  = Gaussian_Mix_Independent(dict(rho=.5,p=0.7),Law_RS=kde_brr, Law_RF=kde_btc)\n",
    "Copulae_names = ['Gaussian', 't_Copula', 't_Copula_Capped', 'Clayton', 'Frank', 'Gumbel', 'Plackett', 'Gauss Mix Indep']\n",
    "Copulae_arr   = [C1,C2,C2c,C3,C4,C5,C6,C7]\n",
    "Copulae = dict(zip(Copulae_names, Copulae_arr))"
   ]
  },
  {
   "cell_type": "code",
   "execution_count": 21,
   "metadata": {},
   "outputs": [
    {
     "data": {
      "text/plain": [
       "0.3496051720530173"
      ]
     },
     "execution_count": 21,
     "metadata": {},
     "output_type": "execute_result"
    }
   ],
   "source": [
    "m = np.array([stats.kendalltau(u,v)[0]]+[empirical_lambda(u,v,q) for q in q_arr]).reshape((1+len(q_arr)))\n",
    "m_hat = np.array([C.tau()]+[C._lambda(q) for q in q_arr]).reshape((1+len(q_arr)))\n",
    "g = m-m_hat\n",
    "g = g.reshape((-1,1))\n",
    "g.T.dot(g)[0][0]"
   ]
  },
  {
   "cell_type": "code",
   "execution_count": 6,
   "metadata": {},
   "outputs": [
    {
     "name": "stdout",
     "output_type": "stream",
     "text": [
      "Optimization terminated successfully.\n",
      "         Current function value: 0.000755\n",
      "         Iterations: 77\n",
      "         Function evaluations: 157\n",
      "[0.94308968 0.78423353]\n",
      "{'rho': 0.9430896793114437, 'p': 0.7842335278056969}\n",
      "            Spearman Rho  lambda 0.05  lambda 0.1  lambda 0.9  lambda 0.95\n",
      "Empirical       0.733723     0.558140    0.635659    0.620155     0.589147\n",
      "Parametric      0.735470     0.579086    0.621149    0.621149     0.579086\n",
      "Difference     -0.001747    -0.020946    0.014510   -0.000994     0.010061\n",
      "{'rho': 0.9430896793114437, 'p': 0.7842335278056969}\n"
     ]
    }
   ],
   "source": [
    "q_arr = [0.05,0.1,0.9,0.95]\n",
    "C=C7\n",
    "result = C.mm_calibrate(u, v, q_arr)\n",
    "print(result)\n",
    "print(C.paras)\n",
    "print(C.moment_conditions(C.paras, u, v, q_arr))\n",
    "print(C.paras)"
   ]
  },
  {
   "cell_type": "code",
   "execution_count": 8,
   "metadata": {},
   "outputs": [
    {
     "name": "stdout",
     "output_type": "stream",
     "text": [
      "Optimization terminated successfully.\n",
      "         Current function value: -0.499976\n",
      "         Iterations: 72\n",
      "         Function evaluations: 153\n",
      "            Spearman Rho  lambda 0.05  lambda 0.1  lambda 0.9  lambda 0.95\n",
      "Empirical       0.733723     0.558140    0.635659    0.620155     0.589147\n",
      "Parametric      0.666157     0.512902    0.558940    0.558940     0.512902\n",
      "Difference      0.067566     0.045237    0.076719    0.061215     0.076245\n",
      "{'rho': 0.9275260344030353, 'p': 0.7232928624226377}\n",
      "[0.92752603 0.72329286]\n"
     ]
    }
   ],
   "source": [
    "result = C.canonical_calibrate(u, v)\n",
    "print(C.moment_conditions(C.paras, u, v, q_arr))\n",
    "print(C.paras)\n",
    "print(result)"
   ]
  },
  {
   "cell_type": "code",
   "execution_count": null,
   "metadata": {},
   "outputs": [],
   "source": [
    "C3._lambda(0.1)"
   ]
  },
  {
   "cell_type": "code",
   "execution_count": null,
   "metadata": {},
   "outputs": [],
   "source": [
    "np.array([C.tau()]+[C._lambda(q) for q in q_arr]).reshape((1+len(q_arr)))\n",
    "# m = np.array([stats.spearmanr(u,v)[0]]+[empirical_lambda(u,v,q) for q in q_arr])"
   ]
  },
  {
   "cell_type": "code",
   "execution_count": null,
   "metadata": {},
   "outputs": [],
   "source": [
    "result = C.canonical_calibrate(u, v)\n",
    "print(C.moment_conditions(C.paras, u, v, q_arr))\n",
    "print(C.paras)"
   ]
  },
  {
   "cell_type": "code",
   "execution_count": null,
   "metadata": {},
   "outputs": [],
   "source": [
    "fn_toopt = lambda paras: C.mm_loss(paras, u, v, q_arr)\n",
    "result = scipy.optimize.fmin(fn_toopt, x0=(0.8),\n",
    "                             xtol=1e-10, \n",
    "                             maxiter=5000,\n",
    "                             maxfun=400)"
   ]
  },
  {
   "cell_type": "code",
   "execution_count": null,
   "metadata": {},
   "outputs": [],
   "source": [
    "scipy.optimize.fmin(fn_toopt, x0=9)[0]"
   ]
  },
  {
   "cell_type": "code",
   "execution_count": 11,
   "metadata": {},
   "outputs": [],
   "source": [
    "import sys, os"
   ]
  },
  {
   "cell_type": "code",
   "execution_count": 12,
   "metadata": {},
   "outputs": [
    {
     "data": {
      "text/plain": [
       "['/Users/francis/Google Drive/00_IRTG1792/copula/Py_notebooks',\n",
       " '/Users/francis/opt/anaconda3/lib/python37.zip',\n",
       " '/Users/francis/opt/anaconda3/lib/python3.7',\n",
       " '/Users/francis/opt/anaconda3/lib/python3.7/lib-dynload',\n",
       " '',\n",
       " '/Users/francis/opt/anaconda3/lib/python3.7/site-packages',\n",
       " '/Users/francis/opt/anaconda3/lib/python3.7/site-packages/aeosa',\n",
       " '/Users/francis/opt/anaconda3/lib/python3.7/site-packages/IPython/extensions',\n",
       " '/Users/francis/.ipython']"
      ]
     },
     "execution_count": 12,
     "metadata": {},
     "output_type": "execute_result"
    }
   ],
   "source": [
    "sys.path"
   ]
  },
  {
   "cell_type": "code",
   "execution_count": null,
   "metadata": {},
   "outputs": [],
   "source": []
  }
 ],
 "metadata": {
  "kernelspec": {
   "display_name": "Python 3",
   "language": "python",
   "name": "python3"
  },
  "language_info": {
   "codemirror_mode": {
    "name": "ipython",
    "version": 3
   },
   "file_extension": ".py",
   "mimetype": "text/x-python",
   "name": "python",
   "nbconvert_exporter": "python",
   "pygments_lexer": "ipython3",
   "version": "3.7.4"
  },
  "toc": {
   "base_numbering": 1,
   "nav_menu": {},
   "number_sections": true,
   "sideBar": true,
   "skip_h1_title": false,
   "title_cell": "Table of Contents",
   "title_sidebar": "Contents",
   "toc_cell": false,
   "toc_position": {},
   "toc_section_display": true,
   "toc_window_display": false
  }
 },
 "nbformat": 4,
 "nbformat_minor": 2
}
