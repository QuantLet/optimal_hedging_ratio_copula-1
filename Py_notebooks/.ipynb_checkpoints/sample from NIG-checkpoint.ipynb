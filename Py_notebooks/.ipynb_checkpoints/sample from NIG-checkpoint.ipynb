{
 "cells": [
  {
   "cell_type": "code",
   "execution_count": 313,
   "metadata": {},
   "outputs": [],
   "source": [
    "import numpy as np\n",
    "from scipy import stats\n",
    "import matplotlib.pyplot as plt\n",
    "import seaborn as sns\n",
    "from functools import partial, lru_cache\n",
    "from scipy import integrate\n",
    "import plotly.graph_objects as go\n",
    "from tqdm import tqdm\n",
    "import scipy.interpolate\n",
    "import pandas as pd\n",
    "import seaborn as sns"
   ]
  },
  {
   "cell_type": "code",
   "execution_count": 1435,
   "metadata": {},
   "outputs": [],
   "source": [
    "# correct as per paper Normal Inverse Gaussian Distributions and Stochastic Volatility Modelling\n",
    "class invgauss:\n",
    "    def __init__(self, delta, gamma):\n",
    "        self.mu = delta/gamma\n",
    "        self._lambda = self.mu**3 * gamma**3 / delta\n",
    "\n",
    "    def rvs(self, size):\n",
    "        nu = stats.norm.rvs(size=size)\n",
    "        y = nu**2\n",
    "\n",
    "        x = self.mu + self.mu**2*y/(2*self._lambda) - (self.mu/(2*self._lambda))*np.sqrt(4*self.mu*self._lambda*y + self.mu**2*y**2)\n",
    "        z = stats.uniform(0,1).rvs(size)\n",
    "\n",
    "        i = z <= self.mu/(self.mu+x)\n",
    "        IGs = self.mu**2/x\n",
    "        IGs[i] = x[i]\n",
    "        return IGs\n",
    "\n",
    "    def pdf(self, x):\n",
    "        part1 = np.sqrt(self._lambda/(2*np.pi*x**3))\n",
    "        part2 = np.exp(-self._lambda*(x-self.mu)**2/(2*(self.mu**2)*x))\n",
    "        return part1*part2"
   ]
  },
  {
   "cell_type": "code",
   "execution_count": 1464,
   "metadata": {},
   "outputs": [],
   "source": [
    "class norminvgauss:\n",
    "    def __init__(self, alpha, beta, mu, delta):\n",
    "        self.alpha = alpha\n",
    "        self.beta = beta\n",
    "        self.mu = mu\n",
    "        self.delta = delta\n",
    "        self.gamma = np.sqrt(alpha**2 - beta**2)\n",
    "        # initialise standardised NIG for CF approximation use\n",
    "        # std\n",
    "        self.a = np.sqrt(self.delta*self.alpha**2/self.gamma**3)\n",
    "        self.b = self.mu+self.delta*self.beta/self.gamma\n",
    "        self.standardisedNIG = norminvgauss(alpha=self.alpha*a,\n",
    "                                          beta=self.beta*a,\n",
    "                                          mu=(self.mu-b)/a,\n",
    "                                          delta=self.delta/a)\n",
    "        \n",
    "    def pdf(self, x):\n",
    "        part1 = self.delta*self.alpha * np.exp(self.delta*self.gamma +  self.beta*(x-self.mu))\n",
    "        part2 = scipy.special.kv(1.0, self.alpha*np.sqrt(self.delta**2 + (x-self.mu)**2))\n",
    "        part3 = np.pi * np.sqrt(self.delta**2 + (x-self.mu)**2)\n",
    "        return part1 * part2 / part3\n",
    "    \n",
    "    def cdf(self, x):\n",
    "        return scipy.integrate.quad(self.pdf, -np.inf, x)[0]\n",
    "    \n",
    "    def mean(self):\n",
    "        # Analytical \n",
    "        return self.mu+self.delta*self.beta/self.gamma\n",
    "    \n",
    "    def var(self):\n",
    "        return (self.delta*self.alpha**2/self.gamma**3)\n",
    "    \n",
    "    def std(self):\n",
    "        return np.sqrt(self.var())\n",
    "    \n",
    "    def skewness(self):\n",
    "        return 3*self.beta / (self.alpha*np.sqrt(self.delta*self.gamma))\n",
    "    \n",
    "    def kurtosis(self):\n",
    "        return 3*(1+4*self.beta**2/self.alpha**2)/(self.delta*self.gamma)\n",
    "    \n",
    "    def normalise(self):\n",
    "        # Return zero mean unit variance NIG\n",
    "        a = self.std()\n",
    "        b = self.mean()\n",
    "        self.standardisedNIG = norminvgauss(alpha=self.alpha*a,\n",
    "                                          beta=self.beta*a,\n",
    "                                          mu=(self.mu-b)/a,\n",
    "                                          delta=self.delta/a)\n",
    "\n",
    "    def rvs(self, size):\n",
    "        z = invgauss(delta=self.delta, gamma=self.gamma).rvs(size=size)\n",
    "        x = stats.norm(loc=self.mu + self.beta*z, scale= np.sqrt(z)).rvs(size=size)\n",
    "        return x"
   ]
  },
  {
   "cell_type": "code",
   "execution_count": 1453,
   "metadata": {},
   "outputs": [],
   "source": [
    "# correct as per wiki\n",
    "# class invgauss:\n",
    "#     def __init__(self, mu, _lambda):\n",
    "#         self.mu = mu\n",
    "#         self._lambda = _lambda\n",
    "\n",
    "#     def rvs(self, size):\n",
    "#         nu = stats.norm.rvs(size=size)\n",
    "#         y = nu**2\n",
    "\n",
    "#         x = self.mu + self.mu**2*y/(2*self._lambda) - (self.mu/(2*self._lambda))*np.sqrt(4*self.mu*self._lambda*y + self.mu**2*y**2)\n",
    "#         z = stats.uniform(0,1).rvs(size)\n",
    "\n",
    "#         i = z <= self.mu/(self.mu+x)\n",
    "#         IGs = self.mu**2/x\n",
    "#         IGs[i] = x[i]\n",
    "\n",
    "#         return IGs\n",
    "\n",
    "#     def pdf(self, x):\n",
    "#         part1 = np.sqrt(self._lambda/(2*np.pi*x**3))\n",
    "#         part2 = np.exp(-self._lambda*(x-self.mu)**2/(2*(self.mu**2)*x))\n",
    "#         return part1*part2"
   ]
  },
  {
   "cell_type": "code",
   "execution_count": null,
   "metadata": {},
   "outputs": [],
   "source": [
    "alpha = 10\n",
    "beta  = 5\n",
    "mu    = 2\n",
    "delta = 3\n",
    "gamma = np.sqrt(alpha**2 - beta**2)\n",
    "\n",
    "size = 500000\n",
    "# z = invgauss(delta=delta, gamma=gamma).rvs(size=size)\n",
    "# x = stats.norm(loc=mu + beta*z, scale= np.sqrt(z)).rvs(size=size)\n",
    "# sns.distplot(x)\n",
    "\n",
    "\n",
    "NIG_law = norminvgauss(alpha=alpha, beta=beta, mu=mu, delta=delta)\n",
    "x = NIG_law.rvs(size=size)\n",
    "sns.distplot(x)\n",
    "\n",
    "u = np.linspace(-10,10,100)\n",
    "plt.plot(u,NIG_law.pdf(u))"
   ]
  },
  {
   "cell_type": "code",
   "execution_count": 1457,
   "metadata": {},
   "outputs": [
    {
     "name": "stdout",
     "output_type": "stream",
     "text": [
      "3.7320867063176633 3.732050807568877\n",
      "0.4609990059430853 0.46188021535170054\n",
      "0.2940754561574324 0.29428309563827115\n",
      "0.2262687411567592 0.2309401076758503\n"
     ]
    }
   ],
   "source": [
    "print(np.mean(x), mu+delta*beta/gamma)\n",
    "print(np.var(x), delta*alpha**2/gamma**3)\n",
    "print(stats.skew(x), 3*beta/(alpha*np.sqrt(delta*gamma)))\n",
    "print(stats.kurtosis(x), 3*(1+4*beta**2/alpha**2)/(delta*gamma))"
   ]
  },
  {
   "cell_type": "code",
   "execution_count": 1458,
   "metadata": {},
   "outputs": [
    {
     "name": "stdout",
     "output_type": "stream",
     "text": [
      "0.0032148570554171177\n",
      "0.9982696935374894\n",
      "0.29521329815933584\n",
      "0.2301560613256428\n"
     ]
    }
   ],
   "source": [
    "print(np.mean(x2))\n",
    "print(np.var(x2))\n",
    "print(stats.skew(x2))\n",
    "print(stats.kurtosis(x2))"
   ]
  },
  {
   "cell_type": "code",
   "execution_count": 1459,
   "metadata": {},
   "outputs": [
    {
     "data": {
      "text/plain": [
       "1.0"
      ]
     },
     "execution_count": 1459,
     "metadata": {},
     "output_type": "execute_result"
    }
   ],
   "source": [
    "b = mu+delta*beta/gamma\n",
    "a = (delta*alpha**2/gamma**3)**0.5\n",
    "NIG_law_2 = norminvgauss(alpha=alpha*a, beta=beta*a, mu=(mu-b)/a, delta=delta/a)\n",
    "x2 = NIG_law_2.rvs(size=size)\n",
    "\n",
    "NIG_law_2.var()"
   ]
  },
  {
   "cell_type": "code",
   "execution_count": 1460,
   "metadata": {},
   "outputs": [],
   "source": [
    "NIG_law.normalise()"
   ]
  },
  {
   "cell_type": "code",
   "execution_count": 1463,
   "metadata": {},
   "outputs": [
    {
     "data": {
      "text/plain": [
       "0.29428309563827115"
      ]
     },
     "execution_count": 1463,
     "metadata": {},
     "output_type": "execute_result"
    }
   ],
   "source": [
    "NIG_law.standardisedNIG.skewness()"
   ]
  },
  {
   "cell_type": "code",
   "execution_count": null,
   "metadata": {},
   "outputs": [],
   "source": [
    "# very nice paper about multivariate Hyperbolic Distribution\n",
    "# https://citeseerx.ist.psu.edu/viewdoc/download?doi=10.1.1.83.3969&rep=rep1&type=pdf"
   ]
  }
 ],
 "metadata": {
  "kernelspec": {
   "display_name": "Python 3",
   "language": "python",
   "name": "python3"
  },
  "language_info": {
   "codemirror_mode": {
    "name": "ipython",
    "version": 3
   },
   "file_extension": ".py",
   "mimetype": "text/x-python",
   "name": "python",
   "nbconvert_exporter": "python",
   "pygments_lexer": "ipython3",
   "version": "3.7.4"
  },
  "toc": {
   "base_numbering": 1,
   "nav_menu": {},
   "number_sections": true,
   "sideBar": true,
   "skip_h1_title": false,
   "title_cell": "Table of Contents",
   "title_sidebar": "Contents",
   "toc_cell": false,
   "toc_position": {},
   "toc_section_display": true,
   "toc_window_display": false
  }
 },
 "nbformat": 4,
 "nbformat_minor": 2
}
