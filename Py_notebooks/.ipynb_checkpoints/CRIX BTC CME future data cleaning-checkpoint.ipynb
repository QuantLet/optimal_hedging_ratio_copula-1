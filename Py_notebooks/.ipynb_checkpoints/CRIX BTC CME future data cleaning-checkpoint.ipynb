{
 "cells": [
  {
   "cell_type": "code",
   "execution_count": 1,
   "metadata": {},
   "outputs": [],
   "source": [
    "import os, sys\n",
    "sys.path.append('../src/')\n",
    "from copulae1 import *\n",
    "\n",
    "import requests\n",
    "import urllib, json\n",
    "\n",
    "import datetime\n",
    "import pytz\n",
    "\n",
    "def convert_datetime_timezone(dt, tz1, tz2):\n",
    "    # dt: date time string\n",
    "    # tz1: initial time zone\n",
    "    # tz2: target time zone\n",
    "    tz1 = pytz.timezone(tz1)\n",
    "    tz2 = pytz.timezone(tz2)\n",
    "    \n",
    "    if type(dt) == pd.core.series.Series:\n",
    "        dt = list(pd.to_datetime(dt, \"%Y-%m-%d %H:%M:%S\"))\n",
    "        dt = [tz1.localize(d) for d in dt]\n",
    "        dt = [d.astimezone(tz2) for d in dt]\n",
    "        return pd.Series(dt)\n",
    "        \n",
    "    else:\n",
    "        dt = datetime.datetime.strptime(dt,\"%Y-%m-%d %H:%M:%S\")\n",
    "        dt = tz1.localize(dt)\n",
    "        dt = dt.astimezone(tz2)\n",
    "        return dt"
   ]
  },
  {
   "cell_type": "markdown",
   "metadata": {},
   "source": [
    "## Get and clean CRIX"
   ]
  },
  {
   "cell_type": "code",
   "execution_count": 2,
   "metadata": {},
   "outputs": [],
   "source": [
    "# Get CRIX as json file\n",
    "url = \"http://data.thecrix.de/data/crix.json\"\n",
    "response = urllib.request.urlopen(url)\n",
    "\n",
    "CRIX_raw = json.loads(response.read())\n",
    "\n",
    "CRIX_raw = pd.DataFrame(CRIX_raw)\n",
    "CRIX_raw.columns = ['Date_UTC', 'CRIX_open'] # rename\n",
    "CRIX_raw.Date_UTC = pd.to_datetime(CRIX_raw.Date_UTC) # change to datetime\n",
    "CRIX_raw.Date_UTC = convert_datetime_timezone(CRIX_raw.Date_UTC, \"UTC\", \"UTC\") # Add timezone information\n",
    "CRIX_raw.sort_index(ascending=False, inplace=True) # from new to old\n",
    "CRIX_raw.reset_index(inplace=True, drop=True)\n",
    "CRIX_raw.set_index('Date_UTC', inplace=True)\n",
    "CRIX_raw.to_csv('../data/raw_data/CRIX_raw_20210324.csv') \n",
    "CRIX_raw.to_hdf('../data/raw_data/CRIX_raw_20210324.h5', key='CRIX_raw') "
   ]
  },
  {
   "cell_type": "code",
   "execution_count": 3,
   "metadata": {},
   "outputs": [
    {
     "data": {
      "text/html": [
       "<div>\n",
       "<style scoped>\n",
       "    .dataframe tbody tr th:only-of-type {\n",
       "        vertical-align: middle;\n",
       "    }\n",
       "\n",
       "    .dataframe tbody tr th {\n",
       "        vertical-align: top;\n",
       "    }\n",
       "\n",
       "    .dataframe thead th {\n",
       "        text-align: right;\n",
       "    }\n",
       "</style>\n",
       "<table border=\"1\" class=\"dataframe\">\n",
       "  <thead>\n",
       "    <tr style=\"text-align: right;\">\n",
       "      <th></th>\n",
       "      <th>CRIX_open</th>\n",
       "    </tr>\n",
       "    <tr>\n",
       "      <th>Date_UTC</th>\n",
       "      <th></th>\n",
       "    </tr>\n",
       "  </thead>\n",
       "  <tbody>\n",
       "    <tr>\n",
       "      <th>2021-03-23 00:00:00+00:00</th>\n",
       "      <td>153236.658385</td>\n",
       "    </tr>\n",
       "    <tr>\n",
       "      <th>2021-03-22 00:00:00+00:00</th>\n",
       "      <td>160800.249284</td>\n",
       "    </tr>\n",
       "    <tr>\n",
       "      <th>2021-03-21 00:00:00+00:00</th>\n",
       "      <td>163019.381706</td>\n",
       "    </tr>\n",
       "    <tr>\n",
       "      <th>2021-03-20 00:00:00+00:00</th>\n",
       "      <td>161865.217386</td>\n",
       "    </tr>\n",
       "    <tr>\n",
       "      <th>2021-03-19 00:00:00+00:00</th>\n",
       "      <td>161113.316266</td>\n",
       "    </tr>\n",
       "  </tbody>\n",
       "</table>\n",
       "</div>"
      ],
      "text/plain": [
       "                               CRIX_open\n",
       "Date_UTC                                \n",
       "2021-03-23 00:00:00+00:00  153236.658385\n",
       "2021-03-22 00:00:00+00:00  160800.249284\n",
       "2021-03-21 00:00:00+00:00  163019.381706\n",
       "2021-03-20 00:00:00+00:00  161865.217386\n",
       "2021-03-19 00:00:00+00:00  161113.316266"
      ]
     },
     "execution_count": 3,
     "metadata": {},
     "output_type": "execute_result"
    }
   ],
   "source": [
    "# Sanity Check\n",
    "CRIX_raw = pd.read_hdf('../data/raw_data/CRIX_raw_20210324.h5')\n",
    "CRIX_raw.head()"
   ]
  },
  {
   "cell_type": "markdown",
   "metadata": {},
   "source": [
    "## Clean CME future\n",
    "useful link of timezone difference: https://www.worldtimebuddy.com/cst-to-utc-converter"
   ]
  },
  {
   "cell_type": "code",
   "execution_count": 4,
   "metadata": {},
   "outputs": [],
   "source": [
    "future_raw = pd.read_excel('../data/raw_data/btc_future.xlsx')\n",
    "\n",
    "# change timezone from Berlin to UTC\n",
    "future_raw.index = convert_datetime_timezone(future_raw.Date,\n",
    "                                             \"Europe/Berlin\", \"UTC\")"
   ]
  },
  {
   "cell_type": "code",
   "execution_count": 5,
   "metadata": {},
   "outputs": [],
   "source": [
    "future_Open = future_raw.Open\n",
    "future_Close = future_raw.Close\n",
    "\n",
    "# the closing price is retrieved 23 hours after market open\n",
    "future_Close.index = future_Close.index + datetime.timedelta(hours=23)"
   ]
  },
  {
   "cell_type": "code",
   "execution_count": 6,
   "metadata": {
    "scrolled": true
   },
   "outputs": [
    {
     "data": {
      "text/plain": [
       "2021-02-04 22:00:00+00:00    38220.0\n",
       "2021-02-03 22:00:00+00:00    37790.0\n",
       "2021-02-02 22:00:00+00:00    36535.0\n",
       "2021-02-01 22:00:00+00:00    34265.0\n",
       "2021-01-29 22:00:00+00:00    35180.0\n",
       "2021-01-28 22:00:00+00:00    33085.0\n",
       "2021-01-27 22:00:00+00:00    31905.0\n",
       "2021-01-26 22:00:00+00:00    32565.0\n",
       "2021-01-25 22:00:00+00:00    34210.0\n",
       "2021-01-22 22:00:00+00:00    34265.0\n",
       "2021-01-21 22:00:00+00:00    32570.0\n",
       "2021-01-20 22:00:00+00:00    35875.0\n",
       "2021-01-19 22:00:00+00:00    37575.0\n",
       "2021-01-15 22:00:00+00:00    36535.0\n",
       "2021-01-14 22:00:00+00:00    40520.0\n",
       "2021-01-13 22:00:00+00:00    37330.0\n",
       "2021-01-12 22:00:00+00:00    35420.0\n",
       "2021-01-11 22:00:00+00:00    34680.0\n",
       "2021-01-08 22:00:00+00:00    40505.0\n",
       "2021-01-07 22:00:00+00:00    40630.0\n",
       "2021-01-06 22:00:00+00:00    37545.0\n",
       "2021-01-05 22:00:00+00:00    35375.0\n",
       "2021-01-04 22:00:00+00:00    32385.0\n",
       "2020-12-31 22:00:00+00:00    30000.0\n",
       "2020-12-30 22:00:00+00:00    29790.0\n",
       "2020-12-29 22:00:00+00:00    27810.0\n",
       "2020-12-28 22:00:00+00:00    27755.0\n",
       "2020-12-24 22:00:00+00:00    23197.0\n",
       "2020-12-23 22:00:00+00:00    23510.0\n",
       "2020-12-22 22:00:00+00:00    23445.0\n",
       "                              ...   \n",
       "2018-01-29 22:00:00+00:00    11215.0\n",
       "2018-01-26 22:00:00+00:00    10985.0\n",
       "2018-01-25 22:00:00+00:00    11250.0\n",
       "2018-01-24 22:00:00+00:00    11195.0\n",
       "2018-01-23 22:00:00+00:00    11185.0\n",
       "2018-01-22 22:00:00+00:00    10425.0\n",
       "2018-01-19 22:00:00+00:00    11485.0\n",
       "2018-01-18 22:00:00+00:00    11895.0\n",
       "2018-01-17 22:00:00+00:00    11040.0\n",
       "2018-01-16 22:00:00+00:00    11220.0\n",
       "2018-01-12 22:00:00+00:00    13975.0\n",
       "2018-01-11 22:00:00+00:00    13425.0\n",
       "2018-01-10 22:00:00+00:00    14530.0\n",
       "2018-01-09 22:00:00+00:00    14855.0\n",
       "2018-01-08 22:00:00+00:00    15030.0\n",
       "2018-01-05 22:00:00+00:00    16660.0\n",
       "2018-01-04 22:00:00+00:00    15050.0\n",
       "2018-01-03 22:00:00+00:00    15110.0\n",
       "2018-01-02 22:00:00+00:00    15060.0\n",
       "2017-12-29 22:00:00+00:00    14535.0\n",
       "2017-12-28 22:00:00+00:00    13970.0\n",
       "2017-12-27 22:00:00+00:00    14940.0\n",
       "2017-12-26 22:00:00+00:00    16035.0\n",
       "2017-12-25 22:00:00+00:00        NaN\n",
       "2017-12-22 22:00:00+00:00    14415.0\n",
       "2017-12-21 22:00:00+00:00    15595.0\n",
       "2017-12-20 22:00:00+00:00    17300.0\n",
       "2017-12-19 22:00:00+00:00    18415.0\n",
       "2017-12-18 22:00:00+00:00    19270.0\n",
       "2017-12-15 22:00:00+00:00    19700.0\n",
       "Name: Close, Length: 795, dtype: float64"
      ]
     },
     "execution_count": 6,
     "metadata": {},
     "output_type": "execute_result"
    }
   ],
   "source": [
    "future_Close"
   ]
  },
  {
   "cell_type": "code",
   "execution_count": 7,
   "metadata": {},
   "outputs": [],
   "source": [
    "def closest_date(dt):\n",
    "    # dt: Pandas Timestamp \n",
    "    _tz = dt.tz\n",
    "    dt = datetime.datetime(dt.year, dt.month, dt.day, dt.hour,dt.minute).astimezone(_tz)\n",
    "    if (dt.hour <= 12):\n",
    "        if (dt.minute == 0):\n",
    "            return pd.to_datetime(datetime.datetime(dt.year, dt.month, dt.day, 0,0))\n",
    "        else:\n",
    "            return pd.to_datetime(datetime.datetime(dt.year, dt.month, dt.day, 0,0)+ datetime.timedelta(days=1))\n",
    "    else:\n",
    "        return pd.to_datetime(datetime.datetime(dt.year, dt.month, dt.day, 0,0)+ datetime.timedelta(days=1))\n"
   ]
  },
  {
   "cell_type": "code",
   "execution_count": 8,
   "metadata": {},
   "outputs": [
    {
     "name": "stderr",
     "output_type": "stream",
     "text": [
      "/Users/francis/opt/anaconda3/lib/python3.7/site-packages/pandas/core/indexes/base.py:2820: FutureWarning: Converting timezone-aware DatetimeArray to timezone-naive ndarray with 'datetime64[ns]' dtype. In the future, this will return an ndarray with 'object' dtype where each element is a 'pandas.Timestamp' with the correct 'tz'.\n",
      "\tTo accept the future behavior, pass 'dtype=object'.\n",
      "\tTo keep the old behavior, pass 'dtype=\"datetime64[ns]\"'.\n",
      "  target = np.asarray(target)\n"
     ]
    }
   ],
   "source": [
    "# Strip hours and minutes\n",
    "future_date = pd.Series([closest_date(future_Open.index[i]) for i in range(len(future_Open))])\n",
    "future_date.index = future_date\n",
    "future_date = future_date.tz_localize('UTC')\n",
    "future_date = future_date.reset_index().iloc[:,0]\n",
    "\n",
    "# Reindex the Opening price to the closest date (backward filling)\n",
    "future_Open_reindexed = future_Open.reindex(future_date, method='nearest')"
   ]
  },
  {
   "cell_type": "code",
   "execution_count": 9,
   "metadata": {},
   "outputs": [
    {
     "data": {
      "text/plain": [
       "2021-02-03 23:00:00+00:00    38080.0\n",
       "2021-02-02 23:00:00+00:00    36360.0\n",
       "2021-02-01 23:00:00+00:00    34205.0\n",
       "2021-01-31 23:00:00+00:00    33715.0\n",
       "2021-01-28 23:00:00+00:00    33995.0\n",
       "Name: Open, dtype: float64"
      ]
     },
     "execution_count": 9,
     "metadata": {},
     "output_type": "execute_result"
    }
   ],
   "source": [
    "future_Open.head()"
   ]
  },
  {
   "cell_type": "code",
   "execution_count": 10,
   "metadata": {},
   "outputs": [
    {
     "data": {
      "text/plain": [
       "index\n",
       "2021-02-04 00:00:00+00:00    38080.0\n",
       "2021-02-03 00:00:00+00:00    36360.0\n",
       "2021-02-02 00:00:00+00:00    34205.0\n",
       "2021-02-01 00:00:00+00:00    33715.0\n",
       "2021-01-29 00:00:00+00:00    33995.0\n",
       "Name: Open, dtype: float64"
      ]
     },
     "execution_count": 10,
     "metadata": {},
     "output_type": "execute_result"
    }
   ],
   "source": [
    "future_Open_reindexed.head()"
   ]
  },
  {
   "cell_type": "code",
   "execution_count": 11,
   "metadata": {},
   "outputs": [
    {
     "data": {
      "text/plain": [
       "index\n",
       "2021-02-04 00:00:00+00:00    38080.0\n",
       "2021-02-03 00:00:00+00:00    36360.0\n",
       "2021-02-02 00:00:00+00:00    34205.0\n",
       "2021-02-01 00:00:00+00:00    33715.0\n",
       "2021-01-29 00:00:00+00:00    33995.0\n",
       "Name: Open, dtype: float64"
      ]
     },
     "execution_count": 11,
     "metadata": {},
     "output_type": "execute_result"
    }
   ],
   "source": [
    "future_Open_reindexed.head()"
   ]
  },
  {
   "cell_type": "code",
   "execution_count": 12,
   "metadata": {},
   "outputs": [],
   "source": [
    "# Prepare for merge\n",
    "future_Open_reindexed = pd.DataFrame(future_Open_reindexed)\n",
    "\n",
    "CRIX_raw = pd.read_hdf('../data/raw_data/CRIX_raw_20210324.h5')\n",
    "CRIX_raw.reset_index(inplace=True)"
   ]
  },
  {
   "cell_type": "code",
   "execution_count": 13,
   "metadata": {
    "scrolled": true
   },
   "outputs": [],
   "source": [
    "CRIX_future_Open = CRIX_raw.merge(future_Open_reindexed, left_on='Date_UTC', right_on='index')"
   ]
  },
  {
   "cell_type": "code",
   "execution_count": 14,
   "metadata": {
    "scrolled": true
   },
   "outputs": [
    {
     "data": {
      "text/html": [
       "<div>\n",
       "<style scoped>\n",
       "    .dataframe tbody tr th:only-of-type {\n",
       "        vertical-align: middle;\n",
       "    }\n",
       "\n",
       "    .dataframe tbody tr th {\n",
       "        vertical-align: top;\n",
       "    }\n",
       "\n",
       "    .dataframe thead th {\n",
       "        text-align: right;\n",
       "    }\n",
       "</style>\n",
       "<table border=\"1\" class=\"dataframe\">\n",
       "  <thead>\n",
       "    <tr style=\"text-align: right;\">\n",
       "      <th></th>\n",
       "      <th>Date_UTC</th>\n",
       "      <th>CRIX_open</th>\n",
       "      <th>Open</th>\n",
       "    </tr>\n",
       "  </thead>\n",
       "  <tbody>\n",
       "    <tr>\n",
       "      <th>0</th>\n",
       "      <td>2021-02-04 00:00:00+00:00</td>\n",
       "      <td>104518.468839</td>\n",
       "      <td>38080.0</td>\n",
       "    </tr>\n",
       "    <tr>\n",
       "      <th>1</th>\n",
       "      <td>2021-02-03 00:00:00+00:00</td>\n",
       "      <td>98949.179255</td>\n",
       "      <td>36360.0</td>\n",
       "    </tr>\n",
       "    <tr>\n",
       "      <th>2</th>\n",
       "      <td>2021-02-02 00:00:00+00:00</td>\n",
       "      <td>93210.948461</td>\n",
       "      <td>34205.0</td>\n",
       "    </tr>\n",
       "    <tr>\n",
       "      <th>3</th>\n",
       "      <td>2021-02-01 00:00:00+00:00</td>\n",
       "      <td>93005.711051</td>\n",
       "      <td>33715.0</td>\n",
       "    </tr>\n",
       "    <tr>\n",
       "      <th>4</th>\n",
       "      <td>2021-01-29 00:00:00+00:00</td>\n",
       "      <td>91746.863103</td>\n",
       "      <td>33995.0</td>\n",
       "    </tr>\n",
       "    <tr>\n",
       "      <th>5</th>\n",
       "      <td>2021-01-28 00:00:00+00:00</td>\n",
       "      <td>84530.856368</td>\n",
       "      <td>31005.0</td>\n",
       "    </tr>\n",
       "    <tr>\n",
       "      <th>6</th>\n",
       "      <td>2021-01-27 00:00:00+00:00</td>\n",
       "      <td>90607.923382</td>\n",
       "      <td>33440.0</td>\n",
       "    </tr>\n",
       "    <tr>\n",
       "      <th>7</th>\n",
       "      <td>2021-01-26 00:00:00+00:00</td>\n",
       "      <td>90078.347878</td>\n",
       "      <td>33100.0</td>\n",
       "    </tr>\n",
       "    <tr>\n",
       "      <th>8</th>\n",
       "      <td>2021-01-25 00:00:00+00:00</td>\n",
       "      <td>89986.000973</td>\n",
       "      <td>32860.0</td>\n",
       "    </tr>\n",
       "    <tr>\n",
       "      <th>9</th>\n",
       "      <td>2021-01-22 00:00:00+00:00</td>\n",
       "      <td>86053.000464</td>\n",
       "      <td>31625.0</td>\n",
       "    </tr>\n",
       "    <tr>\n",
       "      <th>10</th>\n",
       "      <td>2021-01-21 00:00:00+00:00</td>\n",
       "      <td>98657.775479</td>\n",
       "      <td>35925.0</td>\n",
       "    </tr>\n",
       "    <tr>\n",
       "      <th>11</th>\n",
       "      <td>2021-01-20 00:00:00+00:00</td>\n",
       "      <td>99988.718220</td>\n",
       "      <td>37130.0</td>\n",
       "    </tr>\n",
       "    <tr>\n",
       "      <th>12</th>\n",
       "      <td>2021-01-19 00:00:00+00:00</td>\n",
       "      <td>101446.172635</td>\n",
       "      <td>37295.0</td>\n",
       "    </tr>\n",
       "    <tr>\n",
       "      <th>13</th>\n",
       "      <td>2021-01-15 00:00:00+00:00</td>\n",
       "      <td>107403.313017</td>\n",
       "      <td>40070.0</td>\n",
       "    </tr>\n",
       "    <tr>\n",
       "      <th>14</th>\n",
       "      <td>2021-01-14 00:00:00+00:00</td>\n",
       "      <td>102794.967372</td>\n",
       "      <td>38705.0</td>\n",
       "    </tr>\n",
       "    <tr>\n",
       "      <th>15</th>\n",
       "      <td>2021-01-13 00:00:00+00:00</td>\n",
       "      <td>92812.921734</td>\n",
       "      <td>34500.0</td>\n",
       "    </tr>\n",
       "    <tr>\n",
       "      <th>16</th>\n",
       "      <td>2021-01-12 00:00:00+00:00</td>\n",
       "      <td>97585.210262</td>\n",
       "      <td>35900.0</td>\n",
       "    </tr>\n",
       "    <tr>\n",
       "      <th>17</th>\n",
       "      <td>2021-01-11 00:00:00+00:00</td>\n",
       "      <td>105401.985159</td>\n",
       "      <td>39770.0</td>\n",
       "    </tr>\n",
       "    <tr>\n",
       "      <th>18</th>\n",
       "      <td>2021-01-08 00:00:00+00:00</td>\n",
       "      <td>108475.200527</td>\n",
       "      <td>41310.0</td>\n",
       "    </tr>\n",
       "    <tr>\n",
       "      <th>19</th>\n",
       "      <td>2021-01-07 00:00:00+00:00</td>\n",
       "      <td>100613.589324</td>\n",
       "      <td>37710.0</td>\n",
       "    </tr>\n",
       "    <tr>\n",
       "      <th>20</th>\n",
       "      <td>2021-01-06 00:00:00+00:00</td>\n",
       "      <td>93500.154743</td>\n",
       "      <td>35510.0</td>\n",
       "    </tr>\n",
       "    <tr>\n",
       "      <th>21</th>\n",
       "      <td>2021-01-05 00:00:00+00:00</td>\n",
       "      <td>86756.268047</td>\n",
       "      <td>32405.0</td>\n",
       "    </tr>\n",
       "    <tr>\n",
       "      <th>22</th>\n",
       "      <td>2021-01-04 00:00:00+00:00</td>\n",
       "      <td>90717.675255</td>\n",
       "      <td>33525.0</td>\n",
       "    </tr>\n",
       "    <tr>\n",
       "      <th>23</th>\n",
       "      <td>2020-12-31 00:00:00+00:00</td>\n",
       "      <td>79012.392394</td>\n",
       "      <td>29845.0</td>\n",
       "    </tr>\n",
       "    <tr>\n",
       "      <th>24</th>\n",
       "      <td>2020-12-30 00:00:00+00:00</td>\n",
       "      <td>75396.140453</td>\n",
       "      <td>28000.0</td>\n",
       "    </tr>\n",
       "    <tr>\n",
       "      <th>25</th>\n",
       "      <td>2020-12-29 00:00:00+00:00</td>\n",
       "      <td>74674.550301</td>\n",
       "      <td>27605.0</td>\n",
       "    </tr>\n",
       "    <tr>\n",
       "      <th>26</th>\n",
       "      <td>2020-12-28 00:00:00+00:00</td>\n",
       "      <td>73451.728519</td>\n",
       "      <td>27000.0</td>\n",
       "    </tr>\n",
       "    <tr>\n",
       "      <th>27</th>\n",
       "      <td>2020-12-24 00:00:00+00:00</td>\n",
       "      <td>64561.479017</td>\n",
       "      <td>23250.0</td>\n",
       "    </tr>\n",
       "    <tr>\n",
       "      <th>28</th>\n",
       "      <td>2020-12-23 00:00:00+00:00</td>\n",
       "      <td>67143.132932</td>\n",
       "      <td>23495.0</td>\n",
       "    </tr>\n",
       "    <tr>\n",
       "      <th>29</th>\n",
       "      <td>2020-12-22 00:00:00+00:00</td>\n",
       "      <td>65029.301846</td>\n",
       "      <td>23260.0</td>\n",
       "    </tr>\n",
       "    <tr>\n",
       "      <th>...</th>\n",
       "      <td>...</td>\n",
       "      <td>...</td>\n",
       "      <td>...</td>\n",
       "    </tr>\n",
       "    <tr>\n",
       "      <th>765</th>\n",
       "      <td>2018-01-29 00:00:00+00:00</td>\n",
       "      <td>41566.846070</td>\n",
       "      <td>11780.0</td>\n",
       "    </tr>\n",
       "    <tr>\n",
       "      <th>766</th>\n",
       "      <td>2018-01-26 00:00:00+00:00</td>\n",
       "      <td>39776.827890</td>\n",
       "      <td>11230.0</td>\n",
       "    </tr>\n",
       "    <tr>\n",
       "      <th>767</th>\n",
       "      <td>2018-01-25 00:00:00+00:00</td>\n",
       "      <td>40621.427970</td>\n",
       "      <td>11260.0</td>\n",
       "    </tr>\n",
       "    <tr>\n",
       "      <th>768</th>\n",
       "      <td>2018-01-24 00:00:00+00:00</td>\n",
       "      <td>40651.450770</td>\n",
       "      <td>11130.0</td>\n",
       "    </tr>\n",
       "    <tr>\n",
       "      <th>769</th>\n",
       "      <td>2018-01-23 00:00:00+00:00</td>\n",
       "      <td>39023.138630</td>\n",
       "      <td>10725.0</td>\n",
       "    </tr>\n",
       "    <tr>\n",
       "      <th>770</th>\n",
       "      <td>2018-01-22 00:00:00+00:00</td>\n",
       "      <td>39294.889780</td>\n",
       "      <td>11420.0</td>\n",
       "    </tr>\n",
       "    <tr>\n",
       "      <th>771</th>\n",
       "      <td>2018-01-19 00:00:00+00:00</td>\n",
       "      <td>42675.478420</td>\n",
       "      <td>11200.0</td>\n",
       "    </tr>\n",
       "    <tr>\n",
       "      <th>772</th>\n",
       "      <td>2018-01-18 00:00:00+00:00</td>\n",
       "      <td>42348.098150</td>\n",
       "      <td>11145.0</td>\n",
       "    </tr>\n",
       "    <tr>\n",
       "      <th>773</th>\n",
       "      <td>2018-01-17 00:00:00+00:00</td>\n",
       "      <td>40692.539040</td>\n",
       "      <td>11200.0</td>\n",
       "    </tr>\n",
       "    <tr>\n",
       "      <th>774</th>\n",
       "      <td>2018-01-16 00:00:00+00:00</td>\n",
       "      <td>40778.268050</td>\n",
       "      <td>13700.0</td>\n",
       "    </tr>\n",
       "    <tr>\n",
       "      <th>775</th>\n",
       "      <td>2018-01-12 00:00:00+00:00</td>\n",
       "      <td>55542.845860</td>\n",
       "      <td>13390.0</td>\n",
       "    </tr>\n",
       "    <tr>\n",
       "      <th>776</th>\n",
       "      <td>2018-01-11 00:00:00+00:00</td>\n",
       "      <td>51050.864570</td>\n",
       "      <td>14780.0</td>\n",
       "    </tr>\n",
       "    <tr>\n",
       "      <th>777</th>\n",
       "      <td>2018-01-10 00:00:00+00:00</td>\n",
       "      <td>56403.975590</td>\n",
       "      <td>14530.0</td>\n",
       "    </tr>\n",
       "    <tr>\n",
       "      <th>778</th>\n",
       "      <td>2018-01-09 00:00:00+00:00</td>\n",
       "      <td>57166.866020</td>\n",
       "      <td>15260.0</td>\n",
       "    </tr>\n",
       "    <tr>\n",
       "      <th>779</th>\n",
       "      <td>2018-01-08 00:00:00+00:00</td>\n",
       "      <td>57504.484880</td>\n",
       "      <td>16415.0</td>\n",
       "    </tr>\n",
       "    <tr>\n",
       "      <th>780</th>\n",
       "      <td>2018-01-05 00:00:00+00:00</td>\n",
       "      <td>58899.683480</td>\n",
       "      <td>15250.0</td>\n",
       "    </tr>\n",
       "    <tr>\n",
       "      <th>781</th>\n",
       "      <td>2018-01-04 00:00:00+00:00</td>\n",
       "      <td>58500.818300</td>\n",
       "      <td>15475.0</td>\n",
       "    </tr>\n",
       "    <tr>\n",
       "      <th>782</th>\n",
       "      <td>2018-01-03 00:00:00+00:00</td>\n",
       "      <td>56888.013010</td>\n",
       "      <td>14930.0</td>\n",
       "    </tr>\n",
       "    <tr>\n",
       "      <th>783</th>\n",
       "      <td>2018-01-02 00:00:00+00:00</td>\n",
       "      <td>51843.042910</td>\n",
       "      <td>13930.0</td>\n",
       "    </tr>\n",
       "    <tr>\n",
       "      <th>784</th>\n",
       "      <td>2017-12-29 00:00:00+00:00</td>\n",
       "      <td>48048.238960</td>\n",
       "      <td>14205.0</td>\n",
       "    </tr>\n",
       "    <tr>\n",
       "      <th>785</th>\n",
       "      <td>2017-12-28 00:00:00+00:00</td>\n",
       "      <td>44592.603150</td>\n",
       "      <td>15515.0</td>\n",
       "    </tr>\n",
       "    <tr>\n",
       "      <th>786</th>\n",
       "      <td>2017-12-27 00:00:00+00:00</td>\n",
       "      <td>47111.284210</td>\n",
       "      <td>16060.0</td>\n",
       "    </tr>\n",
       "    <tr>\n",
       "      <th>787</th>\n",
       "      <td>2017-12-26 00:00:00+00:00</td>\n",
       "      <td>47440.637910</td>\n",
       "      <td>15000.0</td>\n",
       "    </tr>\n",
       "    <tr>\n",
       "      <th>788</th>\n",
       "      <td>2017-12-25 00:00:00+00:00</td>\n",
       "      <td>42875.225290</td>\n",
       "      <td>NaN</td>\n",
       "    </tr>\n",
       "    <tr>\n",
       "      <th>789</th>\n",
       "      <td>2017-12-22 00:00:00+00:00</td>\n",
       "      <td>40537.657070</td>\n",
       "      <td>15695.0</td>\n",
       "    </tr>\n",
       "    <tr>\n",
       "      <th>790</th>\n",
       "      <td>2017-12-21 00:00:00+00:00</td>\n",
       "      <td>47949.285810</td>\n",
       "      <td>16680.0</td>\n",
       "    </tr>\n",
       "    <tr>\n",
       "      <th>791</th>\n",
       "      <td>2017-12-20 00:00:00+00:00</td>\n",
       "      <td>48494.255050</td>\n",
       "      <td>18280.0</td>\n",
       "    </tr>\n",
       "    <tr>\n",
       "      <th>792</th>\n",
       "      <td>2017-12-19 00:00:00+00:00</td>\n",
       "      <td>49205.102960</td>\n",
       "      <td>19300.0</td>\n",
       "    </tr>\n",
       "    <tr>\n",
       "      <th>793</th>\n",
       "      <td>2017-12-18 00:00:00+00:00</td>\n",
       "      <td>48795.658410</td>\n",
       "      <td>20030.0</td>\n",
       "    </tr>\n",
       "    <tr>\n",
       "      <th>794</th>\n",
       "      <td>2017-12-15 00:00:00+00:00</td>\n",
       "      <td>43101.339170</td>\n",
       "      <td>19700.0</td>\n",
       "    </tr>\n",
       "  </tbody>\n",
       "</table>\n",
       "<p>795 rows × 3 columns</p>\n",
       "</div>"
      ],
      "text/plain": [
       "                     Date_UTC      CRIX_open     Open\n",
       "0   2021-02-04 00:00:00+00:00  104518.468839  38080.0\n",
       "1   2021-02-03 00:00:00+00:00   98949.179255  36360.0\n",
       "2   2021-02-02 00:00:00+00:00   93210.948461  34205.0\n",
       "3   2021-02-01 00:00:00+00:00   93005.711051  33715.0\n",
       "4   2021-01-29 00:00:00+00:00   91746.863103  33995.0\n",
       "5   2021-01-28 00:00:00+00:00   84530.856368  31005.0\n",
       "6   2021-01-27 00:00:00+00:00   90607.923382  33440.0\n",
       "7   2021-01-26 00:00:00+00:00   90078.347878  33100.0\n",
       "8   2021-01-25 00:00:00+00:00   89986.000973  32860.0\n",
       "9   2021-01-22 00:00:00+00:00   86053.000464  31625.0\n",
       "10  2021-01-21 00:00:00+00:00   98657.775479  35925.0\n",
       "11  2021-01-20 00:00:00+00:00   99988.718220  37130.0\n",
       "12  2021-01-19 00:00:00+00:00  101446.172635  37295.0\n",
       "13  2021-01-15 00:00:00+00:00  107403.313017  40070.0\n",
       "14  2021-01-14 00:00:00+00:00  102794.967372  38705.0\n",
       "15  2021-01-13 00:00:00+00:00   92812.921734  34500.0\n",
       "16  2021-01-12 00:00:00+00:00   97585.210262  35900.0\n",
       "17  2021-01-11 00:00:00+00:00  105401.985159  39770.0\n",
       "18  2021-01-08 00:00:00+00:00  108475.200527  41310.0\n",
       "19  2021-01-07 00:00:00+00:00  100613.589324  37710.0\n",
       "20  2021-01-06 00:00:00+00:00   93500.154743  35510.0\n",
       "21  2021-01-05 00:00:00+00:00   86756.268047  32405.0\n",
       "22  2021-01-04 00:00:00+00:00   90717.675255  33525.0\n",
       "23  2020-12-31 00:00:00+00:00   79012.392394  29845.0\n",
       "24  2020-12-30 00:00:00+00:00   75396.140453  28000.0\n",
       "25  2020-12-29 00:00:00+00:00   74674.550301  27605.0\n",
       "26  2020-12-28 00:00:00+00:00   73451.728519  27000.0\n",
       "27  2020-12-24 00:00:00+00:00   64561.479017  23250.0\n",
       "28  2020-12-23 00:00:00+00:00   67143.132932  23495.0\n",
       "29  2020-12-22 00:00:00+00:00   65029.301846  23260.0\n",
       "..                        ...            ...      ...\n",
       "765 2018-01-29 00:00:00+00:00   41566.846070  11780.0\n",
       "766 2018-01-26 00:00:00+00:00   39776.827890  11230.0\n",
       "767 2018-01-25 00:00:00+00:00   40621.427970  11260.0\n",
       "768 2018-01-24 00:00:00+00:00   40651.450770  11130.0\n",
       "769 2018-01-23 00:00:00+00:00   39023.138630  10725.0\n",
       "770 2018-01-22 00:00:00+00:00   39294.889780  11420.0\n",
       "771 2018-01-19 00:00:00+00:00   42675.478420  11200.0\n",
       "772 2018-01-18 00:00:00+00:00   42348.098150  11145.0\n",
       "773 2018-01-17 00:00:00+00:00   40692.539040  11200.0\n",
       "774 2018-01-16 00:00:00+00:00   40778.268050  13700.0\n",
       "775 2018-01-12 00:00:00+00:00   55542.845860  13390.0\n",
       "776 2018-01-11 00:00:00+00:00   51050.864570  14780.0\n",
       "777 2018-01-10 00:00:00+00:00   56403.975590  14530.0\n",
       "778 2018-01-09 00:00:00+00:00   57166.866020  15260.0\n",
       "779 2018-01-08 00:00:00+00:00   57504.484880  16415.0\n",
       "780 2018-01-05 00:00:00+00:00   58899.683480  15250.0\n",
       "781 2018-01-04 00:00:00+00:00   58500.818300  15475.0\n",
       "782 2018-01-03 00:00:00+00:00   56888.013010  14930.0\n",
       "783 2018-01-02 00:00:00+00:00   51843.042910  13930.0\n",
       "784 2017-12-29 00:00:00+00:00   48048.238960  14205.0\n",
       "785 2017-12-28 00:00:00+00:00   44592.603150  15515.0\n",
       "786 2017-12-27 00:00:00+00:00   47111.284210  16060.0\n",
       "787 2017-12-26 00:00:00+00:00   47440.637910  15000.0\n",
       "788 2017-12-25 00:00:00+00:00   42875.225290      NaN\n",
       "789 2017-12-22 00:00:00+00:00   40537.657070  15695.0\n",
       "790 2017-12-21 00:00:00+00:00   47949.285810  16680.0\n",
       "791 2017-12-20 00:00:00+00:00   48494.255050  18280.0\n",
       "792 2017-12-19 00:00:00+00:00   49205.102960  19300.0\n",
       "793 2017-12-18 00:00:00+00:00   48795.658410  20030.0\n",
       "794 2017-12-15 00:00:00+00:00   43101.339170  19700.0\n",
       "\n",
       "[795 rows x 3 columns]"
      ]
     },
     "execution_count": 14,
     "metadata": {},
     "output_type": "execute_result"
    }
   ],
   "source": [
    "CRIX_future_Open"
   ]
  },
  {
   "cell_type": "code",
   "execution_count": 15,
   "metadata": {},
   "outputs": [],
   "source": [
    "CRIX_future_Open.columns = ['Date', 'CRIX', 'future']\n",
    "CRIX_future_Open.dropna(inplace=True)"
   ]
  },
  {
   "cell_type": "code",
   "execution_count": 16,
   "metadata": {},
   "outputs": [
    {
     "data": {
      "text/html": [
       "<div>\n",
       "<style scoped>\n",
       "    .dataframe tbody tr th:only-of-type {\n",
       "        vertical-align: middle;\n",
       "    }\n",
       "\n",
       "    .dataframe tbody tr th {\n",
       "        vertical-align: top;\n",
       "    }\n",
       "\n",
       "    .dataframe thead th {\n",
       "        text-align: right;\n",
       "    }\n",
       "</style>\n",
       "<table border=\"1\" class=\"dataframe\">\n",
       "  <thead>\n",
       "    <tr style=\"text-align: right;\">\n",
       "      <th></th>\n",
       "      <th>Date</th>\n",
       "      <th>Open</th>\n",
       "      <th>High</th>\n",
       "      <th>Low</th>\n",
       "      <th>Close</th>\n",
       "      <th>Open Interest</th>\n",
       "      <th>SMAVG (15)</th>\n",
       "    </tr>\n",
       "  </thead>\n",
       "  <tbody>\n",
       "    <tr>\n",
       "      <th>2021-02-03 23:00:00+00:00</th>\n",
       "      <td>2021-02-04</td>\n",
       "      <td>38080.0</td>\n",
       "      <td>39655.0</td>\n",
       "      <td>37685.0</td>\n",
       "      <td>38220.0</td>\n",
       "      <td>NaN</td>\n",
       "      <td>NaN</td>\n",
       "    </tr>\n",
       "    <tr>\n",
       "      <th>2021-02-02 23:00:00+00:00</th>\n",
       "      <td>2021-02-03</td>\n",
       "      <td>36360.0</td>\n",
       "      <td>38155.0</td>\n",
       "      <td>36240.0</td>\n",
       "      <td>37790.0</td>\n",
       "      <td>2795.0</td>\n",
       "      <td>2091.0</td>\n",
       "    </tr>\n",
       "    <tr>\n",
       "      <th>2021-02-01 23:00:00+00:00</th>\n",
       "      <td>2021-02-02</td>\n",
       "      <td>34205.0</td>\n",
       "      <td>36665.0</td>\n",
       "      <td>34070.0</td>\n",
       "      <td>36535.0</td>\n",
       "      <td>2755.0</td>\n",
       "      <td>2010.0</td>\n",
       "    </tr>\n",
       "    <tr>\n",
       "      <th>2021-01-31 23:00:00+00:00</th>\n",
       "      <td>2021-02-01</td>\n",
       "      <td>33715.0</td>\n",
       "      <td>35280.0</td>\n",
       "      <td>32800.0</td>\n",
       "      <td>34265.0</td>\n",
       "      <td>2647.0</td>\n",
       "      <td>1929.0</td>\n",
       "    </tr>\n",
       "    <tr>\n",
       "      <th>2021-01-28 23:00:00+00:00</th>\n",
       "      <td>2021-01-29</td>\n",
       "      <td>33995.0</td>\n",
       "      <td>39530.0</td>\n",
       "      <td>32590.0</td>\n",
       "      <td>35180.0</td>\n",
       "      <td>2635.0</td>\n",
       "      <td>1853.0</td>\n",
       "    </tr>\n",
       "  </tbody>\n",
       "</table>\n",
       "</div>"
      ],
      "text/plain": [
       "                                Date     Open     High      Low    Close  \\\n",
       "2021-02-03 23:00:00+00:00 2021-02-04  38080.0  39655.0  37685.0  38220.0   \n",
       "2021-02-02 23:00:00+00:00 2021-02-03  36360.0  38155.0  36240.0  37790.0   \n",
       "2021-02-01 23:00:00+00:00 2021-02-02  34205.0  36665.0  34070.0  36535.0   \n",
       "2021-01-31 23:00:00+00:00 2021-02-01  33715.0  35280.0  32800.0  34265.0   \n",
       "2021-01-28 23:00:00+00:00 2021-01-29  33995.0  39530.0  32590.0  35180.0   \n",
       "\n",
       "                           Open Interest  SMAVG (15)  \n",
       "2021-02-03 23:00:00+00:00            NaN         NaN  \n",
       "2021-02-02 23:00:00+00:00         2795.0      2091.0  \n",
       "2021-02-01 23:00:00+00:00         2755.0      2010.0  \n",
       "2021-01-31 23:00:00+00:00         2647.0      1929.0  \n",
       "2021-01-28 23:00:00+00:00         2635.0      1853.0  "
      ]
     },
     "execution_count": 16,
     "metadata": {},
     "output_type": "execute_result"
    }
   ],
   "source": [
    "future_raw.head()"
   ]
  },
  {
   "cell_type": "code",
   "execution_count": 17,
   "metadata": {},
   "outputs": [
    {
     "data": {
      "text/html": [
       "<div>\n",
       "<style scoped>\n",
       "    .dataframe tbody tr th:only-of-type {\n",
       "        vertical-align: middle;\n",
       "    }\n",
       "\n",
       "    .dataframe tbody tr th {\n",
       "        vertical-align: top;\n",
       "    }\n",
       "\n",
       "    .dataframe thead th {\n",
       "        text-align: right;\n",
       "    }\n",
       "</style>\n",
       "<table border=\"1\" class=\"dataframe\">\n",
       "  <thead>\n",
       "    <tr style=\"text-align: right;\">\n",
       "      <th></th>\n",
       "      <th>Date_UTC</th>\n",
       "      <th>CRIX_open</th>\n",
       "    </tr>\n",
       "  </thead>\n",
       "  <tbody>\n",
       "    <tr>\n",
       "      <th>0</th>\n",
       "      <td>2021-03-23 00:00:00+00:00</td>\n",
       "      <td>153236.658385</td>\n",
       "    </tr>\n",
       "    <tr>\n",
       "      <th>1</th>\n",
       "      <td>2021-03-22 00:00:00+00:00</td>\n",
       "      <td>160800.249284</td>\n",
       "    </tr>\n",
       "    <tr>\n",
       "      <th>2</th>\n",
       "      <td>2021-03-21 00:00:00+00:00</td>\n",
       "      <td>163019.381706</td>\n",
       "    </tr>\n",
       "    <tr>\n",
       "      <th>3</th>\n",
       "      <td>2021-03-20 00:00:00+00:00</td>\n",
       "      <td>161865.217386</td>\n",
       "    </tr>\n",
       "    <tr>\n",
       "      <th>4</th>\n",
       "      <td>2021-03-19 00:00:00+00:00</td>\n",
       "      <td>161113.316266</td>\n",
       "    </tr>\n",
       "  </tbody>\n",
       "</table>\n",
       "</div>"
      ],
      "text/plain": [
       "                   Date_UTC      CRIX_open\n",
       "0 2021-03-23 00:00:00+00:00  153236.658385\n",
       "1 2021-03-22 00:00:00+00:00  160800.249284\n",
       "2 2021-03-21 00:00:00+00:00  163019.381706\n",
       "3 2021-03-20 00:00:00+00:00  161865.217386\n",
       "4 2021-03-19 00:00:00+00:00  161113.316266"
      ]
     },
     "execution_count": 17,
     "metadata": {},
     "output_type": "execute_result"
    }
   ],
   "source": [
    "CRIX_raw.head()"
   ]
  },
  {
   "cell_type": "code",
   "execution_count": 18,
   "metadata": {
    "scrolled": true
   },
   "outputs": [],
   "source": [
    "log_return_CRIX = np.log(CRIX_future_Open.CRIX/CRIX_future_Open.CRIX.shift(-1))\n",
    "log_return_future = np.log(CRIX_future_Open.future/CRIX_future_Open.future.shift(-1))"
   ]
  },
  {
   "cell_type": "code",
   "execution_count": 19,
   "metadata": {},
   "outputs": [],
   "source": [
    "CRIX_future_Open.loc[:,'log return CRIX'] = log_return_CRIX\n",
    "CRIX_future_Open.loc[:,'log return future'] = log_return_future"
   ]
  },
  {
   "cell_type": "code",
   "execution_count": 20,
   "metadata": {},
   "outputs": [],
   "source": [
    "CRIX_future_Open.to_csv('../data/cleaned_data/CRIX_future_Open.csv')"
   ]
  },
  {
   "cell_type": "code",
   "execution_count": 21,
   "metadata": {
    "scrolled": true
   },
   "outputs": [
    {
     "data": {
      "text/html": [
       "<div>\n",
       "<style scoped>\n",
       "    .dataframe tbody tr th:only-of-type {\n",
       "        vertical-align: middle;\n",
       "    }\n",
       "\n",
       "    .dataframe tbody tr th {\n",
       "        vertical-align: top;\n",
       "    }\n",
       "\n",
       "    .dataframe thead th {\n",
       "        text-align: right;\n",
       "    }\n",
       "</style>\n",
       "<table border=\"1\" class=\"dataframe\">\n",
       "  <thead>\n",
       "    <tr style=\"text-align: right;\">\n",
       "      <th></th>\n",
       "      <th>date</th>\n",
       "      <th>CRIX</th>\n",
       "      <th>future</th>\n",
       "      <th>log return CRIX</th>\n",
       "      <th>log return future</th>\n",
       "    </tr>\n",
       "  </thead>\n",
       "  <tbody>\n",
       "    <tr>\n",
       "      <th>0</th>\n",
       "      <td>2021-02-04 00:00:00+00:00</td>\n",
       "      <td>104518.468839</td>\n",
       "      <td>38080.0</td>\n",
       "      <td>0.054757</td>\n",
       "      <td>0.046220</td>\n",
       "    </tr>\n",
       "    <tr>\n",
       "      <th>1</th>\n",
       "      <td>2021-02-03 00:00:00+00:00</td>\n",
       "      <td>98949.179255</td>\n",
       "      <td>36360.0</td>\n",
       "      <td>0.059741</td>\n",
       "      <td>0.061097</td>\n",
       "    </tr>\n",
       "    <tr>\n",
       "      <th>2</th>\n",
       "      <td>2021-02-02 00:00:00+00:00</td>\n",
       "      <td>93210.948461</td>\n",
       "      <td>34205.0</td>\n",
       "      <td>0.002204</td>\n",
       "      <td>0.014429</td>\n",
       "    </tr>\n",
       "    <tr>\n",
       "      <th>3</th>\n",
       "      <td>2021-02-01 00:00:00+00:00</td>\n",
       "      <td>93005.711051</td>\n",
       "      <td>33715.0</td>\n",
       "      <td>0.013628</td>\n",
       "      <td>-0.008271</td>\n",
       "    </tr>\n",
       "    <tr>\n",
       "      <th>4</th>\n",
       "      <td>2021-01-29 00:00:00+00:00</td>\n",
       "      <td>91746.863103</td>\n",
       "      <td>33995.0</td>\n",
       "      <td>0.081917</td>\n",
       "      <td>0.092065</td>\n",
       "    </tr>\n",
       "  </tbody>\n",
       "</table>\n",
       "</div>"
      ],
      "text/plain": [
       "                       date           CRIX   future  log return CRIX  \\\n",
       "0 2021-02-04 00:00:00+00:00  104518.468839  38080.0         0.054757   \n",
       "1 2021-02-03 00:00:00+00:00   98949.179255  36360.0         0.059741   \n",
       "2 2021-02-02 00:00:00+00:00   93210.948461  34205.0         0.002204   \n",
       "3 2021-02-01 00:00:00+00:00   93005.711051  33715.0         0.013628   \n",
       "4 2021-01-29 00:00:00+00:00   91746.863103  33995.0         0.081917   \n",
       "\n",
       "   log return future  \n",
       "0           0.046220  \n",
       "1           0.061097  \n",
       "2           0.014429  \n",
       "3          -0.008271  \n",
       "4           0.092065  "
      ]
     },
     "execution_count": 21,
     "metadata": {},
     "output_type": "execute_result"
    }
   ],
   "source": [
    "CRIX_future_Open.head()"
   ]
  },
  {
   "cell_type": "code",
   "execution_count": 22,
   "metadata": {},
   "outputs": [],
   "source": [
    "future_date = pd.Series([closest_date(future_Close.index[i]) for i in range(len(future_Close))])\n",
    "future_date.index = future_date\n",
    "future_date = future_date.tz_localize('UTC')\n",
    "future_date = future_date.reset_index().iloc[:,0]\n",
    "future_Close_reindexed = future_Close.reindex(future_date, method='nearest')"
   ]
  },
  {
   "cell_type": "code",
   "execution_count": 23,
   "metadata": {},
   "outputs": [
    {
     "data": {
      "text/plain": [
       "2021-02-04 22:00:00+00:00    38220.0\n",
       "2021-02-03 22:00:00+00:00    37790.0\n",
       "2021-02-02 22:00:00+00:00    36535.0\n",
       "2021-02-01 22:00:00+00:00    34265.0\n",
       "2021-01-29 22:00:00+00:00    35180.0\n",
       "Name: Close, dtype: float64"
      ]
     },
     "execution_count": 23,
     "metadata": {},
     "output_type": "execute_result"
    }
   ],
   "source": [
    "future_Close.head()"
   ]
  },
  {
   "cell_type": "code",
   "execution_count": 24,
   "metadata": {},
   "outputs": [
    {
     "data": {
      "text/plain": [
       "index\n",
       "2021-02-05 00:00:00+00:00    38220.0\n",
       "2021-02-04 00:00:00+00:00    37790.0\n",
       "2021-02-03 00:00:00+00:00    36535.0\n",
       "2021-02-02 00:00:00+00:00    34265.0\n",
       "2021-01-30 00:00:00+00:00    35180.0\n",
       "Name: Close, dtype: float64"
      ]
     },
     "execution_count": 24,
     "metadata": {},
     "output_type": "execute_result"
    }
   ],
   "source": [
    "future_Close_reindexed.head()"
   ]
  },
  {
   "cell_type": "code",
   "execution_count": 25,
   "metadata": {},
   "outputs": [],
   "source": [
    "CRIX_future_Close = CRIX_raw.merge(future_Close_reindexed, left_on='Date_UTC', right_on='index')\n",
    "\n",
    "CRIX_future_Close.columns = ['Date', 'CRIX', 'future']\n",
    "CRIX_future_Close.dropna(inplace=True)\n"
   ]
  },
  {
   "cell_type": "code",
   "execution_count": 26,
   "metadata": {},
   "outputs": [],
   "source": [
    "log_return_CRIX = np.log(CRIX_future_Close.CRIX/CRIX_future_Close.CRIX.shift(-1))\n",
    "log_return_future = np.log(CRIX_future_Close.future/CRIX_future_Close.future.shift(-1))"
   ]
  },
  {
   "cell_type": "code",
   "execution_count": 27,
   "metadata": {},
   "outputs": [],
   "source": [
    "CRIX_future_Close.loc[:,'log return CRIX'] = log_return_CRIX\n",
    "CRIX_future_Close.loc[:,'log return future'] = log_return_future"
   ]
  },
  {
   "cell_type": "code",
   "execution_count": 28,
   "metadata": {},
   "outputs": [],
   "source": [
    "CRIX_future_Close.to_csv('../data/cleaned_data/CRIX_future_Close.csv')"
   ]
  },
  {
   "cell_type": "code",
   "execution_count": 29,
   "metadata": {},
   "outputs": [
    {
     "data": {
      "text/plain": [
       "<matplotlib.collections.PathCollection at 0x7fbb7a2795d0>"
      ]
     },
     "execution_count": 29,
     "metadata": {},
     "output_type": "execute_result"
    },
    {
     "data": {
      "image/png": "[encoded data removed]",
      "text/plain": [
       "<Figure size 360x360 with 1 Axes>"
      ]
     },
     "metadata": {
      "needs_background": "light"
     },
     "output_type": "display_data"
    }
   ],
   "source": [
    "plt.figure(figsize=(5,5))\n",
    "plt.scatter(CRIX_future_Open.loc[:,'log return CRIX'], CRIX_future_Open.loc[:,'log return future'])\n",
    "plt.scatter(CRIX_future_Close.loc[:,'log return CRIX'], CRIX_future_Close.loc[:,'log return future'])"
   ]
  },
  {
   "cell_type": "code",
   "execution_count": 30,
   "metadata": {},
   "outputs": [
    {
     "name": "stdout",
     "output_type": "stream",
     "text": [
      "\\begin{tabular}{llrrrr}\n",
      "\\toprule\n",
      "{} &                      date &           CRIX &   future &  log return CRIX &  log return future \\\\\n",
      "\\midrule\n",
      "0 & 2021-02-04 00:00:00+00:00 &  104518.468839 &  38080.0 &         0.054757 &           0.046220 \\\\\n",
      "1 & 2021-02-03 00:00:00+00:00 &   98949.179255 &  36360.0 &         0.059741 &           0.061097 \\\\\n",
      "2 & 2021-02-02 00:00:00+00:00 &   93210.948461 &  34205.0 &         0.002204 &           0.014429 \\\\\n",
      "3 & 2021-02-01 00:00:00+00:00 &   93005.711051 &  33715.0 &         0.013628 &          -0.008271 \\\\\n",
      "4 & 2021-01-29 00:00:00+00:00 &   91746.863103 &  33995.0 &         0.081917 &           0.092065 \\\\\n",
      "\\bottomrule\n",
      "\\end{tabular}\n",
      "\n"
     ]
    }
   ],
   "source": [
    "print(CRIX_future_Open.head().to_latex())"
   ]
  },
  {
   "cell_type": "code",
   "execution_count": 31,
   "metadata": {},
   "outputs": [
    {
     "name": "stdout",
     "output_type": "stream",
     "text": [
      "\\begin{tabular}{llrrrr}\n",
      "\\toprule\n",
      "{} &                      date &           CRIX &   future &  log return CRIX &  log return future \\\\\n",
      "\\midrule\n",
      "0 & 2021-02-05 00:00:00+00:00 &  103348.488555 &  38220.0 &        -0.011257 &           0.011314 \\\\\n",
      "1 & 2021-02-04 00:00:00+00:00 &  104518.468839 &  37790.0 &         0.054757 &           0.033774 \\\\\n",
      "2 & 2021-02-03 00:00:00+00:00 &   98949.179255 &  36535.0 &         0.059741 &           0.064146 \\\\\n",
      "3 & 2021-02-02 00:00:00+00:00 &   93210.948461 &  34265.0 &        -0.016175 &          -0.026353 \\\\\n",
      "4 & 2021-01-30 00:00:00+00:00 &   94730.919657 &  35180.0 &         0.032007 &           0.061398 \\\\\n",
      "\\bottomrule\n",
      "\\end{tabular}\n",
      "\n"
     ]
    }
   ],
   "source": [
    "print(CRIX_future_Close.head().to_latex())"
   ]
  },
  {
   "cell_type": "code",
   "execution_count": 32,
   "metadata": {},
   "outputs": [],
   "source": [
    "C = Gaussian({'rho':0.8}, stats.uniform, stats.uniform)\n",
    "C = t_Copula({'rho':0.8, 'nu':2}, stats.uniform, stats.uniform, 2)"
   ]
  },
  {
   "cell_type": "code",
   "execution_count": 33,
   "metadata": {
    "scrolled": true
   },
   "outputs": [
    {
     "name": "stdout",
     "output_type": "stream",
     "text": [
      "Optimization terminated successfully.\n",
      "         Current function value: -0.750559\n",
      "         Iterations: 127\n",
      "         Function evaluations: 240\n"
     ]
    },
    {
     "data": {
      "text/plain": [
       "array([0.87480695, 2.        ])"
      ]
     },
     "execution_count": 33,
     "metadata": {},
     "output_type": "execute_result"
    }
   ],
   "source": [
    "rs_Open = CRIX_future_Open.loc[:,'log return CRIX']\n",
    "rs_Open.dropna(inplace=True)\n",
    "\n",
    "rf_Open = CRIX_future_Open.loc[:,'log return future']\n",
    "rf_Open.dropna(inplace=True)\n",
    "\n",
    "u_Open = ECDF(rs_Open)(rs_Open)\n",
    "v_Open = ECDF(rf_Open)(rf_Open)\n",
    "\n",
    "C.canonical_calibrate(u_Open,v_Open)"
   ]
  },
  {
   "cell_type": "code",
   "execution_count": 33,
   "metadata": {},
   "outputs": [
    {
     "name": "stdout",
     "output_type": "stream",
     "text": [
      "Optimization terminated successfully.\n",
      "         Current function value: -0.618130\n",
      "         Iterations: 117\n",
      "         Function evaluations: 227\n"
     ]
    },
    {
     "data": {
      "text/plain": [
       "array([0.81684398, 2.        ])"
      ]
     },
     "execution_count": 33,
     "metadata": {},
     "output_type": "execute_result"
    }
   ],
   "source": [
    "rs_Close = CRIX_future_Close.loc[:,'log return CRIX']\n",
    "rs_Close.dropna(inplace=True)\n",
    "\n",
    "rf_Close = CRIX_future_Close.loc[:,'log return future']\n",
    "rf_Close.dropna(inplace=True)\n",
    "\n",
    "u_Close = ECDF(rs_Close)(rs_Close)\n",
    "v_Close = ECDF(rf_Close)(rf_Close)\n",
    "C = t_Copula({'rho':0.8, 'nu':2}, stats.uniform, stats.uniform, 2)\n",
    "C.canonical_calibrate(u_Close,v_Close)"
   ]
  },
  {
   "cell_type": "code",
   "execution_count": 34,
   "metadata": {},
   "outputs": [
    {
     "name": "stdout",
     "output_type": "stream",
     "text": [
      "Optimization terminated successfully.\n",
      "         Current function value: -0.872823\n",
      "         Iterations: 83\n",
      "         Function evaluations: 172\n"
     ]
    },
    {
     "data": {
      "text/plain": [
       "array([0.90516305, 2.84819037])"
      ]
     },
     "execution_count": 34,
     "metadata": {},
     "output_type": "execute_result"
    }
   ],
   "source": [
    "rs_mean = (CRIX_future_Open.loc[:,'log return CRIX'] + CRIX_future_Close.loc[:,'log return CRIX'])/2\n",
    "rf_mean = (CRIX_future_Open.loc[:,'log return future'] + CRIX_future_Close.loc[:,'log return future'])/2\n",
    "\n",
    "u_mean = ECDF(rs_mean)(rs_mean)\n",
    "v_mean = ECDF(rf_mean)(rf_mean)\n",
    "\n",
    "C.canonical_calibrate(u_mean,v_mean)"
   ]
  },
  {
   "cell_type": "code",
   "execution_count": 35,
   "metadata": {},
   "outputs": [
    {
     "data": {
      "image/png": "[encoded data removed]",
      "text/plain": [
       "<Figure size 720x720 with 1 Axes>"
      ]
     },
     "metadata": {
      "needs_background": "light"
     },
     "output_type": "display_data"
    }
   ],
   "source": [
    "plt.figure(figsize=(10,10))\n",
    "\n",
    "plt.scatter(u_Open,v_Open, label='CRIX future Open')\n",
    "plt.scatter(u_Close,v_Close, label='CRIX future Close')\n",
    "# plt.scatter(u_mean,v_mean, label='CRIX mean future mean')\n",
    "plt.legend()\n",
    "plt.savefig('../latex/_pics_notes/CRIX_future_Open_Close.pdf')"
   ]
  },
  {
   "cell_type": "code",
   "execution_count": 36,
   "metadata": {},
   "outputs": [
    {
     "name": "stderr",
     "output_type": "stream",
     "text": [
      "/Users/francis/opt/anaconda3/lib/python3.7/site-packages/seaborn/distributions.py:2551: FutureWarning: `distplot` is a deprecated function and will be removed in a future version. Please adapt your code to use either `displot` (a figure-level function with similar flexibility) or `histplot` (an axes-level function for histograms).\n",
      "  warnings.warn(msg, FutureWarning)\n",
      "/Users/francis/opt/anaconda3/lib/python3.7/site-packages/seaborn/distributions.py:2551: FutureWarning: `distplot` is a deprecated function and will be removed in a future version. Please adapt your code to use either `displot` (a figure-level function with similar flexibility) or `histplot` (an axes-level function for histograms).\n",
      "  warnings.warn(msg, FutureWarning)\n",
      "/Users/francis/opt/anaconda3/lib/python3.7/site-packages/seaborn/distributions.py:2551: FutureWarning: `distplot` is a deprecated function and will be removed in a future version. Please adapt your code to use either `displot` (a figure-level function with similar flexibility) or `histplot` (an axes-level function for histograms).\n",
      "  warnings.warn(msg, FutureWarning)\n"
     ]
    },
    {
     "data": {
      "text/plain": [
       "<matplotlib.axes._subplots.AxesSubplot at 0x7fd5bc909650>"
      ]
     },
     "execution_count": 36,
     "metadata": {},
     "output_type": "execute_result"
    },
    {
     "data": {
      "image/png": "[encoded data removed]",
      "text/plain": [
       "<Figure size 720x360 with 1 Axes>"
      ]
     },
     "metadata": {
      "needs_background": "light"
     },
     "output_type": "display_data"
    }
   ],
   "source": [
    "h=1\n",
    "plt.figure(figsize=(10,5))\n",
    "\n",
    "sns.distplot(rs_Open-h*rf_Open)\n",
    "\n",
    "sns.distplot(rs_Close-h*rf_Close)\n",
    "\n",
    "sns.distplot(rs_mean-h*rf_mean)\n"
   ]
  },
  {
   "cell_type": "code",
   "execution_count": 37,
   "metadata": {},
   "outputs": [],
   "source": [
    "variables = [rs_Open, rf_Open, rs_Close, rf_Close]#, rs_mean, rf_mean]\n",
    "variables_name = [\"rs_Open\" , \"rf_Open\",\n",
    "                  \"rs_Close\", \"rf_Close\"]#,\n",
    "                 # \"rs_mean\" , \"rf_mean\"]\n",
    "\n",
    "\n",
    "tau_matrix = np.ones((len(variables), len(variables)))\n",
    "\n",
    "for i, r1 in enumerate(variables):\n",
    "    for j, r2 in enumerate(variables):\n",
    "        tau_matrix[i,j] = stats.kendalltau(r1, r2)[0]"
   ]
  },
  {
   "cell_type": "code",
   "execution_count": 38,
   "metadata": {},
   "outputs": [
    {
     "name": "stdout",
     "output_type": "stream",
     "text": [
      "\\begin{tabular}{lrrrr}\n",
      "\\toprule\n",
      "{} &   rs\\_Open &   rf\\_Open &  rs\\_Close &  rf\\_Close \\\\\n",
      "\\midrule\n",
      "rs\\_Open  &  1.000000 &  0.673266 &  0.087482 &  0.168210 \\\\\n",
      "rf\\_Open  &  0.673266 &  1.000000 &  0.061379 &  0.103468 \\\\\n",
      "rs\\_Close &  0.087482 &  0.061379 &  1.000000 &  0.608429 \\\\\n",
      "rf\\_Close &  0.168210 &  0.103468 &  0.608429 &  1.000000 \\\\\n",
      "\\bottomrule\n",
      "\\end{tabular}\n",
      "\n"
     ]
    }
   ],
   "source": [
    "tau_matrix = pd.DataFrame(tau_matrix)\n",
    "\n",
    "tau_matrix.index = variables_name\n",
    "tau_matrix.columns = variables_name\n",
    "print(tau_matrix.to_latex())\n"
   ]
  },
  {
   "cell_type": "code",
   "execution_count": 34,
   "metadata": {},
   "outputs": [],
   "source": [
    "import os\n",
    "\n",
    "def create_processed_data(data_name, data, train_size, test_size, step_size ):\n",
    "    if os.path.exists(\"../processed_data/%s/\" %data_name )==False:\n",
    "        os.mkdir(\"../processed_data/%s/\" %data_name)\n",
    "        os.mkdir(\"../processed_data/%s/train/\" %data_name)\n",
    "        os.mkdir(\"../processed_data/%s/test/\" %data_name)\n",
    "        \n",
    "    n = int(np.floor((len(data) - train_size - test_size)/step_size))\n",
    "    train_set = []\n",
    "    test_set = []\n",
    "\n",
    "    for i in range(n):\n",
    "        _data = data.iloc[(i*step_size):((i)*step_size)+train_size+test_size]\n",
    "        test = _data.iloc[:test_size,]\n",
    "        train = _data.iloc[test_size:,]\n",
    "        train_set.append(train)\n",
    "        test_set.append(test)\n",
    "\n",
    "    for i in range(len(train_set)):\n",
    "        train_set[i].to_csv(\"../processed_data/%s/train/\" %data_name +str(i)+\".csv\")\n",
    "        test_set[i].to_csv(\"../processed_data/%s/test/\" %data_name +str(i)+\".csv\")"
   ]
  },
  {
   "cell_type": "code",
   "execution_count": 35,
   "metadata": {},
   "outputs": [],
   "source": [
    "train_size_arr = [300,500,300,500,300]\n",
    "test_size_arr  = [30, 30, 5,  5  ,100]\n",
    "step_size_arr  = [30, 30, 5,  5  ,5]\n",
    "\n",
    "root = 'CRIX_future_Open_v'\n",
    "data_name_arr = [root+str(i) for i in range(1, len(train_size_arr)+1)]\n",
    "\n",
    "\n",
    "for i in range(len(train_size_arr)):\n",
    "    create_processed_data(data_name_arr[i],CRIX_future_Open,\n",
    "                          train_size_arr[i],\n",
    "                          test_size_arr[i],\n",
    "                          step_size_arr[i])"
   ]
  },
  {
   "cell_type": "code",
   "execution_count": 36,
   "metadata": {},
   "outputs": [
    {
     "data": {
      "text/html": [
       "<div>\n",
       "<style scoped>\n",
       "    .dataframe tbody tr th:only-of-type {\n",
       "        vertical-align: middle;\n",
       "    }\n",
       "\n",
       "    .dataframe tbody tr th {\n",
       "        vertical-align: top;\n",
       "    }\n",
       "\n",
       "    .dataframe thead th {\n",
       "        text-align: right;\n",
       "    }\n",
       "</style>\n",
       "<table border=\"1\" class=\"dataframe\">\n",
       "  <thead>\n",
       "    <tr style=\"text-align: right;\">\n",
       "      <th></th>\n",
       "      <th>Unnamed: 0</th>\n",
       "      <th>date</th>\n",
       "      <th>CRIX</th>\n",
       "      <th>future</th>\n",
       "      <th>log return CRIX</th>\n",
       "      <th>log return future</th>\n",
       "    </tr>\n",
       "  </thead>\n",
       "  <tbody>\n",
       "    <tr>\n",
       "      <th>0</th>\n",
       "      <td>50</td>\n",
       "      <td>2020-11-20 00:00:00+00:00</td>\n",
       "      <td>50037.407143</td>\n",
       "      <td>18050.0</td>\n",
       "      <td>0.001657</td>\n",
       "      <td>0.001941</td>\n",
       "    </tr>\n",
       "    <tr>\n",
       "      <th>1</th>\n",
       "      <td>51</td>\n",
       "      <td>2020-11-19 00:00:00+00:00</td>\n",
       "      <td>49954.561140</td>\n",
       "      <td>18015.0</td>\n",
       "      <td>0.007707</td>\n",
       "      <td>0.007522</td>\n",
       "    </tr>\n",
       "    <tr>\n",
       "      <th>2</th>\n",
       "      <td>52</td>\n",
       "      <td>2020-11-18 00:00:00+00:00</td>\n",
       "      <td>49571.024637</td>\n",
       "      <td>17880.0</td>\n",
       "      <td>0.053542</td>\n",
       "      <td>0.052530</td>\n",
       "    </tr>\n",
       "    <tr>\n",
       "      <th>3</th>\n",
       "      <td>53</td>\n",
       "      <td>2020-11-17 00:00:00+00:00</td>\n",
       "      <td>46986.702488</td>\n",
       "      <td>16965.0</td>\n",
       "      <td>0.045949</td>\n",
       "      <td>0.050162</td>\n",
       "    </tr>\n",
       "    <tr>\n",
       "      <th>4</th>\n",
       "      <td>54</td>\n",
       "      <td>2020-11-16 00:00:00+00:00</td>\n",
       "      <td>44876.558227</td>\n",
       "      <td>16135.0</td>\n",
       "      <td>-0.013694</td>\n",
       "      <td>-0.022066</td>\n",
       "    </tr>\n",
       "  </tbody>\n",
       "</table>\n",
       "</div>"
      ],
      "text/plain": [
       "   Unnamed: 0                       date          CRIX   future  \\\n",
       "0          50  2020-11-20 00:00:00+00:00  50037.407143  18050.0   \n",
       "1          51  2020-11-19 00:00:00+00:00  49954.561140  18015.0   \n",
       "2          52  2020-11-18 00:00:00+00:00  49571.024637  17880.0   \n",
       "3          53  2020-11-17 00:00:00+00:00  46986.702488  16965.0   \n",
       "4          54  2020-11-16 00:00:00+00:00  44876.558227  16135.0   \n",
       "\n",
       "   log return CRIX  log return future  \n",
       "0         0.001657           0.001941  \n",
       "1         0.007707           0.007522  \n",
       "2         0.053542           0.052530  \n",
       "3         0.045949           0.050162  \n",
       "4        -0.013694          -0.022066  "
      ]
     },
     "execution_count": 36,
     "metadata": {},
     "output_type": "execute_result"
    }
   ],
   "source": [
    "# Sanity Check\n",
    "pd.read_csv('../processed_data/CRIX_future_Open_v4/test/10.csv').tail()"
   ]
  },
  {
   "cell_type": "code",
   "execution_count": 37,
   "metadata": {},
   "outputs": [
    {
     "data": {
      "text/html": [
       "<div>\n",
       "<style scoped>\n",
       "    .dataframe tbody tr th:only-of-type {\n",
       "        vertical-align: middle;\n",
       "    }\n",
       "\n",
       "    .dataframe tbody tr th {\n",
       "        vertical-align: top;\n",
       "    }\n",
       "\n",
       "    .dataframe thead th {\n",
       "        text-align: right;\n",
       "    }\n",
       "</style>\n",
       "<table border=\"1\" class=\"dataframe\">\n",
       "  <thead>\n",
       "    <tr style=\"text-align: right;\">\n",
       "      <th></th>\n",
       "      <th>Unnamed: 0</th>\n",
       "      <th>date</th>\n",
       "      <th>CRIX</th>\n",
       "      <th>future</th>\n",
       "      <th>log return CRIX</th>\n",
       "      <th>log return future</th>\n",
       "    </tr>\n",
       "  </thead>\n",
       "  <tbody>\n",
       "    <tr>\n",
       "      <th>0</th>\n",
       "      <td>55</td>\n",
       "      <td>2020-11-13 00:00:00+00:00</td>\n",
       "      <td>45495.327218</td>\n",
       "      <td>16495.0</td>\n",
       "      <td>0.032531</td>\n",
       "      <td>0.024859</td>\n",
       "    </tr>\n",
       "    <tr>\n",
       "      <th>1</th>\n",
       "      <td>56</td>\n",
       "      <td>2020-11-12 00:00:00+00:00</td>\n",
       "      <td>44039.144060</td>\n",
       "      <td>16090.0</td>\n",
       "      <td>0.025936</td>\n",
       "      <td>0.037035</td>\n",
       "    </tr>\n",
       "    <tr>\n",
       "      <th>2</th>\n",
       "      <td>57</td>\n",
       "      <td>2020-11-11 00:00:00+00:00</td>\n",
       "      <td>42911.616105</td>\n",
       "      <td>15505.0</td>\n",
       "      <td>-0.003459</td>\n",
       "      <td>-0.001611</td>\n",
       "    </tr>\n",
       "    <tr>\n",
       "      <th>3</th>\n",
       "      <td>58</td>\n",
       "      <td>2020-11-10 00:00:00+00:00</td>\n",
       "      <td>43060.287978</td>\n",
       "      <td>15530.0</td>\n",
       "      <td>-0.010816</td>\n",
       "      <td>-0.017869</td>\n",
       "    </tr>\n",
       "    <tr>\n",
       "      <th>4</th>\n",
       "      <td>59</td>\n",
       "      <td>2020-11-09 00:00:00+00:00</td>\n",
       "      <td>43528.571574</td>\n",
       "      <td>15810.0</td>\n",
       "      <td>0.000183</td>\n",
       "      <td>0.000949</td>\n",
       "    </tr>\n",
       "  </tbody>\n",
       "</table>\n",
       "</div>"
      ],
      "text/plain": [
       "   Unnamed: 0                       date          CRIX   future  \\\n",
       "0          55  2020-11-13 00:00:00+00:00  45495.327218  16495.0   \n",
       "1          56  2020-11-12 00:00:00+00:00  44039.144060  16090.0   \n",
       "2          57  2020-11-11 00:00:00+00:00  42911.616105  15505.0   \n",
       "3          58  2020-11-10 00:00:00+00:00  43060.287978  15530.0   \n",
       "4          59  2020-11-09 00:00:00+00:00  43528.571574  15810.0   \n",
       "\n",
       "   log return CRIX  log return future  \n",
       "0         0.032531           0.024859  \n",
       "1         0.025936           0.037035  \n",
       "2        -0.003459          -0.001611  \n",
       "3        -0.010816          -0.017869  \n",
       "4         0.000183           0.000949  "
      ]
     },
     "execution_count": 37,
     "metadata": {},
     "output_type": "execute_result"
    }
   ],
   "source": [
    "pd.read_csv('../processed_data/CRIX_future_Open_v4/train/10.csv').head()"
   ]
  },
  {
   "cell_type": "code",
   "execution_count": 44,
   "metadata": {},
   "outputs": [
    {
     "name": "stdout",
     "output_type": "stream",
     "text": [
      "\\begin{tabular}{lrrrr}\n",
      "\\toprule\n",
      "{} &     Open &     High &      Low &    Close \\\\\n",
      "\\midrule\n",
      "2021-02-02 23:00:00+00:00 &  36360.0 &  38155.0 &  36240.0 &  37790.0 \\\\\n",
      "2021-02-01 23:00:00+00:00 &  34205.0 &  36665.0 &  34070.0 &  36535.0 \\\\\n",
      "2021-01-31 23:00:00+00:00 &  33715.0 &  35280.0 &  32800.0 &  34265.0 \\\\\n",
      "2021-01-28 23:00:00+00:00 &  33995.0 &  39530.0 &  32590.0 &  35180.0 \\\\\n",
      "2021-01-27 23:00:00+00:00 &  31005.0 &  33710.0 &  30350.0 &  33085.0 \\\\\n",
      "\\bottomrule\n",
      "\\end{tabular}\n",
      "\n"
     ]
    }
   ],
   "source": [
    "future_raw.dropna(inplace=True)\n",
    "print(future_raw.head().iloc[:,1:5].to_latex())"
   ]
  },
  {
   "cell_type": "code",
   "execution_count": 45,
   "metadata": {},
   "outputs": [],
   "source": [
    "Open = np.array(future_raw.Open)[:-1]"
   ]
  },
  {
   "cell_type": "code",
   "execution_count": 46,
   "metadata": {},
   "outputs": [],
   "source": [
    "Close = np.array(future_raw.Close)[1:]"
   ]
  },
  {
   "cell_type": "code",
   "execution_count": 47,
   "metadata": {},
   "outputs": [],
   "source": [
    "diff = (Open - Close)/Close"
   ]
  },
  {
   "cell_type": "code",
   "execution_count": 48,
   "metadata": {},
   "outputs": [
    {
     "data": {
      "text/plain": [
       "0.0023642392413332053"
      ]
     },
     "execution_count": 48,
     "metadata": {},
     "output_type": "execute_result"
    }
   ],
   "source": [
    "np.mean(diff)"
   ]
  },
  {
   "cell_type": "code",
   "execution_count": 49,
   "metadata": {},
   "outputs": [
    {
     "data": {
      "text/plain": [
       "0.022068912765736356"
      ]
     },
     "execution_count": 49,
     "metadata": {},
     "output_type": "execute_result"
    }
   ],
   "source": [
    "np.std(diff)"
   ]
  },
  {
   "cell_type": "code",
   "execution_count": 50,
   "metadata": {},
   "outputs": [
    {
     "data": {
      "text/plain": [
       "0.0013245033112582781"
      ]
     },
     "execution_count": 50,
     "metadata": {},
     "output_type": "execute_result"
    }
   ],
   "source": [
    "np.median(diff)"
   ]
  },
  {
   "cell_type": "code",
   "execution_count": 51,
   "metadata": {},
   "outputs": [
    {
     "data": {
      "text/plain": [
       "-0.12190287413280476"
      ]
     },
     "execution_count": 51,
     "metadata": {},
     "output_type": "execute_result"
    }
   ],
   "source": [
    "np.min(diff)"
   ]
  },
  {
   "cell_type": "code",
   "execution_count": 52,
   "metadata": {},
   "outputs": [
    {
     "data": {
      "text/plain": [
       "0.16394361339828425"
      ]
     },
     "execution_count": 52,
     "metadata": {},
     "output_type": "execute_result"
    }
   ],
   "source": [
    "np.max(diff)"
   ]
  },
  {
   "cell_type": "code",
   "execution_count": 53,
   "metadata": {},
   "outputs": [
    {
     "data": {
      "text/plain": [
       "0.008146639511201629"
      ]
     },
     "execution_count": 53,
     "metadata": {},
     "output_type": "execute_result"
    }
   ],
   "source": [
    "np.quantile(diff, 0.75)"
   ]
  },
  {
   "cell_type": "code",
   "execution_count": 54,
   "metadata": {},
   "outputs": [
    {
     "data": {
      "text/plain": [
       "-0.0041279669762641896"
      ]
     },
     "execution_count": 54,
     "metadata": {},
     "output_type": "execute_result"
    }
   ],
   "source": [
    "np.quantile(diff, 0.25)"
   ]
  },
  {
   "cell_type": "code",
   "execution_count": null,
   "metadata": {},
   "outputs": [],
   "source": []
  }
 ],
 "metadata": {
  "kernelspec": {
   "display_name": "Python 3",
   "language": "python",
   "name": "python3"
  },
  "language_info": {
   "codemirror_mode": {
    "name": "ipython",
    "version": 3
   },
   "file_extension": ".py",
   "mimetype": "text/x-python",
   "name": "python",
   "nbconvert_exporter": "python",
   "pygments_lexer": "ipython3",
   "version": "3.7.4"
  },
  "toc": {
   "base_numbering": 1,
   "nav_menu": {},
   "number_sections": true,
   "sideBar": true,
   "skip_h1_title": false,
   "title_cell": "Table of Contents",
   "title_sidebar": "Contents",
   "toc_cell": false,
   "toc_position": {},
   "toc_section_display": true,
   "toc_window_display": false
  }
 },
 "nbformat": 4,
 "nbformat_minor": 2
}
