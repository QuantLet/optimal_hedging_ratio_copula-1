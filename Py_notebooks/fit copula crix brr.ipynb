{
 "cells": [
  {
   "cell_type": "code",
   "execution_count": 3,
   "metadata": {},
   "outputs": [],
   "source": [
    "import matplotlib.pyplot as plt\n",
    "import scipy\n",
    "from scipy import stats\n",
    "from scipy.stats import norm\n",
    "import pandas as pd\n",
    "import numpy as np\n",
    "import seaborn as sns\n",
    "from statsmodels.distributions.empirical_distribution import ECDF\n",
    "from copulae1 import *\n",
    "from KDEs import *\n",
    "from toolbox import *\n",
    "import warnings\n",
    "import itertools\n",
    "import os\n",
    "\n",
    "warnings.filterwarnings(\"ignore\")\n",
    "\n",
    "data = pd.read_csv('../processed_data/btc_future_crix.csv')\n",
    "data.head()\n",
    "\n",
    "ecdf_brr = ECDF(data.return_brr)\n",
    "ecdf_btc = ECDF(data.return_btc)\n",
    "\n",
    "u = ecdf_brr(data.return_brr)\n",
    "v = ecdf_btc(data.return_btc)\n",
    "\n",
    "brr = np.array(data.return_brr)\n",
    "btc = np.array(data.return_btc)\n",
    "\n",
    "kde_brr = KDE(data.return_brr, \"Gaussian\")\n",
    "kde_btc = KDE(data.return_btc, \"Gaussian\")\n",
    "\n",
    "kde_brr = KDE(data.return_brr, \"Gaussian\", kde_brr.h_brot*3)\n",
    "kde_btc = KDE(data.return_brr, \"Gaussian\", kde_btc.h_brot*3)"
   ]
  },
  {
   "cell_type": "code",
   "execution_count": 4,
   "metadata": {},
   "outputs": [],
   "source": [
    "# Gaussian, t_Copula, Clayton, Frank, Gumbel, Plackett, Gaussian mix Indep\n",
    "C1  = Gaussian(dict(rho=0.9),       Law_RS=kde_brr, Law_RF=kde_btc) # fix the maringals!\n",
    "C2  = t_Copula(dict(rho=0.1, nu=4), Law_RS=kde_brr, Law_RF=kde_btc, nu_lowerbound=2) \n",
    "C2c = t_Copula(dict(rho=0.1, nu=4), Law_RS=kde_brr, Law_RF=kde_btc, nu_lowerbound=4) \n",
    "C3  = Clayton(dict(theta=0.1),      Law_RS=kde_brr, Law_RF=kde_btc)\n",
    "C4  = Frank(dict(theta=0.1),        Law_RS=kde_brr, Law_RF=kde_btc)\n",
    "C5  = Gumbel(dict(theta=3),         Law_RS=kde_brr, Law_RF=kde_btc)\n",
    "C6  = Plackett(dict(theta=10),      Law_RS=kde_brr, Law_RF=kde_btc)\n",
    "C7  = Gaussian_Mix_Independent(dict(rho=.9,p=0.7),Law_RS=kde_brr, Law_RF=kde_btc)\n",
    "Copulae_names = ['Gaussian', 't_Copula', 't_Copula_Capped', 'Clayton', 'Frank', 'Gumbel', 'Plackett', 'Gauss Mix Indep']\n",
    "Copulae_arr   = [C1,C2,C2c,C3,C4,C5,C6,C7]\n",
    "Copulae = dict(zip(Copulae_names, Copulae_arr))"
   ]
  },
  {
   "cell_type": "code",
   "execution_count": null,
   "metadata": {},
   "outputs": [
    {
     "name": "stdout",
     "output_type": "stream",
     "text": [
      "6.csv\n",
      "Optimization terminated successfully.\n",
      "         Current function value: -0.205614\n",
      "         Iterations: 34\n",
      "         Function evaluations: 73\n",
      "Gaussian is done.\n",
      "\n",
      "Optimization terminated successfully.\n",
      "         Current function value: -0.281130\n",
      "         Iterations: 87\n",
      "         Function evaluations: 186\n",
      "t_Copula is done.\n",
      "\n",
      "Optimization terminated successfully.\n",
      "         Current function value: -0.274164\n",
      "         Iterations: 154\n",
      "         Function evaluations: 295\n",
      "t_Copula_Capped is done.\n",
      "\n",
      "Optimization terminated successfully.\n",
      "         Current function value: -0.193055\n",
      "         Iterations: 37\n",
      "         Function evaluations: 80\n",
      "Clayton is done.\n",
      "\n",
      "Optimization terminated successfully.\n",
      "         Current function value: -0.210579\n",
      "         Iterations: 39\n",
      "         Function evaluations: 86\n",
      "Frank is done.\n",
      "\n",
      "Optimization terminated successfully.\n",
      "         Current function value: -0.216332\n",
      "         Iterations: 35\n",
      "         Function evaluations: 75\n",
      "Gumbel is done.\n",
      "\n",
      "Warning: Maximum number of function evaluations has been exceeded.\n",
      "Plackett is done.\n",
      "\n",
      "Optimization terminated successfully.\n",
      "         Current function value: -0.264378\n",
      "         Iterations: 73\n",
      "         Function evaluations: 146\n",
      "Gauss Mix Indep is done.\n",
      "\n",
      "7.csv\n",
      "Optimization terminated successfully.\n",
      "         Current function value: -0.190107\n",
      "         Iterations: 33\n",
      "         Function evaluations: 71\n",
      "Gaussian is done.\n",
      "\n",
      "Optimization terminated successfully.\n",
      "         Current function value: -0.279530\n",
      "         Iterations: 65\n",
      "         Function evaluations: 141\n",
      "t_Copula is done.\n",
      "\n",
      "Optimization terminated successfully.\n",
      "         Current function value: -0.267912\n",
      "         Iterations: 113\n",
      "         Function evaluations: 223\n",
      "t_Copula_Capped is done.\n",
      "\n",
      "Optimization terminated successfully.\n",
      "         Current function value: -0.181652\n",
      "         Iterations: 33\n",
      "         Function evaluations: 73\n",
      "Clayton is done.\n",
      "\n",
      "Optimization terminated successfully.\n",
      "         Current function value: -0.204365\n",
      "         Iterations: 33\n",
      "         Function evaluations: 71\n",
      "Frank is done.\n",
      "\n",
      "Optimization terminated successfully.\n",
      "         Current function value: -0.206518\n",
      "         Iterations: 31\n",
      "         Function evaluations: 67\n",
      "Gumbel is done.\n",
      "\n",
      "Optimization terminated successfully.\n",
      "         Current function value: -3.202061\n",
      "         Iterations: 75\n",
      "         Function evaluations: 152\n",
      "Plackett is done.\n",
      "\n",
      "Optimization terminated successfully.\n",
      "         Current function value: -0.266057\n",
      "         Iterations: 70\n",
      "         Function evaluations: 148\n",
      "Gauss Mix Indep is done.\n",
      "\n",
      "5.csv\n",
      "Optimization terminated successfully.\n",
      "         Current function value: -0.206095\n",
      "         Iterations: 31\n",
      "         Function evaluations: 66\n",
      "Gaussian is done.\n",
      "\n",
      "Optimization terminated successfully.\n",
      "         Current function value: -0.293813\n",
      "         Iterations: 65\n",
      "         Function evaluations: 142\n",
      "t_Copula is done.\n",
      "\n",
      "Optimization terminated successfully.\n",
      "         Current function value: -0.283306\n",
      "         Iterations: 131\n",
      "         Function evaluations: 253\n",
      "t_Copula_Capped is done.\n",
      "\n",
      "Optimization terminated successfully.\n",
      "         Current function value: -0.199856\n",
      "         Iterations: 31\n",
      "         Function evaluations: 69\n",
      "Clayton is done.\n",
      "\n",
      "Optimization terminated successfully.\n",
      "         Current function value: -0.215033\n",
      "         Iterations: 33\n",
      "         Function evaluations: 71\n",
      "Frank is done.\n",
      "\n",
      "Optimization terminated successfully.\n",
      "         Current function value: -0.220700\n",
      "         Iterations: 32\n",
      "         Function evaluations: 70\n",
      "Gumbel is done.\n",
      "\n",
      "Optimization terminated successfully.\n",
      "         Current function value: -3.336114\n",
      "         Iterations: 67\n",
      "         Function evaluations: 136\n",
      "Plackett is done.\n",
      "\n",
      "Optimization terminated successfully.\n",
      "         Current function value: -0.275639\n",
      "         Iterations: 60\n",
      "         Function evaluations: 132\n",
      "Gauss Mix Indep is done.\n",
      "\n",
      "4.csv\n",
      "Optimization terminated successfully.\n",
      "         Current function value: -0.202209\n",
      "         Iterations: 32\n",
      "         Function evaluations: 68\n",
      "Gaussian is done.\n",
      "\n",
      "Optimization terminated successfully.\n",
      "         Current function value: -0.298125\n",
      "         Iterations: 62\n",
      "         Function evaluations: 134\n",
      "t_Copula is done.\n",
      "\n"
     ]
    }
   ],
   "source": [
    "results = []\n",
    "ls = os.listdir('../processed_data/crix_brr/train/')\n",
    "ls = [l for l in ls if l.endswith('.csv')]\n",
    "for file in ls:\n",
    "    print(file)\n",
    "    train = pd.read_csv('../processed_data/crix_brr/train/'+file)\n",
    "    btc = train.loc[:,'log return crix'].iloc[:-1]\n",
    "    brr = train.loc[:,'log return brr'].iloc[1:]\n",
    "    u = ECDF(brr)(brr)\n",
    "    v = ECDF(btc)(btc)\n",
    "    plt.scatter(u,v)\n",
    "    paras = []\n",
    "    likelihood = []\n",
    "    for C_name in Copulae:\n",
    "        Copulae[C_name].canonical_calibrate(u,v)\n",
    "        print(C_name,'is done.\\n')\n",
    "    \n",
    "    for C_name in Copulae:\n",
    "        paras.append((C_name,Copulae[C_name].paras))\n",
    "        \n",
    "    for C_name in Copulae:\n",
    "        ln = Copulae[C_name].dependency_likelihood(u,v)\n",
    "        likelihood.append((C_name,ln))\n",
    "        \n",
    "    results.append([paras, likelihood])"
   ]
  },
  {
   "cell_type": "code",
   "execution_count": null,
   "metadata": {},
   "outputs": [],
   "source": [
    "c_arr = []\n",
    "date_range_arr = []\n",
    "for i, file in enumerate(ls):\n",
    "    train = pd.read_csv('../processed_data/crix_brr/train/'+file)\n",
    "    a = pd.DataFrame(results[i][0])\n",
    "    a.columns = ['Copula_name', 'paras']\n",
    "    a.index = a.iloc[:,0]\n",
    "    b = pd.DataFrame(results[i][1])\n",
    "    b.index = b.iloc[:,0]\n",
    "    c = pd.concat([a.iloc[:,1],b.iloc[:,1]],axis=1)\n",
    "    c.columns = ['paras', 'likelihood']\n",
    "    date_range = train.Date.iloc[-1] +' to ' + train.Date.iloc[0]\n",
    "    date_range_arr.append(date_range)\n",
    "    print(date_range)\n",
    "    c_arr.append(c)"
   ]
  },
  {
   "cell_type": "code",
   "execution_count": null,
   "metadata": {},
   "outputs": [],
   "source": [
    "result = pd.concat(dict(zip(date_range_arr, c_arr)), axis=1)"
   ]
  },
  {
   "cell_type": "code",
   "execution_count": null,
   "metadata": {},
   "outputs": [],
   "source": [
    "result.iloc[:,[i for i in range(len(result.columns)) if i%2!=0]].style.highlight_max(color = 'lightgreen', axis = 0)"
   ]
  },
  {
   "cell_type": "code",
   "execution_count": null,
   "metadata": {},
   "outputs": [],
   "source": [
    "result.iloc[:,[i for i in range(len(result.columns)) if i%2==0]]"
   ]
  },
  {
   "cell_type": "code",
   "execution_count": null,
   "metadata": {},
   "outputs": [],
   "source": [
    "result.iloc[[0,1,2,3,4,5,7],[i for i in range(len(result.columns)) if i%2!=0]].style.highlight_max(color = 'lightgreen', axis = 0)"
   ]
  },
  {
   "cell_type": "code",
   "execution_count": null,
   "metadata": {},
   "outputs": [],
   "source": [
    "kde_brr = KDE(data.return_brr, \"Gaussian\")\n",
    "kde_btc = KDE(data.return_btc, \"Gaussian\")\n",
    "\n",
    "kde_brr = KDE(data.return_brr, \"Gaussian\", kde_brr.h_brot*3)\n",
    "kde_btc = KDE(data.return_brr, \"Gaussian\", kde_btc.h_brot*3)\n",
    "kde_brr.plot_density()"
   ]
  },
  {
   "cell_type": "code",
   "execution_count": null,
   "metadata": {
    "scrolled": true
   },
   "outputs": [],
   "source": [
    "kde_brr.plot_density()"
   ]
  },
  {
   "cell_type": "code",
   "execution_count": null,
   "metadata": {},
   "outputs": [],
   "source": [
    "plt.figure(figsize=(15,10))\n",
    "plt.plot(data.iloc[:,6])"
   ]
  },
  {
   "cell_type": "code",
   "execution_count": null,
   "metadata": {},
   "outputs": [],
   "source": [
    "np.argmax(data.return_brr)"
   ]
  },
  {
   "cell_type": "code",
   "execution_count": null,
   "metadata": {},
   "outputs": [],
   "source": [
    "plt.figure(figsize=(15,10))\n",
    "plt.plot(data.return_brr)"
   ]
  },
  {
   "cell_type": "code",
   "execution_count": null,
   "metadata": {},
   "outputs": [],
   "source": [
    "kde_brr.h_brot"
   ]
  },
  {
   "cell_type": "code",
   "execution_count": null,
   "metadata": {},
   "outputs": [],
   "source": [
    "s = Gaussian_Mix_Independent(C7.paras, kde_brr, kde_btc).sample(100000)\n",
    "plt.figure(figsize=(5,5))\n",
    "plt.scatter(s[:,0],s[:,1])\n",
    "plt.title(\"Samples from Gaussian Mix Independent\")\n",
    "plt.xlabel(r\"$R^S$\")\n",
    "plt.ylabel(r\"$R^F$\")"
   ]
  },
  {
   "cell_type": "code",
   "execution_count": null,
   "metadata": {},
   "outputs": [],
   "source": [
    "h=1\n",
    "rh = s[:,0] - h*s[:,1]\n",
    "plt.figure(figsize=(6,5))\n",
    "plt.scatter(s[:,0],s[:,1],c=rh)\n",
    "plt.title(r\"Samples with Color of $R^h$, $h=1$\")\n",
    "plt.xlabel(r\"$R^S$\")\n",
    "plt.ylabel(r\"$R^F$\")\n",
    "plt.colorbar()"
   ]
  },
  {
   "cell_type": "code",
   "execution_count": null,
   "metadata": {},
   "outputs": [],
   "source": [
    "h=1\n",
    "rh = s[:,0] - h*s[:,1]\n",
    "plt.figure(figsize=(6,5))\n",
    "plt.scatter(s[:,0],s[:,1],c=ECDF(rh)(rh))\n",
    "plt.title(r\"Samples with Color of $F_{R^h}(R^h)$, $h=1$\")\n",
    "plt.xlabel(r\"$R^S$\")\n",
    "plt.ylabel(r\"$R^F$\")\n",
    "plt.colorbar()"
   ]
  },
  {
   "cell_type": "code",
   "execution_count": null,
   "metadata": {},
   "outputs": [],
   "source": [
    "h=1\n",
    "rh = s[:,0] - h*s[:,1]\n",
    "plt.figure(figsize=(6,5))\n",
    "plt.scatter(s[:,0],s[:,1],c=ERM_weight(10,ECDF(rh)(rh)))\n",
    "plt.title(r\"Samples with Color of ERM weight k=10\")\n",
    "plt.xlabel(r\"$R^S$\")\n",
    "plt.ylabel(r\"$R^F$\")\n",
    "plt.colorbar()"
   ]
  },
  {
   "cell_type": "code",
   "execution_count": null,
   "metadata": {
    "scrolled": false
   },
   "outputs": [],
   "source": [
    "h=1\n",
    "rh = s[:,0] - h*s[:,1]\n",
    "plt.figure(figsize=(6,5))\n",
    "plt.scatter(s[:,0],s[:,1],c=-ERM_weight(10,ECDF(rh)(rh))*rh)\n",
    "plt.title(r\"Samples with Color of Contribution to ERM Measure k=10\")\n",
    "plt.xlabel(r\"$R^S$\")\n",
    "plt.ylabel(r\"$R^F$\")\n",
    "plt.colorbar()"
   ]
  },
  {
   "cell_type": "code",
   "execution_count": null,
   "metadata": {},
   "outputs": [],
   "source": []
  }
 ],
 "metadata": {
  "kernelspec": {
   "display_name": "Python 3",
   "language": "python",
   "name": "python3"
  },
  "language_info": {
   "codemirror_mode": {
    "name": "ipython",
    "version": 3
   },
   "file_extension": ".py",
   "mimetype": "text/x-python",
   "name": "python",
   "nbconvert_exporter": "python",
   "pygments_lexer": "ipython3",
   "version": "3.7.4"
  },
  "toc": {
   "base_numbering": 1,
   "nav_menu": {},
   "number_sections": true,
   "sideBar": true,
   "skip_h1_title": false,
   "title_cell": "Table of Contents",
   "title_sidebar": "Contents",
   "toc_cell": false,
   "toc_position": {},
   "toc_section_display": true,
   "toc_window_display": false
  }
 },
 "nbformat": 4,
 "nbformat_minor": 2
}
