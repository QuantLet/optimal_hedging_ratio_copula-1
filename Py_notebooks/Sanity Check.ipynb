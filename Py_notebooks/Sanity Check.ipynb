{
 "cells": [
  {
   "cell_type": "code",
   "execution_count": 1,
   "metadata": {},
   "outputs": [],
   "source": [
    "from copulae1 import *\n",
    "import os"
   ]
  },
  {
   "cell_type": "code",
   "execution_count": 274,
   "metadata": {},
   "outputs": [
    {
     "name": "stdout",
     "output_type": "stream",
     "text": [
      "300\n"
     ]
    }
   ],
   "source": [
    "v1 = pd.read_csv('../processed_data/coingecko_future_v1/train/10.csv')\n",
    "print(len(v1))"
   ]
  },
  {
   "cell_type": "code",
   "execution_count": 275,
   "metadata": {},
   "outputs": [
    {
     "name": "stdout",
     "output_type": "stream",
     "text": [
      "300\n"
     ]
    }
   ],
   "source": [
    "v5 = pd.read_csv('../processed_data/coingecko_future_v5/train/46.csv')\n",
    "print(len(v5))"
   ]
  },
  {
   "cell_type": "code",
   "execution_count": 276,
   "metadata": {},
   "outputs": [
    {
     "name": "stdout",
     "output_type": "stream",
     "text": [
      "         Date  bitcoin price   Close  log return bitcoin  log return future\n",
      "0  2019-10-11    8328.545273  8465.0           -0.025490          -0.027958\n",
      "1  2019-10-10    8543.565464  8705.0            0.002356          -0.004013            Date  bitcoin price   Close  log return bitcoin  log return future\n",
      "297  2018-08-08    6306.392520  6330.0           -0.076259          -0.097032\n",
      "298  2018-08-07    6806.123136  6975.0           -0.009873           0.007194\n"
     ]
    }
   ],
   "source": [
    "print(v1.iloc[0:2,1:], v1.iloc[-3:-1,1:])"
   ]
  },
  {
   "cell_type": "code",
   "execution_count": 277,
   "metadata": {},
   "outputs": [
    {
     "name": "stdout",
     "output_type": "stream",
     "text": [
      "         Date  bitcoin price   Close  log return bitcoin  log return future\n",
      "0  2019-10-11    8328.545273  8465.0           -0.025490          -0.027958\n",
      "1  2019-10-10    8543.565464  8705.0            0.002356          -0.004013            Date  bitcoin price   Close  log return bitcoin  log return future\n",
      "297  2018-08-08    6306.392520  6330.0           -0.076259          -0.097032\n",
      "298  2018-08-07    6806.123136  6975.0           -0.009873           0.007194\n"
     ]
    }
   ],
   "source": [
    "print(v5.iloc[0:2,1:], v5.iloc[-3:-1,1:])"
   ]
  },
  {
   "cell_type": "code",
   "execution_count": 14,
   "metadata": {},
   "outputs": [],
   "source": [
    "para1 = pd.read_json('../results/coingecko_future_v1/MM/parameters.json')"
   ]
  },
  {
   "cell_type": "code",
   "execution_count": 43,
   "metadata": {},
   "outputs": [
    {
     "data": {
      "text/plain": [
       "Clayton                                     {'theta': 52.8099180598}\n",
       "Frank                                       {'theta': 38.2435110122}\n",
       "Gauss Mix Indep    {'rho': 0.9949729097000001, 'p': 0.87103102350...\n",
       "Gaussian                                       {'rho': 0.9629460318}\n",
       "Gumbel                                        {'theta': 6.220406518}\n",
       "Plackett                                   {'theta': 316.0334926055}\n",
       "t_Copula                            {'rho': 0.9400370509, 'nu': 2.0}\n",
       "t_Copula_Capped                     {'rho': 0.9516419344, 'nu': 4.0}\n",
       "Name: 10.csv, dtype: object"
      ]
     },
     "execution_count": 43,
     "metadata": {},
     "output_type": "execute_result"
    }
   ],
   "source": [
    "para1.loc[:,'10.csv']"
   ]
  },
  {
   "cell_type": "code",
   "execution_count": 16,
   "metadata": {},
   "outputs": [],
   "source": [
    "para5 = pd.read_json('../results/coingecko_future_v5/MM/parameters.json')"
   ]
  },
  {
   "cell_type": "code",
   "execution_count": 35,
   "metadata": {},
   "outputs": [],
   "source": [
    "data_name = \"coingecko_future_v1\"\n",
    "data_path = \"../processed_data/\"+data_name+\"/\"\n",
    "ls = os.listdir(data_path + 'train/')\n",
    "date_range_arr = []\n",
    "for i, file in enumerate(ls):\n",
    "\ttrain = pd.read_csv(data_path + 'train/' + file)\n",
    "\tdate_range = train.Date.iloc[-1] + ' to ' + train.Date.iloc[0]\n",
    "\tdate_range_arr.append(date_range)"
   ]
  },
  {
   "cell_type": "code",
   "execution_count": 33,
   "metadata": {},
   "outputs": [],
   "source": [
    "files = list(para1.columns)\n",
    "date_range_arr = []\n",
    "for file in files:\n",
    "    train = pd.read_csv(data_path + 'train/' + file)\n",
    "    date_range = train.Date.iloc[-1] + ' to ' + train.Date.iloc[0]\n",
    "    date_range_arr.append(date_range)"
   ]
  },
  {
   "cell_type": "code",
   "execution_count": 71,
   "metadata": {},
   "outputs": [],
   "source": [
    "OHR5 = pd.read_hdf('../results/coingecko_future_v5/MM/best_h.h5')"
   ]
  },
  {
   "cell_type": "code",
   "execution_count": 75,
   "metadata": {},
   "outputs": [
    {
     "data": {
      "text/html": [
       "<div>\n",
       "<style scoped>\n",
       "    .dataframe tbody tr th:only-of-type {\n",
       "        vertical-align: middle;\n",
       "    }\n",
       "\n",
       "    .dataframe tbody tr th {\n",
       "        vertical-align: top;\n",
       "    }\n",
       "\n",
       "    .dataframe thead th {\n",
       "        text-align: right;\n",
       "    }\n",
       "</style>\n",
       "<table border=\"1\" class=\"dataframe\">\n",
       "  <thead>\n",
       "    <tr style=\"text-align: right;\">\n",
       "      <th></th>\n",
       "      <th>Variance</th>\n",
       "      <th>ERM k=10</th>\n",
       "      <th>ES q=0.01</th>\n",
       "      <th>ES q=0.05</th>\n",
       "      <th>VaR q=0.01</th>\n",
       "      <th>VaR q=0.05</th>\n",
       "    </tr>\n",
       "  </thead>\n",
       "  <tbody>\n",
       "    <tr>\n",
       "      <th>Gaussian</th>\n",
       "      <td>0.875098</td>\n",
       "      <td>0.882617</td>\n",
       "      <td>0.834668</td>\n",
       "      <td>0.878223</td>\n",
       "      <td>0.875098</td>\n",
       "      <td>0.924512</td>\n",
       "    </tr>\n",
       "    <tr>\n",
       "      <th>t_Copula</th>\n",
       "      <td>0.853516</td>\n",
       "      <td>0.860059</td>\n",
       "      <td>0.757617</td>\n",
       "      <td>0.827637</td>\n",
       "      <td>0.812305</td>\n",
       "      <td>0.900000</td>\n",
       "    </tr>\n",
       "    <tr>\n",
       "      <th>t_Copula_Capped</th>\n",
       "      <td>0.867676</td>\n",
       "      <td>0.869336</td>\n",
       "      <td>0.821191</td>\n",
       "      <td>0.851562</td>\n",
       "      <td>0.829492</td>\n",
       "      <td>0.912988</td>\n",
       "    </tr>\n",
       "    <tr>\n",
       "      <th>Clayton</th>\n",
       "      <td>0.883691</td>\n",
       "      <td>0.861621</td>\n",
       "      <td>0.705176</td>\n",
       "      <td>0.818262</td>\n",
       "      <td>0.781738</td>\n",
       "      <td>0.956152</td>\n",
       "    </tr>\n",
       "    <tr>\n",
       "      <th>Frank</th>\n",
       "      <td>0.579687</td>\n",
       "      <td>0.506543</td>\n",
       "      <td>0.515820</td>\n",
       "      <td>0.479199</td>\n",
       "      <td>0.485937</td>\n",
       "      <td>1.058008</td>\n",
       "    </tr>\n",
       "    <tr>\n",
       "      <th>Gumbel</th>\n",
       "      <td>0.873242</td>\n",
       "      <td>0.954590</td>\n",
       "      <td>0.926855</td>\n",
       "      <td>0.976953</td>\n",
       "      <td>1.042969</td>\n",
       "      <td>0.969531</td>\n",
       "    </tr>\n",
       "    <tr>\n",
       "      <th>Plackett</th>\n",
       "      <td>0.860352</td>\n",
       "      <td>0.887988</td>\n",
       "      <td>0.756055</td>\n",
       "      <td>0.845312</td>\n",
       "      <td>0.796875</td>\n",
       "      <td>0.933203</td>\n",
       "    </tr>\n",
       "    <tr>\n",
       "      <th>Gauss Mix Indep</th>\n",
       "      <td>0.790430</td>\n",
       "      <td>0.869922</td>\n",
       "      <td>0.435840</td>\n",
       "      <td>0.738867</td>\n",
       "      <td>0.507031</td>\n",
       "      <td>0.913477</td>\n",
       "    </tr>\n",
       "  </tbody>\n",
       "</table>\n",
       "</div>"
      ],
      "text/plain": [
       "                 Variance  ERM k=10  ES q=0.01  ES q=0.05  VaR q=0.01  \\\n",
       "Gaussian         0.875098  0.882617   0.834668   0.878223    0.875098   \n",
       "t_Copula         0.853516  0.860059   0.757617   0.827637    0.812305   \n",
       "t_Copula_Capped  0.867676  0.869336   0.821191   0.851562    0.829492   \n",
       "Clayton          0.883691  0.861621   0.705176   0.818262    0.781738   \n",
       "Frank            0.579687  0.506543   0.515820   0.479199    0.485937   \n",
       "Gumbel           0.873242  0.954590   0.926855   0.976953    1.042969   \n",
       "Plackett         0.860352  0.887988   0.756055   0.845312    0.796875   \n",
       "Gauss Mix Indep  0.790430  0.869922   0.435840   0.738867    0.507031   \n",
       "\n",
       "                 VaR q=0.05  \n",
       "Gaussian           0.924512  \n",
       "t_Copula           0.900000  \n",
       "t_Copula_Capped    0.912988  \n",
       "Clayton            0.956152  \n",
       "Frank              1.058008  \n",
       "Gumbel             0.969531  \n",
       "Plackett           0.933203  \n",
       "Gauss Mix Indep    0.913477  "
      ]
     },
     "execution_count": 75,
     "metadata": {},
     "output_type": "execute_result"
    }
   ],
   "source": [
    "OHR5.loc[:,'46.csv']"
   ]
  },
  {
   "cell_type": "code",
   "execution_count": 73,
   "metadata": {},
   "outputs": [],
   "source": [
    "OHR1 = pd.read_hdf('../results/coingecko_future_v1/MM/best_h.h5')"
   ]
  },
  {
   "cell_type": "code",
   "execution_count": 76,
   "metadata": {},
   "outputs": [
    {
     "data": {
      "text/html": [
       "<div>\n",
       "<style scoped>\n",
       "    .dataframe tbody tr th:only-of-type {\n",
       "        vertical-align: middle;\n",
       "    }\n",
       "\n",
       "    .dataframe tbody tr th {\n",
       "        vertical-align: top;\n",
       "    }\n",
       "\n",
       "    .dataframe thead th {\n",
       "        text-align: right;\n",
       "    }\n",
       "</style>\n",
       "<table border=\"1\" class=\"dataframe\">\n",
       "  <thead>\n",
       "    <tr style=\"text-align: right;\">\n",
       "      <th></th>\n",
       "      <th>Variance</th>\n",
       "      <th>ERM k=10</th>\n",
       "      <th>ES q=0.01</th>\n",
       "      <th>ES q=0.05</th>\n",
       "      <th>ES q=0.10</th>\n",
       "      <th>VaR q=0.01</th>\n",
       "      <th>VaR q=0.05</th>\n",
       "      <th>VaR q=0.10</th>\n",
       "    </tr>\n",
       "  </thead>\n",
       "  <tbody>\n",
       "    <tr>\n",
       "      <th>Gaussian</th>\n",
       "      <td>0.864941</td>\n",
       "      <td>0.879785</td>\n",
       "      <td>0.829102</td>\n",
       "      <td>0.874707</td>\n",
       "      <td>0.888086</td>\n",
       "      <td>0.856055</td>\n",
       "      <td>0.932031</td>\n",
       "      <td>0.906641</td>\n",
       "    </tr>\n",
       "    <tr>\n",
       "      <th>t_Copula</th>\n",
       "      <td>0.844336</td>\n",
       "      <td>0.858398</td>\n",
       "      <td>0.763770</td>\n",
       "      <td>0.825195</td>\n",
       "      <td>0.858984</td>\n",
       "      <td>0.815332</td>\n",
       "      <td>0.901953</td>\n",
       "      <td>0.903906</td>\n",
       "    </tr>\n",
       "    <tr>\n",
       "      <th>t_Copula_Capped</th>\n",
       "      <td>0.857422</td>\n",
       "      <td>0.868555</td>\n",
       "      <td>0.816992</td>\n",
       "      <td>0.850195</td>\n",
       "      <td>0.873145</td>\n",
       "      <td>0.828711</td>\n",
       "      <td>0.897852</td>\n",
       "      <td>0.910742</td>\n",
       "    </tr>\n",
       "    <tr>\n",
       "      <th>Clayton</th>\n",
       "      <td>0.875684</td>\n",
       "      <td>0.872070</td>\n",
       "      <td>0.697852</td>\n",
       "      <td>0.825000</td>\n",
       "      <td>0.869336</td>\n",
       "      <td>0.776953</td>\n",
       "      <td>0.948145</td>\n",
       "      <td>1.003125</td>\n",
       "    </tr>\n",
       "    <tr>\n",
       "      <th>Frank</th>\n",
       "      <td>0.586719</td>\n",
       "      <td>0.518262</td>\n",
       "      <td>0.528613</td>\n",
       "      <td>0.489941</td>\n",
       "      <td>0.499414</td>\n",
       "      <td>0.497070</td>\n",
       "      <td>1.078320</td>\n",
       "      <td>1.019043</td>\n",
       "    </tr>\n",
       "    <tr>\n",
       "      <th>Gumbel</th>\n",
       "      <td>0.863867</td>\n",
       "      <td>0.946875</td>\n",
       "      <td>0.915918</td>\n",
       "      <td>0.968359</td>\n",
       "      <td>0.959668</td>\n",
       "      <td>1.041016</td>\n",
       "      <td>0.966895</td>\n",
       "      <td>0.926562</td>\n",
       "    </tr>\n",
       "    <tr>\n",
       "      <th>Plackett</th>\n",
       "      <td>0.850293</td>\n",
       "      <td>0.886133</td>\n",
       "      <td>0.756055</td>\n",
       "      <td>0.843750</td>\n",
       "      <td>0.889258</td>\n",
       "      <td>0.796191</td>\n",
       "      <td>0.929199</td>\n",
       "      <td>0.962109</td>\n",
       "    </tr>\n",
       "    <tr>\n",
       "      <th>Gauss Mix Indep</th>\n",
       "      <td>0.781543</td>\n",
       "      <td>0.870703</td>\n",
       "      <td>0.431445</td>\n",
       "      <td>0.747852</td>\n",
       "      <td>0.864551</td>\n",
       "      <td>0.505566</td>\n",
       "      <td>0.909375</td>\n",
       "      <td>0.968066</td>\n",
       "    </tr>\n",
       "  </tbody>\n",
       "</table>\n",
       "</div>"
      ],
      "text/plain": [
       "                 Variance  ERM k=10  ES q=0.01  ES q=0.05  ES q=0.10  \\\n",
       "Gaussian         0.864941  0.879785   0.829102   0.874707   0.888086   \n",
       "t_Copula         0.844336  0.858398   0.763770   0.825195   0.858984   \n",
       "t_Copula_Capped  0.857422  0.868555   0.816992   0.850195   0.873145   \n",
       "Clayton          0.875684  0.872070   0.697852   0.825000   0.869336   \n",
       "Frank            0.586719  0.518262   0.528613   0.489941   0.499414   \n",
       "Gumbel           0.863867  0.946875   0.915918   0.968359   0.959668   \n",
       "Plackett         0.850293  0.886133   0.756055   0.843750   0.889258   \n",
       "Gauss Mix Indep  0.781543  0.870703   0.431445   0.747852   0.864551   \n",
       "\n",
       "                 VaR q=0.01  VaR q=0.05  VaR q=0.10  \n",
       "Gaussian           0.856055    0.932031    0.906641  \n",
       "t_Copula           0.815332    0.901953    0.903906  \n",
       "t_Copula_Capped    0.828711    0.897852    0.910742  \n",
       "Clayton            0.776953    0.948145    1.003125  \n",
       "Frank              0.497070    1.078320    1.019043  \n",
       "Gumbel             1.041016    0.966895    0.926562  \n",
       "Plackett           0.796191    0.929199    0.962109  \n",
       "Gauss Mix Indep    0.505566    0.909375    0.968066  "
      ]
     },
     "execution_count": 76,
     "metadata": {},
     "output_type": "execute_result"
    }
   ],
   "source": [
    "OHR1.loc[:,'10.csv']"
   ]
  },
  {
   "cell_type": "code",
   "execution_count": 9,
   "metadata": {},
   "outputs": [],
   "source": [
    "from KDEs import *\n",
    "data = pd.read_csv('../processed_data/coingecko_future_v1/train/0.csv')\n",
    "btc = data.loc[:,'log return bitcoin']\n",
    "future = data.loc[:,'log return future']\n",
    "KDE_btc = KDE(btc, 'Gaussian')\n",
    "KDE_future = KDE(future, 'Gaussian')"
   ]
  },
  {
   "cell_type": "code",
   "execution_count": 19,
   "metadata": {},
   "outputs": [
    {
     "name": "stdout",
     "output_type": "stream",
     "text": [
      "Optimization terminated successfully.\n",
      "         Current function value: 0.000222\n",
      "         Iterations: 12\n",
      "         Function evaluations: 24\n",
      "Optimization terminated successfully.\n",
      "         Current function value: 0.020267\n",
      "         Iterations: 13\n",
      "         Function evaluations: 26\n",
      "Optimization terminated successfully.\n",
      "         Current function value: 0.065212\n",
      "         Iterations: 12\n",
      "         Function evaluations: 24\n",
      "Optimization terminated successfully.\n",
      "         Current function value: 0.033655\n",
      "         Iterations: 12\n",
      "         Function evaluations: 24\n",
      "Optimization terminated successfully.\n",
      "         Current function value: 0.039557\n",
      "         Iterations: 11\n",
      "         Function evaluations: 22\n",
      "Optimization terminated successfully.\n",
      "         Current function value: 0.017395\n",
      "         Iterations: 14\n",
      "         Function evaluations: 29\n"
     ]
    },
    {
     "data": {
      "text/plain": [
       "[0.8557617187499998,\n",
       " 0.8410156249999999,\n",
       " 0.9197265625,\n",
       " 0.8687499999999999,\n",
       " 0.9368164062499998,\n",
       " 0.7748046874999999]"
      ]
     },
     "execution_count": 19,
     "metadata": {},
     "output_type": "execute_result"
    }
   ],
   "source": [
    "C = t_Copula(para1.loc['t_Copula','10.csv'], KDE_btc, KDE_future, nu_lowerbound=2)\n",
    "optimize_h(C, [10], [0.01,0.05], [0.01,0.05])"
   ]
  },
  {
   "cell_type": "code",
   "execution_count": 22,
   "metadata": {
    "scrolled": true
   },
   "outputs": [
    {
     "name": "stdout",
     "output_type": "stream",
     "text": [
      "Optimization terminated successfully.\n",
      "         Current function value: 0.000222\n",
      "         Iterations: 12\n",
      "         Function evaluations: 24\n",
      "Optimization terminated successfully.\n",
      "         Current function value: 0.020267\n",
      "         Iterations: 13\n",
      "         Function evaluations: 26\n",
      "Optimization terminated successfully.\n",
      "         Current function value: 0.065212\n",
      "         Iterations: 12\n",
      "         Function evaluations: 24\n",
      "Optimization terminated successfully.\n",
      "         Current function value: 0.033655\n",
      "         Iterations: 12\n",
      "         Function evaluations: 24\n",
      "Optimization terminated successfully.\n",
      "         Current function value: 0.039557\n",
      "         Iterations: 11\n",
      "         Function evaluations: 22\n",
      "Optimization terminated successfully.\n",
      "         Current function value: 0.017395\n",
      "         Iterations: 14\n",
      "         Function evaluations: 29\n"
     ]
    },
    {
     "data": {
      "text/plain": [
       "[0.8557617187499998,\n",
       " 0.8410156249999999,\n",
       " 0.9197265625,\n",
       " 0.8687499999999999,\n",
       " 0.9368164062499998,\n",
       " 0.7748046874999999]"
      ]
     },
     "execution_count": 22,
     "metadata": {},
     "output_type": "execute_result"
    }
   ],
   "source": [
    "C = t_Copula(para1.loc['t_Copula','10.csv'], KDE_btc, KDE_future, nu_lowerbound=2)\n",
    "optimize_h(C, [10], [0.01,0.05], [0.01,0.05])"
   ]
  },
  {
   "cell_type": "code",
   "execution_count": 68,
   "metadata": {},
   "outputs": [],
   "source": [
    "h_arr = []\n",
    "for i, copula in enumerate(list(OHR5.index)):\n",
    "    h = OHR5.iloc[i:i+1,:].melt()\n",
    "    h.columns = ['file', 'risk measure', 'OHR']\n",
    "    h.loc[:,'copula'] = copula\n",
    "    h_arr.append(h)\n",
    "h = pd.concat(h_arr)"
   ]
  }
 ],
 "metadata": {
  "kernelspec": {
   "display_name": "Python 3",
   "language": "python",
   "name": "python3"
  },
  "language_info": {
   "codemirror_mode": {
    "name": "ipython",
    "version": 3
   },
   "file_extension": ".py",
   "mimetype": "text/x-python",
   "name": "python",
   "nbconvert_exporter": "python",
   "pygments_lexer": "ipython3",
   "version": "3.7.4"
  },
  "toc": {
   "base_numbering": 1,
   "nav_menu": {},
   "number_sections": true,
   "sideBar": true,
   "skip_h1_title": false,
   "title_cell": "Table of Contents",
   "title_sidebar": "Contents",
   "toc_cell": false,
   "toc_position": {},
   "toc_section_display": true,
   "toc_window_display": false
  }
 },
 "nbformat": 4,
 "nbformat_minor": 2
}
