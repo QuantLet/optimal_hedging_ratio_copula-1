{
 "cells": [
  {
   "cell_type": "code",
   "execution_count": 169,
   "metadata": {},
   "outputs": [],
   "source": [
    "from copulae1 import *\n",
    "from arch import arch_model\n",
    "\n",
    "data = pd.read_csv('../data/btc future and reference rate/coingecko_future.csv')\n",
    "data= data.iloc[::-1].reset_index(drop=True)\n",
    "brr = data.iloc[:,4]\n",
    "btc = data.iloc[:,5]\n",
    "\n",
    "u = ECDF(brr)(brr)\n",
    "v = ECDF(btc)(btc)"
   ]
  },
  {
   "cell_type": "code",
   "execution_count": 257,
   "metadata": {
    "scrolled": false
   },
   "outputs": [
    {
     "name": "stdout",
     "output_type": "stream",
     "text": [
      "Iteration:      1,   Func. Count:      7,   Neg. LLF: 288.23321908199193\n",
      "Iteration:      2,   Func. Count:     18,   Neg. LLF: 288.1192188598347\n",
      "Iteration:      3,   Func. Count:     27,   Neg. LLF: 283.0565689014149\n",
      "Iteration:      4,   Func. Count:     35,   Neg. LLF: 281.46121729872584\n",
      "Iteration:      5,   Func. Count:     43,   Neg. LLF: 279.16795023497457\n",
      "Iteration:      6,   Func. Count:     51,   Neg. LLF: 276.8809543174755\n",
      "Iteration:      7,   Func. Count:     59,   Neg. LLF: 274.75857128352396\n",
      "Iteration:      8,   Func. Count:     67,   Neg. LLF: 273.0981242991386\n",
      "Iteration:      9,   Func. Count:     75,   Neg. LLF: 271.4680010945601\n",
      "Iteration:     10,   Func. Count:     83,   Neg. LLF: 270.5158539578801\n",
      "Iteration:     11,   Func. Count:     91,   Neg. LLF: 269.42167746803403\n",
      "Iteration:     12,   Func. Count:     98,   Neg. LLF: 267.71707812518406\n",
      "Iteration:     13,   Func. Count:    106,   Neg. LLF: 266.8748563221379\n",
      "Iteration:     14,   Func. Count:    115,   Neg. LLF: 266.3954586088844\n",
      "Iteration:     15,   Func. Count:    123,   Neg. LLF: 265.56505283682276\n",
      "Iteration:     16,   Func. Count:    130,   Neg. LLF: 264.4340185928051\n",
      "Iteration:     17,   Func. Count:    137,   Neg. LLF: 264.34517153738886\n",
      "Iteration:     18,   Func. Count:    144,   Neg. LLF: 264.14564882173704\n",
      "Iteration:     19,   Func. Count:    151,   Neg. LLF: 264.08914658848914\n",
      "Iteration:     20,   Func. Count:    158,   Neg. LLF: 264.0513431861067\n",
      "Iteration:     21,   Func. Count:    165,   Neg. LLF: 264.0473815715884\n",
      "Iteration:     22,   Func. Count:    172,   Neg. LLF: 264.04707916788846\n",
      "Iteration:     23,   Func. Count:    179,   Neg. LLF: 264.0470512934843\n",
      "Iteration:     24,   Func. Count:    186,   Neg. LLF: 264.0470463084905\n",
      "Iteration:     25,   Func. Count:    193,   Neg. LLF: 264.047045280956\n",
      "Optimization terminated successfully.    (Exit mode 0)\n",
      "            Current function value: 264.0470452809542\n",
      "            Iterations: 25\n",
      "            Function evaluations: 193\n",
      "            Gradient evaluations: 25\n",
      "                        Constant Mean - GARCH Model Results                         \n",
      "====================================================================================\n",
      "Dep. Variable:           log return bitcoin   R-squared:                       0.000\n",
      "Mean Model:                   Constant Mean   Adj. R-squared:                  0.000\n",
      "Vol Model:                            GARCH   Log-Likelihood:               -264.047\n",
      "Distribution:      Standardized Student's t   AIC:                           538.094\n",
      "Method:                  Maximum Likelihood   BIC:                           560.690\n",
      "                                              No. Observations:                  678\n",
      "Date:                      Sun, Mar 07 2021   Df Residuals:                      677\n",
      "Time:                              19:15:51   Df Model:                            1\n",
      "                                  Mean Model                                 \n",
      "=============================================================================\n",
      "                 coef    std err          t      P>|t|       95.0% Conf. Int.\n",
      "-----------------------------------------------------------------------------\n",
      "mu             0.0155  9.474e-03      1.634      0.102 [-3.091e-03,3.404e-02]\n",
      "                               Volatility Model                              \n",
      "=============================================================================\n",
      "                 coef    std err          t      P>|t|       95.0% Conf. Int.\n",
      "-----------------------------------------------------------------------------\n",
      "omega      7.3687e-03  6.594e-03      1.118      0.264 [-5.554e-03,2.029e-02]\n",
      "alpha[1]       0.1268  2.749e-02      4.612  3.989e-06    [7.290e-02,  0.181]\n",
      "beta[1]        0.8732  4.422e-02     19.749  8.218e-87      [  0.787,  0.960]\n",
      "                              Distribution                              \n",
      "========================================================================\n",
      "                 coef    std err          t      P>|t|  95.0% Conf. Int.\n",
      "------------------------------------------------------------------------\n",
      "nu             2.7324      0.175     15.631  4.506e-55 [  2.390,  3.075]\n",
      "========================================================================\n",
      "\n",
      "Covariance estimator: robust\n"
     ]
    }
   ],
   "source": [
    "am = arch_model(brr*10, vol='Garch', p=1, o=0, q=1, dist='t')\n",
    "res = am.fit()\n",
    "print(res.summary())"
   ]
  },
  {
   "cell_type": "code",
   "execution_count": 216,
   "metadata": {},
   "outputs": [
    {
     "data": {
      "text/plain": [
       "mu          0.015477\n",
       "omega       0.007369\n",
       "alpha[1]    0.126784\n",
       "beta[1]     0.873216\n",
       "nu          2.732413\n",
       "Name: params, dtype: float64"
      ]
     },
     "execution_count": 216,
     "metadata": {},
     "output_type": "execute_result"
    }
   ],
   "source": [
    "res.params"
   ]
  },
  {
   "cell_type": "markdown",
   "metadata": {},
   "source": [
    "\\begin{align}\n",
    "r_t &= \\mu + \\epsilon_t \\\\ \n",
    "\\sigma^2_t &= \\omega + \\alpha\\epsilon^2_{t-1}+\\beta \\sigma^2_{t-1}\\\\\n",
    "\\epsilon_t &= \\sigma_t e_t, e_t \\sim T_\\nu\n",
    "\\end{align}"
   ]
  },
  {
   "cell_type": "code",
   "execution_count": 261,
   "metadata": {},
   "outputs": [],
   "source": [
    "mu = res.params['mu']\n",
    "omega = res.params['omega']\n",
    "alpha = res.params['alpha[1]']\n",
    "beta = res.params['beta[1]']\n",
    "nu = res.params['nu']\n",
    "# _lambda = res.params['lambda']"
   ]
  },
  {
   "cell_type": "code",
   "execution_count": 262,
   "metadata": {},
   "outputs": [],
   "source": [
    "T = stats.t(df=nu)"
   ]
  },
  {
   "cell_type": "code",
   "execution_count": 263,
   "metadata": {},
   "outputs": [],
   "source": [
    "sample_size = 100\n",
    "epsilon = np.zeros(sample_size+1)\n",
    "# epsilon[0] = brr.iloc[-1] - mu\n",
    "epsilon[0] = 0"
   ]
  },
  {
   "cell_type": "code",
   "execution_count": 264,
   "metadata": {},
   "outputs": [],
   "source": [
    "sigma = np.ones(sample_size+1)\n",
    "sigma[0] = 0#np.sqrt((res.forecast().variance.iloc[-1] - omega - alpha*epsilon[0]**2)/beta)"
   ]
  },
  {
   "cell_type": "code",
   "execution_count": 265,
   "metadata": {
    "scrolled": true
   },
   "outputs": [],
   "source": [
    "for i in range(1,sample_size+1):\n",
    "    sigma[i] = np.sqrt(omega + alpha*epsilon[i-1]**2 + beta*sigma[i-1]**2)\n",
    "    e = T.rvs(size=1)[0]\n",
    "    epsilon[i] = sigma[i]*e"
   ]
  },
  {
   "cell_type": "code",
   "execution_count": 266,
   "metadata": {},
   "outputs": [],
   "source": [
    "r = epsilon[1:]+mu\n"
   ]
  },
  {
   "cell_type": "code",
   "execution_count": 267,
   "metadata": {},
   "outputs": [
    {
     "data": {
      "text/plain": [
       "[<matplotlib.lines.Line2D at 0x7ff146dbfb90>]"
      ]
     },
     "execution_count": 267,
     "metadata": {},
     "output_type": "execute_result"
    },
    {
     "data": {
      "image/png": "[encoded data removed]",
      "text/plain": [
       "<Figure size 432x288 with 1 Axes>"
      ]
     },
     "metadata": {
      "needs_background": "light"
     },
     "output_type": "display_data"
    }
   ],
   "source": [
    "plt.plot(sigma)"
   ]
  },
  {
   "cell_type": "code",
   "execution_count": 212,
   "metadata": {
    "scrolled": true
   },
   "outputs": [
    {
     "name": "stdout",
     "output_type": "stream",
     "text": [
      "Iteration:      1,   Func. Count:      7,   Neg. LLF: 502.56142970746225\n",
      "Iteration:      2,   Func. Count:     15,   Neg. LLF: 501.3756466563447\n",
      "Iteration:      3,   Func. Count:     22,   Neg. LLF: 499.30898420691045\n",
      "Iteration:      4,   Func. Count:     30,   Neg. LLF: 498.85421976700957\n",
      "Iteration:      5,   Func. Count:     38,   Neg. LLF: 498.5004066933908\n",
      "Iteration:      6,   Func. Count:     46,   Neg. LLF: 498.21862734090126\n",
      "Iteration:      7,   Func. Count:     54,   Neg. LLF: 497.99423679258507\n",
      "Iteration:      8,   Func. Count:     62,   Neg. LLF: 497.81967477467106\n",
      "Iteration:      9,   Func. Count:     70,   Neg. LLF: 497.64688775764756\n",
      "Iteration:     10,   Func. Count:     77,   Neg. LLF: 497.58676595300255\n",
      "Iteration:     11,   Func. Count:     84,   Neg. LLF: 497.4996722025746\n",
      "Iteration:     12,   Func. Count:     91,   Neg. LLF: 497.4900825912527\n",
      "Iteration:     13,   Func. Count:     98,   Neg. LLF: 497.47724020494206\n",
      "Iteration:     14,   Func. Count:    105,   Neg. LLF: 497.46085726698914\n",
      "Iteration:     15,   Func. Count:    112,   Neg. LLF: 497.3822069422122\n",
      "Iteration:     16,   Func. Count:    119,   Neg. LLF: 497.19818098926345\n",
      "Iteration:     17,   Func. Count:    126,   Neg. LLF: 496.58357123128235\n",
      "Iteration:     18,   Func. Count:    134,   Neg. LLF: 496.1641209960596\n",
      "Iteration:     19,   Func. Count:    142,   Neg. LLF: 495.62024580836965\n",
      "Iteration:     20,   Func. Count:    150,   Neg. LLF: 494.3552476388725\n",
      "Iteration:     21,   Func. Count:    157,   Neg. LLF: 493.7267062522771\n",
      "Iteration:     22,   Func. Count:    169,   Neg. LLF: 492.7502998365293\n",
      "Iteration:     23,   Func. Count:    178,   Neg. LLF: 490.59482309736615\n",
      "Iteration:     24,   Func. Count:    186,   Neg. LLF: 488.94998367683814\n",
      "Iteration:     25,   Func. Count:    193,   Neg. LLF: 488.70518111298475\n",
      "Iteration:     26,   Func. Count:    200,   Neg. LLF: 488.6145683439405\n",
      "Iteration:     27,   Func. Count:    207,   Neg. LLF: 488.588572480914\n",
      "Iteration:     28,   Func. Count:    214,   Neg. LLF: 488.57740699677873\n",
      "Iteration:     29,   Func. Count:    221,   Neg. LLF: 488.5763704218933\n",
      "Iteration:     30,   Func. Count:    228,   Neg. LLF: 488.57633392234675\n",
      "Iteration:     31,   Func. Count:    235,   Neg. LLF: 488.5763291549221\n",
      "Iteration:     32,   Func. Count:    242,   Neg. LLF: 488.57632628182466\n",
      "Iteration:     33,   Func. Count:    249,   Neg. LLF: 488.5763239396689\n",
      "Optimization terminated successfully.    (Exit mode 0)\n",
      "            Current function value: 488.57632300910865\n",
      "            Iterations: 33\n",
      "            Function evaluations: 250\n",
      "            Gradient evaluations: 33\n"
     ]
    },
    {
     "data": {
      "text/plain": [
       "mu         -0.297392\n",
       "omega       2.953150\n",
       "alpha[1]    0.302429\n",
       "beta[1]     0.697571\n",
       "nu          4.152560\n",
       "Name: params, dtype: float64"
      ]
     },
     "execution_count": 212,
     "metadata": {},
     "output_type": "execute_result"
    }
   ],
   "source": [
    "am = arch_model(r, vol='Garch', p=1, o=0, q=1, dist='t')\n",
    "res = am.fit()\n",
    "res.params"
   ]
  },
  {
   "cell_type": "code",
   "execution_count": 213,
   "metadata": {
    "collapsed": true
   },
   "outputs": [
    {
     "data": {
      "text/plain": [
       "[<matplotlib.lines.Line2D at 0x7ff1457063d0>]"
      ]
     },
     "execution_count": 213,
     "metadata": {},
     "output_type": "execute_result"
    },
    {
     "data": {
      "image/png": "[encoded data removed]",
      "text/plain": [
       "<Figure size 432x288 with 1 Axes>"
      ]
     },
     "metadata": {
      "needs_background": "light"
     },
     "output_type": "display_data"
    }
   ],
   "source": [
    "plt.plot(r)"
   ]
  },
  {
   "cell_type": "code",
   "execution_count": 310,
   "metadata": {},
   "outputs": [],
   "source": [
    "sigma = [0]\n",
    "epsilon = [0]\n",
    "for i in range(1,1000):\n",
    "    _sigma = np.sqrt(omega+alpha*epsilon[i-1]**2 + beta*sigma[i-1]**2)\n",
    "    sigma.append(_sigma)\n",
    "    e = T.rvs(size=1)[0]\n",
    "    epsilon.append(sigma[i]**2*e) "
   ]
  },
  {
   "cell_type": "code",
   "execution_count": 313,
   "metadata": {},
   "outputs": [
    {
     "data": {
      "text/plain": [
       "[<matplotlib.lines.Line2D at 0x7ff14a740190>]"
      ]
     },
     "execution_count": 313,
     "metadata": {},
     "output_type": "execute_result"
    },
    {
     "data": {
      "image/png": "[encoded data removed]",
      "text/plain": [
       "<Figure size 432x288 with 1 Axes>"
      ]
     },
     "metadata": {
      "needs_background": "light"
     },
     "output_type": "display_data"
    }
   ],
   "source": [
    "s = np.array(epsilon)+mu\n",
    "plt.plot(s)"
   ]
  }
 ],
 "metadata": {
  "kernelspec": {
   "display_name": "Python 3",
   "language": "python",
   "name": "python3"
  },
  "language_info": {
   "codemirror_mode": {
    "name": "ipython",
    "version": 3
   },
   "file_extension": ".py",
   "mimetype": "text/x-python",
   "name": "python",
   "nbconvert_exporter": "python",
   "pygments_lexer": "ipython3",
   "version": "3.7.4"
  },
  "toc": {
   "base_numbering": 1,
   "nav_menu": {},
   "number_sections": true,
   "sideBar": true,
   "skip_h1_title": false,
   "title_cell": "Table of Contents",
   "title_sidebar": "Contents",
   "toc_cell": false,
   "toc_position": {},
   "toc_section_display": true,
   "toc_window_display": false
  }
 },
 "nbformat": 4,
 "nbformat_minor": 2
}
