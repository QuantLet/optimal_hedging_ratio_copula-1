{
 "cells": [
  {
   "cell_type": "code",
   "execution_count": 4,
   "metadata": {},
   "outputs": [],
   "source": [
    "import matplotlib.pyplot as plt\n",
    "import scipy\n",
    "from scipy import stats\n",
    "from scipy.stats import norm\n",
    "import pandas as pd\n",
    "import numpy as np\n",
    "import seaborn as sns\n",
    "from statsmodels.distributions.empirical_distribution import ECDF\n",
    "from copulae1 import *\n",
    "from KDEs import *\n",
    "from toolbox import *\n",
    "import warnings\n",
    "import itertools\n",
    "import os\n",
    "warnings.filterwarnings(\"ignore\")\n",
    "\n",
    "data = pd.read_csv('../processed_data/btc_future_crix.csv')\n",
    "brr = np.array(data.return_brr)\n",
    "btc = np.array(data.return_btc)\n",
    "\n",
    "kde_brr = KDE(data.return_brr, \"Gaussian\")\n",
    "kde_btc = KDE(data.return_btc, \"Gaussian\")"
   ]
  },
  {
   "cell_type": "code",
   "execution_count": 75,
   "metadata": {},
   "outputs": [],
   "source": [
    "C1 = Gaussian(dict(rho=0.9), Law_RS=kde_brr, Law_RF=kde_btc) # fix the maringals!\n",
    "C2  = t_Copula(dict(rho=0.1, nu=4), Law_RS=kde_brr, Law_RF=kde_btc, nu_lowerbound=2) "
   ]
  },
  {
   "cell_type": "code",
   "execution_count": 193,
   "metadata": {
    "scrolled": true
   },
   "outputs": [
    {
     "name": "stdout",
     "output_type": "stream",
     "text": [
      "Optimization terminated successfully.\n",
      "         Current function value: -0.487272\n",
      "         Iterations: 61\n",
      "         Function evaluations: 134\n",
      "Optimization terminated successfully.\n",
      "         Current function value: 0.001448\n",
      "         Iterations: 14\n",
      "         Function evaluations: 28\n",
      "Optimization terminated successfully.\n",
      "         Current function value: 0.057460\n",
      "         Iterations: 13\n",
      "         Function evaluations: 26\n",
      "Optimization terminated successfully.\n",
      "         Current function value: -0.623182\n",
      "         Iterations: 82\n",
      "         Function evaluations: 178\n",
      "Optimization terminated successfully.\n",
      "         Current function value: 0.000304\n",
      "         Iterations: 14\n",
      "         Function evaluations: 28\n",
      "Optimization terminated successfully.\n",
      "         Current function value: 0.025343\n",
      "         Iterations: 14\n",
      "         Function evaluations: 28\n",
      "Optimization terminated successfully.\n",
      "         Current function value: -0.492752\n",
      "         Iterations: 82\n",
      "         Function evaluations: 172\n",
      "Optimization terminated successfully.\n",
      "         Current function value: 0.001807\n",
      "         Iterations: 14\n",
      "         Function evaluations: 28\n",
      "Optimization terminated successfully.\n",
      "         Current function value: 0.063764\n",
      "         Iterations: 14\n",
      "         Function evaluations: 28\n",
      "Optimization terminated successfully.\n",
      "         Current function value: -0.171088\n",
      "         Iterations: 147\n",
      "         Function evaluations: 293\n",
      "Optimization terminated successfully.\n",
      "         Current function value: 0.000127\n",
      "         Iterations: 15\n",
      "         Function evaluations: 30\n",
      "Optimization terminated successfully.\n",
      "         Current function value: 0.018125\n",
      "         Iterations: 15\n",
      "         Function evaluations: 30\n",
      "Optimization terminated successfully.\n",
      "         Current function value: -0.527095\n",
      "         Iterations: 159\n",
      "         Function evaluations: 309\n",
      "Optimization terminated successfully.\n",
      "         Current function value: 0.001848\n",
      "         Iterations: 14\n",
      "         Function evaluations: 28\n",
      "Optimization terminated successfully.\n",
      "         Current function value: 0.064889\n",
      "         Iterations: 14\n",
      "         Function evaluations: 28\n",
      "Optimization terminated successfully.\n",
      "         Current function value: -0.396876\n",
      "         Iterations: 116\n",
      "         Function evaluations: 230\n",
      "Optimization terminated successfully.\n",
      "         Current function value: 0.000911\n",
      "         Iterations: 14\n",
      "         Function evaluations: 28\n",
      "Optimization terminated successfully.\n",
      "         Current function value: 0.046496\n",
      "         Iterations: 13\n",
      "         Function evaluations: 26\n",
      "Optimization terminated successfully.\n",
      "         Current function value: -0.506210\n",
      "         Iterations: 147\n",
      "         Function evaluations: 299\n",
      "Optimization terminated successfully.\n",
      "         Current function value: 0.001798\n",
      "         Iterations: 14\n",
      "         Function evaluations: 28\n",
      "Optimization terminated successfully.\n",
      "         Current function value: 0.062919\n",
      "         Iterations: 14\n",
      "         Function evaluations: 28\n",
      "Optimization terminated successfully.\n",
      "         Current function value: -0.577183\n",
      "         Iterations: 136\n",
      "         Function evaluations: 260\n",
      "Optimization terminated successfully.\n",
      "         Current function value: 0.001106\n",
      "         Iterations: 14\n",
      "         Function evaluations: 28\n",
      "Optimization terminated successfully.\n",
      "         Current function value: 0.052329\n",
      "         Iterations: 14\n",
      "         Function evaluations: 28\n",
      "Optimization terminated successfully.\n",
      "         Current function value: -0.464297\n",
      "         Iterations: 126\n",
      "         Function evaluations: 242\n",
      "Optimization terminated successfully.\n",
      "         Current function value: 0.001601\n",
      "         Iterations: 14\n",
      "         Function evaluations: 28\n",
      "Optimization terminated successfully.\n",
      "         Current function value: 0.055944\n",
      "         Iterations: 15\n",
      "         Function evaluations: 30\n",
      "Optimization terminated successfully.\n",
      "         Current function value: -0.724712\n",
      "         Iterations: 85\n",
      "         Function evaluations: 183\n",
      "Optimization terminated successfully.\n",
      "         Current function value: 0.001451\n",
      "         Iterations: 13\n",
      "         Function evaluations: 26\n",
      "Optimization terminated successfully.\n",
      "         Current function value: 0.060925\n",
      "         Iterations: 12\n",
      "         Function evaluations: 24\n",
      "Optimization terminated successfully.\n",
      "         Current function value: -0.454334\n",
      "         Iterations: 137\n",
      "         Function evaluations: 266\n",
      "Optimization terminated successfully.\n",
      "         Current function value: 0.001640\n",
      "         Iterations: 14\n",
      "         Function evaluations: 28\n",
      "Optimization terminated successfully.\n",
      "         Current function value: 0.056670\n",
      "         Iterations: 15\n",
      "         Function evaluations: 30\n",
      "Optimization terminated successfully.\n",
      "         Current function value: -0.381155\n",
      "         Iterations: 79\n",
      "         Function evaluations: 168\n",
      "Optimization terminated successfully.\n",
      "         Current function value: 0.000431\n",
      "         Iterations: 14\n",
      "         Function evaluations: 28\n",
      "Optimization terminated successfully.\n",
      "         Current function value: 0.027232\n",
      "         Iterations: 14\n",
      "         Function evaluations: 28\n",
      "Optimization terminated successfully.\n",
      "         Current function value: -0.486332\n",
      "         Iterations: 138\n",
      "         Function evaluations: 262\n",
      "Optimization terminated successfully.\n",
      "         Current function value: 0.001515\n",
      "         Iterations: 14\n",
      "         Function evaluations: 28\n",
      "Optimization terminated successfully.\n",
      "         Current function value: 0.054575\n",
      "         Iterations: 15\n",
      "         Function evaluations: 30\n",
      "Optimization terminated successfully.\n",
      "         Current function value: -0.322078\n",
      "         Iterations: 135\n",
      "         Function evaluations: 259\n",
      "Optimization terminated successfully.\n",
      "         Current function value: 0.000828\n",
      "         Iterations: 14\n",
      "         Function evaluations: 28\n",
      "Optimization terminated successfully.\n",
      "         Current function value: 0.048795\n",
      "         Iterations: 14\n",
      "         Function evaluations: 28\n",
      "Optimization terminated successfully.\n",
      "         Current function value: -0.503232\n",
      "         Iterations: 129\n",
      "         Function evaluations: 249\n",
      "Optimization terminated successfully.\n",
      "         Current function value: 0.001336\n",
      "         Iterations: 15\n",
      "         Function evaluations: 30\n",
      "Optimization terminated successfully.\n",
      "         Current function value: 0.052341\n",
      "         Iterations: 14\n",
      "         Function evaluations: 28\n",
      "Optimization terminated successfully.\n",
      "         Current function value: -0.343863\n",
      "         Iterations: 94\n",
      "         Function evaluations: 208\n",
      "Optimization terminated successfully.\n",
      "         Current function value: 0.000738\n",
      "         Iterations: 13\n",
      "         Function evaluations: 26\n",
      "Optimization terminated successfully.\n",
      "         Current function value: 0.045046\n",
      "         Iterations: 14\n",
      "         Function evaluations: 28\n",
      "Warning: Maximum number of function evaluations has been exceeded.\n",
      "Optimization terminated successfully.\n",
      "         Current function value: 0.001302\n",
      "         Iterations: 15\n",
      "         Function evaluations: 30\n",
      "Optimization terminated successfully.\n",
      "         Current function value: 0.052564\n",
      "         Iterations: 14\n",
      "         Function evaluations: 28\n",
      "Optimization terminated successfully.\n",
      "         Current function value: -0.210428\n",
      "         Iterations: 149\n",
      "         Function evaluations: 293\n",
      "Optimization terminated successfully.\n",
      "         Current function value: 0.000665\n",
      "         Iterations: 14\n",
      "         Function evaluations: 28\n",
      "Optimization terminated successfully.\n",
      "         Current function value: 0.036207\n",
      "         Iterations: 12\n",
      "         Function evaluations: 24\n",
      "Warning: Maximum number of function evaluations has been exceeded.\n",
      "Optimization terminated successfully.\n",
      "         Current function value: 0.001162\n",
      "         Iterations: 14\n",
      "         Function evaluations: 28\n",
      "Optimization terminated successfully.\n",
      "         Current function value: 0.048967\n",
      "         Iterations: 14\n",
      "         Function evaluations: 28\n",
      "Optimization terminated successfully.\n",
      "         Current function value: -0.204567\n",
      "         Iterations: 138\n",
      "         Function evaluations: 298\n",
      "Optimization terminated successfully.\n",
      "         Current function value: 0.001443\n",
      "         Iterations: 14\n",
      "         Function evaluations: 28\n",
      "Optimization terminated successfully.\n",
      "         Current function value: 0.059520\n",
      "         Iterations: 14\n",
      "         Function evaluations: 28\n"
     ]
    }
   ],
   "source": [
    "train_size = 300\n",
    "test_size = 30\n",
    "train_rho_arr = []\n",
    "test_rho_arr  = []\n",
    "train_nu_arr  = []\n",
    "test_nu_arr   = []\n",
    "best_h_arr_train = []\n",
    "best_h_arr_test  = []\n",
    "\n",
    "step_size = 30\n",
    "steps = 10\n",
    "\n",
    "for i in range(steps):\n",
    "    test_start = (i)*step_size\n",
    "    test_end = (i+1)*step_size\n",
    "\n",
    "    train_start = test_end \n",
    "    train_end   = test_end + train_size\n",
    "\n",
    "    brr_train = brr[train_start:train_end]\n",
    "    brr_test  = brr[test_start:test_end]\n",
    "    u_train = ECDF(brr_train)(brr_train)\n",
    "    u_test = ECDF(brr_test)(brr_test)\n",
    "\n",
    "    btc_train = btc[train_start:train_end]\n",
    "    btc_test  = btc[test_start:test_end]\n",
    "    v_train = ECDF(btc_train)(btc_train)\n",
    "    v_test = ECDF(btc_test)(btc_test)\n",
    "\n",
    "#     C1.canonical_calibrate(u_train, v_train)\n",
    "#     train_rho_arr.append(C1.rho)\n",
    "\n",
    "#     C1.canonical_calibrate(u_test, v_test)\n",
    "#     test_rho_arr.append(C1.rho)\n",
    "\n",
    "    C2.Law_RS = KDE(brr_train, 'Gaussian')\n",
    "    C2.Law_RF = KDE(btc_train, 'Gaussian')\n",
    "    C2.canonical_calibrate(u_train, v_train)\n",
    "    train_rho_arr.append(C2.rho)\n",
    "    train_nu_arr.append(C2.nu)\n",
    "    best_h_arr_train.append(optimize_h(C2, [10], [])[1])\n",
    "    \n",
    "    \n",
    "    C2.Law_RS = KDE(brr_test, 'Gaussian')\n",
    "    C2.Law_RF = KDE(btc_test, 'Gaussian')\n",
    "    C2.canonical_calibrate(u_test, v_test)\n",
    "    test_rho_arr.append(C2.rho)\n",
    "    test_nu_arr.append(C2.nu)\n",
    "    best_h_arr_test.append(optimize_h(C2, [10], [])[1])\n",
    "\n",
    "# print(test_start, test_end, train_start, train_end)"
   ]
  },
  {
   "cell_type": "code",
   "execution_count": 135,
   "metadata": {},
   "outputs": [
    {
     "data": {
      "text/plain": [
       "<matplotlib.legend.Legend at 0x7fc6a08a1210>"
      ]
     },
     "execution_count": 135,
     "metadata": {},
     "output_type": "execute_result"
    },
    {
     "data": {
      "image/png": "[encoded data removed]",
      "text/plain": [
       "<Figure size 1080x360 with 1 Axes>"
      ]
     },
     "metadata": {
      "needs_background": "light"
     },
     "output_type": "display_data"
    }
   ],
   "source": [
    "plt.figure(figsize=(15,5))\n",
    "plt.scatter(range(len(train_rho_arr)), train_rho_arr, label='train')\n",
    "plt.scatter(range(len(train_rho_arr)), test_rho_arr, label='test')\n",
    "plt.ylabel(\"Rho\")\n",
    "plt.legend()"
   ]
  },
  {
   "cell_type": "code",
   "execution_count": 136,
   "metadata": {},
   "outputs": [
    {
     "data": {
      "text/plain": [
       "<matplotlib.legend.Legend at 0x7fc69fa2c390>"
      ]
     },
     "execution_count": 136,
     "metadata": {},
     "output_type": "execute_result"
    },
    {
     "data": {
      "image/png": "[encoded data removed]",
      "text/plain": [
       "<Figure size 1080x360 with 1 Axes>"
      ]
     },
     "metadata": {
      "needs_background": "light"
     },
     "output_type": "display_data"
    }
   ],
   "source": [
    "plt.figure(figsize=(15,5))\n",
    "plt.scatter(range(len(train_rho_arr)), train_nu_arr, label='train')\n",
    "plt.scatter(range(len(train_rho_arr)), test_nu_arr, label='test')\n",
    "plt.ylabel(\"Degree of freedom\")\n",
    "plt.legend()"
   ]
  },
  {
   "cell_type": "code",
   "execution_count": 137,
   "metadata": {},
   "outputs": [
    {
     "data": {
      "text/plain": [
       "<matplotlib.legend.Legend at 0x7fc69cfbce10>"
      ]
     },
     "execution_count": 137,
     "metadata": {},
     "output_type": "execute_result"
    },
    {
     "data": {
      "image/png": "[encoded data removed]",
      "text/plain": [
       "<Figure size 1080x360 with 1 Axes>"
      ]
     },
     "metadata": {
      "needs_background": "light"
     },
     "output_type": "display_data"
    }
   ],
   "source": [
    "plt.figure(figsize=(15,5))\n",
    "plt.scatter(range(len(train_rho_arr)), best_h_arr_train, label='train')\n",
    "plt.scatter(range(len(train_rho_arr)), best_h_arr_test, label='test')\n",
    "plt.ylabel(\"h\")\n",
    "plt.title('Best h according to ERM k=10')\n",
    "plt.legend()"
   ]
  },
  {
   "cell_type": "code",
   "execution_count": 106,
   "metadata": {},
   "outputs": [
    {
     "name": "stdout",
     "output_type": "stream",
     "text": [
      "-0.0014910797908646504 -0.0010391048572268426\n",
      "0.05482823892427337 0.03960317405421936\n"
     ]
    },
    {
     "data": {
      "image/png": "[encoded data removed]",
      "text/plain": [
       "<Figure size 432x288 with 1 Axes>"
      ]
     },
     "metadata": {
      "needs_background": "light"
     },
     "output_type": "display_data"
    }
   ],
   "source": [
    "i=2\n",
    "test_start = (i)*test_size\n",
    "test_end = (i+1)*test_size\n",
    "\n",
    "train_start = (i)*train_size + test_size\n",
    "train_end   = (i+1)*train_size + test_size\n",
    "\n",
    "brr_train = brr[train_start:train_end]\n",
    "brr_test  = brr[test_start:test_end]\n",
    "\n",
    "kde = KDE(btc_train, 'Gaussian')\n",
    "kde.plot_density()\n",
    "kde = KDE(btc_test, 'Gaussian')\n",
    "kde.plot_density()\n",
    "print(np.mean(btc_train), np.mean(btc_test))\n",
    "print(np.std(btc_train), np.std(btc_test))"
   ]
  },
  {
   "cell_type": "code",
   "execution_count": 105,
   "metadata": {},
   "outputs": [
    {
     "name": "stdout",
     "output_type": "stream",
     "text": [
      "-0.005658812511065621 -0.004071727755581553\n",
      "0.041245617422854125 0.051323585695541844\n"
     ]
    },
    {
     "data": {
      "image/png": "[encoded data removed]",
      "text/plain": [
       "<Figure size 432x288 with 1 Axes>"
      ]
     },
     "metadata": {
      "needs_background": "light"
     },
     "output_type": "display_data"
    }
   ],
   "source": [
    "kde = KDE(brr_train, 'Gaussian')\n",
    "kde.plot_density()\n",
    "kde = KDE(brr_test, 'Gaussian')\n",
    "kde.plot_density()\n",
    "print(np.mean(brr_train), np.mean(brr_test))\n",
    "print(np.std(brr_train), np.std(brr_test))"
   ]
  },
  {
   "cell_type": "code",
   "execution_count": 67,
   "metadata": {},
   "outputs": [
    {
     "data": {
      "text/plain": [
       "<matplotlib.collections.PathCollection at 0x7fc6ba9106d0>"
      ]
     },
     "execution_count": 67,
     "metadata": {},
     "output_type": "execute_result"
    },
    {
     "data": {
      "image/png": "[encoded data removed]",
      "text/plain": [
       "<Figure size 360x360 with 1 Axes>"
      ]
     },
     "metadata": {
      "needs_background": "light"
     },
     "output_type": "display_data"
    }
   ],
   "source": [
    "plt.figure(figsize=(5,5))\n",
    "plt.scatter(u_train, v_train)\n",
    "plt.scatter(u_test, v_test)"
   ]
  },
  {
   "cell_type": "code",
   "execution_count": 138,
   "metadata": {},
   "outputs": [
    {
     "name": "stdout",
     "output_type": "stream",
     "text": [
      "Optimization terminated successfully.\n",
      "         Current function value: -0.515669\n",
      "         Iterations: 157\n",
      "         Function evaluations: 307\n",
      "Optimization terminated successfully.\n",
      "         Current function value: 0.001180\n",
      "         Iterations: 14\n",
      "         Function evaluations: 28\n",
      "Optimization terminated successfully.\n",
      "         Current function value: 0.050843\n",
      "         Iterations: 14\n",
      "         Function evaluations: 28\n",
      "Optimization terminated successfully.\n",
      "         Current function value: -0.427109\n",
      "         Iterations: 122\n",
      "         Function evaluations: 259\n",
      "Optimization terminated successfully.\n",
      "         Current function value: 0.000156\n",
      "         Iterations: 14\n",
      "         Function evaluations: 28\n",
      "Optimization terminated successfully.\n",
      "         Current function value: 0.018589\n",
      "         Iterations: 15\n",
      "         Function evaluations: 30\n",
      "Optimization terminated successfully.\n",
      "         Current function value: -0.599543\n",
      "         Iterations: 110\n",
      "         Function evaluations: 224\n",
      "Optimization terminated successfully.\n",
      "         Current function value: 0.001240\n",
      "         Iterations: 13\n",
      "         Function evaluations: 26\n",
      "Optimization terminated successfully.\n",
      "         Current function value: 0.055188\n",
      "         Iterations: 10\n",
      "         Function evaluations: 20\n",
      "Optimization terminated successfully.\n",
      "         Current function value: -0.515669\n",
      "         Iterations: 141\n",
      "         Function evaluations: 269\n",
      "Optimization terminated successfully.\n",
      "         Current function value: 0.001193\n",
      "         Iterations: 14\n",
      "         Function evaluations: 28\n",
      "Optimization terminated successfully.\n",
      "         Current function value: 0.052109\n",
      "         Iterations: 14\n",
      "         Function evaluations: 28\n",
      "Optimization terminated successfully.\n",
      "         Current function value: -0.347183\n",
      "         Iterations: 77\n",
      "         Function evaluations: 167\n",
      "Optimization terminated successfully.\n",
      "         Current function value: 0.001342\n",
      "         Iterations: 14\n",
      "         Function evaluations: 28\n",
      "Optimization terminated successfully.\n",
      "         Current function value: 0.057206\n",
      "         Iterations: 14\n",
      "         Function evaluations: 28\n",
      "Optimization terminated successfully.\n",
      "         Current function value: -0.599543\n",
      "         Iterations: 81\n",
      "         Function evaluations: 171\n",
      "Optimization terminated successfully.\n",
      "         Current function value: 0.001123\n",
      "         Iterations: 13\n",
      "         Function evaluations: 26\n",
      "Optimization terminated successfully.\n",
      "         Current function value: 0.050174\n",
      "         Iterations: 11\n",
      "         Function evaluations: 22\n",
      "Optimization terminated successfully.\n",
      "         Current function value: -0.212302\n",
      "         Iterations: 99\n",
      "         Function evaluations: 210\n",
      "Optimization terminated successfully.\n",
      "         Current function value: 0.001067\n",
      "         Iterations: 14\n",
      "         Function evaluations: 28\n",
      "Optimization terminated successfully.\n",
      "         Current function value: 0.048959\n",
      "         Iterations: 14\n",
      "         Function evaluations: 28\n",
      "Optimization terminated successfully.\n",
      "         Current function value: -0.347183\n",
      "         Iterations: 85\n",
      "         Function evaluations: 178\n",
      "Optimization terminated successfully.\n",
      "         Current function value: 0.001445\n",
      "         Iterations: 13\n",
      "         Function evaluations: 26\n",
      "Optimization terminated successfully.\n",
      "         Current function value: 0.055731\n",
      "         Iterations: 14\n",
      "         Function evaluations: 28\n",
      "Optimization terminated successfully.\n",
      "         Current function value: -0.681499\n",
      "         Iterations: 150\n",
      "         Function evaluations: 292\n",
      "Optimization terminated successfully.\n",
      "         Current function value: 0.001208\n",
      "         Iterations: 15\n",
      "         Function evaluations: 30\n",
      "Optimization terminated successfully.\n",
      "         Current function value: 0.039518\n",
      "         Iterations: 15\n",
      "         Function evaluations: 30\n",
      "Optimization terminated successfully.\n",
      "         Current function value: -0.212302\n",
      "         Iterations: 96\n",
      "         Function evaluations: 204\n",
      "Optimization terminated successfully.\n",
      "         Current function value: 0.001100\n",
      "         Iterations: 14\n",
      "         Function evaluations: 28\n",
      "Optimization terminated successfully.\n",
      "         Current function value: 0.048773\n",
      "         Iterations: 14\n",
      "         Function evaluations: 28\n",
      "Optimization terminated successfully.\n",
      "         Current function value: -0.457682\n",
      "         Iterations: 153\n",
      "         Function evaluations: 289\n",
      "Optimization terminated successfully.\n",
      "         Current function value: 0.000772\n",
      "         Iterations: 15\n",
      "         Function evaluations: 30\n",
      "Optimization terminated successfully.\n",
      "         Current function value: 0.029784\n",
      "         Iterations: 16\n",
      "         Function evaluations: 32\n",
      "Optimization terminated successfully.\n",
      "         Current function value: -0.681499\n",
      "         Iterations: 132\n",
      "         Function evaluations: 252\n",
      "Optimization terminated successfully.\n",
      "         Current function value: 0.001228\n",
      "         Iterations: 15\n",
      "         Function evaluations: 30\n",
      "Optimization terminated successfully.\n",
      "         Current function value: 0.038789\n",
      "         Iterations: 15\n",
      "         Function evaluations: 30\n",
      "Optimization terminated successfully.\n",
      "         Current function value: -0.513716\n",
      "         Iterations: 126\n",
      "         Function evaluations: 253\n",
      "Optimization terminated successfully.\n",
      "         Current function value: 0.001253\n",
      "         Iterations: 14\n",
      "         Function evaluations: 28\n",
      "Optimization terminated successfully.\n",
      "         Current function value: 0.056336\n",
      "         Iterations: 13\n",
      "         Function evaluations: 26\n",
      "Optimization terminated successfully.\n",
      "         Current function value: -0.457682\n",
      "         Iterations: 121\n",
      "         Function evaluations: 231\n",
      "Optimization terminated successfully.\n",
      "         Current function value: 0.000750\n",
      "         Iterations: 15\n",
      "         Function evaluations: 30\n",
      "Optimization terminated successfully.\n",
      "         Current function value: 0.029934\n",
      "         Iterations: 16\n",
      "         Function evaluations: 32\n",
      "Optimization terminated successfully.\n",
      "         Current function value: -0.558193\n",
      "         Iterations: 75\n",
      "         Function evaluations: 161\n",
      "Optimization terminated successfully.\n",
      "         Current function value: 0.000604\n",
      "         Iterations: 12\n",
      "         Function evaluations: 24\n",
      "Optimization terminated successfully.\n",
      "         Current function value: 0.035150\n",
      "         Iterations: 12\n",
      "         Function evaluations: 24\n",
      "Optimization terminated successfully.\n",
      "         Current function value: -0.514217\n",
      "         Iterations: 106\n",
      "         Function evaluations: 208\n",
      "Optimization terminated successfully.\n",
      "         Current function value: 0.001346\n",
      "         Iterations: 14\n",
      "         Function evaluations: 28\n",
      "Optimization terminated successfully.\n",
      "         Current function value: 0.059837\n",
      "         Iterations: 13\n",
      "         Function evaluations: 26\n",
      "Optimization terminated successfully.\n",
      "         Current function value: -0.420602\n",
      "         Iterations: 70\n",
      "         Function evaluations: 150\n",
      "Optimization terminated successfully.\n",
      "         Current function value: 0.000988\n",
      "         Iterations: 14\n",
      "         Function evaluations: 28\n",
      "Optimization terminated successfully.\n",
      "         Current function value: 0.052576\n",
      "         Iterations: 14\n",
      "         Function evaluations: 28\n",
      "Optimization terminated successfully.\n",
      "         Current function value: -0.558193\n",
      "         Iterations: 73\n",
      "         Function evaluations: 156\n",
      "Optimization terminated successfully.\n",
      "         Current function value: 0.000590\n",
      "         Iterations: 13\n",
      "         Function evaluations: 26\n",
      "Optimization terminated successfully.\n",
      "         Current function value: 0.035860\n",
      "         Iterations: 12\n",
      "         Function evaluations: 24\n",
      "Optimization terminated successfully.\n",
      "         Current function value: -0.482042\n",
      "         Iterations: 77\n",
      "         Function evaluations: 167\n",
      "Optimization terminated successfully.\n",
      "         Current function value: 0.001110\n",
      "         Iterations: 14\n",
      "         Function evaluations: 28\n",
      "Optimization terminated successfully.\n",
      "         Current function value: 0.051235\n",
      "         Iterations: 14\n",
      "         Function evaluations: 28\n",
      "Optimization terminated successfully.\n",
      "         Current function value: -0.420602\n",
      "         Iterations: 76\n",
      "         Function evaluations: 164\n",
      "Optimization terminated successfully.\n",
      "         Current function value: 0.000927\n",
      "         Iterations: 14\n",
      "         Function evaluations: 28\n",
      "Optimization terminated successfully.\n",
      "         Current function value: 0.049251\n",
      "         Iterations: 14\n",
      "         Function evaluations: 28\n"
     ]
    }
   ],
   "source": [
    "train_size = 60\n",
    "test_size = 60\n",
    "train_rho_arr = []\n",
    "test_rho_arr  = []\n",
    "train_nu_arr  = []\n",
    "test_nu_arr   = []\n",
    "best_h_arr_train = []\n",
    "best_h_arr_test  = []\n",
    "\n",
    "step_size = 60\n",
    "steps = 10\n",
    "\n",
    "for i in range(steps):\n",
    "    test_start = (i)*step_size\n",
    "    test_end = (i+1)*step_size\n",
    "\n",
    "    train_start = test_end \n",
    "    train_end   = test_end + train_size\n",
    "\n",
    "    brr_train = brr[train_start:train_end]\n",
    "    brr_test  = brr[test_start:test_end]\n",
    "    u_train = ECDF(brr_train)(brr_train)\n",
    "    u_test = ECDF(brr_test)(brr_test)\n",
    "\n",
    "    btc_train = btc[train_start:train_end]\n",
    "    btc_test  = btc[test_start:test_end]\n",
    "    v_train = ECDF(btc_train)(btc_train)\n",
    "    v_test = ECDF(btc_test)(btc_test)\n",
    "\n",
    "#     C1.canonical_calibrate(u_train, v_train)\n",
    "#     train_rho_arr.append(C1.rho)\n",
    "\n",
    "#     C1.canonical_calibrate(u_test, v_test)\n",
    "#     test_rho_arr.append(C1.rho)\n",
    "\n",
    "    C2.Law_RS = KDE(brr_train, 'Gaussian')\n",
    "    C2.Law_RF = KDE(btc_train, 'Gaussian')\n",
    "    C2.canonical_calibrate(u_train, v_train)\n",
    "    train_rho_arr.append(C2.rho)\n",
    "    train_nu_arr.append(C2.nu)\n",
    "    best_h_arr_train.append(optimize_h(C2, [10], [])[1])\n",
    "    \n",
    "    \n",
    "    C2.Law_RS = KDE(brr_test, 'Gaussian')\n",
    "    C2.Law_RF = KDE(btc_test, 'Gaussian')\n",
    "    C2.canonical_calibrate(u_test, v_test)\n",
    "    test_rho_arr.append(C2.rho)\n",
    "    test_nu_arr.append(C2.nu)\n",
    "    best_h_arr_test.append(optimize_h(C2, [10], [])[1])\n",
    "\n",
    "# print(test_start, test_end, train_start, train_end)"
   ]
  },
  {
   "cell_type": "code",
   "execution_count": 139,
   "metadata": {},
   "outputs": [
    {
     "data": {
      "text/plain": [
       "<matplotlib.legend.Legend at 0x7fc69d1d5790>"
      ]
     },
     "execution_count": 139,
     "metadata": {},
     "output_type": "execute_result"
    },
    {
     "data": {
      "image/png": "[encoded data removed]",
      "text/plain": [
       "<Figure size 1080x360 with 1 Axes>"
      ]
     },
     "metadata": {
      "needs_background": "light"
     },
     "output_type": "display_data"
    }
   ],
   "source": [
    "plt.figure(figsize=(15,5))\n",
    "plt.scatter(range(len(train_rho_arr)), train_rho_arr, label='train')\n",
    "plt.scatter(range(len(train_rho_arr)), test_rho_arr, label='test')\n",
    "plt.ylabel(\"Rho\")\n",
    "plt.legend()"
   ]
  },
  {
   "cell_type": "code",
   "execution_count": 140,
   "metadata": {},
   "outputs": [
    {
     "data": {
      "text/plain": [
       "<matplotlib.legend.Legend at 0x7fc69d4802d0>"
      ]
     },
     "execution_count": 140,
     "metadata": {},
     "output_type": "execute_result"
    },
    {
     "data": {
      "image/png": "[encoded data removed]",
      "text/plain": [
       "<Figure size 1080x360 with 1 Axes>"
      ]
     },
     "metadata": {
      "needs_background": "light"
     },
     "output_type": "display_data"
    }
   ],
   "source": [
    "plt.figure(figsize=(15,5))\n",
    "plt.scatter(range(len(train_rho_arr)), train_nu_arr, label='train')\n",
    "plt.scatter(range(len(train_rho_arr)), test_nu_arr, label='test')\n",
    "plt.ylabel(\"Degree of freedom\")\n",
    "plt.legend()"
   ]
  },
  {
   "cell_type": "code",
   "execution_count": 141,
   "metadata": {},
   "outputs": [
    {
     "data": {
      "text/plain": [
       "<matplotlib.legend.Legend at 0x7fc69d599ed0>"
      ]
     },
     "execution_count": 141,
     "metadata": {},
     "output_type": "execute_result"
    },
    {
     "data": {
      "image/png": "[encoded data removed]",
      "text/plain": [
       "<Figure size 1080x360 with 1 Axes>"
      ]
     },
     "metadata": {
      "needs_background": "light"
     },
     "output_type": "display_data"
    }
   ],
   "source": [
    "plt.figure(figsize=(15,5))\n",
    "plt.scatter(range(len(train_rho_arr)), best_h_arr_train, label='train')\n",
    "plt.scatter(range(len(train_rho_arr)), best_h_arr_test, label='test')\n",
    "plt.ylabel(\"h\")\n",
    "plt.title('Best h according to ERM k=10')\n",
    "plt.legend()"
   ]
  },
  {
   "cell_type": "code",
   "execution_count": 187,
   "metadata": {},
   "outputs": [
    {
     "data": {
      "text/plain": [
       "<matplotlib.collections.PathCollection at 0x7fc6a4e37450>"
      ]
     },
     "execution_count": 187,
     "metadata": {},
     "output_type": "execute_result"
    },
    {
     "data": {
      "image/png": "[encoded data removed]",
      "text/plain": [
       "<Figure size 360x360 with 1 Axes>"
      ]
     },
     "metadata": {
      "needs_background": "light"
     },
     "output_type": "display_data"
    }
   ],
   "source": [
    "i=6\n",
    "test_start = (i)*step_size\n",
    "test_end = (i+1)*step_size\n",
    "\n",
    "train_start = test_end \n",
    "train_end   = test_end + train_size\n",
    "\n",
    "brr_train = brr[train_start:train_end]\n",
    "brr_test  = brr[test_start:test_end]\n",
    "u_train = ECDF(brr_train)(brr_train)\n",
    "u_test = ECDF(brr_test)(brr_test)\n",
    "\n",
    "btc_train = btc[train_start:train_end]\n",
    "btc_test  = btc[test_start:test_end]\n",
    "v_train = ECDF(btc_train)(btc_train)\n",
    "v_test = ECDF(btc_test)(btc_test)\n",
    "\n",
    "plt.figure(figsize=(5,5))\n",
    "plt.scatter(brr_train, btc_train)\n",
    "plt.scatter(brr_test, btc_test)"
   ]
  },
  {
   "cell_type": "code",
   "execution_count": 188,
   "metadata": {},
   "outputs": [
    {
     "data": {
      "text/plain": [
       "<matplotlib.collections.PathCollection at 0x7fc6a4d317d0>"
      ]
     },
     "execution_count": 188,
     "metadata": {},
     "output_type": "execute_result"
    },
    {
     "data": {
      "image/png": "[encoded data removed]",
      "text/plain": [
       "<Figure size 360x360 with 1 Axes>"
      ]
     },
     "metadata": {
      "needs_background": "light"
     },
     "output_type": "display_data"
    }
   ],
   "source": [
    "plt.figure(figsize=(5,5))\n",
    "plt.scatter(u_train, v_train)\n",
    "plt.scatter(u_test, v_test)"
   ]
  },
  {
   "cell_type": "code",
   "execution_count": 210,
   "metadata": {},
   "outputs": [],
   "source": [
    "def hedging_effectiveness(h_arr, spot, future, k_arr, q_arr):\n",
    "    results = np.ones((len(h_arr),1+len(k_arr)+len(q_arr)))\n",
    "    for i, h in enumerate(h_arr):\n",
    "        rh = spot-h*future\n",
    "        results[i,:]=1-risk_measures(k_arr, q_arr, rh)/risk_measures(k_arr, q_arr, spot)\n",
    "    return results"
   ]
  },
  {
   "cell_type": "code",
   "execution_count": 217,
   "metadata": {},
   "outputs": [],
   "source": [
    "def hedging_effectiveness(h_arr, spot, future, k_arr, q_arr):\n",
    "    results = np.ones((len(h_arr),1+len(k_arr)+len(q_arr)))\n",
    "    for i, h in enumerate(h_arr):\n",
    "        rh = spot-h*future\n",
    "        results[i,:]=1-risk_measures(k_arr, q_arr, rh)/risk_measures(k_arr, q_arr, spot)\n",
    "    return results"
   ]
  },
  {
   "cell_type": "code",
   "execution_count": 248,
   "metadata": {},
   "outputs": [
    {
     "data": {
      "text/plain": [
       "<matplotlib.axes._subplots.AxesSubplot at 0x7fc6a27c3490>"
      ]
     },
     "execution_count": 248,
     "metadata": {},
     "output_type": "execute_result"
    },
    {
     "data": {
      "image/png": "[encoded data removed]",
      "text/plain": [
       "<Figure size 432x288 with 1 Axes>"
      ]
     },
     "metadata": {
      "needs_background": "light"
     },
     "output_type": "display_data"
    }
   ],
   "source": [
    "sns.distplot(a)\n",
    "sns.distplot(brr_train)\n"
   ]
  },
  {
   "cell_type": "code",
   "execution_count": 251,
   "metadata": {},
   "outputs": [
    {
     "data": {
      "text/plain": [
       "<matplotlib.axes._subplots.AxesSubplot at 0x7fc6a3fd3690>"
      ]
     },
     "execution_count": 251,
     "metadata": {},
     "output_type": "execute_result"
    },
    {
     "data": {
      "image/png": "[encoded data removed]",
      "text/plain": [
       "<Figure size 432x288 with 1 Axes>"
      ]
     },
     "metadata": {
      "needs_background": "light"
     },
     "output_type": "display_data"
    }
   ],
   "source": [
    "sns.distplot(a-h*b)\n",
    "sns.distplot(a)"
   ]
  },
  {
   "cell_type": "code",
   "execution_count": 263,
   "metadata": {},
   "outputs": [
    {
     "data": {
      "text/plain": [
       "[0.5794921874999996,\n",
       " 0.5842773437499996,\n",
       " 0.6021484374999997,\n",
       " 0.6087890624999996,\n",
       " 0.6273437499999996]"
      ]
     },
     "execution_count": 263,
     "metadata": {},
     "output_type": "execute_result"
    }
   ],
   "source": [
    "best_h_arr_train[-5:]"
   ]
  },
  {
   "cell_type": "code",
   "execution_count": 250,
   "metadata": {},
   "outputs": [
    {
     "data": {
      "text/plain": [
       "array([1.53664668, 1.25359352, 1.22005369, 1.51371966, 2.09740482])"
      ]
     },
     "execution_count": 250,
     "metadata": {},
     "output_type": "execute_result"
    }
   ],
   "source": [
    "h = best_h_arr_train[-1]\n",
    "k_arr = [10, 20]\n",
    "q_arr = [0.01, 0.1]\n",
    "risk_measures(k_arr, q_arr, a-h*b)/risk_measures(k_arr, q_arr, a)"
   ]
  },
  {
   "cell_type": "code",
   "execution_count": 261,
   "metadata": {},
   "outputs": [],
   "source": [
    "C2.Law_RS = stats.uniform\n",
    "C2.Law_RF = stats.uniform\n",
    "s = C2.sample(100000)\n",
    "a = KDE(brr_train, 'Gaussian').ppf(s[:,0])\n",
    "b = KDE(brr_train, 'Gaussian').ppf(s[:,1])"
   ]
  },
  {
   "cell_type": "code",
   "execution_count": 262,
   "metadata": {},
   "outputs": [
    {
     "data": {
      "text/plain": [
       "array([[0.39560312, 0.21994434, 0.2287803 , 0.22923309, 0.42002853],\n",
       "       [0.39600932, 0.22020351, 0.22927568, 0.22843726, 0.42784811],\n",
       "       [0.39711212, 0.22088849, 0.2308499 , 0.22465302, 0.45416765],\n",
       "       [0.39735536, 0.22102869, 0.23132267, 0.22386061, 0.46357859],\n",
       "       [0.39755672, 0.22109035, 0.23231729, 0.22060382, 0.49391826]])"
      ]
     },
     "execution_count": 262,
     "metadata": {},
     "output_type": "execute_result"
    }
   ],
   "source": [
    "HE = hedging_effectiveness(best_h_arr_train[-5:], a, b ,[10, 20],[0.01, 0.1])\n",
    "HE"
   ]
  },
  {
   "cell_type": "code",
   "execution_count": 264,
   "metadata": {},
   "outputs": [
    {
     "data": {
      "text/plain": [
       "array([[0.63940345, 0.41177619, 0.42912858, 0.45229731, 1.26354082],\n",
       "       [0.6408542 , 0.41311648, 0.4304645 , 0.45344227, 1.26073593],\n",
       "       [0.64571776, 0.41769547, 0.43489606, 0.47691043, 1.25026053],\n",
       "       [0.64730206, 0.41920502, 0.43626149, 0.47791495, 1.24636804],\n",
       "       [0.6510885 , 0.42288464, 0.43930599, 0.48049677, 1.23549194]])"
      ]
     },
     "execution_count": 264,
     "metadata": {},
     "output_type": "execute_result"
    }
   ],
   "source": [
    "HE = hedging_effectiveness(best_h_arr_train[-5:],\n",
    "                           brr_train,\n",
    "                           btc_train ,\n",
    "                           [10, 20],[0.01, 0.1])\n",
    "HE"
   ]
  },
  {
   "cell_type": "code",
   "execution_count": 230,
   "metadata": {},
   "outputs": [
    {
     "data": {
      "text/plain": [
       "[0.3602234632266418,\n",
       " 0.26344623448894433,\n",
       " 0.2699050115895347,\n",
       " 0.09722429651885289,\n",
       " 0.8872123833119844]"
      ]
     },
     "execution_count": 230,
     "metadata": {},
     "output_type": "execute_result"
    }
   ],
   "source": [
    "[a[i,i] for i in range(a.shape[0])]"
   ]
  },
  {
   "cell_type": "code",
   "execution_count": 206,
   "metadata": {},
   "outputs": [
    {
     "data": {
      "text/plain": [
       "array([0.6510885 , 0.42288464])"
      ]
     },
     "execution_count": 206,
     "metadata": {},
     "output_type": "execute_result"
    }
   ],
   "source": [
    "h = best_h_arr_train[i]\n",
    "rs = brr_train\n",
    "rf = btc_train \n",
    "rh = rs - h*rf\n",
    "1- risk_measures([10], [], rh)/risk_measures([10], [], rs)"
   ]
  },
  {
   "cell_type": "code",
   "execution_count": 233,
   "metadata": {},
   "outputs": [
    {
     "name": "stdout",
     "output_type": "stream",
     "text": [
      "0.42687943304138165\n",
      "0.26298240402819284\n",
      "0.4282094536146237\n",
      "0.26344623448894433\n",
      "0.428003843286081\n",
      "0.26337758972186887\n",
      "0.4294397697458868\n",
      "0.26381325052361526\n",
      "0.4066300945303757\n",
      "0.2491948009257069\n",
      "0.4117761891081153\n",
      "0.25385607711341374\n",
      "0.41311647638771176\n",
      "0.25515026581900024\n",
      "0.41769546689593695\n",
      "0.2591558321304327\n",
      "0.4192050233774369\n",
      "0.26034382971013625\n",
      "0.42288464493073785\n",
      "0.26160010072817086\n"
     ]
    },
    {
     "data": {
      "image/png": "[encoded data removed]",
      "text/plain": [
       "<Figure size 432x288 with 1 Axes>"
      ]
     },
     "metadata": {
      "needs_background": "light"
     },
     "output_type": "display_data"
    }
   ],
   "source": [
    "for i in range(10):\n",
    "    h = best_h_arr_train[i]\n",
    "    rs = brr_train\n",
    "    rf = btc_train \n",
    "    rh = rs - h*rf\n",
    "    sns.distplot(rh)\n",
    "    print(1- ERM_estimate_trapezoidal(10,rh)/ERM_estimate_trapezoidal(10,rs))\n",
    "\n",
    "    h = best_h_arr_train[i]\n",
    "    rs = brr_test\n",
    "    rf = btc_test \n",
    "    rh = rs - h*rf\n",
    "    sns.distplot(rh)\n",
    "    print(1- ERM_estimate_trapezoidal(10,rh)/ERM_estimate_trapezoidal(10,rs))"
   ]
  },
  {
   "cell_type": "code",
   "execution_count": 190,
   "metadata": {},
   "outputs": [
    {
     "name": "stdout",
     "output_type": "stream",
     "text": [
      "0.2743256301360164\n",
      "0.2869492712755749\n"
     ]
    },
    {
     "data": {
      "image/png": "[encoded data removed]",
      "text/plain": [
       "<Figure size 432x288 with 1 Axes>"
      ]
     },
     "metadata": {
      "needs_background": "light"
     },
     "output_type": "display_data"
    }
   ],
   "source": [
    "h = best_h_arr_train[i]\n",
    "rs = brr_test\n",
    "rf = btc_test\n",
    "rh = rs - h*rf\n",
    "sns.distplot(rh)\n",
    "print(1- ERM_estimate_trapezoidal(10,rh)/ERM_estimate_trapezoidal(10,rs))\n",
    "\n",
    "h = best_h_arr_test[i]\n",
    "rs = brr_test\n",
    "rf = btc_test \n",
    "rh = rs - h*rf\n",
    "sns.distplot(rh)\n",
    "print(1- ERM_estimate_trapezoidal(10,rh)/ERM_estimate_trapezoidal(10,rs))"
   ]
  },
  {
   "cell_type": "code",
   "execution_count": 191,
   "metadata": {},
   "outputs": [
    {
     "name": "stdout",
     "output_type": "stream",
     "text": [
      "0.2743256301360164\n",
      "0.2869492712755749\n"
     ]
    },
    {
     "data": {
      "image/png": "[encoded data removed]",
      "text/plain": [
       "<Figure size 432x288 with 1 Axes>"
      ]
     },
     "metadata": {
      "needs_background": "light"
     },
     "output_type": "display_data"
    }
   ],
   "source": [
    "h = best_h_arr_train[i]\n",
    "rs = brr_test\n",
    "rf = btc_test \n",
    "rh = rs - h*rf\n",
    "sns.distplot(rh)\n",
    "print(1- ERM_estimate_trapezoidal(10,rh)/ERM_estimate_trapezoidal(10,rs))\n",
    "\n",
    "h = best_h_arr_test[i]\n",
    "rs = brr_test\n",
    "rf = btc_test \n",
    "rh = rs - h*rf\n",
    "sns.distplot(rh)\n",
    "print(1- ERM_estimate_trapezoidal(10,rh)/ERM_estimate_trapezoidal(10,rs))"
   ]
  },
  {
   "cell_type": "code",
   "execution_count": null,
   "metadata": {},
   "outputs": [],
   "source": []
  }
 ],
 "metadata": {
  "kernelspec": {
   "display_name": "Python 3",
   "language": "python",
   "name": "python3"
  },
  "language_info": {
   "codemirror_mode": {
    "name": "ipython",
    "version": 3
   },
   "file_extension": ".py",
   "mimetype": "text/x-python",
   "name": "python",
   "nbconvert_exporter": "python",
   "pygments_lexer": "ipython3",
   "version": "3.7.4"
  },
  "toc": {
   "base_numbering": 1,
   "nav_menu": {},
   "number_sections": true,
   "sideBar": true,
   "skip_h1_title": false,
   "title_cell": "Table of Contents",
   "title_sidebar": "Contents",
   "toc_cell": false,
   "toc_position": {},
   "toc_section_display": true,
   "toc_window_display": false
  }
 },
 "nbformat": 4,
 "nbformat_minor": 2
}
