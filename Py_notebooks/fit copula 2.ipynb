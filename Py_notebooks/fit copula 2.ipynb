{
 "cells": [
  {
   "cell_type": "code",
   "execution_count": 1,
   "metadata": {},
   "outputs": [],
   "source": [
    "import matplotlib.pyplot as plt\n",
    "import scipy\n",
    "from scipy import stats\n",
    "from scipy.stats import norm\n",
    "import pandas as pd\n",
    "import numpy as np\n",
    "import seaborn as sns\n",
    "data = pd.read_csv('../processed_data/btc_future_crix.csv')\n",
    "data.head()\n",
    "from statsmodels.distributions.empirical_distribution import ECDF\n",
    "\n",
    "ecdf_brr = ECDF(data.return_brr)\n",
    "ecdf_btc = ECDF(data.return_btc)\n",
    "\n",
    "u = ecdf_brr(data.return_brr)\n",
    "v = ecdf_btc(data.return_btc)"
   ]
  },
  {
   "cell_type": "code",
   "execution_count": 2,
   "metadata": {},
   "outputs": [],
   "source": [
    "from copulae import *"
   ]
  },
  {
   "cell_type": "code",
   "execution_count": 3,
   "metadata": {},
   "outputs": [],
   "source": [
    "# Gaussian, t_Copula, Clayton, Frank\n",
    "C1 = Gaussian(rho=0.1,       Law_RS=stats.norm, Law_RF=stats.norm)\n",
    "C2 = t_Copula(rho=0.1, nu=4, Law_RS=stats.norm, Law_RF=stats.norm)\n",
    "C3 = Clayton( theta=0.1,     Law_RS=stats.norm, Law_RF=stats.norm)\n",
    "C4 = Frank(   theta=0.1,     Law_RS=stats.norm, Law_RF=stats.norm)\n",
    "Copulae = [C1,C2,C3,C4]"
   ]
  },
  {
   "cell_type": "code",
   "execution_count": 5,
   "metadata": {},
   "outputs": [
    {
     "name": "stderr",
     "output_type": "stream",
     "text": [
      "/Users/francis/Google Drive/00_IRTG1792/copula/Py_notebooks/copulae.py:77: RuntimeWarning: invalid value encountered in true_divide\n",
      "  return np.nanmean(np.log(part1/part2))\n",
      "/Users/francis/Google Drive/00_IRTG1792/copula/Py_notebooks/copulae.py:77: RuntimeWarning: invalid value encountered in true_divide\n",
      "  return np.nanmean(np.log(part1/part2))\n"
     ]
    },
    {
     "name": "stdout",
     "output_type": "stream",
     "text": [
      "Gaussian done\n"
     ]
    },
    {
     "name": "stderr",
     "output_type": "stream",
     "text": [
      "/Users/francis/Google Drive/00_IRTG1792/copula/Py_notebooks/copulae.py:157: RuntimeWarning: invalid value encountered in true_divide\n",
      "  return np.nanmean(np.log(part1/part2))\n"
     ]
    },
    {
     "name": "stdout",
     "output_type": "stream",
     "text": [
      "Optimization terminated successfully.\n",
      "         Current function value: -0.515526\n",
      "         Iterations: 113\n",
      "         Function evaluations: 239\n",
      "t done\n",
      "Optimization terminated successfully.\n",
      "         Current function value: -0.394737\n",
      "         Iterations: 39\n",
      "         Function evaluations: 84\n",
      "Clayton done\n",
      "Optimization terminated successfully.\n",
      "         Current function value: -0.413272\n",
      "         Iterations: 37\n",
      "         Function evaluations: 83\n",
      "Frank done\n"
     ]
    }
   ],
   "source": [
    "C1.canonical_calibrate(u,v)\n",
    "print(\"Gaussian done\")\n",
    "\n",
    "C2.canonical_calibrate(u,v)\n",
    "print(\"t done\")\n",
    "\n",
    "C3.canonical_calibrate(u,v)\n",
    "print(\"Clayton done\")\n",
    "\n",
    "C4.canonical_calibrate(u,v)\n",
    "print(\"Frank done\")"
   ]
  },
  {
   "cell_type": "code",
   "execution_count": 53,
   "metadata": {},
   "outputs": [
    {
     "name": "stdout",
     "output_type": "stream",
     "text": [
      "Parameters: \n",
      "Gaussian : 0.768213750253872 \n",
      "t        : 0.7751908699912305 1.9809984071442568 \n",
      "Clayton  : 1.9376202821731567 \n",
      "Frank    : 7.1803940534591675\n"
     ]
    }
   ],
   "source": [
    "# parameters\n",
    "print(\"Parameters:\"   ,\n",
    "      \"\\nGaussian :\" , C1.rho[0],\n",
    "      \"\\nt        :\" , C2.rho, C2.nu, \n",
    "      \"\\nClayton  :\" , C3.theta,\n",
    "      \"\\nFrank    :\" , C4.theta)"
   ]
  },
  {
   "cell_type": "code",
   "execution_count": 54,
   "metadata": {},
   "outputs": [
    {
     "name": "stdout",
     "output_type": "stream",
     "text": [
      "Log Likelihood: \n",
      "Gaussian : 0.43660580748397637 \n",
      "t        : 0.5155256575318777 \n",
      "Clayton  : 0.394736967662423 \n",
      "Frank    : 0.4132724880518257\n"
     ]
    },
    {
     "name": "stderr",
     "output_type": "stream",
     "text": [
      "/Users/francis/Google Drive/00_IRTG1792/copula/Py_notebooks/copulae.py:77: RuntimeWarning: invalid value encountered in true_divide\n",
      "  return np.nanmean(np.log(part1/part2))\n"
     ]
    }
   ],
   "source": [
    "# Likelihood\n",
    "print(\"Log Likelihood:\",\n",
    "      \"\\nGaussian :\"  , C1.l_fn(C1.rho, u,v),\n",
    "      \"\\nt        :\", C2.l_fn(C2.nu, C2.rho, u,v),\n",
    "      \"\\nClayton  :\", C3.l_fn(C3.theta, u,v),\n",
    "      \"\\nFrank    :\", C4.l_fn(C4.theta, u,v))"
   ]
  },
  {
   "cell_type": "code",
   "execution_count": 41,
   "metadata": {},
   "outputs": [],
   "source": [
    "# Take the worse 1% of brr return as target\n",
    "# target = np.quantile(data.return_brr, 0.01)\n",
    "target = -3"
   ]
  },
  {
   "cell_type": "code",
   "execution_count": 47,
   "metadata": {},
   "outputs": [
    {
     "name": "stderr",
     "output_type": "stream",
     "text": [
      "/Users/francis/Google Drive/00_IRTG1792/copula/Py_notebooks/copulae.py:111: IntegrationWarning: The algorithm does not converge.  Roundoff error is detected\n",
      "  in the extrapolation table.  It is assumed that the requested tolerance\n",
      "  cannot be achieved, and that the returned result (if full_output = 1) is \n",
      "  the best which can be obtained.\n",
      "  return integrate.quad(integrand, -np.infty, self.t2.ppf(self.g(w, h, r_h)))[0] * part2\n"
     ]
    },
    {
     "name": "stdout",
     "output_type": "stream",
     "text": [
      "0 is done\n",
      "1 is done\n",
      "2 is done\n",
      "3 is done\n"
     ]
    }
   ],
   "source": [
    "h_arr = np.linspace(.8,1.2,4)\n",
    "results = np.ones((4, len(h_arr)))\n",
    "\n",
    "for i in range(len(h_arr)):\n",
    "    results[0, i] = C1.F_RH(h=h_arr[i], r_h=target)\n",
    "    results[1, i] = C2.F_RH(h=h_arr[i], r_h=target)\n",
    "    results[2, i] = C3.F_RH(h=h_arr[i], r_h=target)\n",
    "    results[3, i] = C4.F_RH(h=h_arr[i], r_h=target)\n",
    "    print(i, 'is done')"
   ]
  },
  {
   "cell_type": "code",
   "execution_count": 52,
   "metadata": {},
   "outputs": [
    {
     "data": {
      "text/plain": [
       "<matplotlib.legend.Legend at 0x7ff588bf5090>"
      ]
     },
     "execution_count": 52,
     "metadata": {},
     "output_type": "execute_result"
    },
    {
     "data": {
      "image/png": "[encoded data removed]",
      "text/plain": [
       "<Figure size 720x576 with 1 Axes>"
      ]
     },
     "metadata": {
      "needs_background": "light"
     },
     "output_type": "display_data"
    }
   ],
   "source": [
    "plt.figure(figsize=(10,8))\n",
    "plt.title(\"P-value of target VaR with different h\")\n",
    "plt.plot(h_arr, results[0,:], label=\"Gaussian\")\n",
    "plt.plot(h_arr, results[1,:], label=\"t\")\n",
    "plt.plot(h_arr, results[2,:], label='Clayton')\n",
    "plt.plot(h_arr, results[3,:], label='Frank')\n",
    "plt.ylabel(\"P-value\")\n",
    "plt.xlabel(\"h\")\n",
    "plt.legend()"
   ]
  },
  {
   "cell_type": "code",
   "execution_count": null,
   "metadata": {},
   "outputs": [],
   "source": []
  }
 ],
 "metadata": {
  "kernelspec": {
   "display_name": "Python 3",
   "language": "python",
   "name": "python3"
  },
  "language_info": {
   "codemirror_mode": {
    "name": "ipython",
    "version": 3
   },
   "file_extension": ".py",
   "mimetype": "text/x-python",
   "name": "python",
   "nbconvert_exporter": "python",
   "pygments_lexer": "ipython3",
   "version": "3.7.4"
  },
  "toc": {
   "base_numbering": 1,
   "nav_menu": {},
   "number_sections": true,
   "sideBar": true,
   "skip_h1_title": false,
   "title_cell": "Table of Contents",
   "title_sidebar": "Contents",
   "toc_cell": false,
   "toc_position": {},
   "toc_section_display": true,
   "toc_window_display": false
  }
 },
 "nbformat": 4,
 "nbformat_minor": 2
}
