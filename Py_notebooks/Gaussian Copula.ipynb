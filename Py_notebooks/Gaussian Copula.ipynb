{
 "cells": [
  {
   "cell_type": "code",
   "execution_count": 27,
   "metadata": {},
   "outputs": [],
   "source": [
    "import numpy as np\n",
    "from scipy import stats \n",
    "from scipy.stats import norm\n",
    "from scipy import integrate\n",
    "from functools import partial\n",
    "import matplotlib.pyplot as plt"
   ]
  },
  {
   "cell_type": "code",
   "execution_count": 32,
   "metadata": {},
   "outputs": [],
   "source": [
    "class Gaussian:\n",
    "    def __init__(self, rho, Law_RS, Law_RF):\n",
    "        self.rho = rho     # Dependence Parameter\n",
    "        self.Law_RS = Law_RS   # Marginal Distribution of Spot\n",
    "        self.Law_RF = Law_RF   # Marginal Distribution of Future\n",
    "        \n",
    "    def H(self, w, h, r_h): # a helper function to compute the input to F_RF\n",
    "        A = self.Law_RS.ppf(w) - r_h\n",
    "        if h!=0:\n",
    "            B = h\n",
    "        else:\n",
    "            B = 0.00001\n",
    "        return A/B\n",
    "    \n",
    "    def g(self, w, h, r_h):\n",
    "        return self.Law_RF.cdf(self.H(w=w, h=h, r_h=r_h))\n",
    "    \n",
    "    def D1C(self, w, h, r_h):\n",
    "        a = self.phi(w) + self.phi(self.g(w,h,r_h))\n",
    "        A = self.d_phi_inverse(a)\n",
    "        B = self.d_phi(w)\n",
    "        return A*B\n",
    "\n",
    "    def D1C(self, w, rho, h, r_h):\n",
    "        part1 = 1/(2*np.pi*self.rho)\n",
    "        q = norm.ppf(w)\n",
    "        part2a = -1/(2-2*self.rho**2)\n",
    "        part2b = lambda y: q**2 - 2*self.rho*q*y + y**2\n",
    "        part2_int  = lambda y: np.exp(part2a * part2b(y))\n",
    "        part2 = integrate.quad(part2_int, -np.inf, norm.ppf(self.g(w, h, r_h)))[0]\n",
    "        part3 = 1/norm.pdf(norm.ppf(w))    \n",
    "        return part1 * part2 * part3\n",
    "            \n",
    "    def F_RH(self, h, r_h):\n",
    "        func = partial(self.D1C, h=h, r_h=r_h, rho=rho)\n",
    "        I = integrate.quad(func, 0.0001, 0.999)\n",
    "        return 1 - I[0] # - self.theta*I[0] # CORRECTION: theta times the Integral"
   ]
  },
  {
   "cell_type": "code",
   "execution_count": 47,
   "metadata": {},
   "outputs": [
    {
     "name": "stdout",
     "output_type": "stream",
     "text": [
      "y is done\n"
     ]
    }
   ],
   "source": [
    "# Marginals\n",
    "Law_RS = stats.norm(loc=0, scale=1)\n",
    "Law_RF = stats.norm(loc=0, scale=1)\n",
    "\n",
    "# Parameters\n",
    "h=1\n",
    "rho_arr = [0.001, 0.01, 0.1, 0.5]\n",
    "y_arr = []\n",
    "\n",
    "for rho in rho_arr:\n",
    "    c = Gaussian(rho = rho, # tau = 1/theta, meaning tau% chance of concordance\n",
    "               Law_RS = Law_RS,\n",
    "               Law_RF = Law_RF)\n",
    "\n",
    "    x  = np.linspace(-5,5,10)\n",
    "    y  = [c.F_RH(h=h, r_h=i) for i in x]\n",
    "    y_arr.append(y)\n",
    "print(\"y is done\")"
   ]
  },
  {
   "cell_type": "code",
   "execution_count": 48,
   "metadata": {},
   "outputs": [
    {
     "data": {
      "image/png": "[encoded data removed]",
      "text/plain": [
       "<Figure size 432x288 with 1 Axes>"
      ]
     },
     "metadata": {
      "needs_background": "light"
     },
     "output_type": "display_data"
    }
   ],
   "source": [
    "for y in y_arr:\n",
    "    plt.plot(x, y)\n",
    "# plt.plot(x, )"
   ]
  },
  {
   "cell_type": "code",
   "execution_count": 50,
   "metadata": {},
   "outputs": [
    {
     "data": {
      "text/plain": [
       "[-0.730145103705498,\n",
       " -0.7300608503576429,\n",
       " -0.7254368403535758,\n",
       " -0.6474811199180945,\n",
       " -0.22931043188592626,\n",
       " 0.5005528916852462,\n",
       " 0.918103402707923,\n",
       " 0.9954433375364589,\n",
       " 0.9999231650515455,\n",
       " 0.9999996445052832]"
      ]
     },
     "execution_count": 50,
     "metadata": {},
     "output_type": "execute_result"
    }
   ],
   "source": [
    "y"
   ]
  }
 ],
 "metadata": {
  "kernelspec": {
   "display_name": "Python 3",
   "language": "python",
   "name": "python3"
  },
  "language_info": {
   "codemirror_mode": {
    "name": "ipython",
    "version": 3
   },
   "file_extension": ".py",
   "mimetype": "text/x-python",
   "name": "python",
   "nbconvert_exporter": "python",
   "pygments_lexer": "ipython3",
   "version": "3.7.4"
  },
  "toc": {
   "base_numbering": 1,
   "nav_menu": {},
   "number_sections": true,
   "sideBar": true,
   "skip_h1_title": false,
   "title_cell": "Table of Contents",
   "title_sidebar": "Contents",
   "toc_cell": false,
   "toc_position": {},
   "toc_section_display": true,
   "toc_window_display": false
  }
 },
 "nbformat": 4,
 "nbformat_minor": 2
}
